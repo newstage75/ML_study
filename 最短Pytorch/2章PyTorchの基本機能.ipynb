{
  "nbformat": 4,
  "nbformat_minor": 0,
  "metadata": {
    "colab": {
      "name": "最短Pytorchの導入.ipynb",
      "provenance": [],
      "authorship_tag": "ABX9TyOB8nMLAaDVOE2cF1/1nl69",
      "include_colab_link": true
    },
    "kernelspec": {
      "name": "python3",
      "display_name": "Python 3"
    },
    "language_info": {
      "name": "python"
    }
  },
  "cells": [
    {
      "cell_type": "markdown",
      "metadata": {
        "id": "view-in-github",
        "colab_type": "text"
      },
      "source": [
        "<a href=\"https://colab.research.google.com/github/newstage75/ML_study/blob/master/%E6%9C%80%E7%9F%ADPytorch/2%E7%AB%A0PyTorch%E3%81%AE%E5%9F%BA%E6%9C%AC%E6%A9%9F%E8%83%BD.ipynb\" target=\"_parent\"><img src=\"https://colab.research.google.com/assets/colab-badge.svg\" alt=\"Open In Colab\"/></a>"
      ]
    },
    {
      "cell_type": "markdown",
      "source": [
        "#お決まり部分\n",
        "最初の宣言"
      ],
      "metadata": {
        "id": "CEgOOTrGJU31"
      }
    }
  ]
}