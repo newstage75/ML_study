{
  "nbformat": 4,
  "nbformat_minor": 0,
  "metadata": {
    "colab": {
      "name": "最短Pytorchの導入.ipynb",
      "provenance": [],
      "authorship_tag": "ABX9TyNbzRZ6QrVipIIUTbpmGsdC",
      "include_colab_link": true
    },
    "kernelspec": {
      "name": "python3",
      "display_name": "Python 3"
    },
    "language_info": {
      "name": "python"
    }
  },
  "cells": [
    {
      "cell_type": "markdown",
      "metadata": {
        "id": "view-in-github",
        "colab_type": "text"
      },
      "source": [
        "<a href=\"https://colab.research.google.com/github/newstage75/ML_study/blob/master/%E6%9C%80%E7%9F%ADPytorch/2%E7%AB%A0PyTorch%E3%81%AE%E5%9F%BA%E6%9C%AC%E6%A9%9F%E8%83%BD.ipynb\" target=\"_parent\"><img src=\"https://colab.research.google.com/assets/colab-badge.svg\" alt=\"Open In Colab\"/></a>"
      ]
    },
    {
      "cell_type": "markdown",
      "source": [
        "参考URL\n",
        "https://github.com/makaishi2/pytorch_book_info"
      ],
      "metadata": {
        "id": "UiD7bH19BBgV"
      }
    },
    {
      "cell_type": "markdown",
      "source": [
        "PyTorch→Tensorでデータを表現\n",
        "\n",
        "・自動微分機能"
      ],
      "metadata": {
        "id": "CEgOOTrGJU31"
      }
    },
    {
      "cell_type": "code",
      "source": [
        "# 必要ライブラリの導入\n",
        "!pip install japanize_matplotlib | tail -n 1\n",
        "!pip install torchviz | tail -n 1"
      ],
      "metadata": {
        "colab": {
          "base_uri": "https://localhost:8080/"
        },
        "id": "3clwP-EuBSc-",
        "outputId": "c2f58426-76e9-4436-a234-458bcd4126f7"
      },
      "execution_count": 3,
      "outputs": [
        {
          "output_type": "stream",
          "name": "stdout",
          "text": [
            "Successfully installed japanize-matplotlib-1.1.3\n",
            "Successfully installed torchviz-0.0.2\n"
          ]
        }
      ]
    },
    {
      "cell_type": "code",
      "source": [
        "# 必要ライブラリのインポート\n",
        "\n",
        "%matplotlib inline\n",
        "import numpy as np\n",
        "import matplotlib.pyplot as plt\n",
        "import japanize_matplotlib\n",
        "from IPython.display import display"
      ],
      "metadata": {
        "id": "KcAADMiwBs-2"
      },
      "execution_count": 4,
      "outputs": []
    },
    {
      "cell_type": "code",
      "source": [
        "# デフォルトフォントサイズ変更\n",
        "plt.rcParams['font.size'] = 14\n",
        "\n",
        "# デフォルトグラフサイズ変更\n",
        "plt.rcParams['figure.figsize'] = (6,6)\n",
        "\n",
        "# デフォルトで方眼表示ON\n",
        "plt.rcParams['axes.grid'] = True"
      ],
      "metadata": {
        "id": "hqpkgKi4BxUt"
      },
      "execution_count": 5,
      "outputs": []
    },
    {
      "cell_type": "markdown",
      "source": [
        "重要な関数<br>\n",
        "view→NumPyのreshape<br>\n",
        "item→テンソルとして損失計算から値を取り出す時に使用<br>\n",
        "max→多値分類で予測結果から予測ラベル値を取得<br>\n"
      ],
      "metadata": {
        "id": "f6KFJR7GB2R4"
      }
    },
    {
      "cell_type": "code",
      "source": [
        "#PyTorchライブラリ\n",
        "import torch"
      ],
      "metadata": {
        "id": "N9v6ggGOBzZe"
      },
      "execution_count": 6,
      "outputs": []
    },
    {
      "cell_type": "code",
      "source": [
        "r0 = torch.tensor(1.0).float()\n",
        "\n",
        "print(type(r0))\n",
        "\n",
        "print(r0.dtype)"
      ],
      "metadata": {
        "colab": {
          "base_uri": "https://localhost:8080/"
        },
        "id": "u7Ozo6QPCS1m",
        "outputId": "e1b406cc-0202-4e26-b2ec-2d694f3568ad"
      },
      "execution_count": 7,
      "outputs": [
        {
          "output_type": "stream",
          "name": "stdout",
          "text": [
            "<class 'torch.Tensor'>\n",
            "torch.float32\n"
          ]
        }
      ]
    },
    {
      "cell_type": "markdown",
      "source": [
        "torch.tensor関数がテンソル変数を作るのに一番簡単<br>\n",
        "必ず後ろに.float()をつける。３２ビットにしないと、nn.Linearなど機械学習で利用するライブラリを使う際にエラーになる。"
      ],
      "metadata": {
        "id": "kc2kIvfqD4hF"
      }
    },
    {
      "cell_type": "code",
      "source": [
        "print(r0.shape)\n",
        "\n",
        "print(r0.data)"
      ],
      "metadata": {
        "colab": {
          "base_uri": "https://localhost:8080/"
        },
        "id": "5bRLYw3DDOiW",
        "outputId": "1857cb75-d9f7-41e8-c425-573812fe38f2"
      },
      "execution_count": 8,
      "outputs": [
        {
          "output_type": "stream",
          "name": "stdout",
          "text": [
            "torch.Size([])\n",
            "tensor(1.)\n"
          ]
        }
      ]
    },
    {
      "cell_type": "code",
      "source": [
        "#1階テンソル\n",
        "\n",
        "#まずNumPyで\n",
        "r1_np = np.array([1, 2, 3, 4, 5])\n",
        "print(r1_np.shape)"
      ],
      "metadata": {
        "colab": {
          "base_uri": "https://localhost:8080/"
        },
        "id": "ZlOfyNkZESFc",
        "outputId": "004531bc-c8ad-42e1-fd2d-009cb7098ddc"
      },
      "execution_count": 9,
      "outputs": [
        {
          "output_type": "stream",
          "name": "stdout",
          "text": [
            "(5,)\n"
          ]
        }
      ]
    },
    {
      "cell_type": "code",
      "source": [
        "#NumPyからテンソルに変換\n",
        "r1 = torch.tensor(r1_np).float()\n",
        "\n",
        "print(r1.dtype)\n",
        "\n",
        "print(r1.shape)\n",
        "\n",
        "print(r1.data)"
      ],
      "metadata": {
        "id": "gnN_sabnEw1a",
        "outputId": "ab74d795-8c89-4c44-908c-7c5ea88d042e",
        "colab": {
          "base_uri": "https://localhost:8080/"
        }
      },
      "execution_count": 10,
      "outputs": [
        {
          "output_type": "stream",
          "name": "stdout",
          "text": [
            "torch.float32\n",
            "torch.Size([5])\n",
            "tensor([1., 2., 3., 4., 5.])\n"
          ]
        }
      ]
    },
    {
      "cell_type": "markdown",
      "source": [
        "テンソル変数とNumPy変数は似たところが多く、相互に行き来が可能。"
      ],
      "metadata": {
        "id": "k-YGce3oFF90"
      }
    },
    {
      "cell_type": "code",
      "source": [
        "#次に２回テンソルの場合\n",
        "\n",
        "#まずNumPy\n",
        "r2_np = np.array([[1, 5, 6], [4, 3, 2]])\n",
        "print(r2_np.shape)\n",
        "\n",
        "r2 = torch.tensor(r2_np).float()\n",
        "\n",
        "print(r2.shape)\n",
        "\n",
        "print(r2.data)"
      ],
      "metadata": {
        "id": "-FrPyMigFAbw",
        "outputId": "8755826c-129c-41dc-ebd9-1c823164ef40",
        "colab": {
          "base_uri": "https://localhost:8080/"
        }
      },
      "execution_count": 11,
      "outputs": [
        {
          "output_type": "stream",
          "name": "stdout",
          "text": [
            "(2, 3)\n",
            "torch.Size([2, 3])\n",
            "tensor([[1., 5., 6.],\n",
            "        [4., 3., 2.]])\n"
          ]
        }
      ]
    },
    {
      "cell_type": "code",
      "source": [
        "# ３階テンソル\n",
        "\n",
        "# 乱数seedの初期化\n",
        "torch.manual_seed(123)\n",
        "\n",
        "# shape=[3,2,2]の正規分布変数テンソルを作る\n",
        "r3 = torch.randn((3, 2, 2))\n",
        "\n",
        "# shapeを調べる\n",
        "print(r3.shape)\n",
        "\n",
        "# データを調べる\n",
        "print(r3.data)"
      ],
      "metadata": {
        "id": "x-UYZNv1FmKV",
        "outputId": "7b1d3ee2-af56-4376-951c-aa3fe29e01af",
        "colab": {
          "base_uri": "https://localhost:8080/"
        }
      },
      "execution_count": 12,
      "outputs": [
        {
          "output_type": "stream",
          "name": "stdout",
          "text": [
            "torch.Size([3, 2, 2])\n",
            "tensor([[[-0.1115,  0.1204],\n",
            "         [-0.3696, -0.2404]],\n",
            "\n",
            "        [[-1.1969,  0.2093],\n",
            "         [-0.9724, -0.7550]],\n",
            "\n",
            "        [[ 0.3239, -0.1085],\n",
            "         [ 0.2103, -0.3908]]])\n"
          ]
        }
      ]
    },
    {
      "cell_type": "code",
      "source": [
        "# 4階テンソル\n",
        "\n",
        "# shape=[2,3,2,2]の要素がすべて1のテンソルを作る\n",
        "r4 = torch.ones((2, 3, 2, 2))\n",
        "\n",
        "# shapeを調べる\n",
        "print(r4.shape)\n",
        "\n",
        "# データを調べる\n",
        "print(r4.data)"
      ],
      "metadata": {
        "id": "9yxpYyH2F1SL",
        "outputId": "a71529c7-da76-49f6-99ef-520ddec6a09c",
        "colab": {
          "base_uri": "https://localhost:8080/"
        }
      },
      "execution_count": 13,
      "outputs": [
        {
          "output_type": "stream",
          "name": "stdout",
          "text": [
            "torch.Size([2, 3, 2, 2])\n",
            "tensor([[[[1., 1.],\n",
            "          [1., 1.]],\n",
            "\n",
            "         [[1., 1.],\n",
            "          [1., 1.]],\n",
            "\n",
            "         [[1., 1.],\n",
            "          [1., 1.]]],\n",
            "\n",
            "\n",
            "        [[[1., 1.],\n",
            "          [1., 1.]],\n",
            "\n",
            "         [[1., 1.],\n",
            "          [1., 1.]],\n",
            "\n",
            "         [[1., 1.],\n",
            "          [1., 1.]]]])\n"
          ]
        }
      ]
    },
    {
      "cell_type": "markdown",
      "source": [
        "long→torch.int64になる。"
      ],
      "metadata": {
        "id": "4zPC2tqJG07B"
      }
    },
    {
      "cell_type": "code",
      "source": [
        "r5 = r1.long()\n",
        "\n",
        "#dtype\n",
        "print(r5.dtype)\n",
        "\n",
        "#値\n",
        "print(r5)"
      ],
      "metadata": {
        "id": "l0kUYqGoF9CF",
        "outputId": "01fe7fd6-924c-4e57-98c0-12768e741550",
        "colab": {
          "base_uri": "https://localhost:8080/"
        }
      },
      "execution_count": 14,
      "outputs": [
        {
          "output_type": "stream",
          "name": "stdout",
          "text": [
            "torch.int64\n",
            "tensor([1, 2, 3, 4, 5])\n"
          ]
        }
      ]
    },
    {
      "cell_type": "markdown",
      "source": [
        "## view関数"
      ],
      "metadata": {
        "id": "1qk7eomgHAnz"
      }
    },
    {
      "cell_type": "code",
      "source": [
        "#r3 -> (3, 2, 2)\n",
        "\n",
        "r6 = r3.view(3,-1)\n",
        "\n",
        "print(r6.shape)\n",
        "\n",
        "print(r6.data)"
      ],
      "metadata": {
        "id": "iIlhwKbUGoey",
        "colab": {
          "base_uri": "https://localhost:8080/"
        },
        "outputId": "7e159b33-05dd-4178-c686-91d10c237f1c"
      },
      "execution_count": 15,
      "outputs": [
        {
          "output_type": "stream",
          "name": "stdout",
          "text": [
            "torch.Size([3, 4])\n",
            "tensor([[-0.1115,  0.1204, -0.3696, -0.2404],\n",
            "        [-1.1969,  0.2093, -0.9724, -0.7550],\n",
            "        [ 0.3239, -0.1085,  0.2103, -0.3908]])\n"
          ]
        }
      ]
    },
    {
      "cell_type": "code",
      "source": [
        "#r3 -> (3, 2, 2)\n",
        "\n",
        "r7 = r3.view(-1)\n",
        "\n",
        "print(r7.shape)\n",
        "\n",
        "print(r7.data)"
      ],
      "metadata": {
        "colab": {
          "base_uri": "https://localhost:8080/"
        },
        "id": "tFRazwxbOMJu",
        "outputId": "53e6da63-b84e-4b73-e913-d50f6c816105"
      },
      "execution_count": 16,
      "outputs": [
        {
          "output_type": "stream",
          "name": "stdout",
          "text": [
            "torch.Size([12])\n",
            "tensor([-0.1115,  0.1204, -0.3696, -0.2404, -1.1969,  0.2093, -0.9724, -0.7550,\n",
            "         0.3239, -0.1085,  0.2103, -0.3908])\n"
          ]
        }
      ]
    },
    {
      "cell_type": "code",
      "source": [
        "#require_grad属性（自動微分機能と関係）\n",
        "print('requires_grad: ', r1.requires_grad)"
      ],
      "metadata": {
        "colab": {
          "base_uri": "https://localhost:8080/"
        },
        "id": "f-jq5dMcOWFn",
        "outputId": "e1a1a403-a109-48d8-a3f8-4c932b142593"
      },
      "execution_count": 17,
      "outputs": [
        {
          "output_type": "stream",
          "name": "stdout",
          "text": [
            "requires_grad:  False\n"
          ]
        }
      ]
    },
    {
      "cell_type": "code",
      "source": [
        "#device属性(GPU計算と関係)\n",
        "print('device: ', r1.device)"
      ],
      "metadata": {
        "colab": {
          "base_uri": "https://localhost:8080/"
        },
        "id": "qU_yT6PpO4IA",
        "outputId": "39a86cf3-fe24-4242-cbb9-1a70fc65c3f5"
      },
      "execution_count": 18,
      "outputs": [
        {
          "output_type": "stream",
          "name": "stdout",
          "text": [
            "device:  cpu\n"
          ]
        }
      ]
    },
    {
      "cell_type": "code",
      "source": [
        "#item関数（テンソルからPython本来のクラスの数値を取り出すのにitem関数が使える）\n",
        "item = r0.item()\n",
        "\n",
        "print(type(item))\n",
        "print(item)"
      ],
      "metadata": {
        "colab": {
          "base_uri": "https://localhost:8080/"
        },
        "id": "4mPvLjJ2PFhq",
        "outputId": "f9fcdb50-a48e-4188-d7e9-4b2a286c3907"
      },
      "execution_count": 19,
      "outputs": [
        {
          "output_type": "stream",
          "name": "stdout",
          "text": [
            "<class 'float'>\n",
            "1.0\n"
          ]
        }
      ]
    },
    {
      "cell_type": "code",
      "source": [
        "#itemは1回以上のテンソルは対象にできない\n",
        "print(r1.item())"
      ],
      "metadata": {
        "colab": {
          "base_uri": "https://localhost:8080/",
          "height": 190
        },
        "id": "q_sKyg6nP4YB",
        "outputId": "d8d59595-a007-436c-f8d6-54feedf6df22"
      },
      "execution_count": 20,
      "outputs": [
        {
          "output_type": "error",
          "ename": "ValueError",
          "evalue": "ignored",
          "traceback": [
            "\u001b[0;31m---------------------------------------------------------------------------\u001b[0m",
            "\u001b[0;31mValueError\u001b[0m                                Traceback (most recent call last)",
            "\u001b[0;32m<ipython-input-20-facb47b86cf2>\u001b[0m in \u001b[0;36m<module>\u001b[0;34m()\u001b[0m\n\u001b[1;32m      1\u001b[0m \u001b[0;31m#itemは1回以上のテンソルは対象にできない\u001b[0m\u001b[0;34m\u001b[0m\u001b[0;34m\u001b[0m\u001b[0;34m\u001b[0m\u001b[0m\n\u001b[0;32m----> 2\u001b[0;31m \u001b[0mprint\u001b[0m\u001b[0;34m(\u001b[0m\u001b[0mr1\u001b[0m\u001b[0;34m.\u001b[0m\u001b[0mitem\u001b[0m\u001b[0;34m(\u001b[0m\u001b[0;34m)\u001b[0m\u001b[0;34m)\u001b[0m\u001b[0;34m\u001b[0m\u001b[0;34m\u001b[0m\u001b[0m\n\u001b[0m",
            "\u001b[0;31mValueError\u001b[0m: only one element tensors can be converted to Python scalars"
          ]
        }
      ]
    },
    {
      "cell_type": "code",
      "source": [
        "#max関数->最大値の取得\n",
        "print(r2)\n",
        "\n",
        "print(r2.max())"
      ],
      "metadata": {
        "id": "v6AgSe2qQBVb"
      },
      "execution_count": null,
      "outputs": []
    },
    {
      "cell_type": "code",
      "source": [
        "#torch.max関数\n",
        "#2つ目の引数はどの軸で集約するかを意味する\n",
        "print(torch.max(r2, 1))"
      ],
      "metadata": {
        "colab": {
          "base_uri": "https://localhost:8080/"
        },
        "id": "gevUgvJGQYXl",
        "outputId": "ca7ec035-5a6e-4ced-b220-f4f66d7cc31d"
      },
      "execution_count": 22,
      "outputs": [
        {
          "output_type": "stream",
          "name": "stdout",
          "text": [
            "torch.return_types.max(\n",
            "values=tensor([6., 4.]),\n",
            "indices=tensor([2, 0]))\n"
          ]
        }
      ]
    },
    {
      "cell_type": "code",
      "source": [
        "#何番目の要素が最大値をとるかはindicesを調べれば良い。\n",
        "#以下の計算は、多値分類で予測ラベルを求めるときによく利用されるパターン\n",
        "print(torch.max(r2, 1)[1])"
      ],
      "metadata": {
        "colab": {
          "base_uri": "https://localhost:8080/"
        },
        "id": "FY2UMcJ-QoZu",
        "outputId": "bfe1dec9-965e-4c11-b0cf-7e35b0fc8732"
      },
      "execution_count": 23,
      "outputs": [
        {
          "output_type": "stream",
          "name": "stdout",
          "text": [
            "tensor([2, 0])\n"
          ]
        }
      ]
    },
    {
      "cell_type": "markdown",
      "source": [
        "## テンソルからNumPyへの変換->numpy()関数を利用すればOK\n",
        "### ただし、この形で変数に代入すると、テンソル変数とNumPy配列は同じデータを指すので、\n",
        "### テンソル側で値が変わるとNumPyも連動して変わる。\n",
        "\n",
        "この挙動で困る場合は、r2.data.numpy().copy()でコピーを作る実装をすること。"
      ],
      "metadata": {
        "id": "onYvqvq8RsVS"
      }
    },
    {
      "cell_type": "code",
      "source": [
        "#NumPy変数への変換\n",
        "r2_np = r2.data.numpy()\n",
        "\n",
        "#type確認\n",
        "print(type(r2_np))\n",
        "\n",
        "#値確認\n",
        "print(r2_np)"
      ],
      "metadata": {
        "colab": {
          "base_uri": "https://localhost:8080/"
        },
        "id": "vNZezMEJRHMK",
        "outputId": "2c95738d-0246-4919-82e8-90ca9097633d"
      },
      "execution_count": 24,
      "outputs": [
        {
          "output_type": "stream",
          "name": "stdout",
          "text": [
            "<class 'numpy.ndarray'>\n",
            "[[1. 5. 6.]\n",
            " [4. 3. 2.]]\n"
          ]
        }
      ]
    },
    {
      "cell_type": "markdown",
      "source": [
        "## 自動微分機能\n",
        "\n",
        "\n",
        "1.   勾配計算用変数の定義（requires_grad = True）\n",
        "2.   テンソル変数間で計算。裏で計算グラフが自動生成される\n",
        "3.   計算グラフの可視化（make_dot関数）\n",
        "4.   勾配計算（backward関数）\n",
        "5.   勾配値の取得(grad属性)\n",
        "6.   勾配値の初期化(zero_関数)\n",
        "\n",
        "\n",
        "\n"
      ],
      "metadata": {
        "id": "kK0u32_cXZqP"
      }
    },
    {
      "cell_type": "code",
      "source": [
        "#二次関数の勾配計算\n",
        "x_np = np.arange(-2, 2.1, 0.25)\n",
        "\n",
        "print(x_np)"
      ],
      "metadata": {
        "id": "0ieLE82NRku4",
        "colab": {
          "base_uri": "https://localhost:8080/"
        },
        "outputId": "44fef6dd-fad7-49eb-c7cf-0f60f199feaf"
      },
      "execution_count": 26,
      "outputs": [
        {
          "output_type": "stream",
          "name": "stdout",
          "text": [
            "[-2.   -1.75 -1.5  -1.25 -1.   -0.75 -0.5  -0.25  0.    0.25  0.5   0.75\n",
            "  1.    1.25  1.5   1.75  2.  ]\n"
          ]
        }
      ]
    },
    {
      "cell_type": "code",
      "source": [
        "#1.勾配計算用変数の定義\n",
        "x = torch.tensor(x_np, requires_grad=True, dtype=torch.float32)\n",
        "print(x)"
      ],
      "metadata": {
        "colab": {
          "base_uri": "https://localhost:8080/"
        },
        "id": "PzZ4M8eQYRCp",
        "outputId": "ad1acfa2-ac1c-4d21-8182-b59531e1c791"
      },
      "execution_count": 27,
      "outputs": [
        {
          "output_type": "stream",
          "name": "stdout",
          "text": [
            "tensor([-2.0000, -1.7500, -1.5000, -1.2500, -1.0000, -0.7500, -0.5000, -0.2500,\n",
            "         0.0000,  0.2500,  0.5000,  0.7500,  1.0000,  1.2500,  1.5000,  1.7500,\n",
            "         2.0000], requires_grad=True)\n"
          ]
        }
      ]
    },
    {
      "cell_type": "code",
      "source": [
        "y = 2*x**2 + 2\n",
        "print(y)"
      ],
      "metadata": {
        "id": "ghmHRRsdY1Mk",
        "outputId": "85651d02-b735-4682-a38b-e1db906c8eac",
        "colab": {
          "base_uri": "https://localhost:8080/"
        }
      },
      "execution_count": 28,
      "outputs": [
        {
          "output_type": "stream",
          "name": "stdout",
          "text": [
            "tensor([10.0000,  8.1250,  6.5000,  5.1250,  4.0000,  3.1250,  2.5000,  2.1250,\n",
            "         2.0000,  2.1250,  2.5000,  3.1250,  4.0000,  5.1250,  6.5000,  8.1250,\n",
            "        10.0000], grad_fn=<AddBackward0>)\n"
          ]
        }
      ]
    },
    {
      "cell_type": "code",
      "source": [
        "plt.plot(x.data, y.data)\n",
        "plt.show()"
      ],
      "metadata": {
        "id": "K2FIAo70ZAaz",
        "outputId": "3b897442-63ec-4ea7-9106-8b1430ed0de7",
        "colab": {
          "base_uri": "https://localhost:8080/",
          "height": 377
        }
      },
      "execution_count": 29,
      "outputs": [
        {
          "output_type": "display_data",
          "data": {
            "text/plain": [
              "<Figure size 432x432 with 1 Axes>"
            ],
            "image/png": "[encoded data removed]"
          },
          "metadata": {
            "needs_background": "light"
          }
        }
      ]
    },
    {
      "cell_type": "markdown",
      "source": [
        "これから、PyTorchの機能を使って勾配計算するが、その場合計算対象の関数はスカラーである必要がある。\n",
        "この条件に合わせるため、yの値をsumで全て足して、足した結果を新しいテンソル変数zに代入する。"
      ],
      "metadata": {
        "id": "tgqDl8e6ZO-i"
      }
    },
    {
      "cell_type": "code",
      "source": [
        "#ダミーで足し合わせる\n",
        "z=y.sum()\n",
        "print(z)"
      ],
      "metadata": {
        "id": "vIqX5BxkZLn_",
        "outputId": "55f0e742-5a25-420c-8546-8c3d6ec7f2c6",
        "colab": {
          "base_uri": "https://localhost:8080/"
        }
      },
      "execution_count": 30,
      "outputs": [
        {
          "output_type": "stream",
          "name": "stdout",
          "text": [
            "tensor(85., grad_fn=<SumBackward0>)\n"
          ]
        }
      ]
    },
    {
      "cell_type": "code",
      "source": [
        "#3.計算グラフの可視化\n",
        "\n",
        "#必要ライブラリのインポート\n",
        "from torchviz import make_dot\n",
        "\n",
        "#可視化関数の呼び出し\n",
        "g = make_dot(z, params={'x':x})\n",
        "display(g)"
      ],
      "metadata": {
        "id": "J18F4T9XZijQ",
        "outputId": "552af799-31b6-43bf-82e4-3ea7d6cbb707",
        "colab": {
          "base_uri": "https://localhost:8080/",
          "height": 527
        }
      },
      "execution_count": 32,
      "outputs": [
        {
          "output_type": "display_data",
          "data": {
            "text/plain": [
              "<graphviz.dot.Digraph at 0x7fca9aa87e10>"
            ],
            "image/svg+xml": "<?xml version=\"1.0\" encoding=\"UTF-8\" standalone=\"no\"?>\n<!DOCTYPE svg PUBLIC \"-//W3C//DTD SVG 1.1//EN\"\n \"http://www.w3.org/Graphics/SVG/1.1/DTD/svg11.dtd\">\n<!-- Generated by graphviz version 2.40.1 (20161225.0304)\n -->\n<!-- Title: %3 Pages: 1 -->\n<svg width=\"109pt\" height=\"380pt\"\n viewBox=\"0.00 0.00 109.00 380.00\" xmlns=\"http://www.w3.org/2000/svg\" xmlns:xlink=\"http://www.w3.org/1999/xlink\">\n<g id=\"graph0\" class=\"graph\" transform=\"scale(1 1) rotate(0) translate(4 376)\">\n<title>%3</title>\n<polygon fill=\"#ffffff\" stroke=\"transparent\" points=\"-4,4 -4,-376 105,-376 105,4 -4,4\"/>\n<!-- 140508277798384 -->\n<g id=\"node1\" class=\"node\">\n<title>140508277798384</title>\n<polygon fill=\"#caff70\" stroke=\"#000000\" points=\"77.5,-31 23.5,-31 23.5,0 77.5,0 77.5,-31\"/>\n<text text-anchor=\"middle\" x=\"50.5\" y=\"-7\" font-family=\"monospace\" font-size=\"10.00\" fill=\"#000000\"> ()</text>\n</g>\n<!-- 140508136739088 -->\n<g id=\"node2\" class=\"node\">\n<title>140508136739088</title>\n<polygon fill=\"#d3d3d3\" stroke=\"#000000\" points=\"95,-86 6,-86 6,-67 95,-67 95,-86\"/>\n<text text-anchor=\"middle\" x=\"50.5\" y=\"-74\" font-family=\"monospace\" font-size=\"10.00\" fill=\"#000000\">SumBackward0</text>\n</g>\n<!-- 140508136739088&#45;&gt;140508277798384 -->\n<g id=\"edge6\" class=\"edge\">\n<title>140508136739088&#45;&gt;140508277798384</title>\n<path fill=\"none\" stroke=\"#000000\" d=\"M50.5,-66.9688C50.5,-60.1289 50.5,-50.5621 50.5,-41.5298\"/>\n<polygon fill=\"#000000\" stroke=\"#000000\" points=\"54.0001,-41.3678 50.5,-31.3678 47.0001,-41.3678 54.0001,-41.3678\"/>\n</g>\n<!-- 140508136739408 -->\n<g id=\"node3\" class=\"node\">\n<title>140508136739408</title>\n<polygon fill=\"#d3d3d3\" stroke=\"#000000\" points=\"95,-141 6,-141 6,-122 95,-122 95,-141\"/>\n<text text-anchor=\"middle\" x=\"50.5\" y=\"-129\" font-family=\"monospace\" font-size=\"10.00\" fill=\"#000000\">AddBackward0</text>\n</g>\n<!-- 140508136739408&#45;&gt;140508136739088 -->\n<g id=\"edge1\" class=\"edge\">\n<title>140508136739408&#45;&gt;140508136739088</title>\n<path fill=\"none\" stroke=\"#000000\" d=\"M50.5,-121.9197C50.5,-114.9083 50.5,-105.1442 50.5,-96.4652\"/>\n<polygon fill=\"#000000\" stroke=\"#000000\" points=\"54.0001,-96.3408 50.5,-86.3408 47.0001,-96.3409 54.0001,-96.3408\"/>\n</g>\n<!-- 140508136741072 -->\n<g id=\"node4\" class=\"node\">\n<title>140508136741072</title>\n<polygon fill=\"#d3d3d3\" stroke=\"#000000\" points=\"95,-196 6,-196 6,-177 95,-177 95,-196\"/>\n<text text-anchor=\"middle\" x=\"50.5\" y=\"-184\" font-family=\"monospace\" font-size=\"10.00\" fill=\"#000000\">MulBackward0</text>\n</g>\n<!-- 140508136741072&#45;&gt;140508136739408 -->\n<g id=\"edge2\" class=\"edge\">\n<title>140508136741072&#45;&gt;140508136739408</title>\n<path fill=\"none\" stroke=\"#000000\" d=\"M50.5,-176.9197C50.5,-169.9083 50.5,-160.1442 50.5,-151.4652\"/>\n<polygon fill=\"#000000\" stroke=\"#000000\" points=\"54.0001,-151.3408 50.5,-141.3408 47.0001,-151.3409 54.0001,-151.3408\"/>\n</g>\n<!-- 140508137135824 -->\n<g id=\"node5\" class=\"node\">\n<title>140508137135824</title>\n<polygon fill=\"#d3d3d3\" stroke=\"#000000\" points=\"95,-251 6,-251 6,-232 95,-232 95,-251\"/>\n<text text-anchor=\"middle\" x=\"50.5\" y=\"-239\" font-family=\"monospace\" font-size=\"10.00\" fill=\"#000000\">PowBackward0</text>\n</g>\n<!-- 140508137135824&#45;&gt;140508136741072 -->\n<g id=\"edge3\" class=\"edge\">\n<title>140508137135824&#45;&gt;140508136741072</title>\n<path fill=\"none\" stroke=\"#000000\" d=\"M50.5,-231.9197C50.5,-224.9083 50.5,-215.1442 50.5,-206.4652\"/>\n<polygon fill=\"#000000\" stroke=\"#000000\" points=\"54.0001,-206.3408 50.5,-196.3408 47.0001,-206.3409 54.0001,-206.3408\"/>\n</g>\n<!-- 140508136742480 -->\n<g id=\"node6\" class=\"node\">\n<title>140508136742480</title>\n<polygon fill=\"#d3d3d3\" stroke=\"#000000\" points=\"101,-306 0,-306 0,-287 101,-287 101,-306\"/>\n<text text-anchor=\"middle\" x=\"50.5\" y=\"-294\" font-family=\"monospace\" font-size=\"10.00\" fill=\"#000000\">AccumulateGrad</text>\n</g>\n<!-- 140508136742480&#45;&gt;140508137135824 -->\n<g id=\"edge4\" class=\"edge\">\n<title>140508136742480&#45;&gt;140508137135824</title>\n<path fill=\"none\" stroke=\"#000000\" d=\"M50.5,-286.9197C50.5,-279.9083 50.5,-270.1442 50.5,-261.4652\"/>\n<polygon fill=\"#000000\" stroke=\"#000000\" points=\"54.0001,-261.3408 50.5,-251.3408 47.0001,-261.3409 54.0001,-261.3408\"/>\n</g>\n<!-- 140508286852368 -->\n<g id=\"node7\" class=\"node\">\n<title>140508286852368</title>\n<polygon fill=\"#add8e6\" stroke=\"#000000\" points=\"77.5,-372 23.5,-372 23.5,-342 77.5,-342 77.5,-372\"/>\n<text text-anchor=\"middle\" x=\"50.5\" y=\"-360\" font-family=\"monospace\" font-size=\"10.00\" fill=\"#000000\">x</text>\n<text text-anchor=\"middle\" x=\"50.5\" y=\"-349\" font-family=\"monospace\" font-size=\"10.00\" fill=\"#000000\"> (17)</text>\n</g>\n<!-- 140508286852368&#45;&gt;140508136742480 -->\n<g id=\"edge5\" class=\"edge\">\n<title>140508286852368&#45;&gt;140508136742480</title>\n<path fill=\"none\" stroke=\"#000000\" d=\"M50.5,-341.7333C50.5,-334.0322 50.5,-324.5977 50.5,-316.3414\"/>\n<polygon fill=\"#000000\" stroke=\"#000000\" points=\"54.0001,-316.0864 50.5,-306.0864 47.0001,-316.0864 54.0001,-316.0864\"/>\n</g>\n</g>\n</svg>\n"
          },
          "metadata": {}
        }
      ]
    },
    {
      "cell_type": "markdown",
      "source": [
        "上の\n",
        "Pow:累乗、Mult:掛け算、Add:足し算。\n",
        "値を計算しながら計算過程を自動的に記録する機能を「Define by Run」と呼ぶ"
      ],
      "metadata": {
        "id": "2_Kq0mBCaX8g"
      }
    },
    {
      "cell_type": "code",
      "source": [
        ""
      ],
      "metadata": {
        "id": "KcAptFK3Z7gE"
      },
      "execution_count": null,
      "outputs": []
    }
  ]
}