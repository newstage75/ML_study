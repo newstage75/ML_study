{
  "nbformat": 4,
  "nbformat_minor": 0,
  "metadata": {
    "colab": {
      "name": "最短Pytorchの導入.ipynb",
      "provenance": [],
      "authorship_tag": "ABX9TyPji+vYoZIhWAOvOQaI9Xr0",
      "include_colab_link": true
    },
    "kernelspec": {
      "name": "python3",
      "display_name": "Python 3"
    },
    "language_info": {
      "name": "python"
    }
  },
  "cells": [
    {
      "cell_type": "markdown",
      "metadata": {
        "id": "view-in-github",
        "colab_type": "text"
      },
      "source": [
        "<a href=\"https://colab.research.google.com/github/newstage75/ML_study/blob/master/%E6%9C%80%E7%9F%ADPytorch/2%E7%AB%A0PyTorch%E3%81%AE%E5%9F%BA%E6%9C%AC%E6%A9%9F%E8%83%BD.ipynb\" target=\"_parent\"><img src=\"https://colab.research.google.com/assets/colab-badge.svg\" alt=\"Open In Colab\"/></a>"
      ]
    },
    {
      "cell_type": "markdown",
      "source": [
        "参考URL\n",
        "https://github.com/makaishi2/pytorch_book_info"
      ],
      "metadata": {
        "id": "UiD7bH19BBgV"
      }
    },
    {
      "cell_type": "markdown",
      "source": [
        "PyTorch→Tensorでデータを表現\n",
        "\n",
        "・自動微分機能"
      ],
      "metadata": {
        "id": "CEgOOTrGJU31"
      }
    },
    {
      "cell_type": "code",
      "source": [
        "# 必要ライブラリの導入\n",
        "!pip install japanize_matplotlib | tail -n 1\n",
        "!pip install torchviz | tail -n 1"
      ],
      "metadata": {
        "id": "3clwP-EuBSc-",
        "outputId": "0d58f225-01b6-4090-e1cf-b60a5e30c6e8",
        "colab": {
          "base_uri": "https://localhost:8080/"
        }
      },
      "execution_count": 1,
      "outputs": [
        {
          "output_type": "stream",
          "name": "stdout",
          "text": [
            "Successfully installed japanize-matplotlib-1.1.3\n",
            "Successfully installed torchviz-0.0.2\n"
          ]
        }
      ]
    },
    {
      "cell_type": "code",
      "source": [
        "# 必要ライブラリのインポート\n",
        "\n",
        "%matplotlib inline\n",
        "import numpy as np\n",
        "import matplotlib.pyplot as plt\n",
        "import japanize_matplotlib\n",
        "from IPython.display import display"
      ],
      "metadata": {
        "id": "KcAADMiwBs-2"
      },
      "execution_count": 2,
      "outputs": []
    },
    {
      "cell_type": "code",
      "source": [
        "# デフォルトフォントサイズ変更\n",
        "plt.rcParams['font.size'] = 14\n",
        "\n",
        "# デフォルトグラフサイズ変更\n",
        "plt.rcParams['figure.figsize'] = (6,6)\n",
        "\n",
        "# デフォルトで方眼表示ON\n",
        "plt.rcParams['axes.grid'] = True"
      ],
      "metadata": {
        "id": "hqpkgKi4BxUt"
      },
      "execution_count": 3,
      "outputs": []
    },
    {
      "cell_type": "markdown",
      "source": [
        "重要な関数<br>\n",
        "view→NumPyのreshape<br>\n",
        "item→テンソルとして損失計算から値を取り出す時に使用<br>\n",
        "max→多値分類で予測結果から予測ラベル値を取得<br>\n"
      ],
      "metadata": {
        "id": "f6KFJR7GB2R4"
      }
    },
    {
      "cell_type": "code",
      "source": [
        "#PyTorchライブラリ\n",
        "import torch"
      ],
      "metadata": {
        "id": "N9v6ggGOBzZe"
      },
      "execution_count": 4,
      "outputs": []
    },
    {
      "cell_type": "code",
      "source": [
        "r0 = torch.tensor(1.0).float()\n",
        "\n",
        "print(type(r0))\n",
        "\n",
        "print(r0.dtype)"
      ],
      "metadata": {
        "id": "u7Ozo6QPCS1m",
        "outputId": "030bca33-e029-4e89-b7b4-c5b41649b4cb",
        "colab": {
          "base_uri": "https://localhost:8080/"
        }
      },
      "execution_count": 6,
      "outputs": [
        {
          "output_type": "stream",
          "name": "stdout",
          "text": [
            "<class 'torch.Tensor'>\n",
            "torch.float32\n"
          ]
        }
      ]
    },
    {
      "cell_type": "markdown",
      "source": [
        "torch.tensor関数がテンソル変数を作るのに一番簡単<br>\n",
        "必ず後ろに.float()をつける。３２ビットにしないと、nn.Linearなど機械学習で利用するライブラリを使う際にエラーになる。"
      ],
      "metadata": {
        "id": "kc2kIvfqD4hF"
      }
    },
    {
      "cell_type": "code",
      "source": [
        "print(r0.shape)\n",
        "\n",
        "print(r0.data)"
      ],
      "metadata": {
        "id": "5bRLYw3DDOiW",
        "outputId": "ab67be2f-e429-4dcf-ffb9-47724669e420",
        "colab": {
          "base_uri": "https://localhost:8080/"
        }
      },
      "execution_count": 7,
      "outputs": [
        {
          "output_type": "stream",
          "name": "stdout",
          "text": [
            "torch.Size([])\n",
            "tensor(1.)\n"
          ]
        }
      ]
    },
    {
      "cell_type": "code",
      "source": [
        ""
      ],
      "metadata": {
        "id": "ZlOfyNkZESFc"
      },
      "execution_count": null,
      "outputs": []
    }
  ]
}