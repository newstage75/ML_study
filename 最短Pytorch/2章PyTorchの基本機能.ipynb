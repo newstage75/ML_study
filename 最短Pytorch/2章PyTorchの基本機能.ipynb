{
  "nbformat": 4,
  "nbformat_minor": 0,
  "metadata": {
    "colab": {
      "name": "最短Pytorchの導入.ipynb",
      "provenance": [],
      "authorship_tag": "ABX9TyN86buFyMUoZTje6g7actW8",
      "include_colab_link": true
    },
    "kernelspec": {
      "name": "python3",
      "display_name": "Python 3"
    },
    "language_info": {
      "name": "python"
    }
  },
  "cells": [
    {
      "cell_type": "markdown",
      "metadata": {
        "id": "view-in-github",
        "colab_type": "text"
      },
      "source": [
        "<a href=\"https://colab.research.google.com/github/newstage75/ML_study/blob/master/%E6%9C%80%E7%9F%ADPytorch/2%E7%AB%A0PyTorch%E3%81%AE%E5%9F%BA%E6%9C%AC%E6%A9%9F%E8%83%BD.ipynb\" target=\"_parent\"><img src=\"https://colab.research.google.com/assets/colab-badge.svg\" alt=\"Open In Colab\"/></a>"
      ]
    },
    {
      "cell_type": "markdown",
      "source": [
        "参考URL\n",
        "https://github.com/makaishi2/pytorch_book_info"
      ],
      "metadata": {
        "id": "UiD7bH19BBgV"
      }
    },
    {
      "cell_type": "markdown",
      "source": [
        "PyTorch→Tensorでデータを表現\n",
        "\n",
        "・自動微分機能"
      ],
      "metadata": {
        "id": "CEgOOTrGJU31"
      }
    },
    {
      "cell_type": "code",
      "source": [
        "# 必要ライブラリの導入\n",
        "!pip install japanize_matplotlib | tail -n 1\n",
        "!pip install torchviz | tail -n 1"
      ],
      "metadata": {
        "colab": {
          "base_uri": "https://localhost:8080/"
        },
        "id": "3clwP-EuBSc-",
        "outputId": "04ba7ea9-254c-4254-bb00-539e1714f558"
      },
      "execution_count": 1,
      "outputs": [
        {
          "output_type": "stream",
          "name": "stdout",
          "text": [
            "Successfully installed japanize-matplotlib-1.1.3\n",
            "Successfully installed torchviz-0.0.2\n"
          ]
        }
      ]
    },
    {
      "cell_type": "code",
      "source": [
        "# 必要ライブラリのインポート\n",
        "\n",
        "%matplotlib inline\n",
        "import numpy as np\n",
        "import matplotlib.pyplot as plt\n",
        "import japanize_matplotlib\n",
        "from IPython.display import display"
      ],
      "metadata": {
        "id": "KcAADMiwBs-2"
      },
      "execution_count": 2,
      "outputs": []
    },
    {
      "cell_type": "code",
      "source": [
        "# デフォルトフォントサイズ変更\n",
        "plt.rcParams['font.size'] = 14\n",
        "\n",
        "# デフォルトグラフサイズ変更\n",
        "plt.rcParams['figure.figsize'] = (6,6)\n",
        "\n",
        "# デフォルトで方眼表示ON\n",
        "plt.rcParams['axes.grid'] = True"
      ],
      "metadata": {
        "id": "hqpkgKi4BxUt"
      },
      "execution_count": 3,
      "outputs": []
    },
    {
      "cell_type": "markdown",
      "source": [
        "重要な関数<br>\n",
        "view→NumPyのreshape<br>\n",
        "item→テンソルとして損失計算から値を取り出す時に使用<br>\n",
        "max→多値分類で予測結果から予測ラベル値を取得<br>\n"
      ],
      "metadata": {
        "id": "f6KFJR7GB2R4"
      }
    },
    {
      "cell_type": "code",
      "source": [
        "#PyTorchライブラリ\n",
        "import torch"
      ],
      "metadata": {
        "id": "N9v6ggGOBzZe"
      },
      "execution_count": 4,
      "outputs": []
    },
    {
      "cell_type": "code",
      "source": [
        "r0 = torch.tensor(1.0).float()\n",
        "\n",
        "print(type(r0))\n",
        "\n",
        "print(r0.dtype)"
      ],
      "metadata": {
        "colab": {
          "base_uri": "https://localhost:8080/"
        },
        "id": "u7Ozo6QPCS1m",
        "outputId": "4172deda-653d-4c41-b50d-e4c31af27557"
      },
      "execution_count": 5,
      "outputs": [
        {
          "output_type": "stream",
          "name": "stdout",
          "text": [
            "<class 'torch.Tensor'>\n",
            "torch.float32\n"
          ]
        }
      ]
    },
    {
      "cell_type": "markdown",
      "source": [
        "torch.tensor関数がテンソル変数を作るのに一番簡単<br>\n",
        "必ず後ろに.float()をつける。３２ビットにしないと、nn.Linearなど機械学習で利用するライブラリを使う際にエラーになる。"
      ],
      "metadata": {
        "id": "kc2kIvfqD4hF"
      }
    },
    {
      "cell_type": "code",
      "source": [
        "print(r0.shape)\n",
        "\n",
        "print(r0.data)"
      ],
      "metadata": {
        "colab": {
          "base_uri": "https://localhost:8080/"
        },
        "id": "5bRLYw3DDOiW",
        "outputId": "ff9db6cc-d83a-4283-d21c-77bc06194145"
      },
      "execution_count": 6,
      "outputs": [
        {
          "output_type": "stream",
          "name": "stdout",
          "text": [
            "torch.Size([])\n",
            "tensor(1.)\n"
          ]
        }
      ]
    },
    {
      "cell_type": "code",
      "source": [
        "#1階テンソル\n",
        "\n",
        "#まずNumPyで\n",
        "r1_np = np.array([1, 2, 3, 4, 5])\n",
        "print(r1_np.shape)"
      ],
      "metadata": {
        "colab": {
          "base_uri": "https://localhost:8080/"
        },
        "id": "ZlOfyNkZESFc",
        "outputId": "7a9df525-c426-4aeb-c72a-ebba3778f576"
      },
      "execution_count": 7,
      "outputs": [
        {
          "output_type": "stream",
          "name": "stdout",
          "text": [
            "(5,)\n"
          ]
        }
      ]
    },
    {
      "cell_type": "code",
      "source": [
        "#NumPyからテンソルに変換\n",
        "r1 = torch.tensor(r1_np).float()\n",
        "\n",
        "print(r1.dtype)\n",
        "\n",
        "print(r1.shape)\n",
        "\n",
        "print(r1.data)"
      ],
      "metadata": {
        "id": "gnN_sabnEw1a",
        "outputId": "c2ca59fb-2673-4fd0-c882-60e4b7d7539a",
        "colab": {
          "base_uri": "https://localhost:8080/"
        }
      },
      "execution_count": 8,
      "outputs": [
        {
          "output_type": "stream",
          "name": "stdout",
          "text": [
            "torch.float32\n",
            "torch.Size([5])\n",
            "tensor([1., 2., 3., 4., 5.])\n"
          ]
        }
      ]
    },
    {
      "cell_type": "markdown",
      "source": [
        "テンソル変数とNumPy変数は似たところが多く、相互に行き来が可能。"
      ],
      "metadata": {
        "id": "k-YGce3oFF90"
      }
    },
    {
      "cell_type": "code",
      "source": [
        "#次に２回テンソルの場合\n",
        "\n",
        "#まずNumPy\n",
        "r2_np = np.array([[1, 5, 6], [4, 3, 2]])\n",
        "print(r2_np.shape)\n",
        "\n",
        "r2 = torch.tensor(r2_np).float()\n",
        "\n",
        "print(r2.shape)\n",
        "\n",
        "print(r2.data)"
      ],
      "metadata": {
        "id": "-FrPyMigFAbw",
        "outputId": "a005e4fd-0ba0-4270-a0ea-31b7e1977db8",
        "colab": {
          "base_uri": "https://localhost:8080/"
        }
      },
      "execution_count": 9,
      "outputs": [
        {
          "output_type": "stream",
          "name": "stdout",
          "text": [
            "(2, 3)\n",
            "torch.Size([2, 3])\n",
            "tensor([[1., 5., 6.],\n",
            "        [4., 3., 2.]])\n"
          ]
        }
      ]
    },
    {
      "cell_type": "code",
      "source": [
        "# ３階テンソル\n",
        "\n",
        "# 乱数seedの初期化\n",
        "torch.manual_seed(123)\n",
        "\n",
        "# shape=[3,2,2]の正規分布変数テンソルを作る\n",
        "r3 = torch.randn((3, 2, 2))\n",
        "\n",
        "# shapeを調べる\n",
        "print(r3.shape)\n",
        "\n",
        "# データを調べる\n",
        "print(r3.data)"
      ],
      "metadata": {
        "id": "x-UYZNv1FmKV",
        "outputId": "91a8f024-75d7-4946-f001-0d935dab8797",
        "colab": {
          "base_uri": "https://localhost:8080/"
        }
      },
      "execution_count": 10,
      "outputs": [
        {
          "output_type": "stream",
          "name": "stdout",
          "text": [
            "torch.Size([3, 2, 2])\n",
            "tensor([[[-0.1115,  0.1204],\n",
            "         [-0.3696, -0.2404]],\n",
            "\n",
            "        [[-1.1969,  0.2093],\n",
            "         [-0.9724, -0.7550]],\n",
            "\n",
            "        [[ 0.3239, -0.1085],\n",
            "         [ 0.2103, -0.3908]]])\n"
          ]
        }
      ]
    },
    {
      "cell_type": "code",
      "source": [
        "# 4階テンソル\n",
        "\n",
        "# shape=[2,3,2,2]の要素がすべて1のテンソルを作る\n",
        "r4 = torch.ones((2, 3, 2, 2))\n",
        "\n",
        "# shapeを調べる\n",
        "print(r4.shape)\n",
        "\n",
        "# データを調べる\n",
        "print(r4.data)"
      ],
      "metadata": {
        "id": "9yxpYyH2F1SL",
        "outputId": "f55f28c1-b1b6-4847-e655-d7f69b375527",
        "colab": {
          "base_uri": "https://localhost:8080/"
        }
      },
      "execution_count": 11,
      "outputs": [
        {
          "output_type": "stream",
          "name": "stdout",
          "text": [
            "torch.Size([2, 3, 2, 2])\n",
            "tensor([[[[1., 1.],\n",
            "          [1., 1.]],\n",
            "\n",
            "         [[1., 1.],\n",
            "          [1., 1.]],\n",
            "\n",
            "         [[1., 1.],\n",
            "          [1., 1.]]],\n",
            "\n",
            "\n",
            "        [[[1., 1.],\n",
            "          [1., 1.]],\n",
            "\n",
            "         [[1., 1.],\n",
            "          [1., 1.]],\n",
            "\n",
            "         [[1., 1.],\n",
            "          [1., 1.]]]])\n"
          ]
        }
      ]
    },
    {
      "cell_type": "markdown",
      "source": [
        "long→torch.int64になる。"
      ],
      "metadata": {
        "id": "4zPC2tqJG07B"
      }
    },
    {
      "cell_type": "code",
      "source": [
        "r5 = r1.long()\n",
        "\n",
        "#dtype\n",
        "print(r5.dtype)\n",
        "\n",
        "#値\n",
        "print(r5)"
      ],
      "metadata": {
        "id": "l0kUYqGoF9CF",
        "outputId": "18ef8ff3-d2c4-4951-a30a-026561b484b3",
        "colab": {
          "base_uri": "https://localhost:8080/"
        }
      },
      "execution_count": 12,
      "outputs": [
        {
          "output_type": "stream",
          "name": "stdout",
          "text": [
            "torch.int64\n",
            "tensor([1, 2, 3, 4, 5])\n"
          ]
        }
      ]
    },
    {
      "cell_type": "markdown",
      "source": [
        "## view関数"
      ],
      "metadata": {
        "id": "1qk7eomgHAnz"
      }
    },
    {
      "cell_type": "code",
      "source": [
        "#r3 -> (3, 2, 2)\n",
        "\n",
        "r6 = r3.view(3,-1)\n",
        "\n",
        "print(r6.shape)\n",
        "\n",
        "print(r6.data)"
      ],
      "metadata": {
        "id": "iIlhwKbUGoey",
        "colab": {
          "base_uri": "https://localhost:8080/"
        },
        "outputId": "8d5cd83d-95ba-4d8a-b452-e63b1ddf8051"
      },
      "execution_count": 13,
      "outputs": [
        {
          "output_type": "stream",
          "name": "stdout",
          "text": [
            "torch.Size([3, 4])\n",
            "tensor([[-0.1115,  0.1204, -0.3696, -0.2404],\n",
            "        [-1.1969,  0.2093, -0.9724, -0.7550],\n",
            "        [ 0.3239, -0.1085,  0.2103, -0.3908]])\n"
          ]
        }
      ]
    },
    {
      "cell_type": "code",
      "source": [
        "#r3 -> (3, 2, 2)\n",
        "\n",
        "r7 = r3.view(-1)\n",
        "\n",
        "print(r7.shape)\n",
        "\n",
        "print(r7.data)"
      ],
      "metadata": {
        "colab": {
          "base_uri": "https://localhost:8080/"
        },
        "id": "tFRazwxbOMJu",
        "outputId": "f1481c5e-17a8-40c2-a3b6-0b334a77cc9e"
      },
      "execution_count": 14,
      "outputs": [
        {
          "output_type": "stream",
          "name": "stdout",
          "text": [
            "torch.Size([12])\n",
            "tensor([-0.1115,  0.1204, -0.3696, -0.2404, -1.1969,  0.2093, -0.9724, -0.7550,\n",
            "         0.3239, -0.1085,  0.2103, -0.3908])\n"
          ]
        }
      ]
    },
    {
      "cell_type": "code",
      "source": [
        "#require_grad属性（自動微分機能と関係）\n",
        "print('requires_grad: ', r1.requires_grad)"
      ],
      "metadata": {
        "colab": {
          "base_uri": "https://localhost:8080/"
        },
        "id": "f-jq5dMcOWFn",
        "outputId": "72f90614-abfe-4c72-feab-8a0fb2703789"
      },
      "execution_count": 16,
      "outputs": [
        {
          "output_type": "stream",
          "name": "stdout",
          "text": [
            "requires_grad:  False\n"
          ]
        }
      ]
    },
    {
      "cell_type": "code",
      "source": [
        "#device属性(GPU計算と関係)\n",
        "print('device: ', r1.device)"
      ],
      "metadata": {
        "colab": {
          "base_uri": "https://localhost:8080/"
        },
        "id": "qU_yT6PpO4IA",
        "outputId": "96544d7f-a9f3-43a5-f513-0f386bafeaa4"
      },
      "execution_count": 17,
      "outputs": [
        {
          "output_type": "stream",
          "name": "stdout",
          "text": [
            "device:  cpu\n"
          ]
        }
      ]
    },
    {
      "cell_type": "code",
      "source": [
        "#item関数（テンソルからPython本来のクラスの数値を取り出すのにitem関数が使える）\n",
        "item = r0.item()\n",
        "\n",
        "print(type(item))\n",
        "print(item)"
      ],
      "metadata": {
        "colab": {
          "base_uri": "https://localhost:8080/"
        },
        "id": "4mPvLjJ2PFhq",
        "outputId": "2770fd49-309a-4fc2-b35a-3840bdda0c4b"
      },
      "execution_count": 18,
      "outputs": [
        {
          "output_type": "stream",
          "name": "stdout",
          "text": [
            "<class 'float'>\n",
            "1.0\n"
          ]
        }
      ]
    },
    {
      "cell_type": "code",
      "source": [
        "#itemは1回以上のテンソルは対象にできない\n",
        "print(r1.item())"
      ],
      "metadata": {
        "colab": {
          "base_uri": "https://localhost:8080/",
          "height": 190
        },
        "id": "q_sKyg6nP4YB",
        "outputId": "27e2937a-2b39-4a26-b84d-b81043d50e5c"
      },
      "execution_count": 19,
      "outputs": [
        {
          "output_type": "error",
          "ename": "ValueError",
          "evalue": "ignored",
          "traceback": [
            "\u001b[0;31m---------------------------------------------------------------------------\u001b[0m",
            "\u001b[0;31mValueError\u001b[0m                                Traceback (most recent call last)",
            "\u001b[0;32m<ipython-input-19-facb47b86cf2>\u001b[0m in \u001b[0;36m<module>\u001b[0;34m()\u001b[0m\n\u001b[1;32m      1\u001b[0m \u001b[0;31m#itemは1回以上のテンソルは対象にできない\u001b[0m\u001b[0;34m\u001b[0m\u001b[0;34m\u001b[0m\u001b[0;34m\u001b[0m\u001b[0m\n\u001b[0;32m----> 2\u001b[0;31m \u001b[0mprint\u001b[0m\u001b[0;34m(\u001b[0m\u001b[0mr1\u001b[0m\u001b[0;34m.\u001b[0m\u001b[0mitem\u001b[0m\u001b[0;34m(\u001b[0m\u001b[0;34m)\u001b[0m\u001b[0;34m)\u001b[0m\u001b[0;34m\u001b[0m\u001b[0;34m\u001b[0m\u001b[0m\n\u001b[0m",
            "\u001b[0;31mValueError\u001b[0m: only one element tensors can be converted to Python scalars"
          ]
        }
      ]
    },
    {
      "cell_type": "code",
      "source": [
        "#max関数->最大値の取得\n",
        "print(r2)\n",
        "\n",
        "print(r2.max())"
      ],
      "metadata": {
        "colab": {
          "base_uri": "https://localhost:8080/"
        },
        "id": "v6AgSe2qQBVb",
        "outputId": "34979ce8-2f9f-47c9-b165-38275ec0b244"
      },
      "execution_count": 21,
      "outputs": [
        {
          "output_type": "stream",
          "name": "stdout",
          "text": [
            "tensor([[1., 5., 6.],\n",
            "        [4., 3., 2.]])\n",
            "tensor(6.)\n"
          ]
        }
      ]
    },
    {
      "cell_type": "code",
      "source": [
        "#torch.max関数\n",
        "#2つ目の引数はどの軸で集約するかを意味する\n",
        "print(torch.max(r2, 1))"
      ],
      "metadata": {
        "colab": {
          "base_uri": "https://localhost:8080/"
        },
        "id": "gevUgvJGQYXl",
        "outputId": "95da1474-6644-47b8-fc1f-f35a8713a425"
      },
      "execution_count": 22,
      "outputs": [
        {
          "output_type": "stream",
          "name": "stdout",
          "text": [
            "torch.return_types.max(\n",
            "values=tensor([6., 4.]),\n",
            "indices=tensor([2, 0]))\n"
          ]
        }
      ]
    },
    {
      "cell_type": "code",
      "source": [
        "#何番目の要素が最大値をとるかはindicesを調べれば良い。\n",
        "#以下の計算は、多値分類で予測ラベルを求めるときによく利用されるパターン\n",
        "print(torch.max(r2, 1)[1])"
      ],
      "metadata": {
        "colab": {
          "base_uri": "https://localhost:8080/"
        },
        "id": "FY2UMcJ-QoZu",
        "outputId": "a6a120d8-6c9e-4e18-e9b6-117e5e90c15c"
      },
      "execution_count": 23,
      "outputs": [
        {
          "output_type": "stream",
          "name": "stdout",
          "text": [
            "tensor([2, 0])\n"
          ]
        }
      ]
    },
    {
      "cell_type": "markdown",
      "source": [
        "## テンソルからNumPyへの変換->numpy()関数を利用すればOK\n",
        "### ただし、この形で変数に代入すると、テンソル変数とNumPy配列は同じデータを指すので、\n",
        "### テンソル側で値が変わるとNumPyも連動して変わる。\n",
        "\n",
        "この挙動で困る場合は、r2.data.numpy().copy()でコピーを作る実装をすること。"
      ],
      "metadata": {
        "id": "onYvqvq8RsVS"
      }
    },
    {
      "cell_type": "code",
      "source": [
        "#NumPy変数への変換\n",
        "r2_np = r2.data.numpy()\n",
        "\n",
        "#type確認\n",
        "print(type(r2_np))\n",
        "\n",
        "#値確認\n",
        "print(r2_np)"
      ],
      "metadata": {
        "colab": {
          "base_uri": "https://localhost:8080/"
        },
        "id": "vNZezMEJRHMK",
        "outputId": "df004a2d-dfa2-48c8-82a9-d91547182684"
      },
      "execution_count": 24,
      "outputs": [
        {
          "output_type": "stream",
          "name": "stdout",
          "text": [
            "<class 'numpy.ndarray'>\n",
            "[[1. 5. 6.]\n",
            " [4. 3. 2.]]\n"
          ]
        }
      ]
    },
    {
      "cell_type": "code",
      "source": [
        ""
      ],
      "metadata": {
        "id": "0ieLE82NRku4"
      },
      "execution_count": null,
      "outputs": []
    }
  ]
}