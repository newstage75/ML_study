{
  "nbformat": 4,
  "nbformat_minor": 0,
  "metadata": {
    "colab": {
      "name": "最短Pytorchの導入.ipynb",
      "provenance": [],
      "authorship_tag": "ABX9TyPBVU6zgbgAIv1nZ1x6BYGC",
      "include_colab_link": true
    },
    "kernelspec": {
      "name": "python3",
      "display_name": "Python 3"
    },
    "language_info": {
      "name": "python"
    }
  },
  "cells": [
    {
      "cell_type": "markdown",
      "metadata": {
        "id": "view-in-github",
        "colab_type": "text"
      },
      "source": [
        "<a href=\"https://colab.research.google.com/github/newstage75/ML_study/blob/master/%E6%9C%80%E7%9F%ADPytorch/%EF%BC%95%E7%AB%A0%E7%B7%9A%E5%BD%A2%E5%9B%9E%E5%B8%B0.ipynb\" target=\"_parent\"><img src=\"https://colab.research.google.com/assets/colab-badge.svg\" alt=\"Open In Colab\"/></a>"
      ]
    },
    {
      "cell_type": "markdown",
      "source": [
        "#5章線形回帰"
      ],
      "metadata": {
        "id": "CEgOOTrGJU31"
      }
    },
    {
      "cell_type": "code",
      "execution_count": 1,
      "metadata": {
        "colab": {
          "base_uri": "https://localhost:8080/"
        },
        "id": "48AexnpDJAMO",
        "outputId": "03b408d8-30f7-4b42-ece4-be8f809100fe"
      },
      "outputs": [
        {
          "output_type": "stream",
          "name": "stdout",
          "text": [
            "Successfully installed japanize-matplotlib-1.1.3\n",
            "Successfully installed torchviz-0.0.2\n",
            "Successfully installed torchinfo-1.6.6\n"
          ]
        }
      ],
      "source": [
        "# 必要ライブラリの導入\n",
        "\n",
        "!pip install japanize_matplotlib | tail -n 1\n",
        "!pip install torchviz | tail -n 1\n",
        "!pip install torchinfo | tail -n 1"
      ]
    },
    {
      "cell_type": "code",
      "source": [
        "# 必要ライブラリのインポート\n",
        "\n",
        "%matplotlib inline\n",
        "import numpy as np\n",
        "import matplotlib.pyplot as plt\n",
        "import japanize_matplotlib"
      ],
      "metadata": {
        "id": "ghCJoyn3JbCd"
      },
      "execution_count": 2,
      "outputs": []
    },
    {
      "cell_type": "code",
      "source": [
        "# PyTorch関連ライブラリ\n",
        "import torch\n",
        "import torch.nn as nn\n",
        "import torch.optim as optim\n",
        "from torchviz import make_dot"
      ],
      "metadata": {
        "id": "wJKfNpszLiia"
      },
      "execution_count": 3,
      "outputs": []
    },
    {
      "cell_type": "code",
      "source": [
        "# warning表示off\n",
        "import warnings\n",
        "warnings.simplefilter('ignore')\n",
        "\n",
        "# デフォルトフォントサイズ変更\n",
        "plt.rcParams['font.size'] = 14\n",
        "\n",
        "# デフォルトグラフサイズ変更\n",
        "plt.rcParams['figure.figsize'] = (6,6)\n",
        "\n",
        "# デフォルトで方眼表示ON\n",
        "plt.rcParams['axes.grid'] = True\n",
        "\n",
        "# numpyの表示桁数設定\n",
        "np.set_printoptions(suppress=True, precision=4)"
      ],
      "metadata": {
        "id": "TTSBA8aYJeL0"
      },
      "execution_count": 4,
      "outputs": []
    },
    {
      "cell_type": "code",
      "source": [
        "#5.3線形関数（nn.Linear）\n",
        "torch.manual_seed(123)\n",
        "\n",
        "l1 = nn.Linear(1, 1)\n",
        "\n",
        "print(l1)"
      ],
      "metadata": {
        "id": "cLpXRBDWILtp",
        "outputId": "7f16e622-ae94-4792-8464-70ad195b9ec6",
        "colab": {
          "base_uri": "https://localhost:8080/"
        }
      },
      "execution_count": 5,
      "outputs": [
        {
          "output_type": "stream",
          "name": "stdout",
          "text": [
            "Linear(in_features=1, out_features=1, bias=True)\n"
          ]
        }
      ]
    },
    {
      "cell_type": "code",
      "source": [
        "#named_parametersという関数を呼びだすと、（パラメータ名、パラメータ参照）のリストを返す\n",
        "#パラメータ名、パラメータ値、shapeの表示\n",
        "\n",
        "for param in l1.named_parameters():\n",
        "  print('name: ', param[0])\n",
        "  print('tensor: ', param[1])\n",
        "  print('shape: ', param[1].shape)"
      ],
      "metadata": {
        "id": "XsHXGqIhIcIm",
        "outputId": "d212dbf8-1aaf-43f4-84b3-d7b0432c7393",
        "colab": {
          "base_uri": "https://localhost:8080/"
        }
      },
      "execution_count": 6,
      "outputs": [
        {
          "output_type": "stream",
          "name": "stdout",
          "text": [
            "name:  weight\n",
            "tensor:  Parameter containing:\n",
            "tensor([[-0.4078]], requires_grad=True)\n",
            "shape:  torch.Size([1, 1])\n",
            "name:  bias\n",
            "tensor:  Parameter containing:\n",
            "tensor([0.0331], requires_grad=True)\n",
            "shape:  torch.Size([1])\n"
          ]
        }
      ]
    },
    {
      "cell_type": "code",
      "source": [
        "#初期値設定\n",
        "nn.init.constant_(l1.weight, 2.0)\n",
        "nn.init.constant_(l1.bias, 1.0)\n",
        "\n",
        "#結果確認\n",
        "print(l1.weight)\n",
        "print(l1.bias)"
      ],
      "metadata": {
        "id": "bccOI2meJFCA",
        "outputId": "26f78aa8-291d-414b-c1cc-2b7b9d42ac9a",
        "colab": {
          "base_uri": "https://localhost:8080/"
        }
      },
      "execution_count": 7,
      "outputs": [
        {
          "output_type": "stream",
          "name": "stdout",
          "text": [
            "Parameter containing:\n",
            "tensor([[2.]], requires_grad=True)\n",
            "Parameter containing:\n",
            "tensor([1.], requires_grad=True)\n"
          ]
        }
      ]
    },
    {
      "cell_type": "code",
      "source": [
        "#再度パラメータ表示の確認テスト\n",
        "for param in l1.named_parameters():\n",
        "  print('name: ', param[0])\n",
        "  print('tensor: ', param[1])\n",
        "  print('shape: ', param[1].shape)"
      ],
      "metadata": {
        "id": "Gs2mOsN1J29f",
        "outputId": "71e9539f-a951-44d0-fb07-3839e82e2122",
        "colab": {
          "base_uri": "https://localhost:8080/"
        }
      },
      "execution_count": 8,
      "outputs": [
        {
          "output_type": "stream",
          "name": "stdout",
          "text": [
            "name:  weight\n",
            "tensor:  Parameter containing:\n",
            "tensor([[2.]], requires_grad=True)\n",
            "shape:  torch.Size([1, 1])\n",
            "name:  bias\n",
            "tensor:  Parameter containing:\n",
            "tensor([1.], requires_grad=True)\n",
            "shape:  torch.Size([1])\n"
          ]
        }
      ]
    },
    {
      "cell_type": "code",
      "source": [
        "#テスト用ダミーデータをこの関数にかけて１次関数として動作していることを確認\n",
        "x_np = np.arange(-2, 2.1, 1)\n",
        "x = torch.tensor(x_np).float()\n",
        "#サイズを(N,1)に変換\n",
        "x = x.view(-1, 1)\n",
        "\n",
        "print(x.shape)\n",
        "print(x)"
      ],
      "metadata": {
        "id": "Di3i1O2xKDGk",
        "outputId": "6cc0ae3d-7dfd-4b7f-9837-9ef371e0b0bd",
        "colab": {
          "base_uri": "https://localhost:8080/"
        }
      },
      "execution_count": 9,
      "outputs": [
        {
          "output_type": "stream",
          "name": "stdout",
          "text": [
            "torch.Size([5, 1])\n",
            "tensor([[-2.],\n",
            "        [-1.],\n",
            "        [ 0.],\n",
            "        [ 1.],\n",
            "        [ 2.]])\n"
          ]
        }
      ]
    },
    {
      "cell_type": "code",
      "source": [
        "y = l1(x)\n",
        "print(y.shape)\n",
        "print(y.data)"
      ],
      "metadata": {
        "id": "OH2yYuT5KnLs",
        "outputId": "fa7f264d-b509-4b6e-e706-84f7d3d0365f",
        "colab": {
          "base_uri": "https://localhost:8080/"
        }
      },
      "execution_count": 10,
      "outputs": [
        {
          "output_type": "stream",
          "name": "stdout",
          "text": [
            "torch.Size([5, 1])\n",
            "tensor([[-3.],\n",
            "        [-1.],\n",
            "        [ 1.],\n",
            "        [ 3.],\n",
            "        [ 5.]])\n"
          ]
        }
      ]
    },
    {
      "cell_type": "code",
      "source": [
        "#2入力１出力(重回帰のパターン)\n",
        "l2 = nn.Linear(2, 1)\n",
        "\n",
        "#初期値設定\n",
        "nn.init.constant_(l2.weight, 1.0)\n",
        "nn.init.constant_(l2.bias, 2.0)\n",
        "\n",
        "#結果確認\n",
        "print(l2.weight)\n",
        "print(l2.bias)"
      ],
      "metadata": {
        "id": "yP34plpbKyuH",
        "colab": {
          "base_uri": "https://localhost:8080/"
        },
        "outputId": "88d466c6-ab20-4eca-9f97-7edc831845b3"
      },
      "execution_count": 11,
      "outputs": [
        {
          "output_type": "stream",
          "name": "stdout",
          "text": [
            "Parameter containing:\n",
            "tensor([[1., 1.]], requires_grad=True)\n",
            "Parameter containing:\n",
            "tensor([2.], requires_grad=True)\n"
          ]
        }
      ]
    },
    {
      "cell_type": "code",
      "source": [
        "x2_np = np.array([[0, 0],[0, 1],[1, 0],[1, 1]])\n",
        "\n",
        "x2 = torch.tensor(x2_np).float()\n",
        "\n",
        "#結果確認\n",
        "print(x2.shape)\n",
        "print(x2)"
      ],
      "metadata": {
        "colab": {
          "base_uri": "https://localhost:8080/"
        },
        "id": "vJwRSxs4ZDPW",
        "outputId": "19e7d268-fc7c-485a-e29a-bbd7bcef67fb"
      },
      "execution_count": 12,
      "outputs": [
        {
          "output_type": "stream",
          "name": "stdout",
          "text": [
            "torch.Size([4, 2])\n",
            "tensor([[0., 0.],\n",
            "        [0., 1.],\n",
            "        [1., 0.],\n",
            "        [1., 1.]])\n"
          ]
        }
      ]
    },
    {
      "cell_type": "code",
      "source": [
        "y2 = l2(x2)\n",
        "\n",
        "print(y2.shape)\n",
        "\n",
        "print(y2.data)"
      ],
      "metadata": {
        "colab": {
          "base_uri": "https://localhost:8080/"
        },
        "id": "3wmfkAr6ZdLa",
        "outputId": "3a644214-c0a6-4b75-f43c-9fc8114dc43b"
      },
      "execution_count": 13,
      "outputs": [
        {
          "output_type": "stream",
          "name": "stdout",
          "text": [
            "torch.Size([4, 1])\n",
            "tensor([[2.],\n",
            "        [3.],\n",
            "        [3.],\n",
            "        [4.]])\n"
          ]
        }
      ]
    },
    {
      "cell_type": "code",
      "source": [
        "#2入力３出力\n",
        "l3 = nn.Linear(2,3)\n",
        "\n",
        "nn.init.constant_(l3.weight[0,:], 1.0)\n",
        "nn.init.constant_(l3.weight[1,:], 2.0)\n",
        "nn.init.constant_(l3.weight[2,:], 3.0)\n",
        "nn.init.constant_(l3.bias, 2.0)\n",
        "\n",
        "print(l3.weight)\n",
        "print(l3.bias)"
      ],
      "metadata": {
        "colab": {
          "base_uri": "https://localhost:8080/"
        },
        "id": "IaipF35DZtnu",
        "outputId": "08b4a210-b7b1-47a9-b930-91cbbe8d907b"
      },
      "execution_count": 14,
      "outputs": [
        {
          "output_type": "stream",
          "name": "stdout",
          "text": [
            "Parameter containing:\n",
            "tensor([[1., 1.],\n",
            "        [2., 2.],\n",
            "        [3., 3.]], requires_grad=True)\n",
            "Parameter containing:\n",
            "tensor([2., 2., 2.], requires_grad=True)\n"
          ]
        }
      ]
    },
    {
      "cell_type": "code",
      "source": [
        "y3 = l3(x2)\n",
        "\n",
        "print(y3.shape)\n",
        "\n",
        "print(y3.data)"
      ],
      "metadata": {
        "id": "Zg3usY_jaPi1",
        "outputId": "3884c406-cd20-4785-8ea0-20dfd476b7ab",
        "colab": {
          "base_uri": "https://localhost:8080/"
        }
      },
      "execution_count": 15,
      "outputs": [
        {
          "output_type": "stream",
          "name": "stdout",
          "text": [
            "torch.Size([4, 3])\n",
            "tensor([[2., 2., 2.],\n",
            "        [3., 4., 5.],\n",
            "        [3., 4., 5.],\n",
            "        [4., 6., 8.]])\n"
          ]
        }
      ]
    },
    {
      "cell_type": "code",
      "source": [
        "#カスタムクラスを利用したモデル定義\n",
        "\n",
        "class Net(nn.Module):\n",
        "  def __init__(self, n_input, n_output):\n",
        "    #親クラスnn.Modulesの初期化呼び出し\n",
        "    super().__init__()\n",
        "\n",
        "    #出力層定義\n",
        "    self.l1 = nn.Linear(n_input, n_output)\n",
        "\n",
        "  def forward(self, x):\n",
        "    x1 = self.l1(x)\n",
        "    return x1"
      ],
      "metadata": {
        "id": "kzE5ZsZ_adff"
      },
      "execution_count": 16,
      "outputs": []
    },
    {
      "cell_type": "code",
      "source": [
        "#ダミー入力\n",
        "inputs = torch.ones(100, 1)\n",
        "\n",
        "n_input = 1\n",
        "n_output = 1\n",
        "net = Net(n_input, n_output)\n",
        "\n",
        "outputs = net(inputs)"
      ],
      "metadata": {
        "id": "0TttHBQ1WYwX"
      },
      "execution_count": 17,
      "outputs": []
    },
    {
      "cell_type": "markdown",
      "source": [
        "各実習で利用する損失関数\n",
        "--------------------------------\n",
        "\n",
        "MSELoss -> 平均２乗誤差\n",
        "\n",
        "BCELoss -> 2値分類用交差エントロピー関数\n",
        "\n",
        "CrossEntropyLoss -> 多値分類用交差エントロピー関数\n",
        "\n",
        "**損失とは「予測関数」と「損失関数」の合成関数**\n"
      ],
      "metadata": {
        "id": "prWodQjPXts3"
      }
    },
    {
      "cell_type": "code",
      "source": [
        "#学習用データの準備\n",
        "from sklearn.datasets import load_boston\n",
        "\n",
        "#データ読み込み\n",
        "boston = load_boston()\n",
        "\n",
        "x_org, yt = boston.data, boston.target\n",
        "\n",
        "#項目名リスト取得\n",
        "feature_names = boston.feature_names\n",
        "\n",
        "#結果確認\n",
        "print('元データ', x_org.shape, yt.shape)\n",
        "print('項目名', feature_names)"
      ],
      "metadata": {
        "colab": {
          "base_uri": "https://localhost:8080/"
        },
        "id": "HvvSseKwXK9m",
        "outputId": "51b2f2d2-4c4c-46f9-f77b-b17e62937b73"
      },
      "execution_count": 18,
      "outputs": [
        {
          "output_type": "stream",
          "name": "stdout",
          "text": [
            "元データ (506, 13) (506,)\n",
            "項目名 ['CRIM' 'ZN' 'INDUS' 'CHAS' 'NOX' 'RM' 'AGE' 'DIS' 'RAD' 'TAX' 'PTRATIO'\n",
            " 'B' 'LSTAT']\n"
          ]
        }
      ]
    },
    {
      "cell_type": "code",
      "source": [
        "#データの絞り込み（RMのみ）\n",
        "x = x_org[:,feature_names == 'RM']\n",
        "print('絞り込み後', x.shape)\n",
        "print(x[:5,:])\n",
        "\n",
        "#正解データyの表示\n",
        "print('正解データ')\n",
        "print(yt[:5])"
      ],
      "metadata": {
        "colab": {
          "base_uri": "https://localhost:8080/"
        },
        "id": "Smnnp5Y5aquV",
        "outputId": "7623bccc-8ced-4436-a46b-75fb73a12f31"
      },
      "execution_count": 19,
      "outputs": [
        {
          "output_type": "stream",
          "name": "stdout",
          "text": [
            "絞り込み後 (506, 1)\n",
            "[[6.575]\n",
            " [6.421]\n",
            " [7.185]\n",
            " [6.998]\n",
            " [7.147]]\n",
            "正解データ\n",
            "[24.  21.6 34.7 33.4 36.2]\n"
          ]
        }
      ]
    },
    {
      "cell_type": "code",
      "source": [
        "#散布図の表示\n",
        "plt.scatter(x, yt, s=10, c='b')\n",
        "plt.xlabel('部屋数')\n",
        "plt.ylabel('価格')\n",
        "plt.xlabel('部屋数と価格の散布図')\n",
        "plt.show()"
      ],
      "metadata": {
        "colab": {
          "base_uri": "https://localhost:8080/",
          "height": 394
        },
        "id": "7jzqnqbLbIeq",
        "outputId": "adac982e-a0c3-4b2e-b3f3-a2c6b49013f8"
      },
      "execution_count": 20,
      "outputs": [
        {
          "output_type": "display_data",
          "data": {
            "text/plain": [
              "<Figure size 432x432 with 1 Axes>"
            ],
            "image/png": "[encoded data removed]"
          },
          "metadata": {
            "needs_background": "light"
          }
        }
      ]
    },
    {
      "cell_type": "code",
      "source": [
        "#モデル定義\n",
        "n_input = x.shape[1]\n",
        "n_output = 1\n",
        "\n",
        "print(f'入力次元数: {n_input}  出力次元数: {n_output}')"
      ],
      "metadata": {
        "colab": {
          "base_uri": "https://localhost:8080/"
        },
        "id": "SpNhqv06beBt",
        "outputId": "6df0ef41-41a8-4b0d-fabe-1ebed506dea7"
      },
      "execution_count": 21,
      "outputs": [
        {
          "output_type": "stream",
          "name": "stdout",
          "text": [
            "入力次元数: 1  出力次元数: 1\n"
          ]
        }
      ]
    },
    {
      "cell_type": "code",
      "source": [
        "#機械学習モデル（予測モデル）クラス定義\n",
        "class Net(nn.Module):\n",
        "  def __init__(self, n_input, n_output):\n",
        "    super().__init__()\n",
        "    self.l1 = nn.Linear(n_input, n_output)\n",
        "\n",
        "    #初期値を全部１にする（書籍との条件揃えのため）\n",
        "    nn.init.constant_(self.l1.weight, 1.0)\n",
        "    nn.init.constant_(self.l1.bias, 1.0)\n",
        "\n",
        "  def forward(self, x):\n",
        "    x1 = self.l1(x)\n",
        "    return x1"
      ],
      "metadata": {
        "id": "ua_8FJNFbuP8"
      },
      "execution_count": 22,
      "outputs": []
    },
    {
      "cell_type": "code",
      "source": [
        "net = Net(n_input, n_output)"
      ],
      "metadata": {
        "id": "oCsJth5rceKp"
      },
      "execution_count": 23,
      "outputs": []
    },
    {
      "cell_type": "code",
      "source": [
        "for parameter in net.named_parameters():\n",
        "    print(f'変数名: {parameter[0]}')\n",
        "    print(f'変数値: {parameter[1].data}')"
      ],
      "metadata": {
        "colab": {
          "base_uri": "https://localhost:8080/"
        },
        "id": "lQDPD7bzclAf",
        "outputId": "ff1cec89-eaf7-4ffd-b8db-f27d6cff85bc"
      },
      "execution_count": 24,
      "outputs": [
        {
          "output_type": "stream",
          "name": "stdout",
          "text": [
            "変数名: l1.weight\n",
            "変数値: tensor([[1.]])\n",
            "変数名: l1.bias\n",
            "変数値: tensor([1.])\n"
          ]
        }
      ]
    },
    {
      "cell_type": "code",
      "source": [
        "for parameter in net.parameters():\n",
        "    print(parameter)"
      ],
      "metadata": {
        "colab": {
          "base_uri": "https://localhost:8080/"
        },
        "id": "o4zZ0hGacpaX",
        "outputId": "bf7f3788-d0f6-4936-c0c5-d49d5bd1f821"
      },
      "execution_count": 25,
      "outputs": [
        {
          "output_type": "stream",
          "name": "stdout",
          "text": [
            "Parameter containing:\n",
            "tensor([[1.]], requires_grad=True)\n",
            "Parameter containing:\n",
            "tensor([1.], requires_grad=True)\n"
          ]
        }
      ]
    },
    {
      "cell_type": "code",
      "source": [
        "#損失関数と最適化関数\n",
        "#損失:平均２乗誤差\n",
        "criterion = nn.MSELoss()\n",
        "\n",
        "lr = 0.01\n",
        "\n",
        "optimizer = optim.SGD(net.parameters(), lr=lr)"
      ],
      "metadata": {
        "id": "Wb9s325vcr6b"
      },
      "execution_count": 26,
      "outputs": []
    },
    {
      "cell_type": "code",
      "source": [
        "# 勾配降下法\n",
        "# 繰り返し計算により最適なパラメータ値を見つけるためのアルゴリズム\n",
        "inputs = torch.tensor(x).float()\n",
        "labels = torch.tensor(yt).float()\n",
        "\n",
        "print(inputs.shape)\n",
        "print(labels.shape)"
      ],
      "metadata": {
        "colab": {
          "base_uri": "https://localhost:8080/"
        },
        "id": "mvKO-4VYdL95",
        "outputId": "9d360712-4c6b-422b-9ffa-f7b56b1840d4"
      },
      "execution_count": 27,
      "outputs": [
        {
          "output_type": "stream",
          "name": "stdout",
          "text": [
            "torch.Size([506, 1])\n",
            "torch.Size([506])\n"
          ]
        }
      ]
    },
    {
      "cell_type": "code",
      "source": [
        "#損失計算用にlabels変数を(N,1)次元の行列に変換する\n",
        "labels1 = labels.view((-1,1))\n",
        "\n",
        "print(labels1.shape)"
      ],
      "metadata": {
        "colab": {
          "base_uri": "https://localhost:8080/"
        },
        "id": "v8LpwvW-dsfs",
        "outputId": "6f1bba9b-95c2-404f-c3c6-9c4d87d6b957"
      },
      "execution_count": 28,
      "outputs": [
        {
          "output_type": "stream",
          "name": "stdout",
          "text": [
            "torch.Size([506, 1])\n"
          ]
        }
      ]
    },
    {
      "cell_type": "code",
      "source": [
        "# 予測計算\n",
        "outputs = net(inputs)"
      ],
      "metadata": {
        "id": "CdsA3BHieNwW"
      },
      "execution_count": 29,
      "outputs": []
    },
    {
      "cell_type": "code",
      "source": [
        "# 損失計算(outputsとlabels1を引数に呼び出す)\n",
        "loss = criterion(outputs, labels1)\n",
        "\n",
        "#　損失値の取得\n",
        "print(f'{loss.item():.5f}')"
      ],
      "metadata": {
        "colab": {
          "base_uri": "https://localhost:8080/"
        },
        "id": "kdfbx8qxeDWq",
        "outputId": "d37d7cec-9cf4-4133-decc-7fca28421c63"
      },
      "execution_count": 30,
      "outputs": [
        {
          "output_type": "stream",
          "name": "stdout",
          "text": [
            "308.44986\n"
          ]
        }
      ]
    },
    {
      "cell_type": "code",
      "source": [
        "g = make_dot(loss, params=dict(net.named_parameters()))\n",
        "display(g)"
      ],
      "metadata": {
        "colab": {
          "base_uri": "https://localhost:8080/",
          "height": 468
        },
        "id": "w_yh9UK9ekuZ",
        "outputId": "0398dbfb-b571-4f0a-b22e-959ac7e0a0ad"
      },
      "execution_count": 31,
      "outputs": [
        {
          "output_type": "display_data",
          "data": {
            "text/plain": [
              "<graphviz.dot.Digraph at 0x7f15666e6a50>"
            ],
            "image/svg+xml": "<?xml version=\"1.0\" encoding=\"UTF-8\" standalone=\"no\"?>\n<!DOCTYPE svg PUBLIC \"-//W3C//DTD SVG 1.1//EN\"\n \"http://www.w3.org/Graphics/SVG/1.1/DTD/svg11.dtd\">\n<!-- Generated by graphviz version 2.40.1 (20161225.0304)\n -->\n<!-- Title: %3 Pages: 1 -->\n<svg width=\"216pt\" height=\"336pt\"\n viewBox=\"0.00 0.00 216.00 336.00\" xmlns=\"http://www.w3.org/2000/svg\" xmlns:xlink=\"http://www.w3.org/1999/xlink\">\n<g id=\"graph0\" class=\"graph\" transform=\"scale(1 1) rotate(0) translate(4 332)\">\n<title>%3</title>\n<polygon fill=\"#ffffff\" stroke=\"transparent\" points=\"-4,4 -4,-332 212,-332 212,4 -4,4\"/>\n<!-- 139729894438576 -->\n<g id=\"node1\" class=\"node\">\n<title>139729894438576</title>\n<polygon fill=\"#caff70\" stroke=\"#000000\" points=\"130.5,-31 76.5,-31 76.5,0 130.5,0 130.5,-31\"/>\n<text text-anchor=\"middle\" x=\"103.5\" y=\"-7\" font-family=\"monospace\" font-size=\"10.00\" fill=\"#000000\"> ()</text>\n</g>\n<!-- 139729889551760 -->\n<g id=\"node2\" class=\"node\">\n<title>139729889551760</title>\n<polygon fill=\"#d3d3d3\" stroke=\"#000000\" points=\"160,-86 47,-86 47,-67 160,-67 160,-86\"/>\n<text text-anchor=\"middle\" x=\"103.5\" y=\"-74\" font-family=\"monospace\" font-size=\"10.00\" fill=\"#000000\">MseLossBackward0</text>\n</g>\n<!-- 139729889551760&#45;&gt;139729894438576 -->\n<g id=\"edge7\" class=\"edge\">\n<title>139729889551760&#45;&gt;139729894438576</title>\n<path fill=\"none\" stroke=\"#000000\" d=\"M103.5,-66.9688C103.5,-60.1289 103.5,-50.5621 103.5,-41.5298\"/>\n<polygon fill=\"#000000\" stroke=\"#000000\" points=\"107.0001,-41.3678 103.5,-31.3678 100.0001,-41.3678 107.0001,-41.3678\"/>\n</g>\n<!-- 139729889551696 -->\n<g id=\"node3\" class=\"node\">\n<title>139729889551696</title>\n<polygon fill=\"#d3d3d3\" stroke=\"#000000\" points=\"154,-141 53,-141 53,-122 154,-122 154,-141\"/>\n<text text-anchor=\"middle\" x=\"103.5\" y=\"-129\" font-family=\"monospace\" font-size=\"10.00\" fill=\"#000000\">AddmmBackward0</text>\n</g>\n<!-- 139729889551696&#45;&gt;139729889551760 -->\n<g id=\"edge1\" class=\"edge\">\n<title>139729889551696&#45;&gt;139729889551760</title>\n<path fill=\"none\" stroke=\"#000000\" d=\"M103.5,-121.9197C103.5,-114.9083 103.5,-105.1442 103.5,-96.4652\"/>\n<polygon fill=\"#000000\" stroke=\"#000000\" points=\"107.0001,-96.3408 103.5,-86.3408 100.0001,-96.3409 107.0001,-96.3408\"/>\n</g>\n<!-- 139729889554128 -->\n<g id=\"node4\" class=\"node\">\n<title>139729889554128</title>\n<polygon fill=\"#d3d3d3\" stroke=\"#000000\" points=\"101,-196 0,-196 0,-177 101,-177 101,-196\"/>\n<text text-anchor=\"middle\" x=\"50.5\" y=\"-184\" font-family=\"monospace\" font-size=\"10.00\" fill=\"#000000\">AccumulateGrad</text>\n</g>\n<!-- 139729889554128&#45;&gt;139729889551696 -->\n<g id=\"edge2\" class=\"edge\">\n<title>139729889554128&#45;&gt;139729889551696</title>\n<path fill=\"none\" stroke=\"#000000\" d=\"M59.7319,-176.9197C67.2391,-169.1293 78.021,-157.9405 87.0049,-148.6176\"/>\n<polygon fill=\"#000000\" stroke=\"#000000\" points=\"89.5983,-150.9703 94.017,-141.3408 84.5578,-146.113 89.5983,-150.9703\"/>\n</g>\n<!-- 139729894570416 -->\n<g id=\"node5\" class=\"node\">\n<title>139729894570416</title>\n<polygon fill=\"#add8e6\" stroke=\"#000000\" points=\"80,-262 21,-262 21,-232 80,-232 80,-262\"/>\n<text text-anchor=\"middle\" x=\"50.5\" y=\"-250\" font-family=\"monospace\" font-size=\"10.00\" fill=\"#000000\">l1.bias</text>\n<text text-anchor=\"middle\" x=\"50.5\" y=\"-239\" font-family=\"monospace\" font-size=\"10.00\" fill=\"#000000\"> (1)</text>\n</g>\n<!-- 139729894570416&#45;&gt;139729889554128 -->\n<g id=\"edge3\" class=\"edge\">\n<title>139729894570416&#45;&gt;139729889554128</title>\n<path fill=\"none\" stroke=\"#000000\" d=\"M50.5,-231.7333C50.5,-224.0322 50.5,-214.5977 50.5,-206.3414\"/>\n<polygon fill=\"#000000\" stroke=\"#000000\" points=\"54.0001,-206.0864 50.5,-196.0864 47.0001,-206.0864 54.0001,-206.0864\"/>\n</g>\n<!-- 139729889554384 -->\n<g id=\"node6\" class=\"node\">\n<title>139729889554384</title>\n<polygon fill=\"#d3d3d3\" stroke=\"#000000\" points=\"196,-196 119,-196 119,-177 196,-177 196,-196\"/>\n<text text-anchor=\"middle\" x=\"157.5\" y=\"-184\" font-family=\"monospace\" font-size=\"10.00\" fill=\"#000000\">TBackward0</text>\n</g>\n<!-- 139729889554384&#45;&gt;139729889551696 -->\n<g id=\"edge4\" class=\"edge\">\n<title>139729889554384&#45;&gt;139729889551696</title>\n<path fill=\"none\" stroke=\"#000000\" d=\"M148.0939,-176.9197C140.4451,-169.1293 129.4597,-157.9405 120.3064,-148.6176\"/>\n<polygon fill=\"#000000\" stroke=\"#000000\" points=\"122.6653,-146.0244 113.1619,-141.3408 117.6704,-150.9286 122.6653,-146.0244\"/>\n</g>\n<!-- 139729889552720 -->\n<g id=\"node7\" class=\"node\">\n<title>139729889552720</title>\n<polygon fill=\"#d3d3d3\" stroke=\"#000000\" points=\"208,-256.5 107,-256.5 107,-237.5 208,-237.5 208,-256.5\"/>\n<text text-anchor=\"middle\" x=\"157.5\" y=\"-244.5\" font-family=\"monospace\" font-size=\"10.00\" fill=\"#000000\">AccumulateGrad</text>\n</g>\n<!-- 139729889552720&#45;&gt;139729889554384 -->\n<g id=\"edge5\" class=\"edge\">\n<title>139729889552720&#45;&gt;139729889554384</title>\n<path fill=\"none\" stroke=\"#000000\" d=\"M157.5,-237.2796C157.5,-229.0376 157.5,-216.9457 157.5,-206.629\"/>\n<polygon fill=\"#000000\" stroke=\"#000000\" points=\"161.0001,-206.3972 157.5,-196.3972 154.0001,-206.3973 161.0001,-206.3972\"/>\n</g>\n<!-- 139729894570320 -->\n<g id=\"node8\" class=\"node\">\n<title>139729894570320</title>\n<polygon fill=\"#add8e6\" stroke=\"#000000\" points=\"193,-328 122,-328 122,-298 193,-298 193,-328\"/>\n<text text-anchor=\"middle\" x=\"157.5\" y=\"-316\" font-family=\"monospace\" font-size=\"10.00\" fill=\"#000000\">l1.weight</text>\n<text text-anchor=\"middle\" x=\"157.5\" y=\"-305\" font-family=\"monospace\" font-size=\"10.00\" fill=\"#000000\"> (1, 1)</text>\n</g>\n<!-- 139729894570320&#45;&gt;139729889552720 -->\n<g id=\"edge6\" class=\"edge\">\n<title>139729894570320&#45;&gt;139729889552720</title>\n<path fill=\"none\" stroke=\"#000000\" d=\"M157.5,-297.6924C157.5,-288.5067 157.5,-276.7245 157.5,-266.8312\"/>\n<polygon fill=\"#000000\" stroke=\"#000000\" points=\"161.0001,-266.703 157.5,-256.7031 154.0001,-266.7031 161.0001,-266.703\"/>\n</g>\n</g>\n</svg>\n"
          },
          "metadata": {}
        }
      ]
    },
    {
      "cell_type": "code",
      "source": [
        "#　勾配計算（backward関数を呼び出すだけ）\n",
        "outputs = net(inputs)\n",
        "\n",
        "loss = criterion(outputs, labels1)\n",
        "loss.backward()\n",
        "print(net.l1.weight.grad)\n",
        "print(net.l1.bias.grad)"
      ],
      "metadata": {
        "colab": {
          "base_uri": "https://localhost:8080/"
        },
        "id": "RUuWRLwVeqwQ",
        "outputId": "2b02b051-6eb9-4b71-9db7-d5f581566363"
      },
      "execution_count": 32,
      "outputs": [
        {
          "output_type": "stream",
          "name": "stdout",
          "text": [
            "tensor([[-199.6421]])\n",
            "tensor([-30.4963])\n"
          ]
        }
      ]
    },
    {
      "cell_type": "code",
      "source": [
        "#パラメータ修正\n",
        "optimizer.step()\n",
        "\n",
        "print(net.l1.weight)\n",
        "print(net.l1.bias)"
      ],
      "metadata": {
        "id": "C3ylpMAda0-3",
        "outputId": "ab0c41d5-5402-4a38-abb4-0f9fff916fae",
        "colab": {
          "base_uri": "https://localhost:8080/"
        }
      },
      "execution_count": 33,
      "outputs": [
        {
          "output_type": "stream",
          "name": "stdout",
          "text": [
            "Parameter containing:\n",
            "tensor([[2.9964]], requires_grad=True)\n",
            "Parameter containing:\n",
            "tensor([1.3050], requires_grad=True)\n"
          ]
        }
      ]
    },
    {
      "cell_type": "code",
      "source": [
        "#勾配値の初期化\n",
        "optimizer.zero_grad()\n",
        "\n",
        "print(net.l1.weight.grad)\n",
        "print(net.l1.bias.grad)"
      ],
      "metadata": {
        "id": "HneggLlFa_OD",
        "outputId": "8555fcdd-923e-409e-b769-651abab2e1db",
        "colab": {
          "base_uri": "https://localhost:8080/"
        }
      },
      "execution_count": 34,
      "outputs": [
        {
          "output_type": "stream",
          "name": "stdout",
          "text": [
            "tensor([[0.]])\n",
            "tensor([0.])\n"
          ]
        }
      ]
    },
    {
      "cell_type": "code",
      "source": [
        ""
      ],
      "metadata": {
        "id": "wTy_HV4NbJ1j"
      },
      "execution_count": null,
      "outputs": []
    }
  ]
}