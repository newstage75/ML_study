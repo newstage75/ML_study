{
  "nbformat": 4,
  "nbformat_minor": 0,
  "metadata": {
    "colab": {
      "name": "最短Pytorchの導入.ipynb",
      "provenance": [],
      "authorship_tag": "ABX9TyO1r+E9XDWTK2mr4uP6DpEu",
      "include_colab_link": true
    },
    "kernelspec": {
      "name": "python3",
      "display_name": "Python 3"
    },
    "language_info": {
      "name": "python"
    }
  },
  "cells": [
    {
      "cell_type": "markdown",
      "metadata": {
        "id": "view-in-github",
        "colab_type": "text"
      },
      "source": [
        "<a href=\"https://colab.research.google.com/github/newstage75/ML_study/blob/master/%E6%9C%80%E7%9F%ADPytorch/%EF%BC%95%E7%AB%A0%E7%B7%9A%E5%BD%A2%E5%9B%9E%E5%B8%B0.ipynb\" target=\"_parent\"><img src=\"https://colab.research.google.com/assets/colab-badge.svg\" alt=\"Open In Colab\"/></a>"
      ]
    },
    {
      "cell_type": "markdown",
      "source": [
        "#5章線形回帰"
      ],
      "metadata": {
        "id": "CEgOOTrGJU31"
      }
    },
    {
      "cell_type": "code",
      "execution_count": 1,
      "metadata": {
        "colab": {
          "base_uri": "https://localhost:8080/"
        },
        "id": "48AexnpDJAMO",
        "outputId": "03b408d8-30f7-4b42-ece4-be8f809100fe"
      },
      "outputs": [
        {
          "output_type": "stream",
          "name": "stdout",
          "text": [
            "Successfully installed japanize-matplotlib-1.1.3\n",
            "Successfully installed torchviz-0.0.2\n",
            "Successfully installed torchinfo-1.6.6\n"
          ]
        }
      ],
      "source": [
        "# 必要ライブラリの導入\n",
        "\n",
        "!pip install japanize_matplotlib | tail -n 1\n",
        "!pip install torchviz | tail -n 1\n",
        "!pip install torchinfo | tail -n 1"
      ]
    },
    {
      "cell_type": "code",
      "source": [
        "# 必要ライブラリのインポート\n",
        "\n",
        "%matplotlib inline\n",
        "import numpy as np\n",
        "import matplotlib.pyplot as plt\n",
        "import japanize_matplotlib"
      ],
      "metadata": {
        "id": "ghCJoyn3JbCd"
      },
      "execution_count": 2,
      "outputs": []
    },
    {
      "cell_type": "code",
      "source": [
        "# PyTorch関連ライブラリ\n",
        "import torch\n",
        "import torch.nn as nn\n",
        "import torch.optim as optim\n",
        "from torchviz import make_dot"
      ],
      "metadata": {
        "id": "wJKfNpszLiia"
      },
      "execution_count": 3,
      "outputs": []
    },
    {
      "cell_type": "code",
      "source": [
        "# warning表示off\n",
        "import warnings\n",
        "warnings.simplefilter('ignore')\n",
        "\n",
        "# デフォルトフォントサイズ変更\n",
        "plt.rcParams['font.size'] = 14\n",
        "\n",
        "# デフォルトグラフサイズ変更\n",
        "plt.rcParams['figure.figsize'] = (6,6)\n",
        "\n",
        "# デフォルトで方眼表示ON\n",
        "plt.rcParams['axes.grid'] = True\n",
        "\n",
        "# numpyの表示桁数設定\n",
        "np.set_printoptions(suppress=True, precision=4)"
      ],
      "metadata": {
        "id": "TTSBA8aYJeL0"
      },
      "execution_count": 4,
      "outputs": []
    },
    {
      "cell_type": "code",
      "source": [
        "#5.3線形関数（nn.Linear）\n",
        "torch.manual_seed(123)\n",
        "\n",
        "l1 = nn.Linear(1, 1)\n",
        "\n",
        "print(l1)"
      ],
      "metadata": {
        "id": "cLpXRBDWILtp",
        "outputId": "7f16e622-ae94-4792-8464-70ad195b9ec6",
        "colab": {
          "base_uri": "https://localhost:8080/"
        }
      },
      "execution_count": 5,
      "outputs": [
        {
          "output_type": "stream",
          "name": "stdout",
          "text": [
            "Linear(in_features=1, out_features=1, bias=True)\n"
          ]
        }
      ]
    },
    {
      "cell_type": "code",
      "source": [
        "#named_parametersという関数を呼びだすと、（パラメータ名、パラメータ参照）のリストを返す\n",
        "#パラメータ名、パラメータ値、shapeの表示\n",
        "\n",
        "for param in l1.named_parameters():\n",
        "  print('name: ', param[0])\n",
        "  print('tensor: ', param[1])\n",
        "  print('shape: ', param[1].shape)"
      ],
      "metadata": {
        "id": "XsHXGqIhIcIm",
        "outputId": "d212dbf8-1aaf-43f4-84b3-d7b0432c7393",
        "colab": {
          "base_uri": "https://localhost:8080/"
        }
      },
      "execution_count": 6,
      "outputs": [
        {
          "output_type": "stream",
          "name": "stdout",
          "text": [
            "name:  weight\n",
            "tensor:  Parameter containing:\n",
            "tensor([[-0.4078]], requires_grad=True)\n",
            "shape:  torch.Size([1, 1])\n",
            "name:  bias\n",
            "tensor:  Parameter containing:\n",
            "tensor([0.0331], requires_grad=True)\n",
            "shape:  torch.Size([1])\n"
          ]
        }
      ]
    },
    {
      "cell_type": "code",
      "source": [
        "#初期値設定\n",
        "nn.init.constant_(l1.weight, 2.0)\n",
        "nn.init.constant_(l1.bias, 1.0)\n",
        "\n",
        "#結果確認\n",
        "print(l1.weight)\n",
        "print(l1.bias)"
      ],
      "metadata": {
        "id": "bccOI2meJFCA",
        "outputId": "26f78aa8-291d-414b-c1cc-2b7b9d42ac9a",
        "colab": {
          "base_uri": "https://localhost:8080/"
        }
      },
      "execution_count": 7,
      "outputs": [
        {
          "output_type": "stream",
          "name": "stdout",
          "text": [
            "Parameter containing:\n",
            "tensor([[2.]], requires_grad=True)\n",
            "Parameter containing:\n",
            "tensor([1.], requires_grad=True)\n"
          ]
        }
      ]
    },
    {
      "cell_type": "code",
      "source": [
        "#再度パラメータ表示の確認テスト\n",
        "for param in l1.named_parameters():\n",
        "  print('name: ', param[0])\n",
        "  print('tensor: ', param[1])\n",
        "  print('shape: ', param[1].shape)"
      ],
      "metadata": {
        "id": "Gs2mOsN1J29f",
        "outputId": "71e9539f-a951-44d0-fb07-3839e82e2122",
        "colab": {
          "base_uri": "https://localhost:8080/"
        }
      },
      "execution_count": 8,
      "outputs": [
        {
          "output_type": "stream",
          "name": "stdout",
          "text": [
            "name:  weight\n",
            "tensor:  Parameter containing:\n",
            "tensor([[2.]], requires_grad=True)\n",
            "shape:  torch.Size([1, 1])\n",
            "name:  bias\n",
            "tensor:  Parameter containing:\n",
            "tensor([1.], requires_grad=True)\n",
            "shape:  torch.Size([1])\n"
          ]
        }
      ]
    },
    {
      "cell_type": "code",
      "source": [
        "#テスト用ダミーデータをこの関数にかけて１次関数として動作していることを確認\n",
        "x_np = np.arange(-2, 2.1, 1)\n",
        "x = torch.tensor(x_np).float()\n",
        "#サイズを(N,1)に変換\n",
        "x = x.view(-1, 1)\n",
        "\n",
        "print(x.shape)\n",
        "print(x)"
      ],
      "metadata": {
        "id": "Di3i1O2xKDGk",
        "outputId": "6cc0ae3d-7dfd-4b7f-9837-9ef371e0b0bd",
        "colab": {
          "base_uri": "https://localhost:8080/"
        }
      },
      "execution_count": 9,
      "outputs": [
        {
          "output_type": "stream",
          "name": "stdout",
          "text": [
            "torch.Size([5, 1])\n",
            "tensor([[-2.],\n",
            "        [-1.],\n",
            "        [ 0.],\n",
            "        [ 1.],\n",
            "        [ 2.]])\n"
          ]
        }
      ]
    },
    {
      "cell_type": "code",
      "source": [
        "y = l1(x)\n",
        "print(y.shape)\n",
        "print(y.data)"
      ],
      "metadata": {
        "id": "OH2yYuT5KnLs",
        "outputId": "fa7f264d-b509-4b6e-e706-84f7d3d0365f",
        "colab": {
          "base_uri": "https://localhost:8080/"
        }
      },
      "execution_count": 10,
      "outputs": [
        {
          "output_type": "stream",
          "name": "stdout",
          "text": [
            "torch.Size([5, 1])\n",
            "tensor([[-3.],\n",
            "        [-1.],\n",
            "        [ 1.],\n",
            "        [ 3.],\n",
            "        [ 5.]])\n"
          ]
        }
      ]
    },
    {
      "cell_type": "code",
      "source": [
        "#2入力１出力(重回帰のパターン)\n",
        "l2 = nn.Linear(2, 1)\n",
        "\n",
        "#初期値設定\n",
        "nn.init.constant_(l2.weight, 1.0)\n",
        "nn.init.constant_(l2.bias, 2.0)\n",
        "\n",
        "#結果確認\n",
        "print(l2.weight)\n",
        "print(l2.bias)"
      ],
      "metadata": {
        "id": "yP34plpbKyuH",
        "colab": {
          "base_uri": "https://localhost:8080/"
        },
        "outputId": "88d466c6-ab20-4eca-9f97-7edc831845b3"
      },
      "execution_count": 11,
      "outputs": [
        {
          "output_type": "stream",
          "name": "stdout",
          "text": [
            "Parameter containing:\n",
            "tensor([[1., 1.]], requires_grad=True)\n",
            "Parameter containing:\n",
            "tensor([2.], requires_grad=True)\n"
          ]
        }
      ]
    },
    {
      "cell_type": "code",
      "source": [
        "x2_np = np.array([[0, 0],[0, 1],[1, 0],[1, 1]])\n",
        "\n",
        "x2 = torch.tensor(x2_np).float()\n",
        "\n",
        "#結果確認\n",
        "print(x2.shape)\n",
        "print(x2)"
      ],
      "metadata": {
        "colab": {
          "base_uri": "https://localhost:8080/"
        },
        "id": "vJwRSxs4ZDPW",
        "outputId": "19e7d268-fc7c-485a-e29a-bbd7bcef67fb"
      },
      "execution_count": 12,
      "outputs": [
        {
          "output_type": "stream",
          "name": "stdout",
          "text": [
            "torch.Size([4, 2])\n",
            "tensor([[0., 0.],\n",
            "        [0., 1.],\n",
            "        [1., 0.],\n",
            "        [1., 1.]])\n"
          ]
        }
      ]
    },
    {
      "cell_type": "code",
      "source": [
        "y2 = l2(x2)\n",
        "\n",
        "print(y2.shape)\n",
        "\n",
        "print(y2.data)"
      ],
      "metadata": {
        "colab": {
          "base_uri": "https://localhost:8080/"
        },
        "id": "3wmfkAr6ZdLa",
        "outputId": "3a644214-c0a6-4b75-f43c-9fc8114dc43b"
      },
      "execution_count": 13,
      "outputs": [
        {
          "output_type": "stream",
          "name": "stdout",
          "text": [
            "torch.Size([4, 1])\n",
            "tensor([[2.],\n",
            "        [3.],\n",
            "        [3.],\n",
            "        [4.]])\n"
          ]
        }
      ]
    },
    {
      "cell_type": "code",
      "source": [
        "#2入力３出力\n",
        "l3 = nn.Linear(2,3)\n",
        "\n",
        "nn.init.constant_(l3.weight[0,:], 1.0)\n",
        "nn.init.constant_(l3.weight[1,:], 2.0)\n",
        "nn.init.constant_(l3.weight[2,:], 3.0)\n",
        "nn.init.constant_(l3.bias, 2.0)\n",
        "\n",
        "print(l3.weight)\n",
        "print(l3.bias)"
      ],
      "metadata": {
        "colab": {
          "base_uri": "https://localhost:8080/"
        },
        "id": "IaipF35DZtnu",
        "outputId": "08b4a210-b7b1-47a9-b930-91cbbe8d907b"
      },
      "execution_count": 14,
      "outputs": [
        {
          "output_type": "stream",
          "name": "stdout",
          "text": [
            "Parameter containing:\n",
            "tensor([[1., 1.],\n",
            "        [2., 2.],\n",
            "        [3., 3.]], requires_grad=True)\n",
            "Parameter containing:\n",
            "tensor([2., 2., 2.], requires_grad=True)\n"
          ]
        }
      ]
    },
    {
      "cell_type": "code",
      "source": [
        "y3 = l3(x2)\n",
        "\n",
        "print(y3.shape)\n",
        "\n",
        "print(y3.data)"
      ],
      "metadata": {
        "id": "Zg3usY_jaPi1",
        "outputId": "3884c406-cd20-4785-8ea0-20dfd476b7ab",
        "colab": {
          "base_uri": "https://localhost:8080/"
        }
      },
      "execution_count": 15,
      "outputs": [
        {
          "output_type": "stream",
          "name": "stdout",
          "text": [
            "torch.Size([4, 3])\n",
            "tensor([[2., 2., 2.],\n",
            "        [3., 4., 5.],\n",
            "        [3., 4., 5.],\n",
            "        [4., 6., 8.]])\n"
          ]
        }
      ]
    },
    {
      "cell_type": "code",
      "source": [
        "#カスタムクラスを利用したモデル定義\n",
        "\n",
        "class Net(nn.Module):\n",
        "  def __init__(self, n_input, n_output):\n",
        "    #親クラスnn.Modulesの初期化呼び出し\n",
        "    super().__init__()\n",
        "\n",
        "    #出力層定義\n",
        "    self.l1 = nn.Linear(n_input, n_output)\n",
        "\n",
        "  def forward(self, x):\n",
        "    x1 = self.l1(x)\n",
        "    return x1"
      ],
      "metadata": {
        "id": "kzE5ZsZ_adff"
      },
      "execution_count": 16,
      "outputs": []
    },
    {
      "cell_type": "code",
      "source": [
        "#ダミー入力\n",
        "inputs = torch.ones(100, 1)\n",
        "\n",
        "n_input = 1\n",
        "n_output = 1\n",
        "net = Net(n_input, n_output)\n",
        "\n",
        "outputs = net(inputs)"
      ],
      "metadata": {
        "id": "0TttHBQ1WYwX"
      },
      "execution_count": 17,
      "outputs": []
    },
    {
      "cell_type": "markdown",
      "source": [
        "各実習で利用する損失関数\n",
        "--------------------------------\n",
        "\n",
        "MSELoss -> 平均２乗誤差\n",
        "\n",
        "BCELoss -> 2値分類用交差エントロピー関数\n",
        "\n",
        "CrossEntropyLoss -> 多値分類用交差エントロピー関数\n",
        "\n",
        "**損失とは「予測関数」と「損失関数」の合成関数**\n"
      ],
      "metadata": {
        "id": "prWodQjPXts3"
      }
    },
    {
      "cell_type": "code",
      "source": [
        "#学習用データの準備\n",
        "from sklearn.datasets import load_boston\n",
        "\n",
        "#データ読み込み\n",
        "boston = load_boston()\n",
        "\n",
        "x_org, yt = boston.data, boston.target\n",
        "\n",
        "#項目名リスト取得\n",
        "feature_names = boston.feature_names\n",
        "\n",
        "#結果確認\n",
        "print('元データ', x_org.shape, yt.shape)\n",
        "print('項目名', feature_names)"
      ],
      "metadata": {
        "colab": {
          "base_uri": "https://localhost:8080/"
        },
        "id": "HvvSseKwXK9m",
        "outputId": "51b2f2d2-4c4c-46f9-f77b-b17e62937b73"
      },
      "execution_count": 18,
      "outputs": [
        {
          "output_type": "stream",
          "name": "stdout",
          "text": [
            "元データ (506, 13) (506,)\n",
            "項目名 ['CRIM' 'ZN' 'INDUS' 'CHAS' 'NOX' 'RM' 'AGE' 'DIS' 'RAD' 'TAX' 'PTRATIO'\n",
            " 'B' 'LSTAT']\n"
          ]
        }
      ]
    },
    {
      "cell_type": "code",
      "source": [
        "#データの絞り込み（RMのみ）\n",
        "x = x_org[:,feature_names == 'RM']\n",
        "print('絞り込み後', x.shape)\n",
        "print(x[:5,:])\n",
        "\n",
        "#正解データyの表示\n",
        "print('正解データ')\n",
        "print(yt[:5])"
      ],
      "metadata": {
        "colab": {
          "base_uri": "https://localhost:8080/"
        },
        "id": "Smnnp5Y5aquV",
        "outputId": "7623bccc-8ced-4436-a46b-75fb73a12f31"
      },
      "execution_count": 19,
      "outputs": [
        {
          "output_type": "stream",
          "name": "stdout",
          "text": [
            "絞り込み後 (506, 1)\n",
            "[[6.575]\n",
            " [6.421]\n",
            " [7.185]\n",
            " [6.998]\n",
            " [7.147]]\n",
            "正解データ\n",
            "[24.  21.6 34.7 33.4 36.2]\n"
          ]
        }
      ]
    },
    {
      "cell_type": "code",
      "source": [
        "#散布図の表示\n",
        "plt.scatter(x, yt, s=10, c='b')\n",
        "plt.xlabel('部屋数')\n",
        "plt.ylabel('価格')\n",
        "plt.xlabel('部屋数と価格の散布図')\n",
        "plt.show()"
      ],
      "metadata": {
        "colab": {
          "base_uri": "https://localhost:8080/",
          "height": 394
        },
        "id": "7jzqnqbLbIeq",
        "outputId": "adac982e-a0c3-4b2e-b3f3-a2c6b49013f8"
      },
      "execution_count": 20,
      "outputs": [
        {
          "output_type": "display_data",
          "data": {
            "text/plain": [
              "<Figure size 432x432 with 1 Axes>"
            ],
            "image/png": "[encoded data removed]"
          },
          "metadata": {
            "needs_background": "light"
          }
        }
      ]
    },
    {
      "cell_type": "code",
      "source": [
        "#モデル定義\n",
        "n_input = x.shape[1]\n",
        "n_output = 1\n",
        "\n",
        "print(f'入力次元数: {n_input}  出力次元数: {n_output}')"
      ],
      "metadata": {
        "colab": {
          "base_uri": "https://localhost:8080/"
        },
        "id": "SpNhqv06beBt",
        "outputId": "6df0ef41-41a8-4b0d-fabe-1ebed506dea7"
      },
      "execution_count": 21,
      "outputs": [
        {
          "output_type": "stream",
          "name": "stdout",
          "text": [
            "入力次元数: 1  出力次元数: 1\n"
          ]
        }
      ]
    },
    {
      "cell_type": "code",
      "source": [
        "#機械学習モデル（予測モデル）クラス定義\n",
        "class Net(nn.Module):\n",
        "  def __init__(self, n_input, n_output):\n",
        "    super().__init__()\n",
        "    self.l1 = nn.Linear(n_input, n_output)\n",
        "\n",
        "    #初期値を全部１にする（書籍との条件揃えのため）\n",
        "    nn.init.constant_(self.l1.weight, 1.0)\n",
        "    nn.init.constant_(self.l1.bias, 1.0)\n",
        "\n",
        "  def forward(self, x):\n",
        "    x1 = self.l1(x)\n",
        "    return x1"
      ],
      "metadata": {
        "id": "ua_8FJNFbuP8"
      },
      "execution_count": 22,
      "outputs": []
    },
    {
      "cell_type": "code",
      "source": [
        "net = Net(n_input, n_output)"
      ],
      "metadata": {
        "id": "oCsJth5rceKp"
      },
      "execution_count": 23,
      "outputs": []
    },
    {
      "cell_type": "code",
      "source": [
        "for parameter in net.named_parameters():\n",
        "    print(f'変数名: {parameter[0]}')\n",
        "    print(f'変数値: {parameter[1].data}')"
      ],
      "metadata": {
        "colab": {
          "base_uri": "https://localhost:8080/"
        },
        "id": "lQDPD7bzclAf",
        "outputId": "ff1cec89-eaf7-4ffd-b8db-f27d6cff85bc"
      },
      "execution_count": 24,
      "outputs": [
        {
          "output_type": "stream",
          "name": "stdout",
          "text": [
            "変数名: l1.weight\n",
            "変数値: tensor([[1.]])\n",
            "変数名: l1.bias\n",
            "変数値: tensor([1.])\n"
          ]
        }
      ]
    },
    {
      "cell_type": "code",
      "source": [
        "for parameter in net.parameters():\n",
        "    print(parameter)"
      ],
      "metadata": {
        "colab": {
          "base_uri": "https://localhost:8080/"
        },
        "id": "o4zZ0hGacpaX",
        "outputId": "bf7f3788-d0f6-4936-c0c5-d49d5bd1f821"
      },
      "execution_count": 25,
      "outputs": [
        {
          "output_type": "stream",
          "name": "stdout",
          "text": [
            "Parameter containing:\n",
            "tensor([[1.]], requires_grad=True)\n",
            "Parameter containing:\n",
            "tensor([1.], requires_grad=True)\n"
          ]
        }
      ]
    },
    {
      "cell_type": "code",
      "source": [
        "#損失関数と最適化関数\n",
        "#損失:平均２乗誤差\n",
        "criterion = nn.MSELoss()\n",
        "\n",
        "lr = 0.01\n",
        "\n",
        "optimizer = optim.SGD(net.parameters(), lr=lr)"
      ],
      "metadata": {
        "id": "Wb9s325vcr6b"
      },
      "execution_count": 26,
      "outputs": []
    },
    {
      "cell_type": "code",
      "source": [
        "# 勾配降下法\n",
        "# 繰り返し計算により最適なパラメータ値を見つけるためのアルゴリズム\n",
        "inputs = torch.tensor(x).float()\n",
        "labels = torch.tensor(yt).float()\n",
        "\n",
        "print(inputs.shape)\n",
        "print(labels.shape)"
      ],
      "metadata": {
        "colab": {
          "base_uri": "https://localhost:8080/"
        },
        "id": "mvKO-4VYdL95",
        "outputId": "9d360712-4c6b-422b-9ffa-f7b56b1840d4"
      },
      "execution_count": 27,
      "outputs": [
        {
          "output_type": "stream",
          "name": "stdout",
          "text": [
            "torch.Size([506, 1])\n",
            "torch.Size([506])\n"
          ]
        }
      ]
    },
    {
      "cell_type": "code",
      "source": [
        "#損失計算用にlabels変数を(N,1)次元の行列に変換する\n",
        "labels1 = labels.view((-1,1))\n",
        "\n",
        "print(labels1.shape)"
      ],
      "metadata": {
        "colab": {
          "base_uri": "https://localhost:8080/"
        },
        "id": "v8LpwvW-dsfs",
        "outputId": "6f1bba9b-95c2-404f-c3c6-9c4d87d6b957"
      },
      "execution_count": 28,
      "outputs": [
        {
          "output_type": "stream",
          "name": "stdout",
          "text": [
            "torch.Size([506, 1])\n"
          ]
        }
      ]
    },
    {
      "cell_type": "code",
      "source": [
        "# 予測計算\n",
        "outputs = net(inputs)"
      ],
      "metadata": {
        "id": "CdsA3BHieNwW"
      },
      "execution_count": 29,
      "outputs": []
    },
    {
      "cell_type": "code",
      "source": [
        "# 損失計算(outputsとlabels1を引数に呼び出す)\n",
        "loss = criterion(outputs, labels1)\n",
        "\n",
        "#　損失値の取得\n",
        "print(f'{loss.item():.5f}')"
      ],
      "metadata": {
        "colab": {
          "base_uri": "https://localhost:8080/"
        },
        "id": "kdfbx8qxeDWq",
        "outputId": "d37d7cec-9cf4-4133-decc-7fca28421c63"
      },
      "execution_count": 30,
      "outputs": [
        {
          "output_type": "stream",
          "name": "stdout",
          "text": [
            "308.44986\n"
          ]
        }
      ]
    },
    {
      "cell_type": "code",
      "source": [
        "g = make_dot(loss, params=dict(net.named_parameters()))\n",
        "display(g)"
      ],
      "metadata": {
        "colab": {
          "base_uri": "https://localhost:8080/",
          "height": 468
        },
        "id": "w_yh9UK9ekuZ",
        "outputId": "0398dbfb-b571-4f0a-b22e-959ac7e0a0ad"
      },
      "execution_count": 31,
      "outputs": [
        {
          "output_type": "display_data",
          "data": {
            "text/plain": [
              "<graphviz.dot.Digraph at 0x7f15666e6a50>"
            ],
            "image/svg+xml": "<?xml version=\"1.0\" encoding=\"UTF-8\" standalone=\"no\"?>\n<!DOCTYPE svg PUBLIC \"-//W3C//DTD SVG 1.1//EN\"\n \"http://www.w3.org/Graphics/SVG/1.1/DTD/svg11.dtd\">\n<!-- Generated by graphviz version 2.40.1 (20161225.0304)\n -->\n<!-- Title: %3 Pages: 1 -->\n<svg width=\"216pt\" height=\"336pt\"\n viewBox=\"0.00 0.00 216.00 336.00\" xmlns=\"http://www.w3.org/2000/svg\" xmlns:xlink=\"http://www.w3.org/1999/xlink\">\n<g id=\"graph0\" class=\"graph\" transform=\"scale(1 1) rotate(0) translate(4 332)\">\n<title>%3</title>\n<polygon fill=\"#ffffff\" stroke=\"transparent\" points=\"-4,4 -4,-332 212,-332 212,4 -4,4\"/>\n<!-- 139729894438576 -->\n<g id=\"node1\" class=\"node\">\n<title>139729894438576</title>\n<polygon fill=\"#caff70\" stroke=\"#000000\" points=\"130.5,-31 76.5,-31 76.5,0 130.5,0 130.5,-31\"/>\n<text text-anchor=\"middle\" x=\"103.5\" y=\"-7\" font-family=\"monospace\" font-size=\"10.00\" fill=\"#000000\"> ()</text>\n</g>\n<!-- 139729889551760 -->\n<g id=\"node2\" class=\"node\">\n<title>139729889551760</title>\n<polygon fill=\"#d3d3d3\" stroke=\"#000000\" points=\"160,-86 47,-86 47,-67 160,-67 160,-86\"/>\n<text text-anchor=\"middle\" x=\"103.5\" y=\"-74\" font-family=\"monospace\" font-size=\"10.00\" fill=\"#000000\">MseLossBackward0</text>\n</g>\n<!-- 139729889551760&#45;&gt;139729894438576 -->\n<g id=\"edge7\" class=\"edge\">\n<title>139729889551760&#45;&gt;139729894438576</title>\n<path fill=\"none\" stroke=\"#000000\" d=\"M103.5,-66.9688C103.5,-60.1289 103.5,-50.5621 103.5,-41.5298\"/>\n<polygon fill=\"#000000\" stroke=\"#000000\" points=\"107.0001,-41.3678 103.5,-31.3678 100.0001,-41.3678 107.0001,-41.3678\"/>\n</g>\n<!-- 139729889551696 -->\n<g id=\"node3\" class=\"node\">\n<title>139729889551696</title>\n<polygon fill=\"#d3d3d3\" stroke=\"#000000\" points=\"154,-141 53,-141 53,-122 154,-122 154,-141\"/>\n<text text-anchor=\"middle\" x=\"103.5\" y=\"-129\" font-family=\"monospace\" font-size=\"10.00\" fill=\"#000000\">AddmmBackward0</text>\n</g>\n<!-- 139729889551696&#45;&gt;139729889551760 -->\n<g id=\"edge1\" class=\"edge\">\n<title>139729889551696&#45;&gt;139729889551760</title>\n<path fill=\"none\" stroke=\"#000000\" d=\"M103.5,-121.9197C103.5,-114.9083 103.5,-105.1442 103.5,-96.4652\"/>\n<polygon fill=\"#000000\" stroke=\"#000000\" points=\"107.0001,-96.3408 103.5,-86.3408 100.0001,-96.3409 107.0001,-96.3408\"/>\n</g>\n<!-- 139729889554128 -->\n<g id=\"node4\" class=\"node\">\n<title>139729889554128</title>\n<polygon fill=\"#d3d3d3\" stroke=\"#000000\" points=\"101,-196 0,-196 0,-177 101,-177 101,-196\"/>\n<text text-anchor=\"middle\" x=\"50.5\" y=\"-184\" font-family=\"monospace\" font-size=\"10.00\" fill=\"#000000\">AccumulateGrad</text>\n</g>\n<!-- 139729889554128&#45;&gt;139729889551696 -->\n<g id=\"edge2\" class=\"edge\">\n<title>139729889554128&#45;&gt;139729889551696</title>\n<path fill=\"none\" stroke=\"#000000\" d=\"M59.7319,-176.9197C67.2391,-169.1293 78.021,-157.9405 87.0049,-148.6176\"/>\n<polygon fill=\"#000000\" stroke=\"#000000\" points=\"89.5983,-150.9703 94.017,-141.3408 84.5578,-146.113 89.5983,-150.9703\"/>\n</g>\n<!-- 139729894570416 -->\n<g id=\"node5\" class=\"node\">\n<title>139729894570416</title>\n<polygon fill=\"#add8e6\" stroke=\"#000000\" points=\"80,-262 21,-262 21,-232 80,-232 80,-262\"/>\n<text text-anchor=\"middle\" x=\"50.5\" y=\"-250\" font-family=\"monospace\" font-size=\"10.00\" fill=\"#000000\">l1.bias</text>\n<text text-anchor=\"middle\" x=\"50.5\" y=\"-239\" font-family=\"monospace\" font-size=\"10.00\" fill=\"#000000\"> (1)</text>\n</g>\n<!-- 139729894570416&#45;&gt;139729889554128 -->\n<g id=\"edge3\" class=\"edge\">\n<title>139729894570416&#45;&gt;139729889554128</title>\n<path fill=\"none\" stroke=\"#000000\" d=\"M50.5,-231.7333C50.5,-224.0322 50.5,-214.5977 50.5,-206.3414\"/>\n<polygon fill=\"#000000\" stroke=\"#000000\" points=\"54.0001,-206.0864 50.5,-196.0864 47.0001,-206.0864 54.0001,-206.0864\"/>\n</g>\n<!-- 139729889554384 -->\n<g id=\"node6\" class=\"node\">\n<title>139729889554384</title>\n<polygon fill=\"#d3d3d3\" stroke=\"#000000\" points=\"196,-196 119,-196 119,-177 196,-177 196,-196\"/>\n<text text-anchor=\"middle\" x=\"157.5\" y=\"-184\" font-family=\"monospace\" font-size=\"10.00\" fill=\"#000000\">TBackward0</text>\n</g>\n<!-- 139729889554384&#45;&gt;139729889551696 -->\n<g id=\"edge4\" class=\"edge\">\n<title>139729889554384&#45;&gt;139729889551696</title>\n<path fill=\"none\" stroke=\"#000000\" d=\"M148.0939,-176.9197C140.4451,-169.1293 129.4597,-157.9405 120.3064,-148.6176\"/>\n<polygon fill=\"#000000\" stroke=\"#000000\" points=\"122.6653,-146.0244 113.1619,-141.3408 117.6704,-150.9286 122.6653,-146.0244\"/>\n</g>\n<!-- 139729889552720 -->\n<g id=\"node7\" class=\"node\">\n<title>139729889552720</title>\n<polygon fill=\"#d3d3d3\" stroke=\"#000000\" points=\"208,-256.5 107,-256.5 107,-237.5 208,-237.5 208,-256.5\"/>\n<text text-anchor=\"middle\" x=\"157.5\" y=\"-244.5\" font-family=\"monospace\" font-size=\"10.00\" fill=\"#000000\">AccumulateGrad</text>\n</g>\n<!-- 139729889552720&#45;&gt;139729889554384 -->\n<g id=\"edge5\" class=\"edge\">\n<title>139729889552720&#45;&gt;139729889554384</title>\n<path fill=\"none\" stroke=\"#000000\" d=\"M157.5,-237.2796C157.5,-229.0376 157.5,-216.9457 157.5,-206.629\"/>\n<polygon fill=\"#000000\" stroke=\"#000000\" points=\"161.0001,-206.3972 157.5,-196.3972 154.0001,-206.3973 161.0001,-206.3972\"/>\n</g>\n<!-- 139729894570320 -->\n<g id=\"node8\" class=\"node\">\n<title>139729894570320</title>\n<polygon fill=\"#add8e6\" stroke=\"#000000\" points=\"193,-328 122,-328 122,-298 193,-298 193,-328\"/>\n<text text-anchor=\"middle\" x=\"157.5\" y=\"-316\" font-family=\"monospace\" font-size=\"10.00\" fill=\"#000000\">l1.weight</text>\n<text text-anchor=\"middle\" x=\"157.5\" y=\"-305\" font-family=\"monospace\" font-size=\"10.00\" fill=\"#000000\"> (1, 1)</text>\n</g>\n<!-- 139729894570320&#45;&gt;139729889552720 -->\n<g id=\"edge6\" class=\"edge\">\n<title>139729894570320&#45;&gt;139729889552720</title>\n<path fill=\"none\" stroke=\"#000000\" d=\"M157.5,-297.6924C157.5,-288.5067 157.5,-276.7245 157.5,-266.8312\"/>\n<polygon fill=\"#000000\" stroke=\"#000000\" points=\"161.0001,-266.703 157.5,-256.7031 154.0001,-266.7031 161.0001,-266.703\"/>\n</g>\n</g>\n</svg>\n"
          },
          "metadata": {}
        }
      ]
    },
    {
      "cell_type": "code",
      "source": [
        "#　勾配計算（backward関数を呼び出すだけ）\n",
        "outputs = net(inputs)\n",
        "\n",
        "loss = criterion(outputs, labels1)\n",
        "loss.backward()\n",
        "print(net.l1.weight.grad)\n",
        "print(net.l1.bias.grad)"
      ],
      "metadata": {
        "colab": {
          "base_uri": "https://localhost:8080/"
        },
        "id": "RUuWRLwVeqwQ",
        "outputId": "2b02b051-6eb9-4b71-9db7-d5f581566363"
      },
      "execution_count": 32,
      "outputs": [
        {
          "output_type": "stream",
          "name": "stdout",
          "text": [
            "tensor([[-199.6421]])\n",
            "tensor([-30.4963])\n"
          ]
        }
      ]
    },
    {
      "cell_type": "code",
      "source": [
        "#パラメータ修正\n",
        "optimizer.step()\n",
        "\n",
        "print(net.l1.weight)\n",
        "print(net.l1.bias)"
      ],
      "metadata": {
        "colab": {
          "base_uri": "https://localhost:8080/"
        },
        "id": "C3ylpMAda0-3",
        "outputId": "ab0c41d5-5402-4a38-abb4-0f9fff916fae"
      },
      "execution_count": 33,
      "outputs": [
        {
          "output_type": "stream",
          "name": "stdout",
          "text": [
            "Parameter containing:\n",
            "tensor([[2.9964]], requires_grad=True)\n",
            "Parameter containing:\n",
            "tensor([1.3050], requires_grad=True)\n"
          ]
        }
      ]
    },
    {
      "cell_type": "code",
      "source": [
        "#勾配値の初期化\n",
        "optimizer.zero_grad()\n",
        "\n",
        "print(net.l1.weight.grad)\n",
        "print(net.l1.bias.grad)"
      ],
      "metadata": {
        "colab": {
          "base_uri": "https://localhost:8080/"
        },
        "id": "HneggLlFa_OD",
        "outputId": "8555fcdd-923e-409e-b769-651abab2e1db"
      },
      "execution_count": 34,
      "outputs": [
        {
          "output_type": "stream",
          "name": "stdout",
          "text": [
            "tensor([[0.]])\n",
            "tensor([0.])\n"
          ]
        }
      ]
    },
    {
      "cell_type": "code",
      "source": [
        "#繰り返し計算\n",
        "#初期化処理部分から\n",
        "\n",
        "lr = 0.01\n",
        "\n",
        "net = Net(n_input, n_output)\n",
        "\n",
        "criterion = nn.MSELoss()\n",
        "\n",
        "optimizer = optim.SGD(net.parameters(), lr=lr)\n",
        "\n",
        "#繰り返し回数\n",
        "num_epochs = 50000\n",
        "\n",
        "#評価結果記録用\n",
        "history = np.zeros((0,2))"
      ],
      "metadata": {
        "id": "wTy_HV4NbJ1j"
      },
      "execution_count": 35,
      "outputs": []
    },
    {
      "cell_type": "code",
      "source": [
        "#繰り返しのメインループ処理\n",
        "for epoch in range(num_epochs):\n",
        "\n",
        "  optimizer.zero_grad()\n",
        "\n",
        "  outputs = net(inputs)\n",
        "\n",
        "  loss = criterion(outputs, labels1) / 2.0\n",
        "\n",
        "  loss.backward()\n",
        "\n",
        "  optimizer.step()\n",
        "\n",
        "  if( epoch % 100 == 0 ):\n",
        "    history = np.vstack((history, np.array([epoch, loss.item()])))\n",
        "    print(f'Epoch {epoch} loss: {loss.item():.5f}')\n"
      ],
      "metadata": {
        "id": "IZxDEh5-b3Uu",
        "outputId": "e81bffb8-7b10-4d4e-ea8a-7a116b9e1a33",
        "colab": {
          "base_uri": "https://localhost:8080/"
        }
      },
      "execution_count": 37,
      "outputs": [
        {
          "output_type": "stream",
          "name": "stdout",
          "text": [
            "Epoch 0 loss: 154.22493\n",
            "Epoch 100 loss: 29.61752\n",
            "Epoch 200 loss: 29.43177\n",
            "Epoch 300 loss: 29.25043\n",
            "Epoch 400 loss: 29.07340\n",
            "Epoch 500 loss: 28.90057\n",
            "Epoch 600 loss: 28.73186\n",
            "Epoch 700 loss: 28.56715\n",
            "Epoch 800 loss: 28.40636\n",
            "Epoch 900 loss: 28.24939\n",
            "Epoch 1000 loss: 28.09615\n",
            "Epoch 1100 loss: 27.94655\n",
            "Epoch 1200 loss: 27.80050\n",
            "Epoch 1300 loss: 27.65792\n",
            "Epoch 1400 loss: 27.51873\n",
            "Epoch 1500 loss: 27.38285\n",
            "Epoch 1600 loss: 27.25020\n",
            "Epoch 1700 loss: 27.12070\n",
            "Epoch 1800 loss: 26.99428\n",
            "Epoch 1900 loss: 26.87086\n",
            "Epoch 2000 loss: 26.75037\n",
            "Epoch 2100 loss: 26.63275\n",
            "Epoch 2200 loss: 26.51792\n",
            "Epoch 2300 loss: 26.40582\n",
            "Epoch 2400 loss: 26.29639\n",
            "Epoch 2500 loss: 26.18955\n",
            "Epoch 2600 loss: 26.08525\n",
            "Epoch 2700 loss: 25.98343\n",
            "Epoch 2800 loss: 25.88404\n",
            "Epoch 2900 loss: 25.78700\n",
            "Epoch 3000 loss: 25.69226\n",
            "Epoch 3100 loss: 25.59978\n",
            "Epoch 3200 loss: 25.50950\n",
            "Epoch 3300 loss: 25.42136\n",
            "Epoch 3400 loss: 25.33532\n",
            "Epoch 3500 loss: 25.25132\n",
            "Epoch 3600 loss: 25.16932\n",
            "Epoch 3700 loss: 25.08927\n",
            "Epoch 3800 loss: 25.01111\n",
            "Epoch 3900 loss: 24.93482\n",
            "Epoch 4000 loss: 24.86034\n",
            "Epoch 4100 loss: 24.78762\n",
            "Epoch 4200 loss: 24.71664\n",
            "Epoch 4300 loss: 24.64734\n",
            "Epoch 4400 loss: 24.57969\n",
            "Epoch 4500 loss: 24.51365\n",
            "Epoch 4600 loss: 24.44917\n",
            "Epoch 4700 loss: 24.38623\n",
            "Epoch 4800 loss: 24.32478\n",
            "Epoch 4900 loss: 24.26480\n",
            "Epoch 5000 loss: 24.20624\n",
            "Epoch 5100 loss: 24.14907\n",
            "Epoch 5200 loss: 24.09326\n",
            "Epoch 5300 loss: 24.03877\n",
            "Epoch 5400 loss: 23.98558\n",
            "Epoch 5500 loss: 23.93365\n",
            "Epoch 5600 loss: 23.88296\n",
            "Epoch 5700 loss: 23.83347\n",
            "Epoch 5800 loss: 23.78516\n",
            "Epoch 5900 loss: 23.73800\n",
            "Epoch 6000 loss: 23.69196\n",
            "Epoch 6100 loss: 23.64701\n",
            "Epoch 6200 loss: 23.60312\n",
            "Epoch 6300 loss: 23.56029\n",
            "Epoch 6400 loss: 23.51847\n",
            "Epoch 6500 loss: 23.47764\n",
            "Epoch 6600 loss: 23.43778\n",
            "Epoch 6700 loss: 23.39887\n",
            "Epoch 6800 loss: 23.36088\n",
            "Epoch 6900 loss: 23.32380\n",
            "Epoch 7000 loss: 23.28760\n",
            "Epoch 7100 loss: 23.25226\n",
            "Epoch 7200 loss: 23.21776\n",
            "Epoch 7300 loss: 23.18408\n",
            "Epoch 7400 loss: 23.15120\n",
            "Epoch 7500 loss: 23.11910\n",
            "Epoch 7600 loss: 23.08776\n",
            "Epoch 7700 loss: 23.05717\n",
            "Epoch 7800 loss: 23.02730\n",
            "Epoch 7900 loss: 22.99814\n",
            "Epoch 8000 loss: 22.96968\n",
            "Epoch 8100 loss: 22.94190\n",
            "Epoch 8200 loss: 22.91477\n",
            "Epoch 8300 loss: 22.88828\n",
            "Epoch 8400 loss: 22.86243\n",
            "Epoch 8500 loss: 22.83719\n",
            "Epoch 8600 loss: 22.81255\n",
            "Epoch 8700 loss: 22.78850\n",
            "Epoch 8800 loss: 22.76502\n",
            "Epoch 8900 loss: 22.74209\n",
            "Epoch 9000 loss: 22.71972\n",
            "Epoch 9100 loss: 22.69787\n",
            "Epoch 9200 loss: 22.67654\n",
            "Epoch 9300 loss: 22.65572\n",
            "Epoch 9400 loss: 22.63539\n",
            "Epoch 9500 loss: 22.61555\n",
            "Epoch 9600 loss: 22.59618\n",
            "Epoch 9700 loss: 22.57727\n",
            "Epoch 9800 loss: 22.55880\n",
            "Epoch 9900 loss: 22.54078\n",
            "Epoch 10000 loss: 22.52318\n",
            "Epoch 10100 loss: 22.50601\n",
            "Epoch 10200 loss: 22.48924\n",
            "Epoch 10300 loss: 22.47287\n",
            "Epoch 10400 loss: 22.45688\n",
            "Epoch 10500 loss: 22.44128\n",
            "Epoch 10600 loss: 22.42605\n",
            "Epoch 10700 loss: 22.41118\n",
            "Epoch 10800 loss: 22.39667\n",
            "Epoch 10900 loss: 22.38249\n",
            "Epoch 11000 loss: 22.36866\n",
            "Epoch 11100 loss: 22.35515\n",
            "Epoch 11200 loss: 22.34197\n",
            "Epoch 11300 loss: 22.32910\n",
            "Epoch 11400 loss: 22.31653\n",
            "Epoch 11500 loss: 22.30426\n",
            "Epoch 11600 loss: 22.29229\n",
            "Epoch 11700 loss: 22.28060\n",
            "Epoch 11800 loss: 22.26919\n",
            "Epoch 11900 loss: 22.25804\n",
            "Epoch 12000 loss: 22.24717\n",
            "Epoch 12100 loss: 22.23655\n",
            "Epoch 12200 loss: 22.22618\n",
            "Epoch 12300 loss: 22.21606\n",
            "Epoch 12400 loss: 22.20618\n",
            "Epoch 12500 loss: 22.19654\n",
            "Epoch 12600 loss: 22.18712\n",
            "Epoch 12700 loss: 22.17793\n",
            "Epoch 12800 loss: 22.16896\n",
            "Epoch 12900 loss: 22.16020\n",
            "Epoch 13000 loss: 22.15165\n",
            "Epoch 13100 loss: 22.14330\n",
            "Epoch 13200 loss: 22.13514\n",
            "Epoch 13300 loss: 22.12719\n",
            "Epoch 13400 loss: 22.11942\n",
            "Epoch 13500 loss: 22.11184\n",
            "Epoch 13600 loss: 22.10443\n",
            "Epoch 13700 loss: 22.09720\n",
            "Epoch 13800 loss: 22.09015\n",
            "Epoch 13900 loss: 22.08326\n",
            "Epoch 14000 loss: 22.07654\n",
            "Epoch 14100 loss: 22.06997\n",
            "Epoch 14200 loss: 22.06357\n",
            "Epoch 14300 loss: 22.05731\n",
            "Epoch 14400 loss: 22.05120\n",
            "Epoch 14500 loss: 22.04524\n",
            "Epoch 14600 loss: 22.03942\n",
            "Epoch 14700 loss: 22.03374\n",
            "Epoch 14800 loss: 22.02819\n",
            "Epoch 14900 loss: 22.02277\n",
            "Epoch 15000 loss: 22.01749\n",
            "Epoch 15100 loss: 22.01233\n",
            "Epoch 15200 loss: 22.00729\n",
            "Epoch 15300 loss: 22.00237\n",
            "Epoch 15400 loss: 21.99757\n",
            "Epoch 15500 loss: 21.99288\n",
            "Epoch 15600 loss: 21.98830\n",
            "Epoch 15700 loss: 21.98384\n",
            "Epoch 15800 loss: 21.97948\n",
            "Epoch 15900 loss: 21.97521\n",
            "Epoch 16000 loss: 21.97106\n",
            "Epoch 16100 loss: 21.96700\n",
            "Epoch 16200 loss: 21.96304\n",
            "Epoch 16300 loss: 21.95917\n",
            "Epoch 16400 loss: 21.95539\n",
            "Epoch 16500 loss: 21.95171\n",
            "Epoch 16600 loss: 21.94811\n",
            "Epoch 16700 loss: 21.94460\n",
            "Epoch 16800 loss: 21.94117\n",
            "Epoch 16900 loss: 21.93782\n",
            "Epoch 17000 loss: 21.93456\n",
            "Epoch 17100 loss: 21.93136\n",
            "Epoch 17200 loss: 21.92825\n",
            "Epoch 17300 loss: 21.92521\n",
            "Epoch 17400 loss: 21.92224\n",
            "Epoch 17500 loss: 21.91934\n",
            "Epoch 17600 loss: 21.91651\n",
            "Epoch 17700 loss: 21.91375\n",
            "Epoch 17800 loss: 21.91106\n",
            "Epoch 17900 loss: 21.90842\n",
            "Epoch 18000 loss: 21.90585\n",
            "Epoch 18100 loss: 21.90334\n",
            "Epoch 18200 loss: 21.90090\n",
            "Epoch 18300 loss: 21.89850\n",
            "Epoch 18400 loss: 21.89617\n",
            "Epoch 18500 loss: 21.89389\n",
            "Epoch 18600 loss: 21.89167\n",
            "Epoch 18700 loss: 21.88950\n",
            "Epoch 18800 loss: 21.88738\n",
            "Epoch 18900 loss: 21.88531\n",
            "Epoch 19000 loss: 21.88329\n",
            "Epoch 19100 loss: 21.88132\n",
            "Epoch 19200 loss: 21.87939\n",
            "Epoch 19300 loss: 21.87751\n",
            "Epoch 19400 loss: 21.87567\n",
            "Epoch 19500 loss: 21.87388\n",
            "Epoch 19600 loss: 21.87213\n",
            "Epoch 19700 loss: 21.87043\n",
            "Epoch 19800 loss: 21.86876\n",
            "Epoch 19900 loss: 21.86713\n",
            "Epoch 20000 loss: 21.86554\n",
            "Epoch 20100 loss: 21.86399\n",
            "Epoch 20200 loss: 21.86248\n",
            "Epoch 20300 loss: 21.86100\n",
            "Epoch 20400 loss: 21.85956\n",
            "Epoch 20500 loss: 21.85815\n",
            "Epoch 20600 loss: 21.85677\n",
            "Epoch 20700 loss: 21.85543\n",
            "Epoch 20800 loss: 21.85412\n",
            "Epoch 20900 loss: 21.85284\n",
            "Epoch 21000 loss: 21.85159\n",
            "Epoch 21100 loss: 21.85038\n",
            "Epoch 21200 loss: 21.84918\n",
            "Epoch 21300 loss: 21.84802\n",
            "Epoch 21400 loss: 21.84689\n",
            "Epoch 21500 loss: 21.84578\n",
            "Epoch 21600 loss: 21.84470\n",
            "Epoch 21700 loss: 21.84364\n",
            "Epoch 21800 loss: 21.84261\n",
            "Epoch 21900 loss: 21.84160\n",
            "Epoch 22000 loss: 21.84063\n",
            "Epoch 22100 loss: 21.83967\n",
            "Epoch 22200 loss: 21.83873\n",
            "Epoch 22300 loss: 21.83782\n",
            "Epoch 22400 loss: 21.83693\n",
            "Epoch 22500 loss: 21.83605\n",
            "Epoch 22600 loss: 21.83520\n",
            "Epoch 22700 loss: 21.83437\n",
            "Epoch 22800 loss: 21.83356\n",
            "Epoch 22900 loss: 21.83278\n",
            "Epoch 23000 loss: 21.83200\n",
            "Epoch 23100 loss: 21.83125\n",
            "Epoch 23200 loss: 21.83051\n",
            "Epoch 23300 loss: 21.82980\n",
            "Epoch 23400 loss: 21.82909\n",
            "Epoch 23500 loss: 21.82841\n",
            "Epoch 23600 loss: 21.82774\n",
            "Epoch 23700 loss: 21.82709\n",
            "Epoch 23800 loss: 21.82645\n",
            "Epoch 23900 loss: 21.82583\n",
            "Epoch 24000 loss: 21.82522\n",
            "Epoch 24100 loss: 21.82463\n",
            "Epoch 24200 loss: 21.82405\n",
            "Epoch 24300 loss: 21.82348\n",
            "Epoch 24400 loss: 21.82293\n",
            "Epoch 24500 loss: 21.82239\n",
            "Epoch 24600 loss: 21.82187\n",
            "Epoch 24700 loss: 21.82136\n",
            "Epoch 24800 loss: 21.82085\n",
            "Epoch 24900 loss: 21.82037\n",
            "Epoch 25000 loss: 21.81989\n",
            "Epoch 25100 loss: 21.81942\n",
            "Epoch 25200 loss: 21.81897\n",
            "Epoch 25300 loss: 21.81853\n",
            "Epoch 25400 loss: 21.81809\n",
            "Epoch 25500 loss: 21.81767\n",
            "Epoch 25600 loss: 21.81726\n",
            "Epoch 25700 loss: 21.81685\n",
            "Epoch 25800 loss: 21.81646\n",
            "Epoch 25900 loss: 21.81607\n",
            "Epoch 26000 loss: 21.81570\n",
            "Epoch 26100 loss: 21.81533\n",
            "Epoch 26200 loss: 21.81497\n",
            "Epoch 26300 loss: 21.81462\n",
            "Epoch 26400 loss: 21.81428\n",
            "Epoch 26500 loss: 21.81395\n",
            "Epoch 26600 loss: 21.81363\n",
            "Epoch 26700 loss: 21.81331\n",
            "Epoch 26800 loss: 21.81300\n",
            "Epoch 26900 loss: 21.81269\n",
            "Epoch 27000 loss: 21.81240\n",
            "Epoch 27100 loss: 21.81211\n",
            "Epoch 27200 loss: 21.81183\n",
            "Epoch 27300 loss: 21.81156\n",
            "Epoch 27400 loss: 21.81129\n",
            "Epoch 27500 loss: 21.81103\n",
            "Epoch 27600 loss: 21.81077\n",
            "Epoch 27700 loss: 21.81052\n",
            "Epoch 27800 loss: 21.81028\n",
            "Epoch 27900 loss: 21.81004\n",
            "Epoch 28000 loss: 21.80981\n",
            "Epoch 28100 loss: 21.80959\n",
            "Epoch 28200 loss: 21.80936\n",
            "Epoch 28300 loss: 21.80915\n",
            "Epoch 28400 loss: 21.80894\n",
            "Epoch 28500 loss: 21.80873\n",
            "Epoch 28600 loss: 21.80853\n",
            "Epoch 28700 loss: 21.80833\n",
            "Epoch 28800 loss: 21.80814\n",
            "Epoch 28900 loss: 21.80795\n",
            "Epoch 29000 loss: 21.80777\n",
            "Epoch 29100 loss: 21.80759\n",
            "Epoch 29200 loss: 21.80742\n",
            "Epoch 29300 loss: 21.80725\n",
            "Epoch 29400 loss: 21.80709\n",
            "Epoch 29500 loss: 21.80693\n",
            "Epoch 29600 loss: 21.80676\n",
            "Epoch 29700 loss: 21.80661\n",
            "Epoch 29800 loss: 21.80646\n",
            "Epoch 29900 loss: 21.80631\n",
            "Epoch 30000 loss: 21.80617\n",
            "Epoch 30100 loss: 21.80603\n",
            "Epoch 30200 loss: 21.80589\n",
            "Epoch 30300 loss: 21.80576\n",
            "Epoch 30400 loss: 21.80563\n",
            "Epoch 30500 loss: 21.80551\n",
            "Epoch 30600 loss: 21.80538\n",
            "Epoch 30700 loss: 21.80526\n",
            "Epoch 30800 loss: 21.80514\n",
            "Epoch 30900 loss: 21.80503\n",
            "Epoch 31000 loss: 21.80491\n",
            "Epoch 31100 loss: 21.80480\n",
            "Epoch 31200 loss: 21.80469\n",
            "Epoch 31300 loss: 21.80459\n",
            "Epoch 31400 loss: 21.80449\n",
            "Epoch 31500 loss: 21.80439\n",
            "Epoch 31600 loss: 21.80429\n",
            "Epoch 31700 loss: 21.80419\n",
            "Epoch 31800 loss: 21.80410\n",
            "Epoch 31900 loss: 21.80401\n",
            "Epoch 32000 loss: 21.80392\n",
            "Epoch 32100 loss: 21.80384\n",
            "Epoch 32200 loss: 21.80375\n",
            "Epoch 32300 loss: 21.80367\n",
            "Epoch 32400 loss: 21.80359\n",
            "Epoch 32500 loss: 21.80351\n",
            "Epoch 32600 loss: 21.80343\n",
            "Epoch 32700 loss: 21.80336\n",
            "Epoch 32800 loss: 21.80328\n",
            "Epoch 32900 loss: 21.80321\n",
            "Epoch 33000 loss: 21.80314\n",
            "Epoch 33100 loss: 21.80307\n",
            "Epoch 33200 loss: 21.80301\n",
            "Epoch 33300 loss: 21.80294\n",
            "Epoch 33400 loss: 21.80288\n",
            "Epoch 33500 loss: 21.80281\n",
            "Epoch 33600 loss: 21.80276\n",
            "Epoch 33700 loss: 21.80270\n",
            "Epoch 33800 loss: 21.80264\n",
            "Epoch 33900 loss: 21.80258\n",
            "Epoch 34000 loss: 21.80253\n",
            "Epoch 34100 loss: 21.80247\n",
            "Epoch 34200 loss: 21.80242\n",
            "Epoch 34300 loss: 21.80237\n",
            "Epoch 34400 loss: 21.80232\n",
            "Epoch 34500 loss: 21.80227\n",
            "Epoch 34600 loss: 21.80223\n",
            "Epoch 34700 loss: 21.80218\n",
            "Epoch 34800 loss: 21.80213\n",
            "Epoch 34900 loss: 21.80209\n",
            "Epoch 35000 loss: 21.80205\n",
            "Epoch 35100 loss: 21.80201\n",
            "Epoch 35200 loss: 21.80197\n",
            "Epoch 35300 loss: 21.80192\n",
            "Epoch 35400 loss: 21.80189\n",
            "Epoch 35500 loss: 21.80185\n",
            "Epoch 35600 loss: 21.80181\n",
            "Epoch 35700 loss: 21.80177\n",
            "Epoch 35800 loss: 21.80174\n",
            "Epoch 35900 loss: 21.80170\n",
            "Epoch 36000 loss: 21.80167\n",
            "Epoch 36100 loss: 21.80164\n",
            "Epoch 36200 loss: 21.80161\n",
            "Epoch 36300 loss: 21.80157\n",
            "Epoch 36400 loss: 21.80154\n",
            "Epoch 36500 loss: 21.80151\n",
            "Epoch 36600 loss: 21.80148\n",
            "Epoch 36700 loss: 21.80145\n",
            "Epoch 36800 loss: 21.80143\n",
            "Epoch 36900 loss: 21.80140\n",
            "Epoch 37000 loss: 21.80137\n",
            "Epoch 37100 loss: 21.80135\n",
            "Epoch 37200 loss: 21.80132\n",
            "Epoch 37300 loss: 21.80129\n",
            "Epoch 37400 loss: 21.80127\n",
            "Epoch 37500 loss: 21.80125\n",
            "Epoch 37600 loss: 21.80122\n",
            "Epoch 37700 loss: 21.80120\n",
            "Epoch 37800 loss: 21.80118\n",
            "Epoch 37900 loss: 21.80116\n",
            "Epoch 38000 loss: 21.80114\n",
            "Epoch 38100 loss: 21.80112\n",
            "Epoch 38200 loss: 21.80110\n",
            "Epoch 38300 loss: 21.80108\n",
            "Epoch 38400 loss: 21.80106\n",
            "Epoch 38500 loss: 21.80104\n",
            "Epoch 38600 loss: 21.80102\n",
            "Epoch 38700 loss: 21.80100\n",
            "Epoch 38800 loss: 21.80099\n",
            "Epoch 38900 loss: 21.80097\n",
            "Epoch 39000 loss: 21.80095\n",
            "Epoch 39100 loss: 21.80094\n",
            "Epoch 39200 loss: 21.80092\n",
            "Epoch 39300 loss: 21.80091\n",
            "Epoch 39400 loss: 21.80089\n",
            "Epoch 39500 loss: 21.80088\n",
            "Epoch 39600 loss: 21.80087\n",
            "Epoch 39700 loss: 21.80085\n",
            "Epoch 39800 loss: 21.80083\n",
            "Epoch 39900 loss: 21.80082\n",
            "Epoch 40000 loss: 21.80081\n",
            "Epoch 40100 loss: 21.80080\n",
            "Epoch 40200 loss: 21.80079\n",
            "Epoch 40300 loss: 21.80077\n",
            "Epoch 40400 loss: 21.80076\n",
            "Epoch 40500 loss: 21.80075\n",
            "Epoch 40600 loss: 21.80074\n",
            "Epoch 40700 loss: 21.80072\n",
            "Epoch 40800 loss: 21.80072\n",
            "Epoch 40900 loss: 21.80070\n",
            "Epoch 41000 loss: 21.80070\n",
            "Epoch 41100 loss: 21.80068\n",
            "Epoch 41200 loss: 21.80068\n",
            "Epoch 41300 loss: 21.80067\n",
            "Epoch 41400 loss: 21.80065\n",
            "Epoch 41500 loss: 21.80065\n",
            "Epoch 41600 loss: 21.80064\n",
            "Epoch 41700 loss: 21.80063\n",
            "Epoch 41800 loss: 21.80062\n",
            "Epoch 41900 loss: 21.80061\n",
            "Epoch 42000 loss: 21.80061\n",
            "Epoch 42100 loss: 21.80060\n",
            "Epoch 42200 loss: 21.80059\n",
            "Epoch 42300 loss: 21.80058\n",
            "Epoch 42400 loss: 21.80058\n",
            "Epoch 42500 loss: 21.80057\n",
            "Epoch 42600 loss: 21.80056\n",
            "Epoch 42700 loss: 21.80055\n",
            "Epoch 42800 loss: 21.80055\n",
            "Epoch 42900 loss: 21.80054\n",
            "Epoch 43000 loss: 21.80054\n",
            "Epoch 43100 loss: 21.80053\n",
            "Epoch 43200 loss: 21.80052\n",
            "Epoch 43300 loss: 21.80052\n",
            "Epoch 43400 loss: 21.80051\n",
            "Epoch 43500 loss: 21.80051\n",
            "Epoch 43600 loss: 21.80050\n",
            "Epoch 43700 loss: 21.80050\n",
            "Epoch 43800 loss: 21.80049\n",
            "Epoch 43900 loss: 21.80048\n",
            "Epoch 44000 loss: 21.80048\n",
            "Epoch 44100 loss: 21.80048\n",
            "Epoch 44200 loss: 21.80047\n",
            "Epoch 44300 loss: 21.80046\n",
            "Epoch 44400 loss: 21.80046\n",
            "Epoch 44500 loss: 21.80046\n",
            "Epoch 44600 loss: 21.80045\n",
            "Epoch 44700 loss: 21.80045\n",
            "Epoch 44800 loss: 21.80045\n",
            "Epoch 44900 loss: 21.80044\n",
            "Epoch 45000 loss: 21.80044\n",
            "Epoch 45100 loss: 21.80043\n",
            "Epoch 45200 loss: 21.80043\n",
            "Epoch 45300 loss: 21.80043\n",
            "Epoch 45400 loss: 21.80042\n",
            "Epoch 45500 loss: 21.80042\n",
            "Epoch 45600 loss: 21.80042\n",
            "Epoch 45700 loss: 21.80041\n",
            "Epoch 45800 loss: 21.80041\n",
            "Epoch 45900 loss: 21.80041\n",
            "Epoch 46000 loss: 21.80040\n",
            "Epoch 46100 loss: 21.80040\n",
            "Epoch 46200 loss: 21.80040\n",
            "Epoch 46300 loss: 21.80039\n",
            "Epoch 46400 loss: 21.80039\n",
            "Epoch 46500 loss: 21.80039\n",
            "Epoch 46600 loss: 21.80039\n",
            "Epoch 46700 loss: 21.80038\n",
            "Epoch 46800 loss: 21.80038\n",
            "Epoch 46900 loss: 21.80038\n",
            "Epoch 47000 loss: 21.80038\n",
            "Epoch 47100 loss: 21.80037\n",
            "Epoch 47200 loss: 21.80037\n",
            "Epoch 47300 loss: 21.80037\n",
            "Epoch 47400 loss: 21.80037\n",
            "Epoch 47500 loss: 21.80036\n",
            "Epoch 47600 loss: 21.80036\n",
            "Epoch 47700 loss: 21.80036\n",
            "Epoch 47800 loss: 21.80036\n",
            "Epoch 47900 loss: 21.80035\n",
            "Epoch 48000 loss: 21.80035\n",
            "Epoch 48100 loss: 21.80035\n",
            "Epoch 48200 loss: 21.80035\n",
            "Epoch 48300 loss: 21.80035\n",
            "Epoch 48400 loss: 21.80035\n",
            "Epoch 48500 loss: 21.80034\n",
            "Epoch 48600 loss: 21.80034\n",
            "Epoch 48700 loss: 21.80034\n",
            "Epoch 48800 loss: 21.80034\n",
            "Epoch 48900 loss: 21.80034\n",
            "Epoch 49000 loss: 21.80034\n",
            "Epoch 49100 loss: 21.80034\n",
            "Epoch 49200 loss: 21.80033\n",
            "Epoch 49300 loss: 21.80033\n",
            "Epoch 49400 loss: 21.80033\n",
            "Epoch 49500 loss: 21.80033\n",
            "Epoch 49600 loss: 21.80033\n",
            "Epoch 49700 loss: 21.80033\n",
            "Epoch 49800 loss: 21.80033\n",
            "Epoch 49900 loss: 21.80033\n"
          ]
        }
      ]
    },
    {
      "cell_type": "code",
      "source": [
        "#結果確認\n",
        "# 損失初期値と最終値\n",
        "\n",
        "print(f'損失初期値: {history[0,1]:.5f}')\n",
        "print(f'損失最終値: {history[-1,1]:.5f}')"
      ],
      "metadata": {
        "id": "ntdcSCDgcwb8",
        "outputId": "471cd7b9-cc09-4713-960c-ad0efc83c525",
        "colab": {
          "base_uri": "https://localhost:8080/"
        }
      },
      "execution_count": 38,
      "outputs": [
        {
          "output_type": "stream",
          "name": "stdout",
          "text": [
            "損失初期値: 154.22493\n",
            "損失最終値: 21.80033\n"
          ]
        }
      ]
    },
    {
      "cell_type": "code",
      "source": [
        "# 学習曲線の表示 (損失) \n",
        "# 最初の1つを除く\n",
        "\n",
        "plt.plot(history[1:,0], history[1:,1], 'b')\n",
        "plt.xlabel('繰り返し回数')\n",
        "plt.ylabel('損失')\n",
        "plt.title('学習曲線(損失)')\n",
        "plt.show()"
      ],
      "metadata": {
        "id": "dq--wSAmc_vD",
        "outputId": "3ec46106-d977-45b3-8604-3aaf22b39ae2",
        "colab": {
          "base_uri": "https://localhost:8080/",
          "height": 415
        }
      },
      "execution_count": 39,
      "outputs": [
        {
          "output_type": "display_data",
          "data": {
            "text/plain": [
              "<Figure size 432x432 with 1 Axes>"
            ],
            "image/png": "[encoded data removed]"
          },
          "metadata": {
            "needs_background": "light"
          }
        }
      ]
    },
    {
      "cell_type": "code",
      "source": [
        "#モデルから作られる１次関数のグラフを、」学習データの散布図と同時に表示\n",
        "xse = np.array((x.min(),x.max())).reshape(-1,1)\n",
        "Xse = torch.tensor(xse).float()\n",
        "\n",
        "with torch.no_grad():\n",
        "  Yse = net(Xse)\n",
        "\n",
        "print(Yse.numpy())"
      ],
      "metadata": {
        "id": "siqFaeTLdHO8",
        "outputId": "91e1125b-03ae-4f30-90a7-fbdb6f134778",
        "colab": {
          "base_uri": "https://localhost:8080/"
        }
      },
      "execution_count": 40,
      "outputs": [
        {
          "output_type": "stream",
          "name": "stdout",
          "text": [
            "[[-2.2189]\n",
            " [45.2121]]\n"
          ]
        }
      ]
    },
    {
      "cell_type": "code",
      "source": [
        "# 散布図と回帰直線の描画\n",
        "\n",
        "plt.scatter(x, yt, s=10, c='b')\n",
        "plt.xlabel('部屋数')\n",
        "plt.ylabel('価格')\n",
        "plt.plot(Xse.data, Yse.data, c='k')\n",
        "plt.title('散布図と回帰直線')\n",
        "plt.show()"
      ],
      "metadata": {
        "id": "9Ega9DHXdswA",
        "outputId": "831ce7e8-3717-4968-9f04-476c339a150b",
        "colab": {
          "base_uri": "https://localhost:8080/",
          "height": 413
        }
      },
      "execution_count": 41,
      "outputs": [
        {
          "output_type": "display_data",
          "data": {
            "text/plain": [
              "<Figure size 432x432 with 1 Axes>"
            ],
            "image/png": "[encoded data removed]"
          },
          "metadata": {
            "needs_background": "light"
          }
        }
      ]
    },
    {
      "cell_type": "code",
      "source": [
        ""
      ],
      "metadata": {
        "id": "TStIRW0ad5jd"
      },
      "execution_count": null,
      "outputs": []
    }
  ]
}