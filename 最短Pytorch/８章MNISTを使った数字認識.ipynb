{
  "nbformat": 4,
  "nbformat_minor": 0,
  "metadata": {
    "colab": {
      "name": "最短Pytorchの導入.ipynb",
      "provenance": [],
      "authorship_tag": "ABX9TyNAEcnNwdfyhHMf6L3mTS28",
      "include_colab_link": true
    },
    "kernelspec": {
      "name": "python3",
      "display_name": "Python 3"
    },
    "language_info": {
      "name": "python"
    },
    "accelerator": "GPU"
  },
  "cells": [
    {
      "cell_type": "markdown",
      "metadata": {
        "id": "view-in-github",
        "colab_type": "text"
      },
      "source": [
        "<a href=\"https://colab.research.google.com/github/newstage75/ML_study/blob/master/%E6%9C%80%E7%9F%ADPytorch/%EF%BC%98%E7%AB%A0MNIST%E3%82%92%E4%BD%BF%E3%81%A3%E3%81%9F%E6%95%B0%E5%AD%97%E8%AA%8D%E8%AD%98.ipynb\" target=\"_parent\"><img src=\"https://colab.research.google.com/assets/colab-badge.svg\" alt=\"Open In Colab\"/></a>"
      ]
    },
    {
      "cell_type": "markdown",
      "source": [
        "#８章MNISTを使った数字認識"
      ],
      "metadata": {
        "id": "CEgOOTrGJU31"
      }
    },
    {
      "cell_type": "code",
      "execution_count": 35,
      "metadata": {
        "colab": {
          "base_uri": "https://localhost:8080/"
        },
        "id": "48AexnpDJAMO",
        "outputId": "10367b5b-f539-4d7e-eb05-50297cca04e3"
      },
      "outputs": [
        {
          "output_type": "stream",
          "name": "stdout",
          "text": [
            "Requirement already satisfied: six>=1.5 in /usr/local/lib/python3.7/dist-packages (from python-dateutil>=2.1->matplotlib->japanize_matplotlib) (1.15.0)\n",
            "Requirement already satisfied: typing-extensions in /usr/local/lib/python3.7/dist-packages (from torch->torchviz) (4.2.0)\n",
            "Requirement already satisfied: torchinfo in /usr/local/lib/python3.7/dist-packages (1.6.6)\n"
          ]
        }
      ],
      "source": [
        "# 必要ライブラリの導入\n",
        "\n",
        "!pip install japanize_matplotlib | tail -n 1\n",
        "!pip install torchviz | tail -n 1\n",
        "!pip install torchinfo | tail -n 1"
      ]
    },
    {
      "cell_type": "code",
      "source": [
        "# 必要ライブラリのインポート\n",
        "\n",
        "%matplotlib inline\n",
        "import numpy as np\n",
        "import matplotlib.pyplot as plt\n",
        "import japanize_matplotlib\n",
        "from IPython.display import display"
      ],
      "metadata": {
        "id": "ghCJoyn3JbCd"
      },
      "execution_count": 36,
      "outputs": []
    },
    {
      "cell_type": "code",
      "source": [
        "# torch関連ライブラリのインポート\n",
        "\n",
        "import torch\n",
        "import torch.nn as nn\n",
        "import torch.optim as optim\n",
        "from torchinfo import summary\n",
        "from torchviz import make_dot"
      ],
      "metadata": {
        "id": "wJKfNpszLiia"
      },
      "execution_count": 37,
      "outputs": []
    },
    {
      "cell_type": "code",
      "source": [
        "# warning表示off\n",
        "import warnings\n",
        "warnings.simplefilter('ignore')\n",
        "\n",
        "# デフォルトフォントサイズ変更\n",
        "plt.rcParams['font.size'] = 14\n",
        "\n",
        "# デフォルトグラフサイズ変更\n",
        "plt.rcParams['figure.figsize'] = (6,6)\n",
        "\n",
        "# デフォルトで方眼表示ON\n",
        "plt.rcParams['axes.grid'] = True\n",
        "\n",
        "# numpyの表示桁数設定\n",
        "np.set_printoptions(suppress=True, precision=5)"
      ],
      "metadata": {
        "id": "TTSBA8aYJeL0"
      },
      "execution_count": 38,
      "outputs": []
    },
    {
      "cell_type": "markdown",
      "source": [
        "###GPU利用"
      ],
      "metadata": {
        "id": "oeShu5Hz9Ypf"
      }
    },
    {
      "cell_type": "markdown",
      "source": [
        "####GPU利用のルール\n",
        "\n",
        "1.テンソル変数はデータがCPU/GPU上のどちらにあるのかを属性として持っている\n",
        "\n",
        "2.CPUとGPU間のデータはto関数で転送する\n",
        "\n",
        "3.2つの変数が両方ともGPU上にある場合、演算はGPUで行われる\n",
        "\n",
        "4.変数の片方がCPU、もう一方がGPUの場合はエラーになる。"
      ],
      "metadata": {
        "id": "lkMzQv0i9tnk"
      }
    },
    {
      "cell_type": "code",
      "source": [
        "#デバイスの割り当て\n",
        "device = torch.device(\"cuda:0\" if torch.cuda.is_available() else \"cpu\")\n",
        "print(device)"
      ],
      "metadata": {
        "colab": {
          "base_uri": "https://localhost:8080/"
        },
        "id": "ipU6X6Io9XMK",
        "outputId": "e8b71232-79c7-442a-ec21-4f2ee4a12ee2"
      },
      "execution_count": 39,
      "outputs": [
        {
          "output_type": "stream",
          "name": "stdout",
          "text": [
            "cuda:0\n"
          ]
        }
      ]
    },
    {
      "cell_type": "code",
      "source": [
        "#テスト用tensor変数x, y\n",
        "x_np = np.arange(-2.0, 2.1, 0.25)\n",
        "y_np = np.arange(-1.0, 3.1, 0.25)\n",
        "x = torch.tensor(x_np).float()\n",
        "y = torch.tensor(y_np).float()\n",
        "\n",
        "z = x * y\n",
        "print(z)"
      ],
      "metadata": {
        "colab": {
          "base_uri": "https://localhost:8080/"
        },
        "id": "TnjOIbqo9mfe",
        "outputId": "52b21fad-8da9-4496-e2fa-8d872360f543"
      },
      "execution_count": 40,
      "outputs": [
        {
          "output_type": "stream",
          "name": "stdout",
          "text": [
            "tensor([ 2.0000,  1.3125,  0.7500,  0.3125, -0.0000, -0.1875, -0.2500, -0.1875,\n",
            "         0.0000,  0.3125,  0.7500,  1.3125,  2.0000,  2.8125,  3.7500,  4.8125,\n",
            "         6.0000])\n"
          ]
        }
      ]
    },
    {
      "cell_type": "code",
      "source": [
        "#変数xをGPUに送る\n",
        "x = x.to(device)\n",
        "\n",
        "print('x: ', x.device)\n",
        "print('y: ', y.device)"
      ],
      "metadata": {
        "colab": {
          "base_uri": "https://localhost:8080/"
        },
        "id": "Yoda0v3--239",
        "outputId": "a41fecd3-a12b-4be2-b03c-dc41597c9408"
      },
      "execution_count": 41,
      "outputs": [
        {
          "output_type": "stream",
          "name": "stdout",
          "text": [
            "x:  cuda:0\n",
            "y:  cpu\n"
          ]
        }
      ]
    },
    {
      "cell_type": "code",
      "source": [
        "#この状態の計算はエラー\n",
        "z = x * y"
      ],
      "metadata": {
        "colab": {
          "base_uri": "https://localhost:8080/",
          "height": 208
        },
        "id": "_5EX3_v0_FPp",
        "outputId": "82cf8124-e03c-44e0-f5d3-7b1bbdef09f5"
      },
      "execution_count": 42,
      "outputs": [
        {
          "output_type": "error",
          "ename": "RuntimeError",
          "evalue": "ignored",
          "traceback": [
            "\u001b[0;31m---------------------------------------------------------------------------\u001b[0m",
            "\u001b[0;31mRuntimeError\u001b[0m                              Traceback (most recent call last)",
            "\u001b[0;32m<ipython-input-42-7c563b26a215>\u001b[0m in \u001b[0;36m<module>\u001b[0;34m()\u001b[0m\n\u001b[1;32m      1\u001b[0m \u001b[0;31m#この状態の計算はエラー\u001b[0m\u001b[0;34m\u001b[0m\u001b[0;34m\u001b[0m\u001b[0;34m\u001b[0m\u001b[0m\n\u001b[0;32m----> 2\u001b[0;31m \u001b[0mz\u001b[0m \u001b[0;34m=\u001b[0m \u001b[0mx\u001b[0m \u001b[0;34m*\u001b[0m \u001b[0my\u001b[0m\u001b[0;34m\u001b[0m\u001b[0;34m\u001b[0m\u001b[0m\n\u001b[0m",
            "\u001b[0;31mRuntimeError\u001b[0m: Expected all tensors to be on the same device, but found at least two devices, cuda:0 and cpu!"
          ]
        }
      ]
    },
    {
      "cell_type": "code",
      "source": [
        "#変数yもGPUに送る\n",
        "y = y.to(device)\n",
        "\n",
        "z = x * y\n",
        "print(z)"
      ],
      "metadata": {
        "id": "pGN7ZTbN_LYq"
      },
      "execution_count": null,
      "outputs": []
    },
    {
      "cell_type": "code",
      "source": [
        "#データ準備1(データセットによる読み込み)\n",
        "\n",
        "#ライブラリインポート\n",
        "import torchvision.datasets as datasets\n",
        "\n",
        "# ダウンロード先ディレクトリ名\n",
        "data_root = './data'\n",
        "\n",
        "train_set0 = datasets.MNIST(\n",
        "    #元データダウンロード先の指定\n",
        "    root = data_root,\n",
        "    #訓練データか検証データか\n",
        "    train = True,\n",
        "    #元データがない場合にダウンロードするか\n",
        "    download = True)"
      ],
      "metadata": {
        "id": "ZGBcGoZ__UuI"
      },
      "execution_count": null,
      "outputs": []
    },
    {
      "cell_type": "code",
      "source": [
        "#ダウンロードしたの確認\n",
        "\n",
        "!ls -lR ./data/MNIST"
      ],
      "metadata": {
        "id": "LSAQmD0-EgI0"
      },
      "execution_count": null,
      "outputs": []
    },
    {
      "cell_type": "code",
      "source": [
        "#データの件数の確認\n",
        "print('データ件数: ', len(train_set0))\n",
        "\n",
        "#最初の要素の取得\n",
        "image, label = train_set0[0]\n",
        "\n",
        "print('入力データの型:', type(image))\n",
        "print('正解データの型:', type(label))"
      ],
      "metadata": {
        "id": "8xJ3Qt_TGBdG"
      },
      "execution_count": null,
      "outputs": []
    },
    {
      "cell_type": "code",
      "source": [
        "#入力データの画像表示\n",
        "plt.figure(figsize=(2,3))\n",
        "plt.title(f'{label}')\n",
        "plt.imshow(image,cmap='gray_r')\n",
        "plt.axis('off')\n",
        "plt.show()"
      ],
      "metadata": {
        "id": "dV-1F3qcIFZv"
      },
      "execution_count": null,
      "outputs": []
    },
    {
      "cell_type": "code",
      "source": [
        "#正解データ付きで、最初の20個のイメージ表示\n",
        "plt.figure(figsize=(10, 3))\n",
        "for i in range(20):\n",
        "  ax = plt.subplot(2, 10, i + 1)\n",
        "\n",
        "  #imageとlabelの取得\n",
        "  image, label = train_set0[i]\n",
        "\n",
        "  #イメージ表示\n",
        "  plt.imshow(image, cmap='gray_r')\n",
        "  ax.set_title(f'{label}')\n",
        "  ax.get_xaxis().set_visible(False)\n",
        "  ax.get_yaxis().set_visible(False)\n",
        "plt.show()"
      ],
      "metadata": {
        "id": "-8LZtonfIb5L"
      },
      "execution_count": null,
      "outputs": []
    },
    {
      "cell_type": "code",
      "source": [
        "#データ前処理\n",
        "#Step1 ToTensorの利用\n",
        "\n",
        "import torchvision.transforms as transforms\n",
        "\n",
        "transform1 = transforms.Compose([\n",
        "        #　データのTensor化\n",
        "        transforms.ToTensor(),\n",
        "])\n",
        "\n",
        "train_set1 = datasets.MNIST(\n",
        "    root=data_root, train=True, download=True,\n",
        "    transform = transform1)"
      ],
      "metadata": {
        "id": "3dFfzT-dKOIY"
      },
      "execution_count": null,
      "outputs": []
    },
    {
      "cell_type": "code",
      "source": [
        "#変換結果の確認\n",
        "image, label = train_set1[0]\n",
        "print('入力データの型: ', type(image))\n",
        "print('入力データのshape: ', image.shape)\n",
        "print('最小値: ', image.data.min())\n",
        "print('最大値: ', image.data.max())"
      ],
      "metadata": {
        "id": "yaN3zJlIM2-9"
      },
      "execution_count": null,
      "outputs": []
    },
    {
      "cell_type": "code",
      "source": [
        "#Step2 Notmalizeの利用\n",
        "transform2 = transforms.Compose([\n",
        "        #データのTensor化\n",
        "        transforms.ToTensor(),\n",
        "\n",
        "        #データの正規化\n",
        "        transforms.Normalize(0.5, 0.5),\n",
        "])\n",
        "\n",
        "train_set2 = datasets.MNIST(\n",
        "    root = data_root, train = True, download = True,\n",
        "    transform = transform2)"
      ],
      "metadata": {
        "id": "xPzvS9jSPCYd"
      },
      "execution_count": null,
      "outputs": []
    },
    {
      "cell_type": "code",
      "source": [
        "#変換結果の確認\n",
        "image, label = train_set2[0]\n",
        "print('shape: ', image.shape)\n",
        "print('最小値: ', image.data.min())\n",
        "print('最大値: ', image.data.max())"
      ],
      "metadata": {
        "id": "aNhSxASyQe-L"
      },
      "execution_count": null,
      "outputs": []
    },
    {
      "cell_type": "code",
      "source": [
        "#Step3 Lambdaを利用して1階テンソル化\n",
        "transform3 = transforms.Compose([\n",
        "        # データのTensor化\n",
        "        transforms.ToTensor(),\n",
        "\n",
        "        #データの正規化\n",
        "        transforms.Normalize(0.5, 0.5),\n",
        "\n",
        "        #Tensorの1階テンソル化\n",
        "        transforms.Lambda(lambda x: x.view(-1)),\n",
        "])\n",
        "\n",
        "train_set3 = datasets.MNIST(\n",
        "    root = data_root, train = True,\n",
        "    download=True, transform=transform3)"
      ],
      "metadata": {
        "id": "3-6IJQ2FQwKs"
      },
      "execution_count": null,
      "outputs": []
    },
    {
      "cell_type": "code",
      "source": [
        "#変換結果の確認\n",
        "image, label = train_set3[0]\n",
        "print('shape: ', image.shape)\n",
        "print('最小値: ', image.data.min())\n",
        "print('最大値: ', image.data.max())"
      ],
      "metadata": {
        "id": "PGAw5_dQS-51"
      },
      "execution_count": null,
      "outputs": []
    },
    {
      "cell_type": "markdown",
      "source": [
        "## 最終的な実装\n",
        "\n",
        "#### データ変換用関数 Transforms\n",
        "#### (1) Imageをテンソル化\n",
        "#### (2) [0, 1]の範囲の値を[-1, 1]の範囲にする\n",
        "#### (3) データのshapeを[1, 28, 28]から[784]に変換\n"
      ],
      "metadata": {
        "id": "RtfnQxoWU-xW"
      }
    },
    {
      "cell_type": "code",
      "source": [
        "transform = transforms.Compose([\n",
        "        transforms.ToTensor(),\n",
        "        transforms.Normalize(0.5, 0.5),\n",
        "        transforms.Lambda(lambda x: x.view(-1)),\n",
        "])"
      ],
      "metadata": {
        "id": "YbqV2TcITd3D"
      },
      "execution_count": null,
      "outputs": []
    },
    {
      "cell_type": "code",
      "source": [
        "#データ取得用関数Dataset\n",
        "\n",
        "#訓練用データセットの定義\n",
        "train_set = datasets.MNIST(\n",
        "    root = data_root, train = True,\n",
        "    download = True, transform = transform)\n",
        "\n",
        "#検証データセットの定義\n",
        "test_set = datasets.MNIST(\n",
        "    root = data_root, train = False,\n",
        "    download = True, transform = transform)"
      ],
      "metadata": {
        "id": "aODV0lAJXcm1"
      },
      "execution_count": null,
      "outputs": []
    },
    {
      "cell_type": "markdown",
      "source": [
        "### データローダーによるミニバッチ用データ生成"
      ],
      "metadata": {
        "id": "LgWxqTpaZbBj"
      }
    },
    {
      "cell_type": "code",
      "source": [
        "from torch.utils.data import DataLoader\n",
        "\n",
        "batch_size = 500\n",
        "\n",
        "#訓練用データローダー（シャッフルもする）\n",
        "train_loader = DataLoader(\n",
        "    train_set, batch_size = batch_size,\n",
        "    shuffle = True)\n",
        "\n",
        "#検証用データローダー(シャッフル不要)\n",
        "test_loader = DataLoader(\n",
        "    train_set, batch_size = batch_size,\n",
        "    shuffle = False)"
      ],
      "metadata": {
        "id": "7xZQLnYoX6WO"
      },
      "execution_count": null,
      "outputs": []
    },
    {
      "cell_type": "code",
      "source": [
        ""
      ],
      "metadata": {
        "id": "VdDQrJ4XcLJQ"
      },
      "execution_count": null,
      "outputs": []
    }
  ]
}