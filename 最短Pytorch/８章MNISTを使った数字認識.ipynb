{
  "nbformat": 4,
  "nbformat_minor": 0,
  "metadata": {
    "colab": {
      "name": "最短Pytorchの導入.ipynb",
      "provenance": [],
      "authorship_tag": "ABX9TyNIPwDHMvqxvlbvcPHZqUEo",
      "include_colab_link": true
    },
    "kernelspec": {
      "name": "python3",
      "display_name": "Python 3"
    },
    "language_info": {
      "name": "python"
    },
    "accelerator": "GPU"
  },
  "cells": [
    {
      "cell_type": "markdown",
      "metadata": {
        "id": "view-in-github",
        "colab_type": "text"
      },
      "source": [
        "<a href=\"https://colab.research.google.com/github/newstage75/ML_study/blob/master/%E6%9C%80%E7%9F%ADPytorch/%EF%BC%98%E7%AB%A0MNIST%E3%82%92%E4%BD%BF%E3%81%A3%E3%81%9F%E6%95%B0%E5%AD%97%E8%AA%8D%E8%AD%98.ipynb\" target=\"_parent\"><img src=\"https://colab.research.google.com/assets/colab-badge.svg\" alt=\"Open In Colab\"/></a>"
      ]
    },
    {
      "cell_type": "markdown",
      "source": [
        "#８章MNISTを使った数字認識"
      ],
      "metadata": {
        "id": "CEgOOTrGJU31"
      }
    },
    {
      "cell_type": "code",
      "execution_count": 1,
      "metadata": {
        "colab": {
          "base_uri": "https://localhost:8080/"
        },
        "id": "48AexnpDJAMO",
        "outputId": "cc151998-1f31-4aa7-c6c2-998f9ed5ae87"
      },
      "outputs": [
        {
          "output_type": "stream",
          "name": "stdout",
          "text": [
            "Requirement already satisfied: six>=1.5 in /usr/local/lib/python3.7/dist-packages (from python-dateutil>=2.1->matplotlib->japanize_matplotlib) (1.15.0)\n",
            "Requirement already satisfied: typing-extensions in /usr/local/lib/python3.7/dist-packages (from torch->torchviz) (4.2.0)\n",
            "Requirement already satisfied: torchinfo in /usr/local/lib/python3.7/dist-packages (1.6.6)\n"
          ]
        }
      ],
      "source": [
        "# 必要ライブラリの導入\n",
        "\n",
        "!pip install japanize_matplotlib | tail -n 1\n",
        "!pip install torchviz | tail -n 1\n",
        "!pip install torchinfo | tail -n 1"
      ]
    },
    {
      "cell_type": "code",
      "source": [
        "# 必要ライブラリのインポート\n",
        "\n",
        "%matplotlib inline\n",
        "import numpy as np\n",
        "import matplotlib.pyplot as plt\n",
        "import japanize_matplotlib\n",
        "from IPython.display import display"
      ],
      "metadata": {
        "id": "ghCJoyn3JbCd"
      },
      "execution_count": 2,
      "outputs": []
    },
    {
      "cell_type": "code",
      "source": [
        "# torch関連ライブラリのインポート\n",
        "\n",
        "import torch\n",
        "import torch.nn as nn\n",
        "import torch.optim as optim\n",
        "from torchinfo import summary\n",
        "from torchviz import make_dot"
      ],
      "metadata": {
        "id": "wJKfNpszLiia"
      },
      "execution_count": 3,
      "outputs": []
    },
    {
      "cell_type": "code",
      "source": [
        "# warning表示off\n",
        "import warnings\n",
        "warnings.simplefilter('ignore')\n",
        "\n",
        "# デフォルトフォントサイズ変更\n",
        "plt.rcParams['font.size'] = 14\n",
        "\n",
        "# デフォルトグラフサイズ変更\n",
        "plt.rcParams['figure.figsize'] = (6,6)\n",
        "\n",
        "# デフォルトで方眼表示ON\n",
        "plt.rcParams['axes.grid'] = True\n",
        "\n",
        "# numpyの表示桁数設定\n",
        "np.set_printoptions(suppress=True, precision=5)"
      ],
      "metadata": {
        "id": "TTSBA8aYJeL0"
      },
      "execution_count": 4,
      "outputs": []
    },
    {
      "cell_type": "markdown",
      "source": [
        "###GPU利用"
      ],
      "metadata": {
        "id": "oeShu5Hz9Ypf"
      }
    },
    {
      "cell_type": "markdown",
      "source": [
        "####GPU利用のルール\n",
        "\n",
        "1.テンソル変数はデータがCPU/GPU上のどちらにあるのかを属性として持っている\n",
        "\n",
        "2.CPUとGPU間のデータはto関数で転送する\n",
        "\n",
        "3.2つの変数が両方ともGPU上にある場合、演算はGPUで行われる\n",
        "\n",
        "4.変数の片方がCPU、もう一方がGPUの場合はエラーになる。"
      ],
      "metadata": {
        "id": "lkMzQv0i9tnk"
      }
    },
    {
      "cell_type": "code",
      "source": [
        "#デバイスの割り当て\n",
        "device = torch.device(\"cuda:0\" if torch.cuda.is_available() else \"cpu\")\n",
        "print(device)"
      ],
      "metadata": {
        "colab": {
          "base_uri": "https://localhost:8080/"
        },
        "id": "ipU6X6Io9XMK",
        "outputId": "1c6566d8-f80f-432a-a4fd-990b185c17ac"
      },
      "execution_count": 5,
      "outputs": [
        {
          "output_type": "stream",
          "name": "stdout",
          "text": [
            "cuda:0\n"
          ]
        }
      ]
    },
    {
      "cell_type": "code",
      "source": [
        "#テスト用tensor変数x, y\n",
        "x_np = np.arange(-2.0, 2.1, 0.25)\n",
        "y_np = np.arange(-1.0, 3.1, 0.25)\n",
        "x = torch.tensor(x_np).float()\n",
        "y = torch.tensor(y_np).float()\n",
        "\n",
        "z = x * y\n",
        "print(z)"
      ],
      "metadata": {
        "colab": {
          "base_uri": "https://localhost:8080/"
        },
        "id": "TnjOIbqo9mfe",
        "outputId": "fdd24d3d-b2d3-4013-bfa1-c0b9f5b5eb4b"
      },
      "execution_count": 6,
      "outputs": [
        {
          "output_type": "stream",
          "name": "stdout",
          "text": [
            "tensor([ 2.0000,  1.3125,  0.7500,  0.3125, -0.0000, -0.1875, -0.2500, -0.1875,\n",
            "         0.0000,  0.3125,  0.7500,  1.3125,  2.0000,  2.8125,  3.7500,  4.8125,\n",
            "         6.0000])\n"
          ]
        }
      ]
    },
    {
      "cell_type": "code",
      "source": [
        "#変数xをGPUに送る\n",
        "x = x.to(device)\n",
        "\n",
        "print('x: ', x.device)\n",
        "print('y: ', y.device)"
      ],
      "metadata": {
        "colab": {
          "base_uri": "https://localhost:8080/"
        },
        "id": "Yoda0v3--239",
        "outputId": "fea287a7-f11d-44c2-ebca-7a085bccb8dc"
      },
      "execution_count": 7,
      "outputs": [
        {
          "output_type": "stream",
          "name": "stdout",
          "text": [
            "x:  cuda:0\n",
            "y:  cpu\n"
          ]
        }
      ]
    },
    {
      "cell_type": "code",
      "source": [
        "#変数yもGPUに送る\n",
        "y = y.to(device)\n",
        "\n",
        "z = x * y\n",
        "print(z)"
      ],
      "metadata": {
        "id": "pGN7ZTbN_LYq",
        "colab": {
          "base_uri": "https://localhost:8080/"
        },
        "outputId": "74717012-cf72-4827-e4f7-c822485c5f65"
      },
      "execution_count": 9,
      "outputs": [
        {
          "output_type": "stream",
          "name": "stdout",
          "text": [
            "tensor([ 2.0000,  1.3125,  0.7500,  0.3125, -0.0000, -0.1875, -0.2500, -0.1875,\n",
            "         0.0000,  0.3125,  0.7500,  1.3125,  2.0000,  2.8125,  3.7500,  4.8125,\n",
            "         6.0000], device='cuda:0')\n"
          ]
        }
      ]
    },
    {
      "cell_type": "code",
      "source": [
        "#データ準備1(データセットによる読み込み)\n",
        "\n",
        "#ライブラリインポート\n",
        "import torchvision.datasets as datasets\n",
        "\n",
        "# ダウンロード先ディレクトリ名\n",
        "data_root = './data'\n",
        "\n",
        "train_set0 = datasets.MNIST(\n",
        "    #元データダウンロード先の指定\n",
        "    root = data_root,\n",
        "    #訓練データか検証データか\n",
        "    train = True,\n",
        "    #元データがない場合にダウンロードするか\n",
        "    download = True)"
      ],
      "metadata": {
        "id": "ZGBcGoZ__UuI"
      },
      "execution_count": 10,
      "outputs": []
    },
    {
      "cell_type": "code",
      "source": [
        "#ダウンロードしたの確認\n",
        "\n",
        "!ls -lR ./data/MNIST"
      ],
      "metadata": {
        "id": "LSAQmD0-EgI0",
        "colab": {
          "base_uri": "https://localhost:8080/"
        },
        "outputId": "64f5771c-f79c-4344-cabd-936fd08695d8"
      },
      "execution_count": 11,
      "outputs": [
        {
          "output_type": "stream",
          "name": "stdout",
          "text": [
            "./data/MNIST:\n",
            "total 4\n",
            "drwxr-xr-x 2 root root 4096 May 22 04:41 raw\n",
            "\n",
            "./data/MNIST/raw:\n",
            "total 65008\n",
            "-rw-r--r-- 1 root root  7840016 May 22 04:41 t10k-images-idx3-ubyte\n",
            "-rw-r--r-- 1 root root  1648877 May 22 04:41 t10k-images-idx3-ubyte.gz\n",
            "-rw-r--r-- 1 root root    10008 May 22 04:41 t10k-labels-idx1-ubyte\n",
            "-rw-r--r-- 1 root root     4542 May 22 04:41 t10k-labels-idx1-ubyte.gz\n",
            "-rw-r--r-- 1 root root 47040016 May 22 04:41 train-images-idx3-ubyte\n",
            "-rw-r--r-- 1 root root  9912422 May 22 04:41 train-images-idx3-ubyte.gz\n",
            "-rw-r--r-- 1 root root    60008 May 22 04:41 train-labels-idx1-ubyte\n",
            "-rw-r--r-- 1 root root    28881 May 22 04:41 train-labels-idx1-ubyte.gz\n"
          ]
        }
      ]
    },
    {
      "cell_type": "code",
      "source": [
        "#データの件数の確認\n",
        "print('データ件数: ', len(train_set0))\n",
        "\n",
        "#最初の要素の取得\n",
        "image, label = train_set0[0]\n",
        "\n",
        "print('入力データの型:', type(image))\n",
        "print('正解データの型:', type(label))"
      ],
      "metadata": {
        "id": "8xJ3Qt_TGBdG",
        "colab": {
          "base_uri": "https://localhost:8080/"
        },
        "outputId": "1933f6f1-ac28-4252-e60d-3939dde6ed3c"
      },
      "execution_count": 12,
      "outputs": [
        {
          "output_type": "stream",
          "name": "stdout",
          "text": [
            "データ件数:  60000\n",
            "入力データの型: <class 'PIL.Image.Image'>\n",
            "正解データの型: <class 'int'>\n"
          ]
        }
      ]
    },
    {
      "cell_type": "code",
      "source": [
        "#入力データの画像表示\n",
        "plt.figure(figsize=(2,3))\n",
        "plt.title(f'{label}')\n",
        "plt.imshow(image,cmap='gray_r')\n",
        "plt.axis('off')\n",
        "plt.show()"
      ],
      "metadata": {
        "id": "dV-1F3qcIFZv",
        "colab": {
          "base_uri": "https://localhost:8080/",
          "height": 162
        },
        "outputId": "27d1aa28-14c7-4f62-caaa-7e5730506060"
      },
      "execution_count": 13,
      "outputs": [
        {
          "output_type": "display_data",
          "data": {
            "text/plain": [
              "<Figure size 144x216 with 1 Axes>"
            ],
            "image/png": "[encoded data removed]"
          },
          "metadata": {
            "needs_background": "light"
          }
        }
      ]
    },
    {
      "cell_type": "code",
      "source": [
        "#正解データ付きで、最初の20個のイメージ表示\n",
        "plt.figure(figsize=(10, 3))\n",
        "for i in range(20):\n",
        "  ax = plt.subplot(2, 10, i + 1)\n",
        "\n",
        "  #imageとlabelの取得\n",
        "  image, label = train_set0[i]\n",
        "\n",
        "  #イメージ表示\n",
        "  plt.imshow(image, cmap='gray_r')\n",
        "  ax.set_title(f'{label}')\n",
        "  ax.get_xaxis().set_visible(False)\n",
        "  ax.get_yaxis().set_visible(False)\n",
        "plt.show()"
      ],
      "metadata": {
        "id": "-8LZtonfIb5L",
        "colab": {
          "base_uri": "https://localhost:8080/",
          "height": 190
        },
        "outputId": "818403e0-00e7-4722-9531-2788a6630afc"
      },
      "execution_count": 14,
      "outputs": [
        {
          "output_type": "display_data",
          "data": {
            "text/plain": [
              "<Figure size 720x216 with 20 Axes>"
            ],
            "image/png": "[encoded data removed]"
          },
          "metadata": {
            "needs_background": "light"
          }
        }
      ]
    },
    {
      "cell_type": "code",
      "source": [
        "#データ前処理\n",
        "#Step1 ToTensorの利用\n",
        "\n",
        "import torchvision.transforms as transforms\n",
        "\n",
        "transform1 = transforms.Compose([\n",
        "        #　データのTensor化\n",
        "        transforms.ToTensor(),\n",
        "])\n",
        "\n",
        "train_set1 = datasets.MNIST(\n",
        "    root=data_root, train=True, download=True,\n",
        "    transform = transform1)"
      ],
      "metadata": {
        "id": "3dFfzT-dKOIY"
      },
      "execution_count": 15,
      "outputs": []
    },
    {
      "cell_type": "code",
      "source": [
        "#変換結果の確認\n",
        "image, label = train_set1[0]\n",
        "print('入力データの型: ', type(image))\n",
        "print('入力データのshape: ', image.shape)\n",
        "print('最小値: ', image.data.min())\n",
        "print('最大値: ', image.data.max())"
      ],
      "metadata": {
        "id": "yaN3zJlIM2-9",
        "colab": {
          "base_uri": "https://localhost:8080/"
        },
        "outputId": "8ebe2b74-7fdc-476d-c419-8a643b2d3b0d"
      },
      "execution_count": 16,
      "outputs": [
        {
          "output_type": "stream",
          "name": "stdout",
          "text": [
            "入力データの型:  <class 'torch.Tensor'>\n",
            "入力データのshape:  torch.Size([1, 28, 28])\n",
            "最小値:  tensor(0.)\n",
            "最大値:  tensor(1.)\n"
          ]
        }
      ]
    },
    {
      "cell_type": "code",
      "source": [
        "#Step2 Notmalizeの利用\n",
        "transform2 = transforms.Compose([\n",
        "        #データのTensor化\n",
        "        transforms.ToTensor(),\n",
        "\n",
        "        #データの正規化\n",
        "        transforms.Normalize(0.5, 0.5),\n",
        "])\n",
        "\n",
        "train_set2 = datasets.MNIST(\n",
        "    root = data_root, train = True, download = True,\n",
        "    transform = transform2)"
      ],
      "metadata": {
        "id": "xPzvS9jSPCYd"
      },
      "execution_count": 17,
      "outputs": []
    },
    {
      "cell_type": "code",
      "source": [
        "#変換結果の確認\n",
        "image, label = train_set2[0]\n",
        "print('shape: ', image.shape)\n",
        "print('最小値: ', image.data.min())\n",
        "print('最大値: ', image.data.max())"
      ],
      "metadata": {
        "id": "aNhSxASyQe-L",
        "colab": {
          "base_uri": "https://localhost:8080/"
        },
        "outputId": "19809f22-d02b-4751-8bac-c3028ba4fc13"
      },
      "execution_count": 18,
      "outputs": [
        {
          "output_type": "stream",
          "name": "stdout",
          "text": [
            "shape:  torch.Size([1, 28, 28])\n",
            "最小値:  tensor(-1.)\n",
            "最大値:  tensor(1.)\n"
          ]
        }
      ]
    },
    {
      "cell_type": "code",
      "source": [
        "#Step3 Lambdaを利用して1階テンソル化\n",
        "transform3 = transforms.Compose([\n",
        "        # データのTensor化\n",
        "        transforms.ToTensor(),\n",
        "\n",
        "        #データの正規化\n",
        "        transforms.Normalize(0.5, 0.5),\n",
        "\n",
        "        #Tensorの1階テンソル化\n",
        "        transforms.Lambda(lambda x: x.view(-1)),\n",
        "])\n",
        "\n",
        "train_set3 = datasets.MNIST(\n",
        "    root = data_root, train = True,\n",
        "    download=True, transform=transform3)"
      ],
      "metadata": {
        "id": "3-6IJQ2FQwKs"
      },
      "execution_count": 19,
      "outputs": []
    },
    {
      "cell_type": "code",
      "source": [
        "#変換結果の確認\n",
        "image, label = train_set3[0]\n",
        "print('shape: ', image.shape)\n",
        "print('最小値: ', image.data.min())\n",
        "print('最大値: ', image.data.max())"
      ],
      "metadata": {
        "id": "PGAw5_dQS-51",
        "colab": {
          "base_uri": "https://localhost:8080/"
        },
        "outputId": "b262b0a1-76b7-49c3-fffc-59f3c48af7e6"
      },
      "execution_count": 20,
      "outputs": [
        {
          "output_type": "stream",
          "name": "stdout",
          "text": [
            "shape:  torch.Size([784])\n",
            "最小値:  tensor(-1.)\n",
            "最大値:  tensor(1.)\n"
          ]
        }
      ]
    },
    {
      "cell_type": "markdown",
      "source": [
        "## 最終的な実装\n",
        "\n",
        "#### データ変換用関数 Transforms\n",
        "#### (1) Imageをテンソル化\n",
        "#### (2) [0, 1]の範囲の値を[-1, 1]の範囲にする\n",
        "#### (3) データのshapeを[1, 28, 28]から[784]に変換\n"
      ],
      "metadata": {
        "id": "RtfnQxoWU-xW"
      }
    },
    {
      "cell_type": "code",
      "source": [
        "transform = transforms.Compose([\n",
        "        transforms.ToTensor(),\n",
        "        transforms.Normalize(0.5, 0.5),\n",
        "        transforms.Lambda(lambda x: x.view(-1)),\n",
        "])"
      ],
      "metadata": {
        "id": "YbqV2TcITd3D"
      },
      "execution_count": 21,
      "outputs": []
    },
    {
      "cell_type": "code",
      "source": [
        "#データ取得用関数Dataset\n",
        "\n",
        "#訓練用データセットの定義\n",
        "train_set = datasets.MNIST(\n",
        "    root = data_root, train = True,\n",
        "    download = True, transform = transform)\n",
        "\n",
        "#検証データセットの定義\n",
        "test_set = datasets.MNIST(\n",
        "    root = data_root, train = False,\n",
        "    download = True, transform = transform)"
      ],
      "metadata": {
        "id": "aODV0lAJXcm1"
      },
      "execution_count": 22,
      "outputs": []
    },
    {
      "cell_type": "markdown",
      "source": [
        "### データローダーによるミニバッチ用データ生成"
      ],
      "metadata": {
        "id": "LgWxqTpaZbBj"
      }
    },
    {
      "cell_type": "code",
      "source": [
        "from torch.utils.data import DataLoader\n",
        "\n",
        "batch_size = 500\n",
        "\n",
        "#訓練用データローダー（シャッフルもする）\n",
        "train_loader = DataLoader(\n",
        "    train_set, batch_size = batch_size,\n",
        "    shuffle = True)\n",
        "\n",
        "#検証用データローダー(シャッフル不要)\n",
        "test_loader = DataLoader(\n",
        "    train_set, batch_size = batch_size,\n",
        "    shuffle = False)"
      ],
      "metadata": {
        "id": "7xZQLnYoX6WO"
      },
      "execution_count": 23,
      "outputs": []
    },
    {
      "cell_type": "code",
      "source": [
        "#何組のデータが取得できるか\n",
        "print(len(train_loader))\n",
        "\n",
        "#DataLoarderから最初の1セットを取得する\n",
        "for images, labels in train_loader:\n",
        "  break\n",
        "\n",
        "print(images.shape)\n",
        "print(labels.shape)"
      ],
      "metadata": {
        "id": "VdDQrJ4XcLJQ",
        "colab": {
          "base_uri": "https://localhost:8080/"
        },
        "outputId": "cbd8611f-cc04-46e4-cb67-72a962ff3f79"
      },
      "execution_count": 24,
      "outputs": [
        {
          "output_type": "stream",
          "name": "stdout",
          "text": [
            "120\n",
            "torch.Size([500, 784])\n",
            "torch.Size([500])\n"
          ]
        }
      ]
    },
    {
      "cell_type": "code",
      "source": [
        "#イメージ表示\n",
        "plt.figure(figsize=(10, 3))\n",
        "for i in range(20):\n",
        "  ax = plt.subplot(2, 10, i+1)\n",
        "\n",
        "  #numpyに変換\n",
        "  image = images[i].numpy()\n",
        "  label = labels[i]\n",
        "\n",
        "  #imgの範囲を[0, 1]に戻す\n",
        "  image2 = (image + 1)/2\n",
        "  #イメージ表示\n",
        "  plt.imshow(image2.reshape(28, 28), cmap='gray_r')\n",
        "  ax.set_title(f'{label}')\n",
        "  ax.get_xaxis().set_visible(False)\n",
        "  ax.get_yaxis().set_visible(False)\n",
        "plt.show()"
      ],
      "metadata": {
        "colab": {
          "base_uri": "https://localhost:8080/",
          "height": 190
        },
        "id": "dMOWbYOOe5CP",
        "outputId": "d49b2ee0-b97a-4cdc-b2df-8613f2af05f0"
      },
      "execution_count": 25,
      "outputs": [
        {
          "output_type": "display_data",
          "data": {
            "text/plain": [
              "<Figure size 720x216 with 20 Axes>"
            ],
            "image/png": "[encoded data removed]"
          },
          "metadata": {
            "needs_background": "light"
          }
        }
      ]
    },
    {
      "cell_type": "code",
      "source": [
        "#モデル定義\n",
        "n_input = image.shape[0]\n",
        "\n",
        "#出力次元数\n",
        "n_output = len(set(list(labels.data.numpy())))\n",
        "\n",
        "#隠れ層のノード数\n",
        "n_hidden = 128\n",
        "\n",
        "#結果確認\n",
        "print(n_input)\n",
        "print(n_output)\n",
        "print(n_hidden)"
      ],
      "metadata": {
        "colab": {
          "base_uri": "https://localhost:8080/"
        },
        "id": "y0C_RtM4g5Sy",
        "outputId": "54c0fa97-09c7-4f71-9a98-52a75f6d2045"
      },
      "execution_count": 27,
      "outputs": [
        {
          "output_type": "stream",
          "name": "stdout",
          "text": [
            "784\n",
            "10\n",
            "128\n"
          ]
        }
      ]
    },
    {
      "cell_type": "code",
      "source": [
        "#モデル定義\n",
        "#784入力10出力、１隠れ層のニューラルネットワークモデル\n",
        "\n",
        "class Net(nn.Module):\n",
        "  def __init__(self, n_input, n_output, n_hidden):\n",
        "    super().__init__()\n",
        "    self.l1 = nn.Linear(n_input, n_hidden)\n",
        "\n",
        "    self.l2 = nn.Linear(n_hidden, n_output)\n",
        "\n",
        "    self.relu = nn.ReLU(inplace=True)\n",
        "\n",
        "  def forward(self, x):\n",
        "    x1 = self.l1(x)\n",
        "    x2 = self.relu(x1)\n",
        "    x3 = self.l2(x2)\n",
        "    return x3"
      ],
      "metadata": {
        "id": "eB9kliIfhFXr"
      },
      "execution_count": 28,
      "outputs": []
    },
    {
      "cell_type": "code",
      "source": [
        "#乱数の固定化\n",
        "torch.manual_seed(123)\n",
        "torch.cuda.manual_seed(123)\n",
        "\n",
        "#モデルインスタンス生成\n",
        "net = Net(n_input, n_output, n_hidden)\n",
        "\n",
        "#モデルをGPU側に送る\n",
        "net = net.to(device)"
      ],
      "metadata": {
        "id": "Ub6OoZZ4j0My"
      },
      "execution_count": 29,
      "outputs": []
    },
    {
      "cell_type": "code",
      "source": [
        "#最適化アルゴリズムと損失関数\n",
        "lr = 0.01\n",
        "\n",
        "#アルゴリズム: 勾配降下法\n",
        "optimizer = torch.optim.SGD(net.parameters(), lr=lr)\n",
        "\n",
        "#損失関数\n",
        "criterion = nn.CrossEntropyLoss()"
      ],
      "metadata": {
        "id": "pxJJaWgekHXG"
      },
      "execution_count": 30,
      "outputs": []
    },
    {
      "cell_type": "code",
      "source": [
        "#モデル確認\n",
        "for parameter in net.named_parameters():\n",
        "  print(parameter)"
      ],
      "metadata": {
        "colab": {
          "base_uri": "https://localhost:8080/"
        },
        "id": "HKsxr9UXkGDd",
        "outputId": "97a4eaf7-6b29-43fe-8b59-2b96c855f9b2"
      },
      "execution_count": 31,
      "outputs": [
        {
          "output_type": "stream",
          "name": "stdout",
          "text": [
            "('l1.weight', Parameter containing:\n",
            "tensor([[-0.0146,  0.0012, -0.0177,  ...,  0.0277,  0.0200,  0.0315],\n",
            "        [ 0.0184, -0.0322,  0.0175,  ...,  0.0089, -0.0028, -0.0033],\n",
            "        [ 0.0092,  0.0261,  0.0075,  ...,  0.0061,  0.0267, -0.0258],\n",
            "        ...,\n",
            "        [ 0.0235, -0.0026, -0.0129,  ...,  0.0322, -0.0059, -0.0169],\n",
            "        [-0.0328, -0.0258,  0.0124,  ..., -0.0049,  0.0006,  0.0334],\n",
            "        [ 0.0187, -0.0076, -0.0202,  ...,  0.0325, -0.0159, -0.0240]],\n",
            "       device='cuda:0', requires_grad=True))\n",
            "('l1.bias', Parameter containing:\n",
            "tensor([ 0.0325, -0.0298,  0.0013,  0.0199,  0.0268, -0.0248, -0.0172, -0.0355,\n",
            "         0.0122, -0.0048,  0.0214,  0.0202, -0.0243,  0.0015, -0.0276,  0.0296,\n",
            "         0.0341, -0.0228,  0.0230,  0.0347, -0.0091, -0.0346,  0.0206, -0.0060,\n",
            "         0.0329,  0.0047,  0.0180,  0.0101,  0.0177, -0.0309,  0.0228, -0.0224,\n",
            "         0.0321,  0.0179,  0.0321,  0.0184,  0.0219, -0.0089,  0.0310, -0.0039,\n",
            "        -0.0074, -0.0317,  0.0192, -0.0021,  0.0190,  0.0038,  0.0334, -0.0027,\n",
            "        -0.0127,  0.0229, -0.0265,  0.0023, -0.0162, -0.0134, -0.0027,  0.0212,\n",
            "        -0.0205, -0.0144,  0.0121,  0.0001,  0.0086,  0.0033,  0.0123,  0.0213,\n",
            "        -0.0177,  0.0247, -0.0109, -0.0222,  0.0228, -0.0110, -0.0074, -0.0089,\n",
            "        -0.0205,  0.0323, -0.0207, -0.0205, -0.0028, -0.0341, -0.0304,  0.0144,\n",
            "         0.0072,  0.0326, -0.0342, -0.0329, -0.0032, -0.0200, -0.0029, -0.0098,\n",
            "         0.0220, -0.0160,  0.0099,  0.0033, -0.0289,  0.0110,  0.0199,  0.0131,\n",
            "        -0.0279,  0.0122,  0.0237,  0.0126, -0.0055, -0.0088, -0.0057, -0.0048,\n",
            "         0.0007, -0.0017, -0.0324,  0.0048, -0.0134,  0.0334,  0.0298, -0.0060,\n",
            "         0.0263,  0.0113, -0.0113,  0.0150,  0.0091, -0.0311, -0.0079,  0.0002,\n",
            "        -0.0282, -0.0016,  0.0304, -0.0237, -0.0157, -0.0255,  0.0006,  0.0100],\n",
            "       device='cuda:0', requires_grad=True))\n",
            "('l2.weight', Parameter containing:\n",
            "tensor([[ 0.0107,  0.0714,  0.0153,  ...,  0.0704,  0.0505, -0.0382],\n",
            "        [-0.0066,  0.0348,  0.0143,  ..., -0.0039, -0.0141,  0.0130],\n",
            "        [-0.0251, -0.0654,  0.0567,  ..., -0.0435,  0.0154,  0.0256],\n",
            "        ...,\n",
            "        [-0.0131,  0.0147, -0.0452,  ...,  0.0344, -0.0539,  0.0466],\n",
            "        [ 0.0771, -0.0510,  0.0769,  ..., -0.0257, -0.0351,  0.0670],\n",
            "        [ 0.0456,  0.0628, -0.0649,  ..., -0.0804,  0.0707,  0.0119]],\n",
            "       device='cuda:0', requires_grad=True))\n",
            "('l2.bias', Parameter containing:\n",
            "tensor([-0.0787, -0.0282, -0.0108,  0.0021, -0.0330, -0.0162, -0.0825,  0.0590,\n",
            "         0.0566, -0.0631], device='cuda:0', requires_grad=True))\n"
          ]
        }
      ]
    },
    {
      "cell_type": "code",
      "source": [
        "print(net)"
      ],
      "metadata": {
        "colab": {
          "base_uri": "https://localhost:8080/"
        },
        "id": "knTckzy-kkfw",
        "outputId": "538d7631-bdd2-463e-bb93-776b7be17e34"
      },
      "execution_count": 32,
      "outputs": [
        {
          "output_type": "stream",
          "name": "stdout",
          "text": [
            "Net(\n",
            "  (l1): Linear(in_features=784, out_features=128, bias=True)\n",
            "  (l2): Linear(in_features=128, out_features=10, bias=True)\n",
            "  (relu): ReLU(inplace=True)\n",
            ")\n"
          ]
        }
      ]
    },
    {
      "cell_type": "code",
      "source": [
        "#モデルのサマリー表示\n",
        "summary(net, (784,))"
      ],
      "metadata": {
        "colab": {
          "base_uri": "https://localhost:8080/"
        },
        "id": "qvt2heGskrm-",
        "outputId": "6cf0752a-1d67-4eae-e3e9-8323fdd6e3cd"
      },
      "execution_count": 33,
      "outputs": [
        {
          "output_type": "execute_result",
          "data": {
            "text/plain": [
              "==========================================================================================\n",
              "Layer (type:depth-idx)                   Output Shape              Param #\n",
              "==========================================================================================\n",
              "Net                                      --                        --\n",
              "├─Linear: 1-1                            [128]                     100,480\n",
              "├─ReLU: 1-2                              [128]                     --\n",
              "├─Linear: 1-3                            [10]                      1,290\n",
              "==========================================================================================\n",
              "Total params: 101,770\n",
              "Trainable params: 101,770\n",
              "Non-trainable params: 0\n",
              "Total mult-adds (M): 12.87\n",
              "==========================================================================================\n",
              "Input size (MB): 0.00\n",
              "Forward/backward pass size (MB): 0.00\n",
              "Params size (MB): 0.41\n",
              "Estimated Total Size (MB): 0.41\n",
              "=========================================================================================="
            ]
          },
          "metadata": {},
          "execution_count": 33
        }
      ]
    },
    {
      "cell_type": "code",
      "source": [
        "#勾配降下法\n",
        "#予測計算\n",
        "for images, labels in train_loader:\n",
        "  break"
      ],
      "metadata": {
        "id": "fa3iztFSkx7B"
      },
      "execution_count": 34,
      "outputs": []
    },
    {
      "cell_type": "code",
      "source": [
        "#データローダーから取得したデータをGPUに送る\n",
        "inputs = images.to(device)\n",
        "labels = labels.to(device)"
      ],
      "metadata": {
        "id": "sjLSGfUXlmRf"
      },
      "execution_count": 35,
      "outputs": []
    },
    {
      "cell_type": "code",
      "source": [
        "#予測計算\n",
        "outputs = net(inputs)\n",
        "\n",
        "#結果確認\n",
        "print(outputs)"
      ],
      "metadata": {
        "id": "rMZ03DY6lwt5",
        "outputId": "0841cafa-61c4-4fab-a747-23943f3783dd",
        "colab": {
          "base_uri": "https://localhost:8080/"
        }
      },
      "execution_count": 36,
      "outputs": [
        {
          "output_type": "stream",
          "name": "stdout",
          "text": [
            "tensor([[-0.3622, -0.1927, -0.0179,  ...,  0.1073,  0.1025, -0.0615],\n",
            "        [-0.4072, -0.1814,  0.0716,  ...,  0.1866,  0.1975,  0.1161],\n",
            "        [-0.3221, -0.0547, -0.2868,  ...,  0.1967, -0.0103,  0.1591],\n",
            "        ...,\n",
            "        [-0.2091, -0.1058,  0.2365,  ...,  0.1360,  0.0665,  0.0987],\n",
            "        [-0.2756, -0.2012,  0.1703,  ...,  0.1223,  0.2388,  0.0233],\n",
            "        [-0.3045, -0.2458,  0.1416,  ...,  0.1012,  0.0820, -0.1457]],\n",
            "       device='cuda:0', grad_fn=<AddmmBackward0>)\n"
          ]
        }
      ]
    },
    {
      "cell_type": "code",
      "source": [
        "#損失関数\n",
        "loss = criterion(outputs, labels)\n",
        "\n",
        "#損失値の取得\n",
        "print(loss.item())\n",
        "\n",
        "#損失の計算グラフ可視化\n",
        "g = make_dot(loss, params=dict(net.named_parameters()))\n",
        "display(g)"
      ],
      "metadata": {
        "id": "Nby_oCVll3W3",
        "outputId": "a1c25284-23fe-414a-de96-c758a18c8c27",
        "colab": {
          "base_uri": "https://localhost:8080/",
          "height": 736
        }
      },
      "execution_count": 37,
      "outputs": [
        {
          "output_type": "stream",
          "name": "stdout",
          "text": [
            "2.332887649536133\n"
          ]
        },
        {
          "output_type": "display_data",
          "data": {
            "text/plain": [
              "<graphviz.dot.Digraph at 0x7f58b6c37610>"
            ],
            "image/svg+xml": "<?xml version=\"1.0\" encoding=\"UTF-8\" standalone=\"no\"?>\n<!DOCTYPE svg PUBLIC \"-//W3C//DTD SVG 1.1//EN\"\n \"http://www.w3.org/Graphics/SVG/1.1/DTD/svg11.dtd\">\n<!-- Generated by graphviz version 2.40.1 (20161225.0304)\n -->\n<!-- Title: %3 Pages: 1 -->\n<svg width=\"340pt\" height=\"523pt\"\n viewBox=\"0.00 0.00 340.00 523.00\" xmlns=\"http://www.w3.org/2000/svg\" xmlns:xlink=\"http://www.w3.org/1999/xlink\">\n<g id=\"graph0\" class=\"graph\" transform=\"scale(1 1) rotate(0) translate(4 519)\">\n<title>%3</title>\n<polygon fill=\"#ffffff\" stroke=\"transparent\" points=\"-4,4 -4,-519 336,-519 336,4 -4,4\"/>\n<!-- 140019001719792 -->\n<g id=\"node1\" class=\"node\">\n<title>140019001719792</title>\n<polygon fill=\"#caff70\" stroke=\"#000000\" points=\"193.5,-31 139.5,-31 139.5,0 193.5,0 193.5,-31\"/>\n<text text-anchor=\"middle\" x=\"166.5\" y=\"-7\" font-family=\"monospace\" font-size=\"10.00\" fill=\"#000000\"> ()</text>\n</g>\n<!-- 140019000114192 -->\n<g id=\"node2\" class=\"node\">\n<title>140019000114192</title>\n<polygon fill=\"#d3d3d3\" stroke=\"#000000\" points=\"223,-86 110,-86 110,-67 223,-67 223,-86\"/>\n<text text-anchor=\"middle\" x=\"166.5\" y=\"-74\" font-family=\"monospace\" font-size=\"10.00\" fill=\"#000000\">NllLossBackward0</text>\n</g>\n<!-- 140019000114192&#45;&gt;140019001719792 -->\n<g id=\"edge15\" class=\"edge\">\n<title>140019000114192&#45;&gt;140019001719792</title>\n<path fill=\"none\" stroke=\"#000000\" d=\"M166.5,-66.9688C166.5,-60.1289 166.5,-50.5621 166.5,-41.5298\"/>\n<polygon fill=\"#000000\" stroke=\"#000000\" points=\"170.0001,-41.3678 166.5,-31.3678 163.0001,-41.3678 170.0001,-41.3678\"/>\n</g>\n<!-- 140018846839120 -->\n<g id=\"node3\" class=\"node\">\n<title>140018846839120</title>\n<polygon fill=\"#d3d3d3\" stroke=\"#000000\" points=\"232,-141 101,-141 101,-122 232,-122 232,-141\"/>\n<text text-anchor=\"middle\" x=\"166.5\" y=\"-129\" font-family=\"monospace\" font-size=\"10.00\" fill=\"#000000\">LogSoftmaxBackward0</text>\n</g>\n<!-- 140018846839120&#45;&gt;140019000114192 -->\n<g id=\"edge1\" class=\"edge\">\n<title>140018846839120&#45;&gt;140019000114192</title>\n<path fill=\"none\" stroke=\"#000000\" d=\"M166.5,-121.9197C166.5,-114.9083 166.5,-105.1442 166.5,-96.4652\"/>\n<polygon fill=\"#000000\" stroke=\"#000000\" points=\"170.0001,-96.3408 166.5,-86.3408 163.0001,-96.3409 170.0001,-96.3408\"/>\n</g>\n<!-- 140019000115152 -->\n<g id=\"node4\" class=\"node\">\n<title>140019000115152</title>\n<polygon fill=\"#d3d3d3\" stroke=\"#000000\" points=\"217,-196 116,-196 116,-177 217,-177 217,-196\"/>\n<text text-anchor=\"middle\" x=\"166.5\" y=\"-184\" font-family=\"monospace\" font-size=\"10.00\" fill=\"#000000\">AddmmBackward0</text>\n</g>\n<!-- 140019000115152&#45;&gt;140018846839120 -->\n<g id=\"edge2\" class=\"edge\">\n<title>140019000115152&#45;&gt;140018846839120</title>\n<path fill=\"none\" stroke=\"#000000\" d=\"M166.5,-176.9197C166.5,-169.9083 166.5,-160.1442 166.5,-151.4652\"/>\n<polygon fill=\"#000000\" stroke=\"#000000\" points=\"170.0001,-151.3408 166.5,-141.3408 163.0001,-151.3409 170.0001,-151.3408\"/>\n</g>\n<!-- 140019000236432 -->\n<g id=\"node5\" class=\"node\">\n<title>140019000236432</title>\n<polygon fill=\"#d3d3d3\" stroke=\"#000000\" points=\"101,-251 0,-251 0,-232 101,-232 101,-251\"/>\n<text text-anchor=\"middle\" x=\"50.5\" y=\"-239\" font-family=\"monospace\" font-size=\"10.00\" fill=\"#000000\">AccumulateGrad</text>\n</g>\n<!-- 140019000236432&#45;&gt;140019000115152 -->\n<g id=\"edge3\" class=\"edge\">\n<title>140019000236432&#45;&gt;140019000115152</title>\n<path fill=\"none\" stroke=\"#000000\" d=\"M70.7057,-231.9197C88.9737,-223.2581 116.1018,-210.3957 136.8304,-200.5675\"/>\n<polygon fill=\"#000000\" stroke=\"#000000\" points=\"138.6004,-203.6018 146.1367,-196.155 135.6014,-197.2768 138.6004,-203.6018\"/>\n</g>\n<!-- 140019002203024 -->\n<g id=\"node6\" class=\"node\">\n<title>140019002203024</title>\n<polygon fill=\"#add8e6\" stroke=\"#000000\" points=\"80,-317 21,-317 21,-287 80,-287 80,-317\"/>\n<text text-anchor=\"middle\" x=\"50.5\" y=\"-305\" font-family=\"monospace\" font-size=\"10.00\" fill=\"#000000\">l2.bias</text>\n<text text-anchor=\"middle\" x=\"50.5\" y=\"-294\" font-family=\"monospace\" font-size=\"10.00\" fill=\"#000000\"> (10)</text>\n</g>\n<!-- 140019002203024&#45;&gt;140019000236432 -->\n<g id=\"edge4\" class=\"edge\">\n<title>140019002203024&#45;&gt;140019000236432</title>\n<path fill=\"none\" stroke=\"#000000\" d=\"M50.5,-286.7333C50.5,-279.0322 50.5,-269.5977 50.5,-261.3414\"/>\n<polygon fill=\"#000000\" stroke=\"#000000\" points=\"54.0001,-261.0864 50.5,-251.0864 47.0001,-261.0864 54.0001,-261.0864\"/>\n</g>\n<!-- 140019000236688 -->\n<g id=\"node7\" class=\"node\">\n<title>140019000236688</title>\n<polygon fill=\"#d3d3d3\" stroke=\"#000000\" points=\"214,-251 119,-251 119,-232 214,-232 214,-251\"/>\n<text text-anchor=\"middle\" x=\"166.5\" y=\"-239\" font-family=\"monospace\" font-size=\"10.00\" fill=\"#000000\">ReluBackward0</text>\n</g>\n<!-- 140019000236688&#45;&gt;140019000115152 -->\n<g id=\"edge5\" class=\"edge\">\n<title>140019000236688&#45;&gt;140019000115152</title>\n<path fill=\"none\" stroke=\"#000000\" d=\"M166.5,-231.9197C166.5,-224.9083 166.5,-215.1442 166.5,-206.4652\"/>\n<polygon fill=\"#000000\" stroke=\"#000000\" points=\"170.0001,-206.3408 166.5,-196.3408 163.0001,-206.3409 170.0001,-206.3408\"/>\n</g>\n<!-- 140019000237392 -->\n<g id=\"node8\" class=\"node\">\n<title>140019000237392</title>\n<polygon fill=\"#d3d3d3\" stroke=\"#000000\" points=\"213,-311.5 112,-311.5 112,-292.5 213,-292.5 213,-311.5\"/>\n<text text-anchor=\"middle\" x=\"162.5\" y=\"-299.5\" font-family=\"monospace\" font-size=\"10.00\" fill=\"#000000\">AddmmBackward0</text>\n</g>\n<!-- 140019000237392&#45;&gt;140019000236688 -->\n<g id=\"edge6\" class=\"edge\">\n<title>140019000237392&#45;&gt;140019000236688</title>\n<path fill=\"none\" stroke=\"#000000\" d=\"M163.1427,-292.2796C163.6876,-284.0376 164.4871,-271.9457 165.1692,-261.629\"/>\n<polygon fill=\"#000000\" stroke=\"#000000\" points=\"168.6782,-261.6064 165.8456,-251.3972 161.6935,-261.1445 168.6782,-261.6064\"/>\n</g>\n<!-- 140019000237200 -->\n<g id=\"node9\" class=\"node\">\n<title>140019000237200</title>\n<polygon fill=\"#d3d3d3\" stroke=\"#000000\" points=\"118,-377.5 17,-377.5 17,-358.5 118,-358.5 118,-377.5\"/>\n<text text-anchor=\"middle\" x=\"67.5\" y=\"-365.5\" font-family=\"monospace\" font-size=\"10.00\" fill=\"#000000\">AccumulateGrad</text>\n</g>\n<!-- 140019000237200&#45;&gt;140019000237392 -->\n<g id=\"edge7\" class=\"edge\">\n<title>140019000237200&#45;&gt;140019000237392</title>\n<path fill=\"none\" stroke=\"#000000\" d=\"M81.5176,-358.2615C97.0418,-347.4762 122.2743,-329.9463 140.4509,-317.3183\"/>\n<polygon fill=\"#000000\" stroke=\"#000000\" points=\"142.5182,-320.1439 148.7338,-311.5639 138.5242,-314.3951 142.5182,-320.1439\"/>\n</g>\n<!-- 140019002203504 -->\n<g id=\"node10\" class=\"node\">\n<title>140019002203504</title>\n<polygon fill=\"#add8e6\" stroke=\"#000000\" points=\"97,-449 38,-449 38,-419 97,-419 97,-449\"/>\n<text text-anchor=\"middle\" x=\"67.5\" y=\"-437\" font-family=\"monospace\" font-size=\"10.00\" fill=\"#000000\">l1.bias</text>\n<text text-anchor=\"middle\" x=\"67.5\" y=\"-426\" font-family=\"monospace\" font-size=\"10.00\" fill=\"#000000\"> (128)</text>\n</g>\n<!-- 140019002203504&#45;&gt;140019000237200 -->\n<g id=\"edge8\" class=\"edge\">\n<title>140019002203504&#45;&gt;140019000237200</title>\n<path fill=\"none\" stroke=\"#000000\" d=\"M67.5,-418.6924C67.5,-409.5067 67.5,-397.7245 67.5,-387.8312\"/>\n<polygon fill=\"#000000\" stroke=\"#000000\" points=\"71.0001,-387.703 67.5,-377.7031 64.0001,-387.7031 71.0001,-387.703\"/>\n</g>\n<!-- 140019000235792 -->\n<g id=\"node11\" class=\"node\">\n<title>140019000235792</title>\n<polygon fill=\"#d3d3d3\" stroke=\"#000000\" points=\"213,-377.5 136,-377.5 136,-358.5 213,-358.5 213,-377.5\"/>\n<text text-anchor=\"middle\" x=\"174.5\" y=\"-365.5\" font-family=\"monospace\" font-size=\"10.00\" fill=\"#000000\">TBackward0</text>\n</g>\n<!-- 140019000235792&#45;&gt;140019000237392 -->\n<g id=\"edge9\" class=\"edge\">\n<title>140019000235792&#45;&gt;140019000237392</title>\n<path fill=\"none\" stroke=\"#000000\" d=\"M172.7294,-358.2615C170.9923,-348.7077 168.293,-333.8615 166.1033,-321.8183\"/>\n<polygon fill=\"#000000\" stroke=\"#000000\" points=\"169.5104,-320.9911 164.2779,-311.7785 162.6233,-322.2433 169.5104,-320.9911\"/>\n</g>\n<!-- 140019003562768 -->\n<g id=\"node12\" class=\"node\">\n<title>140019003562768</title>\n<polygon fill=\"#d3d3d3\" stroke=\"#000000\" points=\"225,-443.5 124,-443.5 124,-424.5 225,-424.5 225,-443.5\"/>\n<text text-anchor=\"middle\" x=\"174.5\" y=\"-431.5\" font-family=\"monospace\" font-size=\"10.00\" fill=\"#000000\">AccumulateGrad</text>\n</g>\n<!-- 140019003562768&#45;&gt;140019000235792 -->\n<g id=\"edge10\" class=\"edge\">\n<title>140019003562768&#45;&gt;140019000235792</title>\n<path fill=\"none\" stroke=\"#000000\" d=\"M174.5,-424.2615C174.5,-414.7077 174.5,-399.8615 174.5,-387.8183\"/>\n<polygon fill=\"#000000\" stroke=\"#000000\" points=\"178.0001,-387.7784 174.5,-377.7785 171.0001,-387.7785 178.0001,-387.7784\"/>\n</g>\n<!-- 140019002200720 -->\n<g id=\"node13\" class=\"node\">\n<title>140019002200720</title>\n<polygon fill=\"#add8e6\" stroke=\"#000000\" points=\"216,-515 133,-515 133,-485 216,-485 216,-515\"/>\n<text text-anchor=\"middle\" x=\"174.5\" y=\"-503\" font-family=\"monospace\" font-size=\"10.00\" fill=\"#000000\">l1.weight</text>\n<text text-anchor=\"middle\" x=\"174.5\" y=\"-492\" font-family=\"monospace\" font-size=\"10.00\" fill=\"#000000\"> (128, 784)</text>\n</g>\n<!-- 140019002200720&#45;&gt;140019003562768 -->\n<g id=\"edge11\" class=\"edge\">\n<title>140019002200720&#45;&gt;140019003562768</title>\n<path fill=\"none\" stroke=\"#000000\" d=\"M174.5,-484.6924C174.5,-475.5067 174.5,-463.7245 174.5,-453.8312\"/>\n<polygon fill=\"#000000\" stroke=\"#000000\" points=\"178.0001,-453.703 174.5,-443.7031 171.0001,-453.7031 178.0001,-453.703\"/>\n</g>\n<!-- 140019000236496 -->\n<g id=\"node14\" class=\"node\">\n<title>140019000236496</title>\n<polygon fill=\"#d3d3d3\" stroke=\"#000000\" points=\"313,-251 236,-251 236,-232 313,-232 313,-251\"/>\n<text text-anchor=\"middle\" x=\"274.5\" y=\"-239\" font-family=\"monospace\" font-size=\"10.00\" fill=\"#000000\">TBackward0</text>\n</g>\n<!-- 140019000236496&#45;&gt;140019000115152 -->\n<g id=\"edge12\" class=\"edge\">\n<title>140019000236496&#45;&gt;140019000115152</title>\n<path fill=\"none\" stroke=\"#000000\" d=\"M255.6878,-231.9197C238.7566,-223.2973 213.6508,-210.512 194.3858,-200.7011\"/>\n<polygon fill=\"#000000\" stroke=\"#000000\" points=\"195.9583,-197.5742 185.459,-196.155 192.7817,-203.812 195.9583,-197.5742\"/>\n</g>\n<!-- 140019000235088 -->\n<g id=\"node15\" class=\"node\">\n<title>140019000235088</title>\n<polygon fill=\"#d3d3d3\" stroke=\"#000000\" points=\"332,-311.5 231,-311.5 231,-292.5 332,-292.5 332,-311.5\"/>\n<text text-anchor=\"middle\" x=\"281.5\" y=\"-299.5\" font-family=\"monospace\" font-size=\"10.00\" fill=\"#000000\">AccumulateGrad</text>\n</g>\n<!-- 140019000235088&#45;&gt;140019000236496 -->\n<g id=\"edge13\" class=\"edge\">\n<title>140019000235088&#45;&gt;140019000236496</title>\n<path fill=\"none\" stroke=\"#000000\" d=\"M280.3753,-292.2796C279.4217,-284.0376 278.0226,-271.9457 276.829,-261.629\"/>\n<polygon fill=\"#000000\" stroke=\"#000000\" points=\"280.2714,-260.9287 275.6451,-251.3972 273.3178,-261.7333 280.2714,-260.9287\"/>\n</g>\n<!-- 140019002200912 -->\n<g id=\"node16\" class=\"node\">\n<title>140019002200912</title>\n<polygon fill=\"#add8e6\" stroke=\"#000000\" points=\"320,-383 243,-383 243,-353 320,-353 320,-383\"/>\n<text text-anchor=\"middle\" x=\"281.5\" y=\"-371\" font-family=\"monospace\" font-size=\"10.00\" fill=\"#000000\">l2.weight</text>\n<text text-anchor=\"middle\" x=\"281.5\" y=\"-360\" font-family=\"monospace\" font-size=\"10.00\" fill=\"#000000\"> (10, 128)</text>\n</g>\n<!-- 140019002200912&#45;&gt;140019000235088 -->\n<g id=\"edge14\" class=\"edge\">\n<title>140019002200912&#45;&gt;140019000235088</title>\n<path fill=\"none\" stroke=\"#000000\" d=\"M281.5,-352.6924C281.5,-343.5067 281.5,-331.7245 281.5,-321.8312\"/>\n<polygon fill=\"#000000\" stroke=\"#000000\" points=\"285.0001,-321.703 281.5,-311.7031 278.0001,-321.7031 285.0001,-321.703\"/>\n</g>\n</g>\n</svg>\n"
          },
          "metadata": {}
        }
      ]
    },
    {
      "cell_type": "code",
      "source": [
        "#勾配計算の実行\n",
        "loss.backward()"
      ],
      "metadata": {
        "id": "RWxoR-F2mPad"
      },
      "execution_count": 38,
      "outputs": []
    },
    {
      "cell_type": "code",
      "source": [
        "#勾配計算の結果\n",
        "w = net.to('cpu')\n",
        "print(w.l1.weight.grad.numpy())\n",
        "print(w.l1.bias.grad.numpy())\n",
        "print(w.l2.weight.grad.numpy())\n",
        "print(w.l2.bias.grad.numpy())"
      ],
      "metadata": {
        "id": "ty4eJiLbmXjc",
        "outputId": "33fe23cd-2394-4d9c-8334-010560f6df6c",
        "colab": {
          "base_uri": "https://localhost:8080/"
        }
      },
      "execution_count": 39,
      "outputs": [
        {
          "output_type": "stream",
          "name": "stdout",
          "text": [
            "[[-0.00071 -0.00071 -0.00071 ... -0.00071 -0.00071 -0.00071]\n",
            " [ 0.00768  0.00768  0.00768 ...  0.00768  0.00768  0.00768]\n",
            " [-0.00179 -0.00179 -0.00179 ... -0.00179 -0.00179 -0.00179]\n",
            " ...\n",
            " [-0.00076 -0.00076 -0.00076 ... -0.00076 -0.00076 -0.00076]\n",
            " [ 0.0011   0.0011   0.0011  ...  0.0011   0.0011   0.0011 ]\n",
            " [-0.00009 -0.00009 -0.00009 ... -0.00009 -0.00009 -0.00009]]\n",
            "[ 0.00071 -0.00768  0.00179  0.00085 -0.00004  0.00004  0.00135 -0.00085\n",
            "  0.00254 -0.00164  0.00086 -0.00196  0.00059  0.00252 -0.00256  0.00075\n",
            "  0.00605 -0.00109 -0.00177  0.00799  0.00627  0.00256 -0.00358  0.00563\n",
            " -0.00059 -0.00379  0.00343  0.      -0.00257 -0.00319 -0.00055  0.00345\n",
            "  0.00175  0.00001  0.00007  0.00024  0.0047  -0.00124  0.00215  0.00183\n",
            "  0.00371 -0.00607  0.00109  0.00972 -0.0017  -0.00124 -0.00044 -0.00102\n",
            " -0.00306 -0.00029 -0.0008   0.00041  0.00009 -0.00159 -0.00205 -0.00007\n",
            " -0.00059 -0.00235 -0.00043  0.00292  0.00128 -0.00846  0.0013   0.00154\n",
            "  0.      -0.00055  0.00403 -0.00165 -0.0052   0.00032 -0.00308  0.00012\n",
            "  0.00094 -0.00165 -0.00686 -0.00281  0.00166 -0.00297  0.00121  0.00243\n",
            "  0.00111 -0.00201  0.00531 -0.00007  0.00698  0.00238  0.00298  0.00379\n",
            " -0.00015 -0.00165 -0.00061 -0.00214  0.00257  0.       0.0045   0.00374\n",
            "  0.00581 -0.00323 -0.      -0.00029 -0.00061  0.00005  0.00287  0.00173\n",
            "  0.00218 -0.00338 -0.00006  0.0006  -0.00149 -0.00345  0.00166 -0.00213\n",
            " -0.00223  0.0013  -0.00024  0.00354 -0.00273  0.00055 -0.00197  0.002\n",
            " -0.00356  0.0004   0.00058  0.00063 -0.00111  0.00076 -0.0011   0.00009]\n",
            "[[-0.01984 -0.00178 -0.01995 ... -0.00684 -0.00556 -0.00208]\n",
            " [ 0.00606 -0.0106   0.00437 ... -0.0123   0.00174  0.00093]\n",
            " [-0.00588  0.00612  0.00346 ...  0.00203  0.00116 -0.00077]\n",
            " ...\n",
            " [ 0.0067  -0.01372  0.00414 ...  0.00526 -0.00063  0.00194]\n",
            " [-0.00661 -0.00074  0.0034  ...  0.0073  -0.00207 -0.00361]\n",
            " [ 0.00878  0.0024  -0.00021 ... -0.00018  0.00185  0.0012 ]]\n",
            "[-0.05295 -0.03301  0.01249 -0.00498  0.02287  0.01629  0.01678  0.0102\n",
            "  0.0214  -0.00909]\n"
          ]
        }
      ]
    },
    {
      "cell_type": "code",
      "source": [
        "#パラメータ修正\n",
        "optimizer.step()"
      ],
      "metadata": {
        "id": "ZNeNnTS7mlrI"
      },
      "execution_count": 40,
      "outputs": []
    },
    {
      "cell_type": "code",
      "source": [
        "#パラメータ値の表示\n",
        "print(net.l1.weight)\n",
        "print(net.l1.bias)"
      ],
      "metadata": {
        "id": "ATUYSSEZmraY",
        "outputId": "35c958a8-3a20-412c-8849-9f8bb96b92fa",
        "colab": {
          "base_uri": "https://localhost:8080/"
        }
      },
      "execution_count": 41,
      "outputs": [
        {
          "output_type": "stream",
          "name": "stdout",
          "text": [
            "Parameter containing:\n",
            "tensor([[-0.0146,  0.0012, -0.0177,  ...,  0.0278,  0.0200,  0.0316],\n",
            "        [ 0.0183, -0.0322,  0.0174,  ...,  0.0088, -0.0029, -0.0034],\n",
            "        [ 0.0092,  0.0261,  0.0075,  ...,  0.0061,  0.0267, -0.0258],\n",
            "        ...,\n",
            "        [ 0.0235, -0.0026, -0.0129,  ...,  0.0323, -0.0059, -0.0169],\n",
            "        [-0.0329, -0.0258,  0.0124,  ..., -0.0049,  0.0006,  0.0334],\n",
            "        [ 0.0187, -0.0076, -0.0202,  ...,  0.0325, -0.0159, -0.0240]],\n",
            "       requires_grad=True)\n",
            "Parameter containing:\n",
            "tensor([ 3.2475e-02, -2.9682e-02,  1.2742e-03,  1.9874e-02,  2.6836e-02,\n",
            "        -2.4759e-02, -1.7201e-02, -3.5517e-02,  1.2199e-02, -4.7449e-03,\n",
            "         2.1379e-02,  2.0187e-02, -2.4297e-02,  1.4928e-03, -2.7613e-02,\n",
            "         2.9618e-02,  3.4051e-02, -2.2777e-02,  2.2983e-02,  3.4580e-02,\n",
            "        -9.1870e-03, -3.4619e-02,  2.0599e-02, -6.0632e-03,  3.2937e-02,\n",
            "         4.7784e-03,  1.7949e-02,  1.0102e-02,  1.7700e-02, -3.0853e-02,\n",
            "         2.2817e-02, -2.2391e-02,  3.2049e-02,  1.7890e-02,  3.2113e-02,\n",
            "         1.8418e-02,  2.1852e-02, -8.8597e-03,  3.0939e-02, -3.9572e-03,\n",
            "        -7.4435e-03, -3.1608e-02,  1.9150e-02, -2.2176e-03,  1.9040e-02,\n",
            "         3.7815e-03,  3.3376e-02, -2.7366e-03, -1.2678e-02,  2.2926e-02,\n",
            "        -2.6499e-02,  2.2708e-03, -1.6189e-02, -1.3415e-02, -2.7006e-03,\n",
            "         2.1242e-02, -2.0511e-02, -1.4376e-02,  1.2089e-02,  9.8037e-05,\n",
            "         8.5776e-03,  3.3507e-03,  1.2323e-02,  2.1314e-02, -1.7690e-02,\n",
            "         2.4736e-02, -1.0986e-02, -2.2139e-02,  2.2898e-02, -1.1038e-02,\n",
            "        -7.4188e-03, -8.9315e-03, -2.0528e-02,  3.2279e-02, -2.0665e-02,\n",
            "        -2.0434e-02, -2.7932e-03, -3.4027e-02, -3.0392e-02,  1.4364e-02,\n",
            "         7.1700e-03,  3.2612e-02, -3.4299e-02, -3.2920e-02, -3.2781e-03,\n",
            "        -2.0019e-02, -2.9709e-03, -9.8261e-03,  2.1964e-02, -1.5987e-02,\n",
            "         9.8720e-03,  3.2919e-03, -2.8945e-02,  1.0965e-02,  1.9866e-02,\n",
            "         1.3074e-02, -2.7974e-02,  1.2213e-02,  2.3668e-02,  1.2602e-02,\n",
            "        -5.4937e-03, -8.7514e-03, -5.7194e-03, -4.8619e-03,  6.6892e-04,\n",
            "        -1.7088e-03, -3.2382e-02,  4.8306e-03, -1.3428e-02,  3.3444e-02,\n",
            "         2.9813e-02, -5.9374e-03,  2.6309e-02,  1.1309e-02, -1.1252e-02,\n",
            "         1.4970e-02,  9.1236e-03, -3.1057e-02, -7.8487e-03,  1.3641e-04,\n",
            "        -2.8135e-02, -1.6511e-03,  3.0365e-02, -2.3754e-02, -1.5655e-02,\n",
            "        -2.5556e-02,  6.5686e-04,  9.9645e-03], requires_grad=True)\n"
          ]
        }
      ]
    },
    {
      "cell_type": "code",
      "source": [
        "#繰り返し計算\n",
        "#乱数の固定化\n",
        "torch.manual_seed(123)\n",
        "torch.cuda.manual_seed(123)\n",
        "torch.backends.cudnn.deterministic = True\n",
        "torch.use_deterministic_algorithms = True\n",
        "\n",
        "#学習率\n",
        "lr = 0.01\n",
        "\n",
        "#モデルインスタンスの生成\n",
        "net = Net(n_input, n_output, n_hidden).to(device)\n",
        "\n",
        "#損失関数\n",
        "criterion = nn.CrossEntropyLoss()\n",
        "\n",
        "#最適化関数:勾配降下法\n",
        "optimizer = optim.SGD(net.parameters(), lr=lr)\n",
        "\n",
        "#繰り返し回数\n",
        "num_epochs = 100\n",
        "\n",
        "#評価結果記録用\n",
        "history = np.zeros((0,5))"
      ],
      "metadata": {
        "id": "bz9M77mQmwC_"
      },
      "execution_count": 42,
      "outputs": []
    },
    {
      "cell_type": "code",
      "source": [
        ""
      ],
      "metadata": {
        "id": "4OZiOSJKnka1"
      },
      "execution_count": null,
      "outputs": []
    }
  ]
}