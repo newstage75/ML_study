{
  "nbformat": 4,
  "nbformat_minor": 0,
  "metadata": {
    "colab": {
      "name": "最短Pytorchの導入.ipynb",
      "provenance": [],
      "authorship_tag": "ABX9TyNtt35JUie/FxReRCPX/s0w",
      "include_colab_link": true
    },
    "kernelspec": {
      "name": "python3",
      "display_name": "Python 3"
    },
    "language_info": {
      "name": "python"
    }
  },
  "cells": [
    {
      "cell_type": "markdown",
      "metadata": {
        "id": "view-in-github",
        "colab_type": "text"
      },
      "source": [
        "<a href=\"https://colab.research.google.com/github/newstage75/ML_study/blob/master/%E6%9C%80%E7%9F%ADPytorch/%EF%BC%94%E7%AB%A0%E4%BA%88%E6%B8%AC%E9%96%A2%E6%95%B0%E3%81%AE%E5%AE%9A%E7%BE%A9.ipynb\" target=\"_parent\"><img src=\"https://colab.research.google.com/assets/colab-badge.svg\" alt=\"Open In Colab\"/></a>"
      ]
    },
    {
      "cell_type": "markdown",
      "source": [
        "#４章予測関数の定義.ipynb"
      ],
      "metadata": {
        "id": "CEgOOTrGJU31"
      }
    },
    {
      "cell_type": "code",
      "execution_count": 7,
      "metadata": {
        "colab": {
          "base_uri": "https://localhost:8080/"
        },
        "id": "48AexnpDJAMO",
        "outputId": "70da823c-f48f-452e-8af0-2711927ef16c"
      },
      "outputs": [
        {
          "output_type": "stream",
          "name": "stdout",
          "text": [
            "Requirement already satisfied: six>=1.5 in /usr/local/lib/python3.7/dist-packages (from python-dateutil>=2.1->matplotlib->japanize_matplotlib) (1.15.0)\n",
            "Requirement already satisfied: typing-extensions in /usr/local/lib/python3.7/dist-packages (from torch->torchviz) (4.2.0)\n"
          ]
        }
      ],
      "source": [
        "# 必要ライブラリの導入\n",
        "\n",
        "!pip install japanize_matplotlib | tail -n 1\n",
        "!pip install torchviz | tail -n 1"
      ]
    },
    {
      "cell_type": "code",
      "source": [
        "# 必要ライブラリのインポート\n",
        "\n",
        "%matplotlib inline\n",
        "import numpy as np\n",
        "import matplotlib.pyplot as plt\n",
        "import japanize_matplotlib"
      ],
      "metadata": {
        "id": "ghCJoyn3JbCd"
      },
      "execution_count": 8,
      "outputs": []
    },
    {
      "cell_type": "code",
      "source": [
        "# PyTorch関連ライブラリ\n",
        "import torch\n",
        "import torch.nn as nn\n",
        "from torchviz import make_dot"
      ],
      "metadata": {
        "id": "tr9DWqhgLbjB"
      },
      "execution_count": 9,
      "outputs": []
    },
    {
      "cell_type": "code",
      "source": [
        "# warning表示off\n",
        "import warnings\n",
        "warnings.simplefilter('ignore')\n",
        "\n",
        "# デフォルトフォントサイズ変更\n",
        "plt.rcParams['font.size'] = 14\n",
        "\n",
        "# デフォルトグラフサイズ変更\n",
        "plt.rcParams['figure.figsize'] = (6,6)\n",
        "\n",
        "# デフォルトで方眼表示ON\n",
        "plt.rcParams['axes.grid'] = True\n",
        "\n",
        "# numpyの表示桁数設定\n",
        "np.set_printoptions(suppress=True, precision=5)"
      ],
      "metadata": {
        "id": "TTSBA8aYJeL0"
      },
      "execution_count": 10,
      "outputs": []
    },
    {
      "cell_type": "markdown",
      "source": [
        "ビルディングブロック\n",
        "\n",
        "PyTorchでは「Layer」または「モジュール」という名前で呼ぶ\n",
        "\n",
        "一次関数はnn.Linear"
      ],
      "metadata": {
        "id": "na9km6MhE77t"
      }
    },
    {
      "cell_type": "markdown",
      "source": [
        "主なレイヤー関数（パラメータ有無）\n",
        "*   nn.Linear あり　線形関数\n",
        "*   nn.Sigmoid なし　シグモイド関数\n",
        "*   nn.LogSoftmax なし　softmax関数+対数関数\n",
        "*   nn.ReLu なし　ReLu関数\n",
        "*   nn.Conv2d あり　畳み込み関数\n",
        "*   nn.MaxPool2d なし　プーリング関数\n",
        "*   nn.Flatten なし　一階化関数\n",
        "*   nn.Dropout　なし　ドロップアウト関数\n",
        "*   nn.BatchNorm2d あり BN関数\n",
        "*   nn.AdaptiveAvgPool2d なし　適合的平均プーリング関数\n",
        "\n",
        "\n",
        "**学習とはレイヤー関数のパラメータ値を調整することを意味する。**\n",
        "\n",
        "つまり、この書籍だと、下３つ\n",
        "*   nn.Linear あり　線形関数\n",
        "*   nn.Conv2d あり　畳み込み関数\n",
        "*   nn.BatchNorm2d あり BN関数"
      ],
      "metadata": {
        "id": "vdiop40OFtkJ"
      }
    },
    {
      "cell_type": "code",
      "source": [
        "#レイヤー関数定義\n",
        "l1 = nn.Linear(784, 128)\n",
        "\n",
        "#2番目の線形関数\n",
        "l2 = nn.Linear(128, 10)\n",
        "\n",
        "#活性化関数\n",
        "relu = nn.ReLU(inplace=True)"
      ],
      "metadata": {
        "id": "nH8jwmefFOdl"
      },
      "execution_count": 11,
      "outputs": []
    },
    {
      "cell_type": "code",
      "source": [
        "#３つの関数を組み合わせて、入力から出力得る実装例\n",
        "\n",
        "inputs = torch.randn(100, 784)\n",
        "\n",
        "m1 = l1(inputs)\n",
        "m2 = relu(m1)\n",
        "outputs = l2(m2)\n",
        "\n",
        "#shapeの確認\n",
        "print('入力テンソル', inputs.shape)\n",
        "print('出力テンソル', outputs.shape)"
      ],
      "metadata": {
        "colab": {
          "base_uri": "https://localhost:8080/"
        },
        "id": "QpQbq5s5LTDF",
        "outputId": "ea47ee0c-3354-4765-d0fe-34487af6fec5"
      },
      "execution_count": 12,
      "outputs": [
        {
          "output_type": "stream",
          "name": "stdout",
          "text": [
            "入力テンソル torch.Size([100, 784])\n",
            "出力テンソル torch.Size([100, 10])\n"
          ]
        }
      ]
    },
    {
      "cell_type": "code",
      "source": [
        "#上のように、直線上につながる合成関数はnn.Sequentialという部品を利用してより簡潔に実装できる。\n",
        "net2 = nn.Sequential(\n",
        "    l1,\n",
        "    relu,\n",
        "    l2\n",
        ")\n",
        "\n",
        "outputs2 = net2(inputs)\n",
        "\n",
        "#入力テンソルと出力テンソルのshape確認\n",
        "print('入力テンソル', inputs.shape)\n",
        "print('出力テンソル', outputs２.shape)"
      ],
      "metadata": {
        "colab": {
          "base_uri": "https://localhost:8080/"
        },
        "id": "r2kHz8zFMYbg",
        "outputId": "cb505113-60ba-43e1-c9ef-ecea032ab4d4"
      },
      "execution_count": 14,
      "outputs": [
        {
          "output_type": "stream",
          "name": "stdout",
          "text": [
            "入力テンソル torch.Size([100, 784])\n",
            "出力テンソル torch.Size([100, 10])\n"
          ]
        }
      ]
    },
    {
      "cell_type": "code",
      "source": [
        "#活性化関数の目的\n",
        "# 訓練データ、検証データの計算\n",
        "np.random.seed(123)\n",
        "x = np.random.randn(100,1)\n",
        "\n",
        "# yの値はx^2に乱数の要素を1/10程度付加した\n",
        "y = x**2 + np.random.randn(100,1) * 0.1\n",
        "\n",
        "# データを50件ずつに分け、それぞれ訓練用、検証用とする\n",
        "x_train = x[:50,:]\n",
        "x_test = x[50:,:]\n",
        "y_train = y[:50,:]\n",
        "y_test = y[50:,:]"
      ],
      "metadata": {
        "id": "cNgKbf3kM66z"
      },
      "execution_count": 15,
      "outputs": []
    },
    {
      "cell_type": "code",
      "source": [
        "# 散布図表示\n",
        "plt.scatter(x_train, y_train, c='b', label='訓練データ')\n",
        "plt.scatter(x_test, y_test, c='k', marker='x', label='検証データ')\n",
        "plt.legend()\n",
        "plt.show()"
      ],
      "metadata": {
        "id": "4RmpFJwJOfX1",
        "outputId": "ae14a7a3-e600-4c65-dd4b-44251b21f827",
        "colab": {
          "base_uri": "https://localhost:8080/",
          "height": 378
        }
      },
      "execution_count": 16,
      "outputs": [
        {
          "output_type": "display_data",
          "data": {
            "text/plain": [
              "<Figure size 432x432 with 1 Axes>"
            ],
            "image/png": "[encoded data removed]"
          },
          "metadata": {
            "needs_background": "light"
          }
        }
      ]
    },
    {
      "cell_type": "code",
      "source": [
        "#入力変数xと正解値ytのTensor化\n",
        "inputs = torch.tensor(x_train).float()\n",
        "labels = torch.tensor(y_train).float()\n",
        "\n",
        "inputs_test = torch.tensor(x_test).float()\n",
        "labels_test = torch.tensor(y_test).float()"
      ],
      "metadata": {
        "id": "h97CHB3bOh4k"
      },
      "execution_count": 18,
      "outputs": []
    },
    {
      "cell_type": "code",
      "source": [
        "import torch.optim as optim"
      ],
      "metadata": {
        "id": "4pcqkweAPEr4"
      },
      "execution_count": 19,
      "outputs": []
    },
    {
      "cell_type": "markdown",
      "source": [
        "###単回帰"
      ],
      "metadata": {
        "id": "H5kvDRR7PkvK"
      }
    },
    {
      "cell_type": "code",
      "source": [
        "class Net(nn.Module):\n",
        "    def __init__(self):\n",
        "        #  親クラスnn.Modulesの初期化呼び出し\n",
        "        super().__init__()\n",
        "\n",
        "        # 出力層の定義\n",
        "        self.l1 = nn.Linear(1, 1)   \n",
        "        \n",
        "    # 予測関数の定義\n",
        "    def forward(self, x):\n",
        "        x1 = self.l1(x) # 線形回帰\n",
        "        return x1"
      ],
      "metadata": {
        "id": "esIUSNunPKAH"
      },
      "execution_count": 21,
      "outputs": []
    },
    {
      "cell_type": "code",
      "source": [
        "# 学習率\n",
        "lr = 0.01\n",
        "\n",
        "# インスタンス生成　(パラメータ値初期化)\n",
        "net = Net()\n",
        "\n",
        "# 最適化アルゴリズム: 勾配降下法\n",
        "optimizer = optim.SGD(net.parameters(), lr=lr)\n",
        "\n",
        "# 損失関数： 最小二乗誤差\n",
        "criterion = nn.MSELoss()\n",
        "\n",
        "# 繰り返し回数\n",
        "num_epochs = 10000\n",
        "\n",
        "# 評価結果記録用 (損失関数値のみ記録)\n",
        "history = np.zeros((0,2))"
      ],
      "metadata": {
        "id": "e_qHtYPhPopY"
      },
      "execution_count": 22,
      "outputs": []
    },
    {
      "cell_type": "code",
      "source": [
        "# 繰り返し計算メインループ\n",
        "\n",
        "for epoch in range(num_epochs):\n",
        "    \n",
        "    # 勾配値初期化\n",
        "    optimizer.zero_grad()\n",
        "\n",
        "    # 予測計算\n",
        "    outputs = net(inputs)\n",
        "  \n",
        "    # 誤差計算\n",
        "    loss = criterion(outputs, labels)\n",
        "\n",
        "    #勾配計算\n",
        "    loss.backward()\n",
        "\n",
        "    # 勾配降下法の適用\n",
        "    optimizer.step()\n",
        "\n",
        "    # 100回ごとに途中経過を記録する\n",
        "    if ( epoch % 100 == 0):\n",
        "        history = np.vstack((history, np.array([epoch, loss.item()])))\n",
        "        print(f'Epoch {epoch} loss: {loss.item():.5f}')"
      ],
      "metadata": {
        "id": "FX2IG5pEPsL-",
        "outputId": "cf0a7d13-5c01-4aae-bf11-999755a0429f",
        "colab": {
          "base_uri": "https://localhost:8080/"
        }
      },
      "execution_count": 23,
      "outputs": [
        {
          "output_type": "stream",
          "name": "stdout",
          "text": [
            "Epoch 0 loss: 8.26847\n",
            "Epoch 100 loss: 3.29745\n",
            "Epoch 200 loss: 3.21687\n",
            "Epoch 300 loss: 3.21547\n",
            "Epoch 400 loss: 3.21544\n",
            "Epoch 500 loss: 3.21544\n",
            "Epoch 600 loss: 3.21544\n",
            "Epoch 700 loss: 3.21544\n",
            "Epoch 800 loss: 3.21544\n",
            "Epoch 900 loss: 3.21544\n",
            "Epoch 1000 loss: 3.21544\n",
            "Epoch 1100 loss: 3.21544\n",
            "Epoch 1200 loss: 3.21544\n",
            "Epoch 1300 loss: 3.21544\n",
            "Epoch 1400 loss: 3.21544\n",
            "Epoch 1500 loss: 3.21544\n",
            "Epoch 1600 loss: 3.21544\n",
            "Epoch 1700 loss: 3.21544\n",
            "Epoch 1800 loss: 3.21544\n",
            "Epoch 1900 loss: 3.21544\n",
            "Epoch 2000 loss: 3.21544\n",
            "Epoch 2100 loss: 3.21544\n",
            "Epoch 2200 loss: 3.21544\n",
            "Epoch 2300 loss: 3.21544\n",
            "Epoch 2400 loss: 3.21544\n",
            "Epoch 2500 loss: 3.21544\n",
            "Epoch 2600 loss: 3.21544\n",
            "Epoch 2700 loss: 3.21544\n",
            "Epoch 2800 loss: 3.21544\n",
            "Epoch 2900 loss: 3.21544\n",
            "Epoch 3000 loss: 3.21544\n",
            "Epoch 3100 loss: 3.21544\n",
            "Epoch 3200 loss: 3.21544\n",
            "Epoch 3300 loss: 3.21544\n",
            "Epoch 3400 loss: 3.21544\n",
            "Epoch 3500 loss: 3.21544\n",
            "Epoch 3600 loss: 3.21544\n",
            "Epoch 3700 loss: 3.21544\n",
            "Epoch 3800 loss: 3.21544\n",
            "Epoch 3900 loss: 3.21544\n",
            "Epoch 4000 loss: 3.21544\n",
            "Epoch 4100 loss: 3.21544\n",
            "Epoch 4200 loss: 3.21544\n",
            "Epoch 4300 loss: 3.21544\n",
            "Epoch 4400 loss: 3.21544\n",
            "Epoch 4500 loss: 3.21544\n",
            "Epoch 4600 loss: 3.21544\n",
            "Epoch 4700 loss: 3.21544\n",
            "Epoch 4800 loss: 3.21544\n",
            "Epoch 4900 loss: 3.21544\n",
            "Epoch 5000 loss: 3.21544\n",
            "Epoch 5100 loss: 3.21544\n",
            "Epoch 5200 loss: 3.21544\n",
            "Epoch 5300 loss: 3.21544\n",
            "Epoch 5400 loss: 3.21544\n",
            "Epoch 5500 loss: 3.21544\n",
            "Epoch 5600 loss: 3.21544\n",
            "Epoch 5700 loss: 3.21544\n",
            "Epoch 5800 loss: 3.21544\n",
            "Epoch 5900 loss: 3.21544\n",
            "Epoch 6000 loss: 3.21544\n",
            "Epoch 6100 loss: 3.21544\n",
            "Epoch 6200 loss: 3.21544\n",
            "Epoch 6300 loss: 3.21544\n",
            "Epoch 6400 loss: 3.21544\n",
            "Epoch 6500 loss: 3.21544\n",
            "Epoch 6600 loss: 3.21544\n",
            "Epoch 6700 loss: 3.21544\n",
            "Epoch 6800 loss: 3.21544\n",
            "Epoch 6900 loss: 3.21544\n",
            "Epoch 7000 loss: 3.21544\n",
            "Epoch 7100 loss: 3.21544\n",
            "Epoch 7200 loss: 3.21544\n",
            "Epoch 7300 loss: 3.21544\n",
            "Epoch 7400 loss: 3.21544\n",
            "Epoch 7500 loss: 3.21544\n",
            "Epoch 7600 loss: 3.21544\n",
            "Epoch 7700 loss: 3.21544\n",
            "Epoch 7800 loss: 3.21544\n",
            "Epoch 7900 loss: 3.21544\n",
            "Epoch 8000 loss: 3.21544\n",
            "Epoch 8100 loss: 3.21544\n",
            "Epoch 8200 loss: 3.21544\n",
            "Epoch 8300 loss: 3.21544\n",
            "Epoch 8400 loss: 3.21544\n",
            "Epoch 8500 loss: 3.21544\n",
            "Epoch 8600 loss: 3.21544\n",
            "Epoch 8700 loss: 3.21544\n",
            "Epoch 8800 loss: 3.21544\n",
            "Epoch 8900 loss: 3.21544\n",
            "Epoch 9000 loss: 3.21544\n",
            "Epoch 9100 loss: 3.21544\n",
            "Epoch 9200 loss: 3.21544\n",
            "Epoch 9300 loss: 3.21544\n",
            "Epoch 9400 loss: 3.21544\n",
            "Epoch 9500 loss: 3.21544\n",
            "Epoch 9600 loss: 3.21544\n",
            "Epoch 9700 loss: 3.21544\n",
            "Epoch 9800 loss: 3.21544\n",
            "Epoch 9900 loss: 3.21544\n"
          ]
        }
      ]
    },
    {
      "cell_type": "code",
      "source": [
        "# 結果のグラフ化\n",
        "labels_pred = net(inputs_test)\n",
        "\n",
        "plt.title('隠れ層なし　活性化関数なし')\n",
        "plt.scatter(inputs_test[:,0].data, labels_pred[:,0].data, c='b', label='予測値')\n",
        "plt.scatter(inputs_test[:,0].data, labels_test[:,0].data, c='k', marker='x',label='正解値')\n",
        "plt.legend()\n",
        "plt.show()"
      ],
      "metadata": {
        "id": "rQ3ApoZKPuc_",
        "outputId": "77c10fd1-c2ba-49bc-be76-c7eee23f636b",
        "colab": {
          "base_uri": "https://localhost:8080/",
          "height": 396
        }
      },
      "execution_count": 24,
      "outputs": [
        {
          "output_type": "display_data",
          "data": {
            "text/plain": [
              "<Figure size 432x432 with 1 Axes>"
            ],
            "image/png": "[encoded data removed]"
          },
          "metadata": {
            "needs_background": "light"
          }
        }
      ]
    },
    {
      "cell_type": "markdown",
      "source": [
        "###ディープラーニング(活性化関数あり)の場合"
      ],
      "metadata": {
        "id": "yZnGh-2eP1T2"
      }
    },
    {
      "cell_type": "code",
      "source": [
        "# モデルの定義\n",
        "\n",
        "class Net3(nn.Module):\n",
        "    def __init__(self):\n",
        "        #  親クラスnn.Modulesの初期化呼び出し\n",
        "        super().__init__()\n",
        "\n",
        "        # 出力層の定義\n",
        "        self.l1 = nn.Linear(1, 10)\n",
        "        self.l2 = nn.Linear(10, 10)\n",
        "        self.l3 = nn.Linear(10,1)\n",
        "        self.relu = nn.ReLU(inplace=True)\n",
        "        \n",
        "    # 予測関数の定義\n",
        "    def forward(self, x):\n",
        "        x1 = self.relu(self.l1(x))\n",
        "        x2 = self.relu(self.l2(x1))\n",
        "        x3 = self.l3(x2)\n",
        "        return x3"
      ],
      "metadata": {
        "id": "1hhk2LdQPyvp"
      },
      "execution_count": 25,
      "outputs": []
    },
    {
      "cell_type": "code",
      "source": [
        "# 学習率\n",
        "lr = 0.01\n",
        "\n",
        "# インスタンス生成　(パラメータ値初期化)\n",
        "net3 = Net3()\n",
        "\n",
        "# 最適化アルゴリズム: 勾配降下法\n",
        "optimizer = optim.SGD(net3.parameters(), lr=lr)\n",
        "\n",
        "# 損失関数： 最小二乗誤差\n",
        "criterion = nn.MSELoss()\n",
        "\n",
        "# 繰り返し回数\n",
        "num_epochs = 10000\n",
        "\n",
        "# 評価結果記録用 (損失関数値のみ記録)\n",
        "history = np.zeros((0,2))"
      ],
      "metadata": {
        "id": "n35FxR4zP4eI"
      },
      "execution_count": 26,
      "outputs": []
    },
    {
      "cell_type": "code",
      "source": [
        "# 繰り返し計算メインループ\n",
        "\n",
        "for epoch in range(num_epochs):\n",
        "    \n",
        "    # 勾配値初期化\n",
        "    optimizer.zero_grad()\n",
        "\n",
        "    # 予測計算\n",
        "    outputs = net3(inputs)\n",
        "  \n",
        "    # 誤差計算\n",
        "    loss = criterion(outputs, labels)\n",
        "\n",
        "    #勾配計算\n",
        "    loss.backward()\n",
        "\n",
        "    # 勾配降下法の適用\n",
        "    optimizer.step()\n",
        "\n",
        "    # 100回ごとに途中経過を記録する\n",
        "    if ( epoch % 100 == 0):\n",
        "        history = np.vstack((history, np.array([epoch, loss.item()])))\n",
        "        print(f'Epoch {epoch} loss: {loss.item():.5f}')\n"
      ],
      "metadata": {
        "id": "N6gqPcyEP7Bu",
        "outputId": "ed9989a6-c4dd-431b-ea93-9c0e4d21d9f6",
        "colab": {
          "base_uri": "https://localhost:8080/"
        }
      },
      "execution_count": 27,
      "outputs": [
        {
          "output_type": "stream",
          "name": "stdout",
          "text": [
            "Epoch 0 loss: 5.76847\n",
            "Epoch 100 loss: 0.55407\n",
            "Epoch 200 loss: 0.12299\n",
            "Epoch 300 loss: 0.09335\n",
            "Epoch 400 loss: 0.07605\n",
            "Epoch 500 loss: 0.06111\n",
            "Epoch 600 loss: 0.04980\n",
            "Epoch 700 loss: 0.04167\n",
            "Epoch 800 loss: 0.03594\n",
            "Epoch 900 loss: 0.03125\n",
            "Epoch 1000 loss: 0.02758\n",
            "Epoch 1100 loss: 0.02471\n",
            "Epoch 1200 loss: 0.02219\n",
            "Epoch 1300 loss: 0.02027\n",
            "Epoch 1400 loss: 0.01889\n",
            "Epoch 1500 loss: 0.01791\n",
            "Epoch 1600 loss: 0.01708\n",
            "Epoch 1700 loss: 0.01632\n",
            "Epoch 1800 loss: 0.01574\n",
            "Epoch 1900 loss: 0.01527\n",
            "Epoch 2000 loss: 0.01493\n",
            "Epoch 2100 loss: 0.01467\n",
            "Epoch 2200 loss: 0.01439\n",
            "Epoch 2300 loss: 0.01408\n",
            "Epoch 2400 loss: 0.01384\n",
            "Epoch 2500 loss: 0.01364\n",
            "Epoch 2600 loss: 0.01348\n",
            "Epoch 2700 loss: 0.01276\n",
            "Epoch 2800 loss: 0.01219\n",
            "Epoch 2900 loss: 0.01178\n",
            "Epoch 3000 loss: 0.01147\n",
            "Epoch 3100 loss: 0.01124\n",
            "Epoch 3200 loss: 0.01105\n",
            "Epoch 3300 loss: 0.01090\n",
            "Epoch 3400 loss: 0.01078\n",
            "Epoch 3500 loss: 0.01068\n",
            "Epoch 3600 loss: 0.01059\n",
            "Epoch 3700 loss: 0.01051\n",
            "Epoch 3800 loss: 0.01045\n",
            "Epoch 3900 loss: 0.01038\n",
            "Epoch 4000 loss: 0.01033\n",
            "Epoch 4100 loss: 0.01025\n",
            "Epoch 4200 loss: 0.01018\n",
            "Epoch 4300 loss: 0.01012\n",
            "Epoch 4400 loss: 0.01006\n",
            "Epoch 4500 loss: 0.01001\n",
            "Epoch 4600 loss: 0.00996\n",
            "Epoch 4700 loss: 0.00992\n",
            "Epoch 4800 loss: 0.00987\n",
            "Epoch 4900 loss: 0.00983\n",
            "Epoch 5000 loss: 0.00979\n",
            "Epoch 5100 loss: 0.00975\n",
            "Epoch 5200 loss: 0.00971\n",
            "Epoch 5300 loss: 0.00962\n",
            "Epoch 5400 loss: 0.00954\n",
            "Epoch 5500 loss: 0.00949\n",
            "Epoch 5600 loss: 0.00944\n",
            "Epoch 5700 loss: 0.00939\n",
            "Epoch 5800 loss: 0.00935\n",
            "Epoch 5900 loss: 0.00931\n",
            "Epoch 6000 loss: 0.00928\n",
            "Epoch 6100 loss: 0.00924\n",
            "Epoch 6200 loss: 0.00921\n",
            "Epoch 6300 loss: 0.00918\n",
            "Epoch 6400 loss: 0.00914\n",
            "Epoch 6500 loss: 0.00912\n",
            "Epoch 6600 loss: 0.00909\n",
            "Epoch 6700 loss: 0.00906\n",
            "Epoch 6800 loss: 0.00903\n",
            "Epoch 6900 loss: 0.00901\n",
            "Epoch 7000 loss: 0.00896\n",
            "Epoch 7100 loss: 0.00893\n",
            "Epoch 7200 loss: 0.00891\n",
            "Epoch 7300 loss: 0.00889\n",
            "Epoch 7400 loss: 0.00887\n",
            "Epoch 7500 loss: 0.00884\n",
            "Epoch 7600 loss: 0.00882\n",
            "Epoch 7700 loss: 0.00880\n",
            "Epoch 7800 loss: 0.00878\n",
            "Epoch 7900 loss: 0.00876\n",
            "Epoch 8000 loss: 0.00874\n",
            "Epoch 8100 loss: 0.00872\n",
            "Epoch 8200 loss: 0.00870\n",
            "Epoch 8300 loss: 0.00868\n",
            "Epoch 8400 loss: 0.00866\n",
            "Epoch 8500 loss: 0.00864\n",
            "Epoch 8600 loss: 0.00862\n",
            "Epoch 8700 loss: 0.00861\n",
            "Epoch 8800 loss: 0.00859\n",
            "Epoch 8900 loss: 0.00857\n",
            "Epoch 9000 loss: 0.00856\n",
            "Epoch 9100 loss: 0.00854\n",
            "Epoch 9200 loss: 0.00853\n",
            "Epoch 9300 loss: 0.00852\n",
            "Epoch 9400 loss: 0.00851\n",
            "Epoch 9500 loss: 0.00849\n",
            "Epoch 9600 loss: 0.00848\n",
            "Epoch 9700 loss: 0.00847\n",
            "Epoch 9800 loss: 0.00846\n",
            "Epoch 9900 loss: 0.00844\n"
          ]
        }
      ]
    },
    {
      "cell_type": "code",
      "source": [
        "# 結果の可視化\n",
        "labels_pred3 = net3(inputs_test)\n",
        "\n",
        "plt.title('隠れ層２層　活性化関数あり')\n",
        "plt.scatter(inputs_test[:,0].data, labels_pred3[:,0].data, c='b', label='予測値')\n",
        "plt.scatter(inputs_test[:,0].data, labels_test[:,0].data, c='k', marker='x',label='正解値')\n",
        "plt.legend()\n",
        "plt.show()"
      ],
      "metadata": {
        "id": "2iMgDDiDP8zB",
        "outputId": "a07e0292-5a10-43ba-c691-83e2a25c7984",
        "colab": {
          "base_uri": "https://localhost:8080/",
          "height": 396
        }
      },
      "execution_count": 28,
      "outputs": [
        {
          "output_type": "display_data",
          "data": {
            "text/plain": [
              "<Figure size 432x432 with 1 Axes>"
            ],
            "image/png": "[encoded data removed]"
          },
          "metadata": {
            "needs_background": "light"
          }
        }
      ]
    },
    {
      "cell_type": "markdown",
      "source": [
        "ディープラーニングには活性化関数を入れなければいけない。\n",
        "\n",
        "「非線形関数」と呼ばれる活性化関数を線形関数の間に入れることにより、初めて深い階層のディープラーニングモデルが意味を持つ。\n",
        "\n",
        "今回はReLU(ランプ関数)\n",
        "\n",
        "他にも、シグモイド関数や、softmax関数があるが、これれはモデルの出力値を0から1の「確率値」にする。\n",
        "\n",
        "これらのように線形関数の出力値を整形する利用パターンもある。"
      ],
      "metadata": {
        "id": "561-DS_KQFBH"
      }
    },
    {
      "cell_type": "code",
      "source": [
        ""
      ],
      "metadata": {
        "id": "k7fjZoCSP-_H"
      },
      "execution_count": null,
      "outputs": []
    }
  ]
}