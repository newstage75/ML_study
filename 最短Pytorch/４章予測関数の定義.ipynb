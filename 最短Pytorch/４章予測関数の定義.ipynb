{
  "nbformat": 4,
  "nbformat_minor": 0,
  "metadata": {
    "colab": {
      "name": "最短Pytorchの導入.ipynb",
      "provenance": [],
      "authorship_tag": "ABX9TyOiIiqZX1yV3DflDDI4XGOz",
      "include_colab_link": true
    },
    "kernelspec": {
      "name": "python3",
      "display_name": "Python 3"
    },
    "language_info": {
      "name": "python"
    }
  },
  "cells": [
    {
      "cell_type": "markdown",
      "metadata": {
        "id": "view-in-github",
        "colab_type": "text"
      },
      "source": [
        "<a href=\"https://colab.research.google.com/github/newstage75/ML_study/blob/master/%E6%9C%80%E7%9F%ADPytorch/%EF%BC%94%E7%AB%A0%E4%BA%88%E6%B8%AC%E9%96%A2%E6%95%B0%E3%81%AE%E5%AE%9A%E7%BE%A9.ipynb\" target=\"_parent\"><img src=\"https://colab.research.google.com/assets/colab-badge.svg\" alt=\"Open In Colab\"/></a>"
      ]
    },
    {
      "cell_type": "markdown",
      "source": [
        "#４章予測関数の定義.ipynb"
      ],
      "metadata": {
        "id": "CEgOOTrGJU31"
      }
    },
    {
      "cell_type": "code",
      "execution_count": 7,
      "metadata": {
        "colab": {
          "base_uri": "https://localhost:8080/"
        },
        "id": "48AexnpDJAMO",
        "outputId": "70da823c-f48f-452e-8af0-2711927ef16c"
      },
      "outputs": [
        {
          "output_type": "stream",
          "name": "stdout",
          "text": [
            "Requirement already satisfied: six>=1.5 in /usr/local/lib/python3.7/dist-packages (from python-dateutil>=2.1->matplotlib->japanize_matplotlib) (1.15.0)\n",
            "Requirement already satisfied: typing-extensions in /usr/local/lib/python3.7/dist-packages (from torch->torchviz) (4.2.0)\n"
          ]
        }
      ],
      "source": [
        "# 必要ライブラリの導入\n",
        "\n",
        "!pip install japanize_matplotlib | tail -n 1\n",
        "!pip install torchviz | tail -n 1"
      ]
    },
    {
      "cell_type": "code",
      "source": [
        "# 必要ライブラリのインポート\n",
        "\n",
        "%matplotlib inline\n",
        "import numpy as np\n",
        "import matplotlib.pyplot as plt\n",
        "import japanize_matplotlib"
      ],
      "metadata": {
        "id": "ghCJoyn3JbCd"
      },
      "execution_count": 8,
      "outputs": []
    },
    {
      "cell_type": "code",
      "source": [
        "# PyTorch関連ライブラリ\n",
        "import torch\n",
        "import torch.nn as nn\n",
        "from torchviz import make_dot"
      ],
      "metadata": {
        "id": "tr9DWqhgLbjB"
      },
      "execution_count": 9,
      "outputs": []
    },
    {
      "cell_type": "code",
      "source": [
        "# warning表示off\n",
        "import warnings\n",
        "warnings.simplefilter('ignore')\n",
        "\n",
        "# デフォルトフォントサイズ変更\n",
        "plt.rcParams['font.size'] = 14\n",
        "\n",
        "# デフォルトグラフサイズ変更\n",
        "plt.rcParams['figure.figsize'] = (6,6)\n",
        "\n",
        "# デフォルトで方眼表示ON\n",
        "plt.rcParams['axes.grid'] = True\n",
        "\n",
        "# numpyの表示桁数設定\n",
        "np.set_printoptions(suppress=True, precision=5)"
      ],
      "metadata": {
        "id": "TTSBA8aYJeL0"
      },
      "execution_count": 10,
      "outputs": []
    },
    {
      "cell_type": "markdown",
      "source": [
        "ビルディングブロック\n",
        "\n",
        "PyTorchでは「Layer」または「モジュール」という名前で呼ぶ\n",
        "\n",
        "一次関数はnn.Linear"
      ],
      "metadata": {
        "id": "na9km6MhE77t"
      }
    },
    {
      "cell_type": "markdown",
      "source": [
        "主なレイヤー関数（パラメータ有無）\n",
        "*   nn.Linear あり　線形関数\n",
        "*   nn.Sigmoid なし　シグモイド関数\n",
        "*   nn.LogSoftmax なし　softmax関数+対数関数\n",
        "*   nn.ReLu なし　ReLu関数\n",
        "*   nn.Conv2d あり　畳み込み関数\n",
        "*   nn.MaxPool2d なし　プーリング関数\n",
        "*   nn.Flatten なし　一階化関数\n",
        "*   nn.Dropout　なし　ドロップアウト関数\n",
        "*   nn.BatchNorm2d あり BN関数\n",
        "*   nn.AdaptiveAvgPool2d なし　適合的平均プーリング関数\n",
        "\n",
        "\n",
        "**学習とはレイヤー関数のパラメータ値を調整することを意味する。**\n",
        "\n",
        "つまり、この書籍だと、下３つ\n",
        "*   nn.Linear あり　線形関数\n",
        "*   nn.Conv2d あり　畳み込み関数\n",
        "*   nn.BatchNorm2d あり BN関数"
      ],
      "metadata": {
        "id": "vdiop40OFtkJ"
      }
    },
    {
      "cell_type": "code",
      "source": [
        "#レイヤー関数定義\n",
        "l1 = nn.Linear(784, 128)\n",
        "\n",
        "#2番目の線形関数\n",
        "l2 = nn.Linear(128, 10)\n",
        "\n",
        "#活性化関数\n",
        "relu = nn.ReLU(inplace=True)"
      ],
      "metadata": {
        "id": "nH8jwmefFOdl"
      },
      "execution_count": 11,
      "outputs": []
    },
    {
      "cell_type": "code",
      "source": [
        "#３つの関数を組み合わせて、入力から出力得る実装例\n",
        "\n",
        "inputs = torch.randn(100, 784)\n",
        "\n",
        "m1 = l1(inputs)\n",
        "m2 = relu(m1)\n",
        "outputs = l2(m2)\n",
        "\n",
        "#shapeの確認\n",
        "print('入力テンソル', inputs.shape)\n",
        "print('出力テンソル', outputs.shape)"
      ],
      "metadata": {
        "id": "QpQbq5s5LTDF",
        "outputId": "ea47ee0c-3354-4765-d0fe-34487af6fec5",
        "colab": {
          "base_uri": "https://localhost:8080/"
        }
      },
      "execution_count": 12,
      "outputs": [
        {
          "output_type": "stream",
          "name": "stdout",
          "text": [
            "入力テンソル torch.Size([100, 784])\n",
            "出力テンソル torch.Size([100, 10])\n"
          ]
        }
      ]
    },
    {
      "cell_type": "code",
      "source": [
        "#上のように、直線上につながる合成関数はnn.Sequentialという部品を利用してより簡潔に実装できる。\n",
        "net2 = nn.Sequential(\n",
        "    l1,\n",
        "    relu,\n",
        "    l2\n",
        ")\n",
        "\n",
        "outputs2 = net2(inputs)\n",
        "\n",
        "#入力テンソルと出力テンソルのshape確認\n",
        "print('入力テンソル', inputs.shape)\n",
        "print('出力テンソル', outputs２.shape)"
      ],
      "metadata": {
        "id": "r2kHz8zFMYbg",
        "outputId": "cb505113-60ba-43e1-c9ef-ecea032ab4d4",
        "colab": {
          "base_uri": "https://localhost:8080/"
        }
      },
      "execution_count": 14,
      "outputs": [
        {
          "output_type": "stream",
          "name": "stdout",
          "text": [
            "入力テンソル torch.Size([100, 784])\n",
            "出力テンソル torch.Size([100, 10])\n"
          ]
        }
      ]
    },
    {
      "cell_type": "code",
      "source": [
        ""
      ],
      "metadata": {
        "id": "cNgKbf3kM66z"
      },
      "execution_count": null,
      "outputs": []
    }
  ]
}