{
  "nbformat": 4,
  "nbformat_minor": 0,
  "metadata": {
    "colab": {
      "name": "最短Pytorchの導入.ipynb",
      "provenance": [],
      "authorship_tag": "ABX9TyPbmbW/FTaFFjod/hbW85do",
      "include_colab_link": true
    },
    "kernelspec": {
      "name": "python3",
      "display_name": "Python 3"
    },
    "language_info": {
      "name": "python"
    }
  },
  "cells": [
    {
      "cell_type": "markdown",
      "metadata": {
        "id": "view-in-github",
        "colab_type": "text"
      },
      "source": [
        "<a href=\"https://colab.research.google.com/github/newstage75/ML_study/blob/master/%E6%9C%80%E7%9F%ADPytorch/%EF%BC%94%E7%AB%A0%E4%BA%88%E6%B8%AC%E9%96%A2%E6%95%B0%E3%81%AE%E5%AE%9A%E7%BE%A9.ipynb\" target=\"_parent\"><img src=\"https://colab.research.google.com/assets/colab-badge.svg\" alt=\"Open In Colab\"/></a>"
      ]
    },
    {
      "cell_type": "markdown",
      "source": [
        "#４章予測関数の定義.ipynb"
      ],
      "metadata": {
        "id": "CEgOOTrGJU31"
      }
    },
    {
      "cell_type": "code",
      "execution_count": 1,
      "metadata": {
        "colab": {
          "base_uri": "https://localhost:8080/"
        },
        "id": "48AexnpDJAMO",
        "outputId": "2fe40d60-e70a-4a80-c151-853411fb8da9"
      },
      "outputs": [
        {
          "output_type": "stream",
          "name": "stdout",
          "text": [
            "Successfully installed japanize-matplotlib-1.1.3\n"
          ]
        }
      ],
      "source": [
        "# 必要ライブラリの導入\n",
        "\n",
        "!pip install japanize_matplotlib | tail -n 1"
      ]
    },
    {
      "cell_type": "code",
      "source": [
        "# 必要ライブラリのインポート\n",
        "\n",
        "%matplotlib inline\n",
        "import numpy as np\n",
        "import matplotlib.pyplot as plt\n",
        "import japanize_matplotlib"
      ],
      "metadata": {
        "id": "ghCJoyn3JbCd"
      },
      "execution_count": 2,
      "outputs": []
    },
    {
      "cell_type": "code",
      "source": [
        "# warning表示off\n",
        "import warnings\n",
        "warnings.simplefilter('ignore')\n",
        "\n",
        "# デフォルトフォントサイズ変更\n",
        "plt.rcParams['font.size'] = 14\n",
        "\n",
        "# デフォルトグラフサイズ変更\n",
        "plt.rcParams['figure.figsize'] = (6,6)\n",
        "\n",
        "# デフォルトで方眼表示ON\n",
        "plt.rcParams['axes.grid'] = True\n",
        "\n",
        "# numpyの表示桁数設定\n",
        "np.set_printoptions(suppress=True, precision=5)"
      ],
      "metadata": {
        "id": "TTSBA8aYJeL0"
      },
      "execution_count": 3,
      "outputs": []
    },
    {
      "cell_type": "markdown",
      "source": [
        "ビルディングブロック\n",
        "\n",
        "PyTorchでは「Layer」または「モジュール」という名前で呼ぶ\n",
        "\n",
        "一次関数はnn.Linear"
      ],
      "metadata": {
        "id": "na9km6MhE77t"
      }
    },
    {
      "cell_type": "markdown",
      "source": [
        "主なレイヤー関数（パラメータ有無）\n",
        "*   nn.Linear あり　線形関数\n",
        "*   nn.Sigmoid なし　シグモイド関数\n",
        "*   nn.LogSoftmax なし　softmax関数+対数関数\n",
        "*   nn.ReLu なし　ReLu関数\n",
        "*   nn.Conv2d あり　畳み込み関数\n",
        "*   nn.MaxPool2d なし　プーリング関数\n",
        "*   nn.Flatten なし　一階化関数\n",
        "*   nn.Dropout　なし　ドロップアウト関数\n",
        "*   nn.BatchNorm2d あり BN関数\n",
        "*   nn.AdaptiveAvgPool2d なし　適合的平均プーリング関数\n",
        "\n",
        "\n",
        "**学習とはレイヤー関数のパラメータ値を調整することを意味する。**\n",
        "\n",
        "つまり、この書籍だと、下３つ\n",
        "*   nn.Linear あり　線形関数\n",
        "*   nn.Conv2d あり　畳み込み関数\n",
        "*   nn.BatchNorm2d あり BN関数"
      ],
      "metadata": {
        "id": "vdiop40OFtkJ"
      }
    },
    {
      "cell_type": "code",
      "source": [
        ""
      ],
      "metadata": {
        "id": "nH8jwmefFOdl"
      },
      "execution_count": null,
      "outputs": []
    }
  ]
}