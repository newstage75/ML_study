{
  "nbformat": 4,
  "nbformat_minor": 0,
  "metadata": {
    "colab": {
      "name": "最短Pytorchの導入.ipynb",
      "provenance": [],
      "authorship_tag": "ABX9TyPlVAvvCSZ9XOW60EjjR5r9",
      "include_colab_link": true
    },
    "kernelspec": {
      "name": "python3",
      "display_name": "Python 3"
    },
    "language_info": {
      "name": "python"
    }
  },
  "cells": [
    {
      "cell_type": "markdown",
      "metadata": {
        "id": "view-in-github",
        "colab_type": "text"
      },
      "source": [
        "<a href=\"https://colab.research.google.com/github/newstage75/ML_study/blob/master/%E6%9C%80%E7%9F%ADPytorch/%EF%BC%97%E7%AB%A0_%E5%A4%9A%E5%80%A4%E5%88%86%E9%A1%9E.ipynb\" target=\"_parent\"><img src=\"https://colab.research.google.com/assets/colab-badge.svg\" alt=\"Open In Colab\"/></a>"
      ]
    },
    {
      "cell_type": "markdown",
      "source": [
        "#７章_多値分類"
      ],
      "metadata": {
        "id": "CEgOOTrGJU31"
      }
    },
    {
      "cell_type": "code",
      "execution_count": 1,
      "metadata": {
        "colab": {
          "base_uri": "https://localhost:8080/"
        },
        "id": "48AexnpDJAMO",
        "outputId": "5cc2c0c9-8dbd-4ffe-bb1a-5f17529599c7"
      },
      "outputs": [
        {
          "output_type": "stream",
          "name": "stdout",
          "text": [
            "Successfully installed japanize-matplotlib-1.1.3\n",
            "Successfully installed torchviz-0.0.2\n",
            "Successfully installed torchinfo-1.6.6\n"
          ]
        }
      ],
      "source": [
        "# 必要ライブラリの導入\n",
        "\n",
        "!pip install japanize_matplotlib | tail -n 1\n",
        "!pip install torchviz | tail -n 1\n",
        "!pip install torchinfo | tail -n 1"
      ]
    },
    {
      "cell_type": "code",
      "source": [
        "# 必要ライブラリのインポート\n",
        "\n",
        "%matplotlib inline\n",
        "import numpy as np\n",
        "import matplotlib.pyplot as plt\n",
        "import japanize_matplotlib\n",
        "from IPython.display import display"
      ],
      "metadata": {
        "id": "ghCJoyn3JbCd"
      },
      "execution_count": 2,
      "outputs": []
    },
    {
      "cell_type": "code",
      "source": [
        "# torch関連ライブラリのインポート\n",
        "\n",
        "import torch\n",
        "import torch.nn as nn\n",
        "import torch.optim as optim\n",
        "from torchinfo import summary\n",
        "from torchviz import make_dot"
      ],
      "metadata": {
        "id": "wJKfNpszLiia"
      },
      "execution_count": 3,
      "outputs": []
    },
    {
      "cell_type": "code",
      "source": [
        "# デフォルトフォントサイズ変更\n",
        "plt.rcParams['font.size'] = 14\n",
        "\n",
        "# デフォルトグラフサイズ変更\n",
        "plt.rcParams['figure.figsize'] = (6,6)\n",
        "\n",
        "# デフォルトで方眼表示ON\n",
        "plt.rcParams['axes.grid'] = True\n",
        "\n",
        "# numpyの表示桁数設定\n",
        "np.set_printoptions(suppress=True, precision=4)"
      ],
      "metadata": {
        "id": "TTSBA8aYJeL0"
      },
      "execution_count": 4,
      "outputs": []
    },
    {
      "cell_type": "code",
      "source": [
        "#データ読み込み\n",
        "\n",
        "from sklearn.datasets import load_iris\n",
        "\n",
        "iris = load_iris()\n",
        "\n",
        "x_org, y_org = iris.data, iris.target\n",
        "\n",
        "print('元データ', x_org.shape, y_org.shape)"
      ],
      "metadata": {
        "colab": {
          "base_uri": "https://localhost:8080/"
        },
        "id": "dLf0lhQDXtpQ",
        "outputId": "9fc4c72f-6f46-4af4-ef6c-8915709ac62f"
      },
      "execution_count": 5,
      "outputs": [
        {
          "output_type": "stream",
          "name": "stdout",
          "text": [
            "元データ (150, 4) (150,)\n"
          ]
        }
      ]
    },
    {
      "cell_type": "code",
      "source": [
        "print(x_org[:5,:])"
      ],
      "metadata": {
        "colab": {
          "base_uri": "https://localhost:8080/"
        },
        "id": "_z5uJfhOYIoE",
        "outputId": "ca52861a-da23-4808-a6f8-e85743fbe968"
      },
      "execution_count": 6,
      "outputs": [
        {
          "output_type": "stream",
          "name": "stdout",
          "text": [
            "[[5.1 3.5 1.4 0.2]\n",
            " [4.9 3.  1.4 0.2]\n",
            " [4.7 3.2 1.3 0.2]\n",
            " [4.6 3.1 1.5 0.2]\n",
            " [5.  3.6 1.4 0.2]]\n"
          ]
        }
      ]
    },
    {
      "cell_type": "code",
      "source": [
        "#1列目と3列目にしぼる(がく片（sepal）と花弁(petal)のlengtn)\n",
        "x_select = x_org[:,[0,2]]\n",
        "\n",
        "print('元データ', x_select.shape, y_org.shape)"
      ],
      "metadata": {
        "colab": {
          "base_uri": "https://localhost:8080/"
        },
        "id": "9ae88k08X_Q6",
        "outputId": "316f51ab-7a9a-4efe-ef53-4acf0c116db8"
      },
      "execution_count": 7,
      "outputs": [
        {
          "output_type": "stream",
          "name": "stdout",
          "text": [
            "元データ (150, 2) (150,)\n"
          ]
        }
      ]
    },
    {
      "cell_type": "code",
      "source": [
        "from sklearn.model_selection import train_test_split\n",
        "x_train, x_test, y_train, y_test = train_test_split(\n",
        "    x_select, y_org, train_size=75, test_size=75,\n",
        "    random_state=123)\n",
        "print(x_train.shape, x_test.shape, y_train.shape, y_test.shape)"
      ],
      "metadata": {
        "colab": {
          "base_uri": "https://localhost:8080/"
        },
        "id": "4kUr6Z6pYm33",
        "outputId": "f678ea2e-c404-480c-933d-3f0deb56f203"
      },
      "execution_count": 8,
      "outputs": [
        {
          "output_type": "stream",
          "name": "stdout",
          "text": [
            "(75, 2) (75, 2) (75,) (75,)\n"
          ]
        }
      ]
    },
    {
      "cell_type": "code",
      "source": [
        "#　データを正解値ごとに分割\n",
        "\n",
        "x_t0 = x_train[y_train == 0]\n",
        "x_t1 = x_train[y_train == 1]\n",
        "x_t2 = x_train[y_train == 2]"
      ],
      "metadata": {
        "id": "Dyivbb5Qdkb1"
      },
      "execution_count": 9,
      "outputs": []
    },
    {
      "cell_type": "code",
      "source": [
        "# 散布図の表示\n",
        "plt.scatter(x_t0[:,0],x_t0[:,1],marker='x', c='k', s=50, label='0(setosa)')\n",
        "plt.scatter(x_t1[:,0],x_t1[:,1],marker='o', c='b', s=50, label='1(versicolour)')\n",
        "plt.scatter(x_t2[:,0],x_t2[:,1],marker='+', c='k', s=50, label='2(virginica)')\n",
        "plt.xlabel('sepal_length')\n",
        "plt.ylabel('petal_length')\n",
        "plt.legend()\n",
        "plt.show()"
      ],
      "metadata": {
        "id": "bk_a_uJUeJbs",
        "outputId": "437a14d3-472d-4b28-e1f7-d675ae187b75",
        "colab": {
          "base_uri": "https://localhost:8080/",
          "height": 394
        }
      },
      "execution_count": 10,
      "outputs": [
        {
          "output_type": "display_data",
          "data": {
            "text/plain": [
              "<Figure size 432x432 with 1 Axes>"
            ],
            "image/png": "[encoded data removed]"
          },
          "metadata": {
            "needs_background": "light"
          }
        }
      ]
    },
    {
      "cell_type": "code",
      "source": [
        "#モデル定義(入力次元)\n",
        "n_input = x_train.shape[1]\n",
        "n_output = len(list(set(y_train)))\n",
        "\n",
        "print(f'n_input: {n_input} n_output: {n_output}')"
      ],
      "metadata": {
        "id": "EHvGRPlMfHRr",
        "colab": {
          "base_uri": "https://localhost:8080/"
        },
        "outputId": "15630c88-b5a5-49af-a39b-caf1cb6b7f2c"
      },
      "execution_count": 11,
      "outputs": [
        {
          "output_type": "stream",
          "name": "stdout",
          "text": [
            "n_input: 2 n_output: 3\n"
          ]
        }
      ]
    },
    {
      "cell_type": "code",
      "source": [
        "#モデル定義\n",
        "class Net(nn.Module):\n",
        "  def __init__(self, n_input, n_output):\n",
        "    super().__init__()\n",
        "    self.l1 = nn.Linear(n_input, n_output)\n",
        "\n",
        "    #書籍合わせ初期値１\n",
        "    self.l1.weight.data.fill_(1.0)\n",
        "    self.l1.bias.data.fill_(1.0)\n",
        "\n",
        "  def forward(self, x):\n",
        "    x1 = self.l1(x)\n",
        "    return x1\n",
        "\n",
        "#インスタンスの生成\n",
        "net = Net(n_input, n_output)"
      ],
      "metadata": {
        "id": "u-BGEc71IKqd"
      },
      "execution_count": 12,
      "outputs": []
    },
    {
      "cell_type": "code",
      "source": [
        "#モデル確認\n",
        "for parameter in net.named_parameters():\n",
        "  print(parameter)"
      ],
      "metadata": {
        "colab": {
          "base_uri": "https://localhost:8080/"
        },
        "id": "Wzxqq0NsJAvt",
        "outputId": "8ce8e317-8dc8-49dc-f989-c31036e97887"
      },
      "execution_count": 13,
      "outputs": [
        {
          "output_type": "stream",
          "name": "stdout",
          "text": [
            "('l1.weight', Parameter containing:\n",
            "tensor([[1., 1.],\n",
            "        [1., 1.],\n",
            "        [1., 1.]], requires_grad=True))\n",
            "('l1.bias', Parameter containing:\n",
            "tensor([1., 1., 1.], requires_grad=True))\n"
          ]
        }
      ]
    },
    {
      "cell_type": "code",
      "source": [
        "#モデル概要表示\n",
        "print(net)"
      ],
      "metadata": {
        "colab": {
          "base_uri": "https://localhost:8080/"
        },
        "id": "q0KU8raMJKF2",
        "outputId": "cf557cb7-46b7-4e98-8bc0-1e8454bad968"
      },
      "execution_count": 14,
      "outputs": [
        {
          "output_type": "stream",
          "name": "stdout",
          "text": [
            "Net(\n",
            "  (l1): Linear(in_features=2, out_features=3, bias=True)\n",
            ")\n"
          ]
        }
      ]
    },
    {
      "cell_type": "code",
      "source": [
        "#モデルのサマリー表示\n",
        "summary(net, (2,))"
      ],
      "metadata": {
        "colab": {
          "base_uri": "https://localhost:8080/"
        },
        "id": "9QXA6biXJTlT",
        "outputId": "adbb0b72-cccf-4d71-901f-4c8fb6f0585a"
      },
      "execution_count": 15,
      "outputs": [
        {
          "output_type": "execute_result",
          "data": {
            "text/plain": [
              "==========================================================================================\n",
              "Layer (type:depth-idx)                   Output Shape              Param #\n",
              "==========================================================================================\n",
              "Net                                      --                        --\n",
              "├─Linear: 1-1                            [3]                       9\n",
              "==========================================================================================\n",
              "Total params: 9\n",
              "Trainable params: 9\n",
              "Non-trainable params: 0\n",
              "Total mult-adds (M): 0.00\n",
              "==========================================================================================\n",
              "Input size (MB): 0.00\n",
              "Forward/backward pass size (MB): 0.00\n",
              "Params size (MB): 0.00\n",
              "Estimated Total Size (MB): 0.00\n",
              "=========================================================================================="
            ]
          },
          "metadata": {},
          "execution_count": 15
        }
      ]
    },
    {
      "cell_type": "code",
      "source": [
        "#最適化アルゴリズムと損失関数\n",
        "criterion = nn.CrossEntropyLoss()\n",
        "lr = 0.01\n",
        "optimizer = optim.SGD(net.parameters(), lr=lr)"
      ],
      "metadata": {
        "id": "a9WMrRBBJZZA"
      },
      "execution_count": 16,
      "outputs": []
    },
    {
      "cell_type": "code",
      "source": [
        "#勾配降下法\n",
        "#データのテンソル化\n",
        "\n",
        "inputs = torch.tensor(x_train).float()\n",
        "labels = torch.tensor(y_train).long()\n",
        "\n",
        "inputs_test = torch.tensor(x_test).float()\n",
        "labels_test = torch.tensor(y_test).long()"
      ],
      "metadata": {
        "id": "oAGQwXYnJzoS"
      },
      "execution_count": 17,
      "outputs": []
    },
    {
      "cell_type": "code",
      "source": [
        "#計算グラフの可視化\n",
        "outputs = net(inputs)\n",
        "\n",
        "loss = criterion(outputs, labels)\n",
        "\n",
        "g = make_dot(loss, params=dict(net.named_parameters()))\n",
        "display(g)"
      ],
      "metadata": {
        "colab": {
          "base_uri": "https://localhost:8080/",
          "height": 542
        },
        "id": "z7L0-OMJKe5o",
        "outputId": "82839286-fb05-4f29-83c3-9deb82841984"
      },
      "execution_count": 18,
      "outputs": [
        {
          "output_type": "display_data",
          "data": {
            "text/plain": [
              "<graphviz.dot.Digraph at 0x7ff5c17af750>"
            ],
            "image/svg+xml": "<?xml version=\"1.0\" encoding=\"UTF-8\" standalone=\"no\"?>\n<!DOCTYPE svg PUBLIC \"-//W3C//DTD SVG 1.1//EN\"\n \"http://www.w3.org/Graphics/SVG/1.1/DTD/svg11.dtd\">\n<!-- Generated by graphviz version 2.40.1 (20161225.0304)\n -->\n<!-- Title: %3 Pages: 1 -->\n<svg width=\"216pt\" height=\"391pt\"\n viewBox=\"0.00 0.00 216.00 391.00\" xmlns=\"http://www.w3.org/2000/svg\" xmlns:xlink=\"http://www.w3.org/1999/xlink\">\n<g id=\"graph0\" class=\"graph\" transform=\"scale(1 1) rotate(0) translate(4 387)\">\n<title>%3</title>\n<polygon fill=\"#ffffff\" stroke=\"transparent\" points=\"-4,4 -4,-387 212,-387 212,4 -4,4\"/>\n<!-- 140693494602448 -->\n<g id=\"node1\" class=\"node\">\n<title>140693494602448</title>\n<polygon fill=\"#caff70\" stroke=\"#000000\" points=\"130.5,-31 76.5,-31 76.5,0 130.5,0 130.5,-31\"/>\n<text text-anchor=\"middle\" x=\"103.5\" y=\"-7\" font-family=\"monospace\" font-size=\"10.00\" fill=\"#000000\"> ()</text>\n</g>\n<!-- 140693496652560 -->\n<g id=\"node2\" class=\"node\">\n<title>140693496652560</title>\n<polygon fill=\"#d3d3d3\" stroke=\"#000000\" points=\"160,-86 47,-86 47,-67 160,-67 160,-86\"/>\n<text text-anchor=\"middle\" x=\"103.5\" y=\"-74\" font-family=\"monospace\" font-size=\"10.00\" fill=\"#000000\">NllLossBackward0</text>\n</g>\n<!-- 140693496652560&#45;&gt;140693494602448 -->\n<g id=\"edge8\" class=\"edge\">\n<title>140693496652560&#45;&gt;140693494602448</title>\n<path fill=\"none\" stroke=\"#000000\" d=\"M103.5,-66.9688C103.5,-60.1289 103.5,-50.5621 103.5,-41.5298\"/>\n<polygon fill=\"#000000\" stroke=\"#000000\" points=\"107.0001,-41.3678 103.5,-31.3678 100.0001,-41.3678 107.0001,-41.3678\"/>\n</g>\n<!-- 140693740946640 -->\n<g id=\"node3\" class=\"node\">\n<title>140693740946640</title>\n<polygon fill=\"#d3d3d3\" stroke=\"#000000\" points=\"169,-141 38,-141 38,-122 169,-122 169,-141\"/>\n<text text-anchor=\"middle\" x=\"103.5\" y=\"-129\" font-family=\"monospace\" font-size=\"10.00\" fill=\"#000000\">LogSoftmaxBackward0</text>\n</g>\n<!-- 140693740946640&#45;&gt;140693496652560 -->\n<g id=\"edge1\" class=\"edge\">\n<title>140693740946640&#45;&gt;140693496652560</title>\n<path fill=\"none\" stroke=\"#000000\" d=\"M103.5,-121.9197C103.5,-114.9083 103.5,-105.1442 103.5,-96.4652\"/>\n<polygon fill=\"#000000\" stroke=\"#000000\" points=\"107.0001,-96.3408 103.5,-86.3408 100.0001,-96.3409 107.0001,-96.3408\"/>\n</g>\n<!-- 140693740949008 -->\n<g id=\"node4\" class=\"node\">\n<title>140693740949008</title>\n<polygon fill=\"#d3d3d3\" stroke=\"#000000\" points=\"154,-196 53,-196 53,-177 154,-177 154,-196\"/>\n<text text-anchor=\"middle\" x=\"103.5\" y=\"-184\" font-family=\"monospace\" font-size=\"10.00\" fill=\"#000000\">AddmmBackward0</text>\n</g>\n<!-- 140693740949008&#45;&gt;140693740946640 -->\n<g id=\"edge2\" class=\"edge\">\n<title>140693740949008&#45;&gt;140693740946640</title>\n<path fill=\"none\" stroke=\"#000000\" d=\"M103.5,-176.9197C103.5,-169.9083 103.5,-160.1442 103.5,-151.4652\"/>\n<polygon fill=\"#000000\" stroke=\"#000000\" points=\"107.0001,-151.3408 103.5,-141.3408 100.0001,-151.3409 107.0001,-151.3408\"/>\n</g>\n<!-- 140693740908176 -->\n<g id=\"node5\" class=\"node\">\n<title>140693740908176</title>\n<polygon fill=\"#d3d3d3\" stroke=\"#000000\" points=\"101,-251 0,-251 0,-232 101,-232 101,-251\"/>\n<text text-anchor=\"middle\" x=\"50.5\" y=\"-239\" font-family=\"monospace\" font-size=\"10.00\" fill=\"#000000\">AccumulateGrad</text>\n</g>\n<!-- 140693740908176&#45;&gt;140693740949008 -->\n<g id=\"edge3\" class=\"edge\">\n<title>140693740908176&#45;&gt;140693740949008</title>\n<path fill=\"none\" stroke=\"#000000\" d=\"M59.7319,-231.9197C67.2391,-224.1293 78.021,-212.9405 87.0049,-203.6176\"/>\n<polygon fill=\"#000000\" stroke=\"#000000\" points=\"89.5983,-205.9703 94.017,-196.3408 84.5578,-201.113 89.5983,-205.9703\"/>\n</g>\n<!-- 140693494481648 -->\n<g id=\"node6\" class=\"node\">\n<title>140693494481648</title>\n<polygon fill=\"#add8e6\" stroke=\"#000000\" points=\"80,-317 21,-317 21,-287 80,-287 80,-317\"/>\n<text text-anchor=\"middle\" x=\"50.5\" y=\"-305\" font-family=\"monospace\" font-size=\"10.00\" fill=\"#000000\">l1.bias</text>\n<text text-anchor=\"middle\" x=\"50.5\" y=\"-294\" font-family=\"monospace\" font-size=\"10.00\" fill=\"#000000\"> (3)</text>\n</g>\n<!-- 140693494481648&#45;&gt;140693740908176 -->\n<g id=\"edge4\" class=\"edge\">\n<title>140693494481648&#45;&gt;140693740908176</title>\n<path fill=\"none\" stroke=\"#000000\" d=\"M50.5,-286.7333C50.5,-279.0322 50.5,-269.5977 50.5,-261.3414\"/>\n<polygon fill=\"#000000\" stroke=\"#000000\" points=\"54.0001,-261.0864 50.5,-251.0864 47.0001,-261.0864 54.0001,-261.0864\"/>\n</g>\n<!-- 140693740946000 -->\n<g id=\"node7\" class=\"node\">\n<title>140693740946000</title>\n<polygon fill=\"#d3d3d3\" stroke=\"#000000\" points=\"196,-251 119,-251 119,-232 196,-232 196,-251\"/>\n<text text-anchor=\"middle\" x=\"157.5\" y=\"-239\" font-family=\"monospace\" font-size=\"10.00\" fill=\"#000000\">TBackward0</text>\n</g>\n<!-- 140693740946000&#45;&gt;140693740949008 -->\n<g id=\"edge5\" class=\"edge\">\n<title>140693740946000&#45;&gt;140693740949008</title>\n<path fill=\"none\" stroke=\"#000000\" d=\"M148.0939,-231.9197C140.4451,-224.1293 129.4597,-212.9405 120.3064,-203.6176\"/>\n<polygon fill=\"#000000\" stroke=\"#000000\" points=\"122.6653,-201.0244 113.1619,-196.3408 117.6704,-205.9286 122.6653,-201.0244\"/>\n</g>\n<!-- 140693740949072 -->\n<g id=\"node8\" class=\"node\">\n<title>140693740949072</title>\n<polygon fill=\"#d3d3d3\" stroke=\"#000000\" points=\"208,-311.5 107,-311.5 107,-292.5 208,-292.5 208,-311.5\"/>\n<text text-anchor=\"middle\" x=\"157.5\" y=\"-299.5\" font-family=\"monospace\" font-size=\"10.00\" fill=\"#000000\">AccumulateGrad</text>\n</g>\n<!-- 140693740949072&#45;&gt;140693740946000 -->\n<g id=\"edge6\" class=\"edge\">\n<title>140693740949072&#45;&gt;140693740946000</title>\n<path fill=\"none\" stroke=\"#000000\" d=\"M157.5,-292.2796C157.5,-284.0376 157.5,-271.9457 157.5,-261.629\"/>\n<polygon fill=\"#000000\" stroke=\"#000000\" points=\"161.0001,-261.3972 157.5,-251.3972 154.0001,-261.3973 161.0001,-261.3972\"/>\n</g>\n<!-- 140693494482416 -->\n<g id=\"node9\" class=\"node\">\n<title>140693494482416</title>\n<polygon fill=\"#add8e6\" stroke=\"#000000\" points=\"193,-383 122,-383 122,-353 193,-353 193,-383\"/>\n<text text-anchor=\"middle\" x=\"157.5\" y=\"-371\" font-family=\"monospace\" font-size=\"10.00\" fill=\"#000000\">l1.weight</text>\n<text text-anchor=\"middle\" x=\"157.5\" y=\"-360\" font-family=\"monospace\" font-size=\"10.00\" fill=\"#000000\"> (3, 2)</text>\n</g>\n<!-- 140693494482416&#45;&gt;140693740949072 -->\n<g id=\"edge7\" class=\"edge\">\n<title>140693494482416&#45;&gt;140693740949072</title>\n<path fill=\"none\" stroke=\"#000000\" d=\"M157.5,-352.6924C157.5,-343.5067 157.5,-331.7245 157.5,-321.8312\"/>\n<polygon fill=\"#000000\" stroke=\"#000000\" points=\"161.0001,-321.703 157.5,-311.7031 154.0001,-321.7031 161.0001,-321.703\"/>\n</g>\n</g>\n</svg>\n"
          },
          "metadata": {}
        }
      ]
    },
    {
      "cell_type": "code",
      "source": [
        "# 予測ラベル値の取得方法\n",
        "# torch.max関数呼び出し\n",
        "# 2つめの引数は軸を意味している。1だと行ごとの集計。\n",
        "print(torch.max(outputs, 1))"
      ],
      "metadata": {
        "colab": {
          "base_uri": "https://localhost:8080/"
        },
        "id": "81_JEhvQK50Z",
        "outputId": "85d44b7f-451d-4d11-a9f5-b9a7d887f1be"
      },
      "execution_count": 19,
      "outputs": [
        {
          "output_type": "stream",
          "name": "stdout",
          "text": [
            "torch.return_types.max(\n",
            "values=tensor([12.0000, 12.7000,  7.6000, 13.0000, 12.3000,  7.6000,  7.3000, 11.1000,\n",
            "        12.1000, 13.3000,  8.0000,  7.0000, 10.3000,  7.6000, 11.7000, 13.3000,\n",
            "         7.4000, 13.5000,  8.2000,  8.4000, 12.7000,  6.6000,  7.9000, 12.2000,\n",
            "        14.6000, 12.0000, 10.2000, 10.5000,  7.1000,  7.3000, 12.6000, 12.7000,\n",
            "         7.4000,  7.7000, 10.8000, 11.5000, 11.5000, 14.0000, 12.8000, 10.8000,\n",
            "        10.8000, 15.2000,  7.5000,  7.8000, 11.1000, 13.6000, 12.9000, 14.2000,\n",
            "        12.7000,  7.6000, 10.9000,  7.0000, 10.9000, 11.2000,  7.4000, 11.7000,\n",
            "        13.3000, 11.5000, 13.4000, 12.7000,  7.7000, 11.8000,  7.0000, 12.6000,\n",
            "        11.7000, 10.9000,  9.2000, 12.2000, 10.4000, 12.1000,  7.5000,  9.1000,\n",
            "        11.1000, 12.0000, 14.3000], grad_fn=<MaxBackward0>),\n",
            "indices=tensor([0, 0, 0, 0, 0, 0, 0, 0, 0, 0, 0, 0, 0, 0, 0, 0, 0, 0, 0, 0, 0, 0, 0, 0,\n",
            "        0, 0, 0, 0, 0, 0, 0, 0, 0, 0, 0, 0, 0, 0, 0, 0, 0, 0, 0, 0, 0, 0, 0, 0,\n",
            "        0, 0, 0, 0, 0, 0, 0, 0, 0, 0, 0, 0, 0, 0, 0, 0, 0, 0, 0, 0, 0, 0, 0, 0,\n",
            "        0, 0, 0]))\n"
          ]
        }
      ]
    },
    {
      "cell_type": "code",
      "source": [
        "torch.max(outputs, 1)[1]"
      ],
      "metadata": {
        "colab": {
          "base_uri": "https://localhost:8080/"
        },
        "id": "5xJxf8MoLwwx",
        "outputId": "b84ff8fb-cce0-4723-c695-e463957fbc49"
      },
      "execution_count": 20,
      "outputs": [
        {
          "output_type": "execute_result",
          "data": {
            "text/plain": [
              "tensor([0, 0, 0, 0, 0, 0, 0, 0, 0, 0, 0, 0, 0, 0, 0, 0, 0, 0, 0, 0, 0, 0, 0, 0,\n",
              "        0, 0, 0, 0, 0, 0, 0, 0, 0, 0, 0, 0, 0, 0, 0, 0, 0, 0, 0, 0, 0, 0, 0, 0,\n",
              "        0, 0, 0, 0, 0, 0, 0, 0, 0, 0, 0, 0, 0, 0, 0, 0, 0, 0, 0, 0, 0, 0, 0, 0,\n",
              "        0, 0, 0])"
            ]
          },
          "metadata": {},
          "execution_count": 20
        }
      ]
    },
    {
      "cell_type": "code",
      "source": [
        "#繰り返し計算\n",
        "lr = 0.01\n",
        "\n",
        "#インスタンス初期化\n",
        "net = Net(n_input, n_output)\n",
        "\n",
        "criterion = nn.CrossEntropyLoss()\n",
        "\n",
        "optimizer = optim.SGD(net.parameters(), lr=lr)\n",
        "\n",
        "num_epochs = 10000\n",
        "\n",
        "#評価結果記録用\n",
        "history = np.zeros((0,5))"
      ],
      "metadata": {
        "id": "QYXdk8vpME7Z"
      },
      "execution_count": 21,
      "outputs": []
    },
    {
      "cell_type": "code",
      "source": [
        "#繰り返し計算メインループ\n",
        "for epoch in range(num_epochs):\n",
        "  #訓練フェーズ\n",
        "  optimizer.zero_grad()\n",
        "\n",
        "  outputs = net(inputs)\n",
        "\n",
        "  loss = criterion(outputs, labels)\n",
        "\n",
        "  loss.backward()\n",
        "\n",
        "  optimizer.step()\n",
        "\n",
        "  predicted = torch.max(outputs, 1)[1]\n",
        "\n",
        "  train_loss = loss.item()\n",
        "  train_acc = (predicted == labels).sum() / len(labels)\n",
        "\n",
        "  #予測フェーズ\n",
        "  outputs_test = net(inputs_test)\n",
        "\n",
        "  loss_test = criterion(outputs_test, labels_test)\n",
        "\n",
        "  predicted_test = torch.max(outputs_test, 1)[1]\n",
        "\n",
        "  val_loss = loss_test.item()\n",
        "  val_acc = (predicted_test == labels_test).sum() / len(labels_test)\n",
        "\n",
        "  if ((epoch) % 10 == 0):\n",
        "    print(f'Epoch[{epoch}/{num_epochs}], loss: {train_loss:.5f}, acc: {train_acc:.5f} val_loss: {val_loss:.5f}')\n",
        "    item = np.array([epoch, train_loss, train_acc, val_loss, val_acc])\n",
        "    history = np.vstack((history, item))"
      ],
      "metadata": {
        "colab": {
          "base_uri": "https://localhost:8080/"
        },
        "id": "ZyP8eBSGNtE2",
        "outputId": "d686344a-3208-47d9-94fa-dc7db69f977c"
      },
      "execution_count": 22,
      "outputs": [
        {
          "output_type": "stream",
          "name": "stdout",
          "text": [
            "Epoch[0/10000], loss: 1.09861, acc: 0.30667 val_loss: 1.09263\n",
            "Epoch[10/10000], loss: 1.03580, acc: 0.40000 val_loss: 1.06403\n",
            "Epoch[20/10000], loss: 1.00477, acc: 0.40000 val_loss: 1.03347\n",
            "Epoch[30/10000], loss: 0.97672, acc: 0.40000 val_loss: 1.00264\n",
            "Epoch[40/10000], loss: 0.95057, acc: 0.41333 val_loss: 0.97351\n",
            "Epoch[50/10000], loss: 0.92616, acc: 0.48000 val_loss: 0.94631\n",
            "Epoch[60/10000], loss: 0.90338, acc: 0.69333 val_loss: 0.92098\n",
            "Epoch[70/10000], loss: 0.88212, acc: 0.70667 val_loss: 0.89740\n",
            "Epoch[80/10000], loss: 0.86227, acc: 0.70667 val_loss: 0.87545\n",
            "Epoch[90/10000], loss: 0.84373, acc: 0.70667 val_loss: 0.85500\n",
            "Epoch[100/10000], loss: 0.82640, acc: 0.70667 val_loss: 0.83594\n",
            "Epoch[110/10000], loss: 0.81019, acc: 0.72000 val_loss: 0.81815\n",
            "Epoch[120/10000], loss: 0.79500, acc: 0.72000 val_loss: 0.80153\n",
            "Epoch[130/10000], loss: 0.78077, acc: 0.73333 val_loss: 0.78599\n",
            "Epoch[140/10000], loss: 0.76741, acc: 0.74667 val_loss: 0.77142\n",
            "Epoch[150/10000], loss: 0.75485, acc: 0.74667 val_loss: 0.75777\n",
            "Epoch[160/10000], loss: 0.74303, acc: 0.74667 val_loss: 0.74494\n",
            "Epoch[170/10000], loss: 0.73189, acc: 0.76000 val_loss: 0.73288\n",
            "Epoch[180/10000], loss: 0.72138, acc: 0.77333 val_loss: 0.72151\n",
            "Epoch[190/10000], loss: 0.71145, acc: 0.82667 val_loss: 0.71079\n",
            "Epoch[200/10000], loss: 0.70205, acc: 0.82667 val_loss: 0.70067\n",
            "Epoch[210/10000], loss: 0.69315, acc: 0.84000 val_loss: 0.69109\n",
            "Epoch[220/10000], loss: 0.68470, acc: 0.84000 val_loss: 0.68202\n",
            "Epoch[230/10000], loss: 0.67667, acc: 0.86667 val_loss: 0.67341\n",
            "Epoch[240/10000], loss: 0.66904, acc: 0.86667 val_loss: 0.66524\n",
            "Epoch[250/10000], loss: 0.66176, acc: 0.86667 val_loss: 0.65746\n",
            "Epoch[260/10000], loss: 0.65483, acc: 0.85333 val_loss: 0.65005\n",
            "Epoch[270/10000], loss: 0.64820, acc: 0.85333 val_loss: 0.64299\n",
            "Epoch[280/10000], loss: 0.64187, acc: 0.85333 val_loss: 0.63625\n",
            "Epoch[290/10000], loss: 0.63581, acc: 0.86667 val_loss: 0.62980\n",
            "Epoch[300/10000], loss: 0.63000, acc: 0.88000 val_loss: 0.62363\n",
            "Epoch[310/10000], loss: 0.62443, acc: 0.89333 val_loss: 0.61772\n",
            "Epoch[320/10000], loss: 0.61909, acc: 0.89333 val_loss: 0.61205\n",
            "Epoch[330/10000], loss: 0.61394, acc: 0.89333 val_loss: 0.60661\n",
            "Epoch[340/10000], loss: 0.60900, acc: 0.89333 val_loss: 0.60138\n",
            "Epoch[350/10000], loss: 0.60423, acc: 0.89333 val_loss: 0.59635\n",
            "Epoch[360/10000], loss: 0.59964, acc: 0.90667 val_loss: 0.59150\n",
            "Epoch[370/10000], loss: 0.59521, acc: 0.92000 val_loss: 0.58683\n",
            "Epoch[380/10000], loss: 0.59093, acc: 0.92000 val_loss: 0.58232\n",
            "Epoch[390/10000], loss: 0.58679, acc: 0.92000 val_loss: 0.57797\n",
            "Epoch[400/10000], loss: 0.58279, acc: 0.92000 val_loss: 0.57377\n",
            "Epoch[410/10000], loss: 0.57891, acc: 0.92000 val_loss: 0.56970\n",
            "Epoch[420/10000], loss: 0.57516, acc: 0.92000 val_loss: 0.56576\n",
            "Epoch[430/10000], loss: 0.57152, acc: 0.90667 val_loss: 0.56195\n",
            "Epoch[440/10000], loss: 0.56799, acc: 0.90667 val_loss: 0.55825\n",
            "Epoch[450/10000], loss: 0.56456, acc: 0.90667 val_loss: 0.55466\n",
            "Epoch[460/10000], loss: 0.56123, acc: 0.90667 val_loss: 0.55118\n",
            "Epoch[470/10000], loss: 0.55799, acc: 0.90667 val_loss: 0.54779\n",
            "Epoch[480/10000], loss: 0.55484, acc: 0.90667 val_loss: 0.54451\n",
            "Epoch[490/10000], loss: 0.55177, acc: 0.90667 val_loss: 0.54131\n",
            "Epoch[500/10000], loss: 0.54878, acc: 0.90667 val_loss: 0.53819\n",
            "Epoch[510/10000], loss: 0.54587, acc: 0.90667 val_loss: 0.53516\n",
            "Epoch[520/10000], loss: 0.54303, acc: 0.90667 val_loss: 0.53221\n",
            "Epoch[530/10000], loss: 0.54026, acc: 0.90667 val_loss: 0.52933\n",
            "Epoch[540/10000], loss: 0.53755, acc: 0.90667 val_loss: 0.52652\n",
            "Epoch[550/10000], loss: 0.53491, acc: 0.90667 val_loss: 0.52377\n",
            "Epoch[560/10000], loss: 0.53233, acc: 0.90667 val_loss: 0.52110\n",
            "Epoch[570/10000], loss: 0.52981, acc: 0.90667 val_loss: 0.51848\n",
            "Epoch[580/10000], loss: 0.52734, acc: 0.90667 val_loss: 0.51592\n",
            "Epoch[590/10000], loss: 0.52493, acc: 0.90667 val_loss: 0.51342\n",
            "Epoch[600/10000], loss: 0.52256, acc: 0.90667 val_loss: 0.51098\n",
            "Epoch[610/10000], loss: 0.52025, acc: 0.90667 val_loss: 0.50859\n",
            "Epoch[620/10000], loss: 0.51798, acc: 0.90667 val_loss: 0.50624\n",
            "Epoch[630/10000], loss: 0.51576, acc: 0.90667 val_loss: 0.50395\n",
            "Epoch[640/10000], loss: 0.51358, acc: 0.90667 val_loss: 0.50170\n",
            "Epoch[650/10000], loss: 0.51144, acc: 0.90667 val_loss: 0.49949\n",
            "Epoch[660/10000], loss: 0.50934, acc: 0.90667 val_loss: 0.49733\n",
            "Epoch[670/10000], loss: 0.50728, acc: 0.90667 val_loss: 0.49521\n",
            "Epoch[680/10000], loss: 0.50526, acc: 0.90667 val_loss: 0.49313\n",
            "Epoch[690/10000], loss: 0.50328, acc: 0.90667 val_loss: 0.49109\n",
            "Epoch[700/10000], loss: 0.50133, acc: 0.90667 val_loss: 0.48908\n",
            "Epoch[710/10000], loss: 0.49941, acc: 0.90667 val_loss: 0.48711\n",
            "Epoch[720/10000], loss: 0.49752, acc: 0.90667 val_loss: 0.48517\n",
            "Epoch[730/10000], loss: 0.49567, acc: 0.90667 val_loss: 0.48327\n",
            "Epoch[740/10000], loss: 0.49385, acc: 0.90667 val_loss: 0.48140\n",
            "Epoch[750/10000], loss: 0.49205, acc: 0.90667 val_loss: 0.47956\n",
            "Epoch[760/10000], loss: 0.49029, acc: 0.90667 val_loss: 0.47775\n",
            "Epoch[770/10000], loss: 0.48855, acc: 0.90667 val_loss: 0.47597\n",
            "Epoch[780/10000], loss: 0.48684, acc: 0.90667 val_loss: 0.47422\n",
            "Epoch[790/10000], loss: 0.48515, acc: 0.89333 val_loss: 0.47249\n",
            "Epoch[800/10000], loss: 0.48349, acc: 0.89333 val_loss: 0.47079\n",
            "Epoch[810/10000], loss: 0.48186, acc: 0.89333 val_loss: 0.46912\n",
            "Epoch[820/10000], loss: 0.48024, acc: 0.89333 val_loss: 0.46747\n",
            "Epoch[830/10000], loss: 0.47865, acc: 0.89333 val_loss: 0.46585\n",
            "Epoch[840/10000], loss: 0.47709, acc: 0.89333 val_loss: 0.46425\n",
            "Epoch[850/10000], loss: 0.47554, acc: 0.89333 val_loss: 0.46267\n",
            "Epoch[860/10000], loss: 0.47402, acc: 0.89333 val_loss: 0.46111\n",
            "Epoch[870/10000], loss: 0.47251, acc: 0.89333 val_loss: 0.45958\n",
            "Epoch[880/10000], loss: 0.47103, acc: 0.89333 val_loss: 0.45806\n",
            "Epoch[890/10000], loss: 0.46956, acc: 0.89333 val_loss: 0.45657\n",
            "Epoch[900/10000], loss: 0.46811, acc: 0.89333 val_loss: 0.45509\n",
            "Epoch[910/10000], loss: 0.46668, acc: 0.89333 val_loss: 0.45364\n",
            "Epoch[920/10000], loss: 0.46527, acc: 0.89333 val_loss: 0.45220\n",
            "Epoch[930/10000], loss: 0.46388, acc: 0.89333 val_loss: 0.45078\n",
            "Epoch[940/10000], loss: 0.46250, acc: 0.89333 val_loss: 0.44938\n",
            "Epoch[950/10000], loss: 0.46114, acc: 0.89333 val_loss: 0.44800\n",
            "Epoch[960/10000], loss: 0.45980, acc: 0.89333 val_loss: 0.44663\n",
            "Epoch[970/10000], loss: 0.45847, acc: 0.89333 val_loss: 0.44528\n",
            "Epoch[980/10000], loss: 0.45716, acc: 0.89333 val_loss: 0.44395\n",
            "Epoch[990/10000], loss: 0.45586, acc: 0.89333 val_loss: 0.44263\n",
            "Epoch[1000/10000], loss: 0.45458, acc: 0.89333 val_loss: 0.44133\n",
            "Epoch[1010/10000], loss: 0.45331, acc: 0.89333 val_loss: 0.44004\n",
            "Epoch[1020/10000], loss: 0.45205, acc: 0.89333 val_loss: 0.43877\n",
            "Epoch[1030/10000], loss: 0.45081, acc: 0.89333 val_loss: 0.43751\n",
            "Epoch[1040/10000], loss: 0.44958, acc: 0.89333 val_loss: 0.43626\n",
            "Epoch[1050/10000], loss: 0.44836, acc: 0.89333 val_loss: 0.43503\n",
            "Epoch[1060/10000], loss: 0.44716, acc: 0.89333 val_loss: 0.43381\n",
            "Epoch[1070/10000], loss: 0.44597, acc: 0.89333 val_loss: 0.43260\n",
            "Epoch[1080/10000], loss: 0.44479, acc: 0.89333 val_loss: 0.43141\n",
            "Epoch[1090/10000], loss: 0.44363, acc: 0.89333 val_loss: 0.43023\n",
            "Epoch[1100/10000], loss: 0.44247, acc: 0.89333 val_loss: 0.42906\n",
            "Epoch[1110/10000], loss: 0.44133, acc: 0.89333 val_loss: 0.42790\n",
            "Epoch[1120/10000], loss: 0.44020, acc: 0.89333 val_loss: 0.42676\n",
            "Epoch[1130/10000], loss: 0.43908, acc: 0.89333 val_loss: 0.42562\n",
            "Epoch[1140/10000], loss: 0.43797, acc: 0.89333 val_loss: 0.42450\n",
            "Epoch[1150/10000], loss: 0.43687, acc: 0.89333 val_loss: 0.42339\n",
            "Epoch[1160/10000], loss: 0.43578, acc: 0.89333 val_loss: 0.42229\n",
            "Epoch[1170/10000], loss: 0.43470, acc: 0.89333 val_loss: 0.42120\n",
            "Epoch[1180/10000], loss: 0.43363, acc: 0.89333 val_loss: 0.42012\n",
            "Epoch[1190/10000], loss: 0.43257, acc: 0.89333 val_loss: 0.41905\n",
            "Epoch[1200/10000], loss: 0.43152, acc: 0.89333 val_loss: 0.41799\n",
            "Epoch[1210/10000], loss: 0.43048, acc: 0.89333 val_loss: 0.41694\n",
            "Epoch[1220/10000], loss: 0.42945, acc: 0.89333 val_loss: 0.41590\n",
            "Epoch[1230/10000], loss: 0.42843, acc: 0.89333 val_loss: 0.41487\n",
            "Epoch[1240/10000], loss: 0.42742, acc: 0.89333 val_loss: 0.41384\n",
            "Epoch[1250/10000], loss: 0.42641, acc: 0.89333 val_loss: 0.41283\n",
            "Epoch[1260/10000], loss: 0.42542, acc: 0.89333 val_loss: 0.41182\n",
            "Epoch[1270/10000], loss: 0.42443, acc: 0.89333 val_loss: 0.41083\n",
            "Epoch[1280/10000], loss: 0.42345, acc: 0.89333 val_loss: 0.40984\n",
            "Epoch[1290/10000], loss: 0.42248, acc: 0.89333 val_loss: 0.40886\n",
            "Epoch[1300/10000], loss: 0.42152, acc: 0.89333 val_loss: 0.40789\n",
            "Epoch[1310/10000], loss: 0.42056, acc: 0.89333 val_loss: 0.40693\n",
            "Epoch[1320/10000], loss: 0.41962, acc: 0.89333 val_loss: 0.40598\n",
            "Epoch[1330/10000], loss: 0.41868, acc: 0.89333 val_loss: 0.40503\n",
            "Epoch[1340/10000], loss: 0.41775, acc: 0.89333 val_loss: 0.40409\n",
            "Epoch[1350/10000], loss: 0.41682, acc: 0.89333 val_loss: 0.40316\n",
            "Epoch[1360/10000], loss: 0.41590, acc: 0.89333 val_loss: 0.40224\n",
            "Epoch[1370/10000], loss: 0.41499, acc: 0.89333 val_loss: 0.40132\n",
            "Epoch[1380/10000], loss: 0.41409, acc: 0.89333 val_loss: 0.40041\n",
            "Epoch[1390/10000], loss: 0.41320, acc: 0.89333 val_loss: 0.39951\n",
            "Epoch[1400/10000], loss: 0.41231, acc: 0.89333 val_loss: 0.39861\n",
            "Epoch[1410/10000], loss: 0.41143, acc: 0.89333 val_loss: 0.39773\n",
            "Epoch[1420/10000], loss: 0.41055, acc: 0.89333 val_loss: 0.39685\n",
            "Epoch[1430/10000], loss: 0.40968, acc: 0.89333 val_loss: 0.39597\n",
            "Epoch[1440/10000], loss: 0.40882, acc: 0.89333 val_loss: 0.39510\n",
            "Epoch[1450/10000], loss: 0.40796, acc: 0.89333 val_loss: 0.39424\n",
            "Epoch[1460/10000], loss: 0.40711, acc: 0.89333 val_loss: 0.39339\n",
            "Epoch[1470/10000], loss: 0.40627, acc: 0.89333 val_loss: 0.39254\n",
            "Epoch[1480/10000], loss: 0.40543, acc: 0.90667 val_loss: 0.39170\n",
            "Epoch[1490/10000], loss: 0.40460, acc: 0.90667 val_loss: 0.39086\n",
            "Epoch[1500/10000], loss: 0.40378, acc: 0.90667 val_loss: 0.39003\n",
            "Epoch[1510/10000], loss: 0.40296, acc: 0.90667 val_loss: 0.38921\n",
            "Epoch[1520/10000], loss: 0.40214, acc: 0.90667 val_loss: 0.38839\n",
            "Epoch[1530/10000], loss: 0.40134, acc: 0.90667 val_loss: 0.38758\n",
            "Epoch[1540/10000], loss: 0.40053, acc: 0.90667 val_loss: 0.38677\n",
            "Epoch[1550/10000], loss: 0.39974, acc: 0.90667 val_loss: 0.38597\n",
            "Epoch[1560/10000], loss: 0.39894, acc: 0.90667 val_loss: 0.38517\n",
            "Epoch[1570/10000], loss: 0.39816, acc: 0.90667 val_loss: 0.38438\n",
            "Epoch[1580/10000], loss: 0.39738, acc: 0.90667 val_loss: 0.38360\n",
            "Epoch[1590/10000], loss: 0.39660, acc: 0.90667 val_loss: 0.38282\n",
            "Epoch[1600/10000], loss: 0.39583, acc: 0.90667 val_loss: 0.38204\n",
            "Epoch[1610/10000], loss: 0.39507, acc: 0.90667 val_loss: 0.38128\n",
            "Epoch[1620/10000], loss: 0.39431, acc: 0.90667 val_loss: 0.38051\n",
            "Epoch[1630/10000], loss: 0.39355, acc: 0.90667 val_loss: 0.37975\n",
            "Epoch[1640/10000], loss: 0.39280, acc: 0.90667 val_loss: 0.37900\n",
            "Epoch[1650/10000], loss: 0.39206, acc: 0.90667 val_loss: 0.37825\n",
            "Epoch[1660/10000], loss: 0.39132, acc: 0.90667 val_loss: 0.37751\n",
            "Epoch[1670/10000], loss: 0.39058, acc: 0.90667 val_loss: 0.37677\n",
            "Epoch[1680/10000], loss: 0.38985, acc: 0.90667 val_loss: 0.37604\n",
            "Epoch[1690/10000], loss: 0.38913, acc: 0.90667 val_loss: 0.37531\n",
            "Epoch[1700/10000], loss: 0.38841, acc: 0.90667 val_loss: 0.37458\n",
            "Epoch[1710/10000], loss: 0.38769, acc: 0.90667 val_loss: 0.37386\n",
            "Epoch[1720/10000], loss: 0.38698, acc: 0.90667 val_loss: 0.37315\n",
            "Epoch[1730/10000], loss: 0.38627, acc: 0.90667 val_loss: 0.37244\n",
            "Epoch[1740/10000], loss: 0.38557, acc: 0.90667 val_loss: 0.37173\n",
            "Epoch[1750/10000], loss: 0.38487, acc: 0.90667 val_loss: 0.37103\n",
            "Epoch[1760/10000], loss: 0.38417, acc: 0.90667 val_loss: 0.37033\n",
            "Epoch[1770/10000], loss: 0.38348, acc: 0.90667 val_loss: 0.36964\n",
            "Epoch[1780/10000], loss: 0.38280, acc: 0.90667 val_loss: 0.36895\n",
            "Epoch[1790/10000], loss: 0.38212, acc: 0.90667 val_loss: 0.36826\n",
            "Epoch[1800/10000], loss: 0.38144, acc: 0.90667 val_loss: 0.36758\n",
            "Epoch[1810/10000], loss: 0.38076, acc: 0.90667 val_loss: 0.36690\n",
            "Epoch[1820/10000], loss: 0.38009, acc: 0.90667 val_loss: 0.36623\n",
            "Epoch[1830/10000], loss: 0.37943, acc: 0.90667 val_loss: 0.36556\n",
            "Epoch[1840/10000], loss: 0.37877, acc: 0.90667 val_loss: 0.36490\n",
            "Epoch[1850/10000], loss: 0.37811, acc: 0.90667 val_loss: 0.36424\n",
            "Epoch[1860/10000], loss: 0.37746, acc: 0.90667 val_loss: 0.36358\n",
            "Epoch[1870/10000], loss: 0.37681, acc: 0.90667 val_loss: 0.36293\n",
            "Epoch[1880/10000], loss: 0.37616, acc: 0.90667 val_loss: 0.36228\n",
            "Epoch[1890/10000], loss: 0.37552, acc: 0.90667 val_loss: 0.36163\n",
            "Epoch[1900/10000], loss: 0.37488, acc: 0.90667 val_loss: 0.36099\n",
            "Epoch[1910/10000], loss: 0.37424, acc: 0.90667 val_loss: 0.36035\n",
            "Epoch[1920/10000], loss: 0.37361, acc: 0.90667 val_loss: 0.35972\n",
            "Epoch[1930/10000], loss: 0.37298, acc: 0.90667 val_loss: 0.35909\n",
            "Epoch[1940/10000], loss: 0.37236, acc: 0.90667 val_loss: 0.35846\n",
            "Epoch[1950/10000], loss: 0.37174, acc: 0.90667 val_loss: 0.35784\n",
            "Epoch[1960/10000], loss: 0.37112, acc: 0.90667 val_loss: 0.35722\n",
            "Epoch[1970/10000], loss: 0.37051, acc: 0.90667 val_loss: 0.35660\n",
            "Epoch[1980/10000], loss: 0.36990, acc: 0.90667 val_loss: 0.35599\n",
            "Epoch[1990/10000], loss: 0.36929, acc: 0.90667 val_loss: 0.35538\n",
            "Epoch[2000/10000], loss: 0.36869, acc: 0.90667 val_loss: 0.35477\n",
            "Epoch[2010/10000], loss: 0.36809, acc: 0.90667 val_loss: 0.35417\n",
            "Epoch[2020/10000], loss: 0.36749, acc: 0.90667 val_loss: 0.35357\n",
            "Epoch[2030/10000], loss: 0.36690, acc: 0.90667 val_loss: 0.35298\n",
            "Epoch[2040/10000], loss: 0.36631, acc: 0.90667 val_loss: 0.35238\n",
            "Epoch[2050/10000], loss: 0.36572, acc: 0.90667 val_loss: 0.35179\n",
            "Epoch[2060/10000], loss: 0.36514, acc: 0.90667 val_loss: 0.35121\n",
            "Epoch[2070/10000], loss: 0.36455, acc: 0.90667 val_loss: 0.35062\n",
            "Epoch[2080/10000], loss: 0.36398, acc: 0.90667 val_loss: 0.35004\n",
            "Epoch[2090/10000], loss: 0.36340, acc: 0.90667 val_loss: 0.34947\n",
            "Epoch[2100/10000], loss: 0.36283, acc: 0.90667 val_loss: 0.34889\n",
            "Epoch[2110/10000], loss: 0.36226, acc: 0.90667 val_loss: 0.34832\n",
            "Epoch[2120/10000], loss: 0.36170, acc: 0.90667 val_loss: 0.34775\n",
            "Epoch[2130/10000], loss: 0.36114, acc: 0.90667 val_loss: 0.34719\n",
            "Epoch[2140/10000], loss: 0.36058, acc: 0.90667 val_loss: 0.34663\n",
            "Epoch[2150/10000], loss: 0.36002, acc: 0.90667 val_loss: 0.34607\n",
            "Epoch[2160/10000], loss: 0.35947, acc: 0.90667 val_loss: 0.34551\n",
            "Epoch[2170/10000], loss: 0.35892, acc: 0.90667 val_loss: 0.34496\n",
            "Epoch[2180/10000], loss: 0.35837, acc: 0.90667 val_loss: 0.34441\n",
            "Epoch[2190/10000], loss: 0.35782, acc: 0.90667 val_loss: 0.34386\n",
            "Epoch[2200/10000], loss: 0.35728, acc: 0.90667 val_loss: 0.34331\n",
            "Epoch[2210/10000], loss: 0.35674, acc: 0.90667 val_loss: 0.34277\n",
            "Epoch[2220/10000], loss: 0.35621, acc: 0.90667 val_loss: 0.34223\n",
            "Epoch[2230/10000], loss: 0.35567, acc: 0.90667 val_loss: 0.34170\n",
            "Epoch[2240/10000], loss: 0.35514, acc: 0.90667 val_loss: 0.34116\n",
            "Epoch[2250/10000], loss: 0.35461, acc: 0.90667 val_loss: 0.34063\n",
            "Epoch[2260/10000], loss: 0.35409, acc: 0.90667 val_loss: 0.34010\n",
            "Epoch[2270/10000], loss: 0.35356, acc: 0.90667 val_loss: 0.33958\n",
            "Epoch[2280/10000], loss: 0.35304, acc: 0.90667 val_loss: 0.33905\n",
            "Epoch[2290/10000], loss: 0.35253, acc: 0.90667 val_loss: 0.33853\n",
            "Epoch[2300/10000], loss: 0.35201, acc: 0.90667 val_loss: 0.33802\n",
            "Epoch[2310/10000], loss: 0.35150, acc: 0.90667 val_loss: 0.33750\n",
            "Epoch[2320/10000], loss: 0.35099, acc: 0.90667 val_loss: 0.33699\n",
            "Epoch[2330/10000], loss: 0.35048, acc: 0.90667 val_loss: 0.33648\n",
            "Epoch[2340/10000], loss: 0.34998, acc: 0.90667 val_loss: 0.33597\n",
            "Epoch[2350/10000], loss: 0.34947, acc: 0.90667 val_loss: 0.33546\n",
            "Epoch[2360/10000], loss: 0.34897, acc: 0.90667 val_loss: 0.33496\n",
            "Epoch[2370/10000], loss: 0.34848, acc: 0.90667 val_loss: 0.33446\n",
            "Epoch[2380/10000], loss: 0.34798, acc: 0.90667 val_loss: 0.33396\n",
            "Epoch[2390/10000], loss: 0.34749, acc: 0.90667 val_loss: 0.33347\n",
            "Epoch[2400/10000], loss: 0.34700, acc: 0.90667 val_loss: 0.33297\n",
            "Epoch[2410/10000], loss: 0.34651, acc: 0.90667 val_loss: 0.33248\n",
            "Epoch[2420/10000], loss: 0.34602, acc: 0.90667 val_loss: 0.33199\n",
            "Epoch[2430/10000], loss: 0.34554, acc: 0.90667 val_loss: 0.33151\n",
            "Epoch[2440/10000], loss: 0.34506, acc: 0.90667 val_loss: 0.33102\n",
            "Epoch[2450/10000], loss: 0.34458, acc: 0.90667 val_loss: 0.33054\n",
            "Epoch[2460/10000], loss: 0.34411, acc: 0.90667 val_loss: 0.33006\n",
            "Epoch[2470/10000], loss: 0.34363, acc: 0.90667 val_loss: 0.32959\n",
            "Epoch[2480/10000], loss: 0.34316, acc: 0.90667 val_loss: 0.32911\n",
            "Epoch[2490/10000], loss: 0.34269, acc: 0.90667 val_loss: 0.32864\n",
            "Epoch[2500/10000], loss: 0.34222, acc: 0.90667 val_loss: 0.32817\n",
            "Epoch[2510/10000], loss: 0.34176, acc: 0.90667 val_loss: 0.32770\n",
            "Epoch[2520/10000], loss: 0.34130, acc: 0.90667 val_loss: 0.32723\n",
            "Epoch[2530/10000], loss: 0.34083, acc: 0.90667 val_loss: 0.32677\n",
            "Epoch[2540/10000], loss: 0.34038, acc: 0.90667 val_loss: 0.32631\n",
            "Epoch[2550/10000], loss: 0.33992, acc: 0.90667 val_loss: 0.32585\n",
            "Epoch[2560/10000], loss: 0.33947, acc: 0.90667 val_loss: 0.32539\n",
            "Epoch[2570/10000], loss: 0.33901, acc: 0.90667 val_loss: 0.32493\n",
            "Epoch[2580/10000], loss: 0.33856, acc: 0.90667 val_loss: 0.32448\n",
            "Epoch[2590/10000], loss: 0.33812, acc: 0.90667 val_loss: 0.32403\n",
            "Epoch[2600/10000], loss: 0.33767, acc: 0.90667 val_loss: 0.32358\n",
            "Epoch[2610/10000], loss: 0.33723, acc: 0.90667 val_loss: 0.32313\n",
            "Epoch[2620/10000], loss: 0.33678, acc: 0.90667 val_loss: 0.32269\n",
            "Epoch[2630/10000], loss: 0.33634, acc: 0.90667 val_loss: 0.32225\n",
            "Epoch[2640/10000], loss: 0.33591, acc: 0.90667 val_loss: 0.32180\n",
            "Epoch[2650/10000], loss: 0.33547, acc: 0.90667 val_loss: 0.32136\n",
            "Epoch[2660/10000], loss: 0.33504, acc: 0.90667 val_loss: 0.32093\n",
            "Epoch[2670/10000], loss: 0.33460, acc: 0.90667 val_loss: 0.32049\n",
            "Epoch[2680/10000], loss: 0.33417, acc: 0.90667 val_loss: 0.32006\n",
            "Epoch[2690/10000], loss: 0.33375, acc: 0.90667 val_loss: 0.31963\n",
            "Epoch[2700/10000], loss: 0.33332, acc: 0.90667 val_loss: 0.31920\n",
            "Epoch[2710/10000], loss: 0.33290, acc: 0.90667 val_loss: 0.31877\n",
            "Epoch[2720/10000], loss: 0.33247, acc: 0.90667 val_loss: 0.31834\n",
            "Epoch[2730/10000], loss: 0.33205, acc: 0.90667 val_loss: 0.31792\n",
            "Epoch[2740/10000], loss: 0.33164, acc: 0.90667 val_loss: 0.31750\n",
            "Epoch[2750/10000], loss: 0.33122, acc: 0.90667 val_loss: 0.31708\n",
            "Epoch[2760/10000], loss: 0.33080, acc: 0.90667 val_loss: 0.31666\n",
            "Epoch[2770/10000], loss: 0.33039, acc: 0.90667 val_loss: 0.31624\n",
            "Epoch[2780/10000], loss: 0.32998, acc: 0.90667 val_loss: 0.31583\n",
            "Epoch[2790/10000], loss: 0.32957, acc: 0.90667 val_loss: 0.31542\n",
            "Epoch[2800/10000], loss: 0.32916, acc: 0.90667 val_loss: 0.31500\n",
            "Epoch[2810/10000], loss: 0.32876, acc: 0.90667 val_loss: 0.31460\n",
            "Epoch[2820/10000], loss: 0.32835, acc: 0.90667 val_loss: 0.31419\n",
            "Epoch[2830/10000], loss: 0.32795, acc: 0.90667 val_loss: 0.31378\n",
            "Epoch[2840/10000], loss: 0.32755, acc: 0.90667 val_loss: 0.31338\n",
            "Epoch[2850/10000], loss: 0.32715, acc: 0.90667 val_loss: 0.31297\n",
            "Epoch[2860/10000], loss: 0.32675, acc: 0.90667 val_loss: 0.31257\n",
            "Epoch[2870/10000], loss: 0.32636, acc: 0.90667 val_loss: 0.31217\n",
            "Epoch[2880/10000], loss: 0.32597, acc: 0.90667 val_loss: 0.31178\n",
            "Epoch[2890/10000], loss: 0.32557, acc: 0.90667 val_loss: 0.31138\n",
            "Epoch[2900/10000], loss: 0.32518, acc: 0.90667 val_loss: 0.31099\n",
            "Epoch[2910/10000], loss: 0.32480, acc: 0.90667 val_loss: 0.31060\n",
            "Epoch[2920/10000], loss: 0.32441, acc: 0.90667 val_loss: 0.31020\n",
            "Epoch[2930/10000], loss: 0.32402, acc: 0.90667 val_loss: 0.30982\n",
            "Epoch[2940/10000], loss: 0.32364, acc: 0.90667 val_loss: 0.30943\n",
            "Epoch[2950/10000], loss: 0.32326, acc: 0.90667 val_loss: 0.30904\n",
            "Epoch[2960/10000], loss: 0.32288, acc: 0.90667 val_loss: 0.30866\n",
            "Epoch[2970/10000], loss: 0.32250, acc: 0.90667 val_loss: 0.30827\n",
            "Epoch[2980/10000], loss: 0.32212, acc: 0.90667 val_loss: 0.30789\n",
            "Epoch[2990/10000], loss: 0.32175, acc: 0.90667 val_loss: 0.30751\n",
            "Epoch[3000/10000], loss: 0.32137, acc: 0.90667 val_loss: 0.30714\n",
            "Epoch[3010/10000], loss: 0.32100, acc: 0.90667 val_loss: 0.30676\n",
            "Epoch[3020/10000], loss: 0.32063, acc: 0.90667 val_loss: 0.30638\n",
            "Epoch[3030/10000], loss: 0.32026, acc: 0.90667 val_loss: 0.30601\n",
            "Epoch[3040/10000], loss: 0.31989, acc: 0.90667 val_loss: 0.30564\n",
            "Epoch[3050/10000], loss: 0.31952, acc: 0.90667 val_loss: 0.30527\n",
            "Epoch[3060/10000], loss: 0.31916, acc: 0.90667 val_loss: 0.30490\n",
            "Epoch[3070/10000], loss: 0.31880, acc: 0.90667 val_loss: 0.30453\n",
            "Epoch[3080/10000], loss: 0.31844, acc: 0.90667 val_loss: 0.30417\n",
            "Epoch[3090/10000], loss: 0.31807, acc: 0.90667 val_loss: 0.30380\n",
            "Epoch[3100/10000], loss: 0.31772, acc: 0.90667 val_loss: 0.30344\n",
            "Epoch[3110/10000], loss: 0.31736, acc: 0.90667 val_loss: 0.30308\n",
            "Epoch[3120/10000], loss: 0.31700, acc: 0.90667 val_loss: 0.30272\n",
            "Epoch[3130/10000], loss: 0.31665, acc: 0.90667 val_loss: 0.30236\n",
            "Epoch[3140/10000], loss: 0.31630, acc: 0.90667 val_loss: 0.30200\n",
            "Epoch[3150/10000], loss: 0.31594, acc: 0.90667 val_loss: 0.30165\n",
            "Epoch[3160/10000], loss: 0.31559, acc: 0.90667 val_loss: 0.30129\n",
            "Epoch[3170/10000], loss: 0.31525, acc: 0.90667 val_loss: 0.30094\n",
            "Epoch[3180/10000], loss: 0.31490, acc: 0.90667 val_loss: 0.30059\n",
            "Epoch[3190/10000], loss: 0.31455, acc: 0.90667 val_loss: 0.30024\n",
            "Epoch[3200/10000], loss: 0.31421, acc: 0.90667 val_loss: 0.29989\n",
            "Epoch[3210/10000], loss: 0.31386, acc: 0.90667 val_loss: 0.29954\n",
            "Epoch[3220/10000], loss: 0.31352, acc: 0.90667 val_loss: 0.29919\n",
            "Epoch[3230/10000], loss: 0.31318, acc: 0.90667 val_loss: 0.29885\n",
            "Epoch[3240/10000], loss: 0.31284, acc: 0.90667 val_loss: 0.29851\n",
            "Epoch[3250/10000], loss: 0.31251, acc: 0.90667 val_loss: 0.29816\n",
            "Epoch[3260/10000], loss: 0.31217, acc: 0.90667 val_loss: 0.29782\n",
            "Epoch[3270/10000], loss: 0.31183, acc: 0.90667 val_loss: 0.29748\n",
            "Epoch[3280/10000], loss: 0.31150, acc: 0.90667 val_loss: 0.29715\n",
            "Epoch[3290/10000], loss: 0.31117, acc: 0.90667 val_loss: 0.29681\n",
            "Epoch[3300/10000], loss: 0.31084, acc: 0.90667 val_loss: 0.29647\n",
            "Epoch[3310/10000], loss: 0.31051, acc: 0.90667 val_loss: 0.29614\n",
            "Epoch[3320/10000], loss: 0.31018, acc: 0.90667 val_loss: 0.29581\n",
            "Epoch[3330/10000], loss: 0.30985, acc: 0.90667 val_loss: 0.29548\n",
            "Epoch[3340/10000], loss: 0.30953, acc: 0.90667 val_loss: 0.29515\n",
            "Epoch[3350/10000], loss: 0.30920, acc: 0.90667 val_loss: 0.29482\n",
            "Epoch[3360/10000], loss: 0.30888, acc: 0.90667 val_loss: 0.29449\n",
            "Epoch[3370/10000], loss: 0.30856, acc: 0.90667 val_loss: 0.29416\n",
            "Epoch[3380/10000], loss: 0.30824, acc: 0.90667 val_loss: 0.29384\n",
            "Epoch[3390/10000], loss: 0.30792, acc: 0.90667 val_loss: 0.29351\n",
            "Epoch[3400/10000], loss: 0.30760, acc: 0.90667 val_loss: 0.29319\n",
            "Epoch[3410/10000], loss: 0.30728, acc: 0.90667 val_loss: 0.29287\n",
            "Epoch[3420/10000], loss: 0.30696, acc: 0.90667 val_loss: 0.29255\n",
            "Epoch[3430/10000], loss: 0.30665, acc: 0.90667 val_loss: 0.29223\n",
            "Epoch[3440/10000], loss: 0.30634, acc: 0.90667 val_loss: 0.29191\n",
            "Epoch[3450/10000], loss: 0.30602, acc: 0.90667 val_loss: 0.29159\n",
            "Epoch[3460/10000], loss: 0.30571, acc: 0.90667 val_loss: 0.29128\n",
            "Epoch[3470/10000], loss: 0.30540, acc: 0.90667 val_loss: 0.29096\n",
            "Epoch[3480/10000], loss: 0.30509, acc: 0.90667 val_loss: 0.29065\n",
            "Epoch[3490/10000], loss: 0.30479, acc: 0.90667 val_loss: 0.29034\n",
            "Epoch[3500/10000], loss: 0.30448, acc: 0.90667 val_loss: 0.29003\n",
            "Epoch[3510/10000], loss: 0.30417, acc: 0.90667 val_loss: 0.28972\n",
            "Epoch[3520/10000], loss: 0.30387, acc: 0.90667 val_loss: 0.28941\n",
            "Epoch[3530/10000], loss: 0.30357, acc: 0.90667 val_loss: 0.28910\n",
            "Epoch[3540/10000], loss: 0.30327, acc: 0.90667 val_loss: 0.28879\n",
            "Epoch[3550/10000], loss: 0.30297, acc: 0.90667 val_loss: 0.28849\n",
            "Epoch[3560/10000], loss: 0.30267, acc: 0.90667 val_loss: 0.28818\n",
            "Epoch[3570/10000], loss: 0.30237, acc: 0.90667 val_loss: 0.28788\n",
            "Epoch[3580/10000], loss: 0.30207, acc: 0.90667 val_loss: 0.28758\n",
            "Epoch[3590/10000], loss: 0.30177, acc: 0.90667 val_loss: 0.28728\n",
            "Epoch[3600/10000], loss: 0.30148, acc: 0.90667 val_loss: 0.28698\n",
            "Epoch[3610/10000], loss: 0.30119, acc: 0.90667 val_loss: 0.28668\n",
            "Epoch[3620/10000], loss: 0.30089, acc: 0.90667 val_loss: 0.28638\n",
            "Epoch[3630/10000], loss: 0.30060, acc: 0.90667 val_loss: 0.28608\n",
            "Epoch[3640/10000], loss: 0.30031, acc: 0.90667 val_loss: 0.28579\n",
            "Epoch[3650/10000], loss: 0.30002, acc: 0.90667 val_loss: 0.28549\n",
            "Epoch[3660/10000], loss: 0.29973, acc: 0.90667 val_loss: 0.28520\n",
            "Epoch[3670/10000], loss: 0.29944, acc: 0.90667 val_loss: 0.28491\n",
            "Epoch[3680/10000], loss: 0.29916, acc: 0.90667 val_loss: 0.28462\n",
            "Epoch[3690/10000], loss: 0.29887, acc: 0.90667 val_loss: 0.28433\n",
            "Epoch[3700/10000], loss: 0.29859, acc: 0.90667 val_loss: 0.28404\n",
            "Epoch[3710/10000], loss: 0.29830, acc: 0.90667 val_loss: 0.28375\n",
            "Epoch[3720/10000], loss: 0.29802, acc: 0.90667 val_loss: 0.28346\n",
            "Epoch[3730/10000], loss: 0.29774, acc: 0.90667 val_loss: 0.28318\n",
            "Epoch[3740/10000], loss: 0.29746, acc: 0.90667 val_loss: 0.28289\n",
            "Epoch[3750/10000], loss: 0.29718, acc: 0.90667 val_loss: 0.28261\n",
            "Epoch[3760/10000], loss: 0.29690, acc: 0.90667 val_loss: 0.28232\n",
            "Epoch[3770/10000], loss: 0.29663, acc: 0.90667 val_loss: 0.28204\n",
            "Epoch[3780/10000], loss: 0.29635, acc: 0.90667 val_loss: 0.28176\n",
            "Epoch[3790/10000], loss: 0.29607, acc: 0.90667 val_loss: 0.28148\n",
            "Epoch[3800/10000], loss: 0.29580, acc: 0.90667 val_loss: 0.28120\n",
            "Epoch[3810/10000], loss: 0.29553, acc: 0.90667 val_loss: 0.28092\n",
            "Epoch[3820/10000], loss: 0.29525, acc: 0.90667 val_loss: 0.28064\n",
            "Epoch[3830/10000], loss: 0.29498, acc: 0.90667 val_loss: 0.28037\n",
            "Epoch[3840/10000], loss: 0.29471, acc: 0.90667 val_loss: 0.28009\n",
            "Epoch[3850/10000], loss: 0.29444, acc: 0.90667 val_loss: 0.27982\n",
            "Epoch[3860/10000], loss: 0.29418, acc: 0.90667 val_loss: 0.27954\n",
            "Epoch[3870/10000], loss: 0.29391, acc: 0.90667 val_loss: 0.27927\n",
            "Epoch[3880/10000], loss: 0.29364, acc: 0.90667 val_loss: 0.27900\n",
            "Epoch[3890/10000], loss: 0.29338, acc: 0.90667 val_loss: 0.27873\n",
            "Epoch[3900/10000], loss: 0.29311, acc: 0.90667 val_loss: 0.27846\n",
            "Epoch[3910/10000], loss: 0.29285, acc: 0.90667 val_loss: 0.27819\n",
            "Epoch[3920/10000], loss: 0.29258, acc: 0.90667 val_loss: 0.27792\n",
            "Epoch[3930/10000], loss: 0.29232, acc: 0.90667 val_loss: 0.27766\n",
            "Epoch[3940/10000], loss: 0.29206, acc: 0.90667 val_loss: 0.27739\n",
            "Epoch[3950/10000], loss: 0.29180, acc: 0.90667 val_loss: 0.27712\n",
            "Epoch[3960/10000], loss: 0.29154, acc: 0.90667 val_loss: 0.27686\n",
            "Epoch[3970/10000], loss: 0.29128, acc: 0.90667 val_loss: 0.27660\n",
            "Epoch[3980/10000], loss: 0.29103, acc: 0.90667 val_loss: 0.27633\n",
            "Epoch[3990/10000], loss: 0.29077, acc: 0.90667 val_loss: 0.27607\n",
            "Epoch[4000/10000], loss: 0.29052, acc: 0.90667 val_loss: 0.27581\n",
            "Epoch[4010/10000], loss: 0.29026, acc: 0.90667 val_loss: 0.27555\n",
            "Epoch[4020/10000], loss: 0.29001, acc: 0.90667 val_loss: 0.27529\n",
            "Epoch[4030/10000], loss: 0.28975, acc: 0.90667 val_loss: 0.27504\n",
            "Epoch[4040/10000], loss: 0.28950, acc: 0.90667 val_loss: 0.27478\n",
            "Epoch[4050/10000], loss: 0.28925, acc: 0.90667 val_loss: 0.27452\n",
            "Epoch[4060/10000], loss: 0.28900, acc: 0.90667 val_loss: 0.27427\n",
            "Epoch[4070/10000], loss: 0.28875, acc: 0.90667 val_loss: 0.27401\n",
            "Epoch[4080/10000], loss: 0.28850, acc: 0.90667 val_loss: 0.27376\n",
            "Epoch[4090/10000], loss: 0.28826, acc: 0.90667 val_loss: 0.27351\n",
            "Epoch[4100/10000], loss: 0.28801, acc: 0.90667 val_loss: 0.27325\n",
            "Epoch[4110/10000], loss: 0.28776, acc: 0.90667 val_loss: 0.27300\n",
            "Epoch[4120/10000], loss: 0.28752, acc: 0.90667 val_loss: 0.27275\n",
            "Epoch[4130/10000], loss: 0.28727, acc: 0.90667 val_loss: 0.27250\n",
            "Epoch[4140/10000], loss: 0.28703, acc: 0.90667 val_loss: 0.27225\n",
            "Epoch[4150/10000], loss: 0.28679, acc: 0.90667 val_loss: 0.27200\n",
            "Epoch[4160/10000], loss: 0.28654, acc: 0.90667 val_loss: 0.27176\n",
            "Epoch[4170/10000], loss: 0.28630, acc: 0.90667 val_loss: 0.27151\n",
            "Epoch[4180/10000], loss: 0.28606, acc: 0.90667 val_loss: 0.27127\n",
            "Epoch[4190/10000], loss: 0.28582, acc: 0.90667 val_loss: 0.27102\n",
            "Epoch[4200/10000], loss: 0.28559, acc: 0.90667 val_loss: 0.27078\n",
            "Epoch[4210/10000], loss: 0.28535, acc: 0.90667 val_loss: 0.27053\n",
            "Epoch[4220/10000], loss: 0.28511, acc: 0.90667 val_loss: 0.27029\n",
            "Epoch[4230/10000], loss: 0.28487, acc: 0.90667 val_loss: 0.27005\n",
            "Epoch[4240/10000], loss: 0.28464, acc: 0.90667 val_loss: 0.26981\n",
            "Epoch[4250/10000], loss: 0.28440, acc: 0.90667 val_loss: 0.26957\n",
            "Epoch[4260/10000], loss: 0.28417, acc: 0.90667 val_loss: 0.26933\n",
            "Epoch[4270/10000], loss: 0.28394, acc: 0.90667 val_loss: 0.26909\n",
            "Epoch[4280/10000], loss: 0.28370, acc: 0.90667 val_loss: 0.26885\n",
            "Epoch[4290/10000], loss: 0.28347, acc: 0.90667 val_loss: 0.26862\n",
            "Epoch[4300/10000], loss: 0.28324, acc: 0.90667 val_loss: 0.26838\n",
            "Epoch[4310/10000], loss: 0.28301, acc: 0.90667 val_loss: 0.26815\n",
            "Epoch[4320/10000], loss: 0.28278, acc: 0.90667 val_loss: 0.26791\n",
            "Epoch[4330/10000], loss: 0.28255, acc: 0.90667 val_loss: 0.26768\n",
            "Epoch[4340/10000], loss: 0.28233, acc: 0.90667 val_loss: 0.26744\n",
            "Epoch[4350/10000], loss: 0.28210, acc: 0.90667 val_loss: 0.26721\n",
            "Epoch[4360/10000], loss: 0.28187, acc: 0.90667 val_loss: 0.26698\n",
            "Epoch[4370/10000], loss: 0.28165, acc: 0.90667 val_loss: 0.26675\n",
            "Epoch[4380/10000], loss: 0.28142, acc: 0.90667 val_loss: 0.26652\n",
            "Epoch[4390/10000], loss: 0.28120, acc: 0.90667 val_loss: 0.26629\n",
            "Epoch[4400/10000], loss: 0.28098, acc: 0.90667 val_loss: 0.26606\n",
            "Epoch[4410/10000], loss: 0.28075, acc: 0.90667 val_loss: 0.26583\n",
            "Epoch[4420/10000], loss: 0.28053, acc: 0.90667 val_loss: 0.26560\n",
            "Epoch[4430/10000], loss: 0.28031, acc: 0.90667 val_loss: 0.26538\n",
            "Epoch[4440/10000], loss: 0.28009, acc: 0.90667 val_loss: 0.26515\n",
            "Epoch[4450/10000], loss: 0.27987, acc: 0.90667 val_loss: 0.26493\n",
            "Epoch[4460/10000], loss: 0.27965, acc: 0.90667 val_loss: 0.26470\n",
            "Epoch[4470/10000], loss: 0.27943, acc: 0.90667 val_loss: 0.26448\n",
            "Epoch[4480/10000], loss: 0.27922, acc: 0.90667 val_loss: 0.26425\n",
            "Epoch[4490/10000], loss: 0.27900, acc: 0.90667 val_loss: 0.26403\n",
            "Epoch[4500/10000], loss: 0.27878, acc: 0.90667 val_loss: 0.26381\n",
            "Epoch[4510/10000], loss: 0.27857, acc: 0.90667 val_loss: 0.26359\n",
            "Epoch[4520/10000], loss: 0.27835, acc: 0.90667 val_loss: 0.26337\n",
            "Epoch[4530/10000], loss: 0.27814, acc: 0.90667 val_loss: 0.26315\n",
            "Epoch[4540/10000], loss: 0.27792, acc: 0.90667 val_loss: 0.26293\n",
            "Epoch[4550/10000], loss: 0.27771, acc: 0.90667 val_loss: 0.26271\n",
            "Epoch[4560/10000], loss: 0.27750, acc: 0.90667 val_loss: 0.26249\n",
            "Epoch[4570/10000], loss: 0.27729, acc: 0.90667 val_loss: 0.26228\n",
            "Epoch[4580/10000], loss: 0.27708, acc: 0.90667 val_loss: 0.26206\n",
            "Epoch[4590/10000], loss: 0.27687, acc: 0.90667 val_loss: 0.26185\n",
            "Epoch[4600/10000], loss: 0.27666, acc: 0.90667 val_loss: 0.26163\n",
            "Epoch[4610/10000], loss: 0.27645, acc: 0.90667 val_loss: 0.26142\n",
            "Epoch[4620/10000], loss: 0.27624, acc: 0.90667 val_loss: 0.26120\n",
            "Epoch[4630/10000], loss: 0.27603, acc: 0.90667 val_loss: 0.26099\n",
            "Epoch[4640/10000], loss: 0.27583, acc: 0.90667 val_loss: 0.26078\n",
            "Epoch[4650/10000], loss: 0.27562, acc: 0.90667 val_loss: 0.26057\n",
            "Epoch[4660/10000], loss: 0.27541, acc: 0.90667 val_loss: 0.26035\n",
            "Epoch[4670/10000], loss: 0.27521, acc: 0.90667 val_loss: 0.26014\n",
            "Epoch[4680/10000], loss: 0.27500, acc: 0.90667 val_loss: 0.25993\n",
            "Epoch[4690/10000], loss: 0.27480, acc: 0.90667 val_loss: 0.25973\n",
            "Epoch[4700/10000], loss: 0.27460, acc: 0.90667 val_loss: 0.25952\n",
            "Epoch[4710/10000], loss: 0.27440, acc: 0.90667 val_loss: 0.25931\n",
            "Epoch[4720/10000], loss: 0.27419, acc: 0.90667 val_loss: 0.25910\n",
            "Epoch[4730/10000], loss: 0.27399, acc: 0.90667 val_loss: 0.25889\n",
            "Epoch[4740/10000], loss: 0.27379, acc: 0.90667 val_loss: 0.25869\n",
            "Epoch[4750/10000], loss: 0.27359, acc: 0.90667 val_loss: 0.25848\n",
            "Epoch[4760/10000], loss: 0.27339, acc: 0.90667 val_loss: 0.25828\n",
            "Epoch[4770/10000], loss: 0.27319, acc: 0.90667 val_loss: 0.25807\n",
            "Epoch[4780/10000], loss: 0.27300, acc: 0.90667 val_loss: 0.25787\n",
            "Epoch[4790/10000], loss: 0.27280, acc: 0.90667 val_loss: 0.25767\n",
            "Epoch[4800/10000], loss: 0.27260, acc: 0.90667 val_loss: 0.25746\n",
            "Epoch[4810/10000], loss: 0.27241, acc: 0.90667 val_loss: 0.25726\n",
            "Epoch[4820/10000], loss: 0.27221, acc: 0.90667 val_loss: 0.25706\n",
            "Epoch[4830/10000], loss: 0.27202, acc: 0.90667 val_loss: 0.25686\n",
            "Epoch[4840/10000], loss: 0.27182, acc: 0.90667 val_loss: 0.25666\n",
            "Epoch[4850/10000], loss: 0.27163, acc: 0.90667 val_loss: 0.25646\n",
            "Epoch[4860/10000], loss: 0.27143, acc: 0.90667 val_loss: 0.25626\n",
            "Epoch[4870/10000], loss: 0.27124, acc: 0.90667 val_loss: 0.25606\n",
            "Epoch[4880/10000], loss: 0.27105, acc: 0.90667 val_loss: 0.25587\n",
            "Epoch[4890/10000], loss: 0.27086, acc: 0.90667 val_loss: 0.25567\n",
            "Epoch[4900/10000], loss: 0.27067, acc: 0.90667 val_loss: 0.25547\n",
            "Epoch[4910/10000], loss: 0.27048, acc: 0.90667 val_loss: 0.25528\n",
            "Epoch[4920/10000], loss: 0.27029, acc: 0.90667 val_loss: 0.25508\n",
            "Epoch[4930/10000], loss: 0.27010, acc: 0.90667 val_loss: 0.25489\n",
            "Epoch[4940/10000], loss: 0.26991, acc: 0.90667 val_loss: 0.25469\n",
            "Epoch[4950/10000], loss: 0.26972, acc: 0.90667 val_loss: 0.25450\n",
            "Epoch[4960/10000], loss: 0.26953, acc: 0.90667 val_loss: 0.25431\n",
            "Epoch[4970/10000], loss: 0.26935, acc: 0.90667 val_loss: 0.25411\n",
            "Epoch[4980/10000], loss: 0.26916, acc: 0.90667 val_loss: 0.25392\n",
            "Epoch[4990/10000], loss: 0.26897, acc: 0.90667 val_loss: 0.25373\n",
            "Epoch[5000/10000], loss: 0.26879, acc: 0.90667 val_loss: 0.25354\n",
            "Epoch[5010/10000], loss: 0.26860, acc: 0.90667 val_loss: 0.25335\n",
            "Epoch[5020/10000], loss: 0.26842, acc: 0.90667 val_loss: 0.25316\n",
            "Epoch[5030/10000], loss: 0.26824, acc: 0.90667 val_loss: 0.25297\n",
            "Epoch[5040/10000], loss: 0.26805, acc: 0.90667 val_loss: 0.25278\n",
            "Epoch[5050/10000], loss: 0.26787, acc: 0.90667 val_loss: 0.25259\n",
            "Epoch[5060/10000], loss: 0.26769, acc: 0.90667 val_loss: 0.25240\n",
            "Epoch[5070/10000], loss: 0.26751, acc: 0.90667 val_loss: 0.25222\n",
            "Epoch[5080/10000], loss: 0.26733, acc: 0.90667 val_loss: 0.25203\n",
            "Epoch[5090/10000], loss: 0.26715, acc: 0.90667 val_loss: 0.25184\n",
            "Epoch[5100/10000], loss: 0.26697, acc: 0.90667 val_loss: 0.25166\n",
            "Epoch[5110/10000], loss: 0.26679, acc: 0.90667 val_loss: 0.25147\n",
            "Epoch[5120/10000], loss: 0.26661, acc: 0.90667 val_loss: 0.25129\n",
            "Epoch[5130/10000], loss: 0.26643, acc: 0.90667 val_loss: 0.25111\n",
            "Epoch[5140/10000], loss: 0.26625, acc: 0.90667 val_loss: 0.25092\n",
            "Epoch[5150/10000], loss: 0.26608, acc: 0.90667 val_loss: 0.25074\n",
            "Epoch[5160/10000], loss: 0.26590, acc: 0.90667 val_loss: 0.25056\n",
            "Epoch[5170/10000], loss: 0.26572, acc: 0.90667 val_loss: 0.25037\n",
            "Epoch[5180/10000], loss: 0.26555, acc: 0.90667 val_loss: 0.25019\n",
            "Epoch[5190/10000], loss: 0.26537, acc: 0.90667 val_loss: 0.25001\n",
            "Epoch[5200/10000], loss: 0.26520, acc: 0.90667 val_loss: 0.24983\n",
            "Epoch[5210/10000], loss: 0.26502, acc: 0.90667 val_loss: 0.24965\n",
            "Epoch[5220/10000], loss: 0.26485, acc: 0.90667 val_loss: 0.24947\n",
            "Epoch[5230/10000], loss: 0.26468, acc: 0.90667 val_loss: 0.24929\n",
            "Epoch[5240/10000], loss: 0.26450, acc: 0.90667 val_loss: 0.24912\n",
            "Epoch[5250/10000], loss: 0.26433, acc: 0.90667 val_loss: 0.24894\n",
            "Epoch[5260/10000], loss: 0.26416, acc: 0.90667 val_loss: 0.24876\n",
            "Epoch[5270/10000], loss: 0.26399, acc: 0.90667 val_loss: 0.24858\n",
            "Epoch[5280/10000], loss: 0.26382, acc: 0.90667 val_loss: 0.24841\n",
            "Epoch[5290/10000], loss: 0.26365, acc: 0.90667 val_loss: 0.24823\n",
            "Epoch[5300/10000], loss: 0.26348, acc: 0.90667 val_loss: 0.24806\n",
            "Epoch[5310/10000], loss: 0.26331, acc: 0.90667 val_loss: 0.24788\n",
            "Epoch[5320/10000], loss: 0.26314, acc: 0.90667 val_loss: 0.24771\n",
            "Epoch[5330/10000], loss: 0.26297, acc: 0.90667 val_loss: 0.24753\n",
            "Epoch[5340/10000], loss: 0.26280, acc: 0.90667 val_loss: 0.24736\n",
            "Epoch[5350/10000], loss: 0.26264, acc: 0.90667 val_loss: 0.24719\n",
            "Epoch[5360/10000], loss: 0.26247, acc: 0.90667 val_loss: 0.24701\n",
            "Epoch[5370/10000], loss: 0.26230, acc: 0.90667 val_loss: 0.24684\n",
            "Epoch[5380/10000], loss: 0.26214, acc: 0.90667 val_loss: 0.24667\n",
            "Epoch[5390/10000], loss: 0.26197, acc: 0.90667 val_loss: 0.24650\n",
            "Epoch[5400/10000], loss: 0.26181, acc: 0.90667 val_loss: 0.24633\n",
            "Epoch[5410/10000], loss: 0.26164, acc: 0.90667 val_loss: 0.24616\n",
            "Epoch[5420/10000], loss: 0.26148, acc: 0.90667 val_loss: 0.24599\n",
            "Epoch[5430/10000], loss: 0.26131, acc: 0.90667 val_loss: 0.24582\n",
            "Epoch[5440/10000], loss: 0.26115, acc: 0.90667 val_loss: 0.24565\n",
            "Epoch[5450/10000], loss: 0.26099, acc: 0.90667 val_loss: 0.24548\n",
            "Epoch[5460/10000], loss: 0.26083, acc: 0.90667 val_loss: 0.24531\n",
            "Epoch[5470/10000], loss: 0.26066, acc: 0.90667 val_loss: 0.24514\n",
            "Epoch[5480/10000], loss: 0.26050, acc: 0.90667 val_loss: 0.24498\n",
            "Epoch[5490/10000], loss: 0.26034, acc: 0.90667 val_loss: 0.24481\n",
            "Epoch[5500/10000], loss: 0.26018, acc: 0.90667 val_loss: 0.24464\n",
            "Epoch[5510/10000], loss: 0.26002, acc: 0.90667 val_loss: 0.24448\n",
            "Epoch[5520/10000], loss: 0.25986, acc: 0.90667 val_loss: 0.24431\n",
            "Epoch[5530/10000], loss: 0.25970, acc: 0.90667 val_loss: 0.24415\n",
            "Epoch[5540/10000], loss: 0.25954, acc: 0.90667 val_loss: 0.24398\n",
            "Epoch[5550/10000], loss: 0.25939, acc: 0.90667 val_loss: 0.24382\n",
            "Epoch[5560/10000], loss: 0.25923, acc: 0.90667 val_loss: 0.24366\n",
            "Epoch[5570/10000], loss: 0.25907, acc: 0.90667 val_loss: 0.24349\n",
            "Epoch[5580/10000], loss: 0.25891, acc: 0.90667 val_loss: 0.24333\n",
            "Epoch[5590/10000], loss: 0.25876, acc: 0.90667 val_loss: 0.24317\n",
            "Epoch[5600/10000], loss: 0.25860, acc: 0.90667 val_loss: 0.24301\n",
            "Epoch[5610/10000], loss: 0.25845, acc: 0.90667 val_loss: 0.24285\n",
            "Epoch[5620/10000], loss: 0.25829, acc: 0.90667 val_loss: 0.24268\n",
            "Epoch[5630/10000], loss: 0.25814, acc: 0.90667 val_loss: 0.24252\n",
            "Epoch[5640/10000], loss: 0.25798, acc: 0.90667 val_loss: 0.24236\n",
            "Epoch[5650/10000], loss: 0.25783, acc: 0.90667 val_loss: 0.24220\n",
            "Epoch[5660/10000], loss: 0.25767, acc: 0.90667 val_loss: 0.24205\n",
            "Epoch[5670/10000], loss: 0.25752, acc: 0.90667 val_loss: 0.24189\n",
            "Epoch[5680/10000], loss: 0.25737, acc: 0.90667 val_loss: 0.24173\n",
            "Epoch[5690/10000], loss: 0.25722, acc: 0.90667 val_loss: 0.24157\n",
            "Epoch[5700/10000], loss: 0.25706, acc: 0.90667 val_loss: 0.24141\n",
            "Epoch[5710/10000], loss: 0.25691, acc: 0.90667 val_loss: 0.24126\n",
            "Epoch[5720/10000], loss: 0.25676, acc: 0.90667 val_loss: 0.24110\n",
            "Epoch[5730/10000], loss: 0.25661, acc: 0.90667 val_loss: 0.24094\n",
            "Epoch[5740/10000], loss: 0.25646, acc: 0.90667 val_loss: 0.24079\n",
            "Epoch[5750/10000], loss: 0.25631, acc: 0.90667 val_loss: 0.24063\n",
            "Epoch[5760/10000], loss: 0.25616, acc: 0.90667 val_loss: 0.24048\n",
            "Epoch[5770/10000], loss: 0.25601, acc: 0.90667 val_loss: 0.24032\n",
            "Epoch[5780/10000], loss: 0.25586, acc: 0.90667 val_loss: 0.24017\n",
            "Epoch[5790/10000], loss: 0.25571, acc: 0.90667 val_loss: 0.24001\n",
            "Epoch[5800/10000], loss: 0.25557, acc: 0.90667 val_loss: 0.23986\n",
            "Epoch[5810/10000], loss: 0.25542, acc: 0.90667 val_loss: 0.23971\n",
            "Epoch[5820/10000], loss: 0.25527, acc: 0.90667 val_loss: 0.23955\n",
            "Epoch[5830/10000], loss: 0.25513, acc: 0.90667 val_loss: 0.23940\n",
            "Epoch[5840/10000], loss: 0.25498, acc: 0.90667 val_loss: 0.23925\n",
            "Epoch[5850/10000], loss: 0.25483, acc: 0.90667 val_loss: 0.23910\n",
            "Epoch[5860/10000], loss: 0.25469, acc: 0.90667 val_loss: 0.23895\n",
            "Epoch[5870/10000], loss: 0.25454, acc: 0.90667 val_loss: 0.23879\n",
            "Epoch[5880/10000], loss: 0.25440, acc: 0.90667 val_loss: 0.23864\n",
            "Epoch[5890/10000], loss: 0.25425, acc: 0.90667 val_loss: 0.23849\n",
            "Epoch[5900/10000], loss: 0.25411, acc: 0.90667 val_loss: 0.23834\n",
            "Epoch[5910/10000], loss: 0.25397, acc: 0.90667 val_loss: 0.23819\n",
            "Epoch[5920/10000], loss: 0.25382, acc: 0.90667 val_loss: 0.23805\n",
            "Epoch[5930/10000], loss: 0.25368, acc: 0.90667 val_loss: 0.23790\n",
            "Epoch[5940/10000], loss: 0.25354, acc: 0.90667 val_loss: 0.23775\n",
            "Epoch[5950/10000], loss: 0.25340, acc: 0.90667 val_loss: 0.23760\n",
            "Epoch[5960/10000], loss: 0.25325, acc: 0.90667 val_loss: 0.23745\n",
            "Epoch[5970/10000], loss: 0.25311, acc: 0.90667 val_loss: 0.23731\n",
            "Epoch[5980/10000], loss: 0.25297, acc: 0.90667 val_loss: 0.23716\n",
            "Epoch[5990/10000], loss: 0.25283, acc: 0.90667 val_loss: 0.23701\n",
            "Epoch[6000/10000], loss: 0.25269, acc: 0.90667 val_loss: 0.23687\n",
            "Epoch[6010/10000], loss: 0.25255, acc: 0.90667 val_loss: 0.23672\n",
            "Epoch[6020/10000], loss: 0.25241, acc: 0.90667 val_loss: 0.23658\n",
            "Epoch[6030/10000], loss: 0.25227, acc: 0.90667 val_loss: 0.23643\n",
            "Epoch[6040/10000], loss: 0.25213, acc: 0.90667 val_loss: 0.23629\n",
            "Epoch[6050/10000], loss: 0.25199, acc: 0.90667 val_loss: 0.23614\n",
            "Epoch[6060/10000], loss: 0.25186, acc: 0.90667 val_loss: 0.23600\n",
            "Epoch[6070/10000], loss: 0.25172, acc: 0.90667 val_loss: 0.23586\n",
            "Epoch[6080/10000], loss: 0.25158, acc: 0.90667 val_loss: 0.23571\n",
            "Epoch[6090/10000], loss: 0.25144, acc: 0.90667 val_loss: 0.23557\n",
            "Epoch[6100/10000], loss: 0.25131, acc: 0.90667 val_loss: 0.23543\n",
            "Epoch[6110/10000], loss: 0.25117, acc: 0.90667 val_loss: 0.23529\n",
            "Epoch[6120/10000], loss: 0.25104, acc: 0.90667 val_loss: 0.23514\n",
            "Epoch[6130/10000], loss: 0.25090, acc: 0.90667 val_loss: 0.23500\n",
            "Epoch[6140/10000], loss: 0.25076, acc: 0.90667 val_loss: 0.23486\n",
            "Epoch[6150/10000], loss: 0.25063, acc: 0.90667 val_loss: 0.23472\n",
            "Epoch[6160/10000], loss: 0.25049, acc: 0.90667 val_loss: 0.23458\n",
            "Epoch[6170/10000], loss: 0.25036, acc: 0.90667 val_loss: 0.23444\n",
            "Epoch[6180/10000], loss: 0.25023, acc: 0.90667 val_loss: 0.23430\n",
            "Epoch[6190/10000], loss: 0.25009, acc: 0.90667 val_loss: 0.23416\n",
            "Epoch[6200/10000], loss: 0.24996, acc: 0.90667 val_loss: 0.23402\n",
            "Epoch[6210/10000], loss: 0.24983, acc: 0.90667 val_loss: 0.23388\n",
            "Epoch[6220/10000], loss: 0.24969, acc: 0.90667 val_loss: 0.23375\n",
            "Epoch[6230/10000], loss: 0.24956, acc: 0.90667 val_loss: 0.23361\n",
            "Epoch[6240/10000], loss: 0.24943, acc: 0.90667 val_loss: 0.23347\n",
            "Epoch[6250/10000], loss: 0.24930, acc: 0.90667 val_loss: 0.23333\n",
            "Epoch[6260/10000], loss: 0.24917, acc: 0.90667 val_loss: 0.23320\n",
            "Epoch[6270/10000], loss: 0.24904, acc: 0.90667 val_loss: 0.23306\n",
            "Epoch[6280/10000], loss: 0.24891, acc: 0.90667 val_loss: 0.23292\n",
            "Epoch[6290/10000], loss: 0.24878, acc: 0.90667 val_loss: 0.23279\n",
            "Epoch[6300/10000], loss: 0.24865, acc: 0.90667 val_loss: 0.23265\n",
            "Epoch[6310/10000], loss: 0.24852, acc: 0.90667 val_loss: 0.23252\n",
            "Epoch[6320/10000], loss: 0.24839, acc: 0.90667 val_loss: 0.23238\n",
            "Epoch[6330/10000], loss: 0.24826, acc: 0.90667 val_loss: 0.23225\n",
            "Epoch[6340/10000], loss: 0.24813, acc: 0.90667 val_loss: 0.23211\n",
            "Epoch[6350/10000], loss: 0.24800, acc: 0.90667 val_loss: 0.23198\n",
            "Epoch[6360/10000], loss: 0.24787, acc: 0.90667 val_loss: 0.23184\n",
            "Epoch[6370/10000], loss: 0.24775, acc: 0.90667 val_loss: 0.23171\n",
            "Epoch[6380/10000], loss: 0.24762, acc: 0.90667 val_loss: 0.23158\n",
            "Epoch[6390/10000], loss: 0.24749, acc: 0.90667 val_loss: 0.23145\n",
            "Epoch[6400/10000], loss: 0.24736, acc: 0.90667 val_loss: 0.23131\n",
            "Epoch[6410/10000], loss: 0.24724, acc: 0.90667 val_loss: 0.23118\n",
            "Epoch[6420/10000], loss: 0.24711, acc: 0.90667 val_loss: 0.23105\n",
            "Epoch[6430/10000], loss: 0.24699, acc: 0.90667 val_loss: 0.23092\n",
            "Epoch[6440/10000], loss: 0.24686, acc: 0.90667 val_loss: 0.23079\n",
            "Epoch[6450/10000], loss: 0.24674, acc: 0.90667 val_loss: 0.23066\n",
            "Epoch[6460/10000], loss: 0.24661, acc: 0.90667 val_loss: 0.23053\n",
            "Epoch[6470/10000], loss: 0.24649, acc: 0.90667 val_loss: 0.23040\n",
            "Epoch[6480/10000], loss: 0.24636, acc: 0.90667 val_loss: 0.23027\n",
            "Epoch[6490/10000], loss: 0.24624, acc: 0.90667 val_loss: 0.23014\n",
            "Epoch[6500/10000], loss: 0.24611, acc: 0.90667 val_loss: 0.23001\n",
            "Epoch[6510/10000], loss: 0.24599, acc: 0.90667 val_loss: 0.22988\n",
            "Epoch[6520/10000], loss: 0.24587, acc: 0.90667 val_loss: 0.22975\n",
            "Epoch[6530/10000], loss: 0.24575, acc: 0.90667 val_loss: 0.22962\n",
            "Epoch[6540/10000], loss: 0.24562, acc: 0.90667 val_loss: 0.22949\n",
            "Epoch[6550/10000], loss: 0.24550, acc: 0.90667 val_loss: 0.22936\n",
            "Epoch[6560/10000], loss: 0.24538, acc: 0.90667 val_loss: 0.22924\n",
            "Epoch[6570/10000], loss: 0.24526, acc: 0.90667 val_loss: 0.22911\n",
            "Epoch[6580/10000], loss: 0.24514, acc: 0.90667 val_loss: 0.22898\n",
            "Epoch[6590/10000], loss: 0.24502, acc: 0.90667 val_loss: 0.22886\n",
            "Epoch[6600/10000], loss: 0.24489, acc: 0.90667 val_loss: 0.22873\n",
            "Epoch[6610/10000], loss: 0.24477, acc: 0.90667 val_loss: 0.22860\n",
            "Epoch[6620/10000], loss: 0.24465, acc: 0.90667 val_loss: 0.22848\n",
            "Epoch[6630/10000], loss: 0.24453, acc: 0.90667 val_loss: 0.22835\n",
            "Epoch[6640/10000], loss: 0.24441, acc: 0.90667 val_loss: 0.22823\n",
            "Epoch[6650/10000], loss: 0.24430, acc: 0.90667 val_loss: 0.22810\n",
            "Epoch[6660/10000], loss: 0.24418, acc: 0.90667 val_loss: 0.22798\n",
            "Epoch[6670/10000], loss: 0.24406, acc: 0.90667 val_loss: 0.22785\n",
            "Epoch[6680/10000], loss: 0.24394, acc: 0.90667 val_loss: 0.22773\n",
            "Epoch[6690/10000], loss: 0.24382, acc: 0.90667 val_loss: 0.22761\n",
            "Epoch[6700/10000], loss: 0.24370, acc: 0.90667 val_loss: 0.22748\n",
            "Epoch[6710/10000], loss: 0.24359, acc: 0.90667 val_loss: 0.22736\n",
            "Epoch[6720/10000], loss: 0.24347, acc: 0.90667 val_loss: 0.22724\n",
            "Epoch[6730/10000], loss: 0.24335, acc: 0.90667 val_loss: 0.22711\n",
            "Epoch[6740/10000], loss: 0.24324, acc: 0.90667 val_loss: 0.22699\n",
            "Epoch[6750/10000], loss: 0.24312, acc: 0.90667 val_loss: 0.22687\n",
            "Epoch[6760/10000], loss: 0.24300, acc: 0.90667 val_loss: 0.22675\n",
            "Epoch[6770/10000], loss: 0.24289, acc: 0.90667 val_loss: 0.22663\n",
            "Epoch[6780/10000], loss: 0.24277, acc: 0.90667 val_loss: 0.22651\n",
            "Epoch[6790/10000], loss: 0.24266, acc: 0.90667 val_loss: 0.22638\n",
            "Epoch[6800/10000], loss: 0.24254, acc: 0.90667 val_loss: 0.22626\n",
            "Epoch[6810/10000], loss: 0.24243, acc: 0.90667 val_loss: 0.22614\n",
            "Epoch[6820/10000], loss: 0.24231, acc: 0.90667 val_loss: 0.22602\n",
            "Epoch[6830/10000], loss: 0.24220, acc: 0.90667 val_loss: 0.22590\n",
            "Epoch[6840/10000], loss: 0.24208, acc: 0.90667 val_loss: 0.22578\n",
            "Epoch[6850/10000], loss: 0.24197, acc: 0.90667 val_loss: 0.22566\n",
            "Epoch[6860/10000], loss: 0.24186, acc: 0.90667 val_loss: 0.22555\n",
            "Epoch[6870/10000], loss: 0.24174, acc: 0.90667 val_loss: 0.22543\n",
            "Epoch[6880/10000], loss: 0.24163, acc: 0.90667 val_loss: 0.22531\n",
            "Epoch[6890/10000], loss: 0.24152, acc: 0.90667 val_loss: 0.22519\n",
            "Epoch[6900/10000], loss: 0.24141, acc: 0.90667 val_loss: 0.22507\n",
            "Epoch[6910/10000], loss: 0.24129, acc: 0.90667 val_loss: 0.22495\n",
            "Epoch[6920/10000], loss: 0.24118, acc: 0.90667 val_loss: 0.22484\n",
            "Epoch[6930/10000], loss: 0.24107, acc: 0.90667 val_loss: 0.22472\n",
            "Epoch[6940/10000], loss: 0.24096, acc: 0.90667 val_loss: 0.22460\n",
            "Epoch[6950/10000], loss: 0.24085, acc: 0.90667 val_loss: 0.22449\n",
            "Epoch[6960/10000], loss: 0.24074, acc: 0.90667 val_loss: 0.22437\n",
            "Epoch[6970/10000], loss: 0.24063, acc: 0.90667 val_loss: 0.22425\n",
            "Epoch[6980/10000], loss: 0.24052, acc: 0.90667 val_loss: 0.22414\n",
            "Epoch[6990/10000], loss: 0.24041, acc: 0.90667 val_loss: 0.22402\n",
            "Epoch[7000/10000], loss: 0.24030, acc: 0.90667 val_loss: 0.22391\n",
            "Epoch[7010/10000], loss: 0.24019, acc: 0.90667 val_loss: 0.22379\n",
            "Epoch[7020/10000], loss: 0.24008, acc: 0.90667 val_loss: 0.22368\n",
            "Epoch[7030/10000], loss: 0.23997, acc: 0.90667 val_loss: 0.22356\n",
            "Epoch[7040/10000], loss: 0.23986, acc: 0.90667 val_loss: 0.22345\n",
            "Epoch[7050/10000], loss: 0.23975, acc: 0.90667 val_loss: 0.22333\n",
            "Epoch[7060/10000], loss: 0.23964, acc: 0.90667 val_loss: 0.22322\n",
            "Epoch[7070/10000], loss: 0.23953, acc: 0.90667 val_loss: 0.22311\n",
            "Epoch[7080/10000], loss: 0.23943, acc: 0.90667 val_loss: 0.22299\n",
            "Epoch[7090/10000], loss: 0.23932, acc: 0.90667 val_loss: 0.22288\n",
            "Epoch[7100/10000], loss: 0.23921, acc: 0.90667 val_loss: 0.22277\n",
            "Epoch[7110/10000], loss: 0.23910, acc: 0.90667 val_loss: 0.22265\n",
            "Epoch[7120/10000], loss: 0.23900, acc: 0.90667 val_loss: 0.22254\n",
            "Epoch[7130/10000], loss: 0.23889, acc: 0.90667 val_loss: 0.22243\n",
            "Epoch[7140/10000], loss: 0.23879, acc: 0.90667 val_loss: 0.22232\n",
            "Epoch[7150/10000], loss: 0.23868, acc: 0.90667 val_loss: 0.22221\n",
            "Epoch[7160/10000], loss: 0.23857, acc: 0.90667 val_loss: 0.22209\n",
            "Epoch[7170/10000], loss: 0.23847, acc: 0.90667 val_loss: 0.22198\n",
            "Epoch[7180/10000], loss: 0.23836, acc: 0.90667 val_loss: 0.22187\n",
            "Epoch[7190/10000], loss: 0.23826, acc: 0.90667 val_loss: 0.22176\n",
            "Epoch[7200/10000], loss: 0.23815, acc: 0.90667 val_loss: 0.22165\n",
            "Epoch[7210/10000], loss: 0.23805, acc: 0.90667 val_loss: 0.22154\n",
            "Epoch[7220/10000], loss: 0.23794, acc: 0.90667 val_loss: 0.22143\n",
            "Epoch[7230/10000], loss: 0.23784, acc: 0.90667 val_loss: 0.22132\n",
            "Epoch[7240/10000], loss: 0.23774, acc: 0.90667 val_loss: 0.22121\n",
            "Epoch[7250/10000], loss: 0.23763, acc: 0.90667 val_loss: 0.22110\n",
            "Epoch[7260/10000], loss: 0.23753, acc: 0.90667 val_loss: 0.22099\n",
            "Epoch[7270/10000], loss: 0.23742, acc: 0.90667 val_loss: 0.22088\n",
            "Epoch[7280/10000], loss: 0.23732, acc: 0.90667 val_loss: 0.22078\n",
            "Epoch[7290/10000], loss: 0.23722, acc: 0.90667 val_loss: 0.22067\n",
            "Epoch[7300/10000], loss: 0.23712, acc: 0.90667 val_loss: 0.22056\n",
            "Epoch[7310/10000], loss: 0.23701, acc: 0.90667 val_loss: 0.22045\n",
            "Epoch[7320/10000], loss: 0.23691, acc: 0.90667 val_loss: 0.22034\n",
            "Epoch[7330/10000], loss: 0.23681, acc: 0.90667 val_loss: 0.22024\n",
            "Epoch[7340/10000], loss: 0.23671, acc: 0.90667 val_loss: 0.22013\n",
            "Epoch[7350/10000], loss: 0.23661, acc: 0.90667 val_loss: 0.22002\n",
            "Epoch[7360/10000], loss: 0.23651, acc: 0.90667 val_loss: 0.21992\n",
            "Epoch[7370/10000], loss: 0.23640, acc: 0.90667 val_loss: 0.21981\n",
            "Epoch[7380/10000], loss: 0.23630, acc: 0.90667 val_loss: 0.21970\n",
            "Epoch[7390/10000], loss: 0.23620, acc: 0.90667 val_loss: 0.21960\n",
            "Epoch[7400/10000], loss: 0.23610, acc: 0.90667 val_loss: 0.21949\n",
            "Epoch[7410/10000], loss: 0.23600, acc: 0.90667 val_loss: 0.21939\n",
            "Epoch[7420/10000], loss: 0.23590, acc: 0.90667 val_loss: 0.21928\n",
            "Epoch[7430/10000], loss: 0.23580, acc: 0.90667 val_loss: 0.21918\n",
            "Epoch[7440/10000], loss: 0.23570, acc: 0.90667 val_loss: 0.21907\n",
            "Epoch[7450/10000], loss: 0.23560, acc: 0.90667 val_loss: 0.21897\n",
            "Epoch[7460/10000], loss: 0.23551, acc: 0.90667 val_loss: 0.21886\n",
            "Epoch[7470/10000], loss: 0.23541, acc: 0.90667 val_loss: 0.21876\n",
            "Epoch[7480/10000], loss: 0.23531, acc: 0.90667 val_loss: 0.21865\n",
            "Epoch[7490/10000], loss: 0.23521, acc: 0.90667 val_loss: 0.21855\n",
            "Epoch[7500/10000], loss: 0.23511, acc: 0.90667 val_loss: 0.21845\n",
            "Epoch[7510/10000], loss: 0.23501, acc: 0.90667 val_loss: 0.21834\n",
            "Epoch[7520/10000], loss: 0.23492, acc: 0.90667 val_loss: 0.21824\n",
            "Epoch[7530/10000], loss: 0.23482, acc: 0.90667 val_loss: 0.21814\n",
            "Epoch[7540/10000], loss: 0.23472, acc: 0.90667 val_loss: 0.21803\n",
            "Epoch[7550/10000], loss: 0.23462, acc: 0.90667 val_loss: 0.21793\n",
            "Epoch[7560/10000], loss: 0.23453, acc: 0.90667 val_loss: 0.21783\n",
            "Epoch[7570/10000], loss: 0.23443, acc: 0.90667 val_loss: 0.21773\n",
            "Epoch[7580/10000], loss: 0.23433, acc: 0.90667 val_loss: 0.21762\n",
            "Epoch[7590/10000], loss: 0.23424, acc: 0.90667 val_loss: 0.21752\n",
            "Epoch[7600/10000], loss: 0.23414, acc: 0.90667 val_loss: 0.21742\n",
            "Epoch[7610/10000], loss: 0.23405, acc: 0.90667 val_loss: 0.21732\n",
            "Epoch[7620/10000], loss: 0.23395, acc: 0.90667 val_loss: 0.21722\n",
            "Epoch[7630/10000], loss: 0.23385, acc: 0.90667 val_loss: 0.21712\n",
            "Epoch[7640/10000], loss: 0.23376, acc: 0.90667 val_loss: 0.21702\n",
            "Epoch[7650/10000], loss: 0.23366, acc: 0.90667 val_loss: 0.21692\n",
            "Epoch[7660/10000], loss: 0.23357, acc: 0.90667 val_loss: 0.21682\n",
            "Epoch[7670/10000], loss: 0.23348, acc: 0.90667 val_loss: 0.21672\n",
            "Epoch[7680/10000], loss: 0.23338, acc: 0.90667 val_loss: 0.21662\n",
            "Epoch[7690/10000], loss: 0.23329, acc: 0.90667 val_loss: 0.21652\n",
            "Epoch[7700/10000], loss: 0.23319, acc: 0.90667 val_loss: 0.21642\n",
            "Epoch[7710/10000], loss: 0.23310, acc: 0.90667 val_loss: 0.21632\n",
            "Epoch[7720/10000], loss: 0.23301, acc: 0.90667 val_loss: 0.21622\n",
            "Epoch[7730/10000], loss: 0.23291, acc: 0.90667 val_loss: 0.21612\n",
            "Epoch[7740/10000], loss: 0.23282, acc: 0.90667 val_loss: 0.21602\n",
            "Epoch[7750/10000], loss: 0.23273, acc: 0.90667 val_loss: 0.21592\n",
            "Epoch[7760/10000], loss: 0.23263, acc: 0.90667 val_loss: 0.21582\n",
            "Epoch[7770/10000], loss: 0.23254, acc: 0.90667 val_loss: 0.21573\n",
            "Epoch[7780/10000], loss: 0.23245, acc: 0.90667 val_loss: 0.21563\n",
            "Epoch[7790/10000], loss: 0.23236, acc: 0.90667 val_loss: 0.21553\n",
            "Epoch[7800/10000], loss: 0.23226, acc: 0.90667 val_loss: 0.21543\n",
            "Epoch[7810/10000], loss: 0.23217, acc: 0.90667 val_loss: 0.21534\n",
            "Epoch[7820/10000], loss: 0.23208, acc: 0.90667 val_loss: 0.21524\n",
            "Epoch[7830/10000], loss: 0.23199, acc: 0.90667 val_loss: 0.21514\n",
            "Epoch[7840/10000], loss: 0.23190, acc: 0.90667 val_loss: 0.21505\n",
            "Epoch[7850/10000], loss: 0.23181, acc: 0.90667 val_loss: 0.21495\n",
            "Epoch[7860/10000], loss: 0.23172, acc: 0.90667 val_loss: 0.21485\n",
            "Epoch[7870/10000], loss: 0.23162, acc: 0.90667 val_loss: 0.21476\n",
            "Epoch[7880/10000], loss: 0.23153, acc: 0.90667 val_loss: 0.21466\n",
            "Epoch[7890/10000], loss: 0.23144, acc: 0.90667 val_loss: 0.21457\n",
            "Epoch[7900/10000], loss: 0.23135, acc: 0.90667 val_loss: 0.21447\n",
            "Epoch[7910/10000], loss: 0.23126, acc: 0.90667 val_loss: 0.21437\n",
            "Epoch[7920/10000], loss: 0.23117, acc: 0.90667 val_loss: 0.21428\n",
            "Epoch[7930/10000], loss: 0.23108, acc: 0.90667 val_loss: 0.21418\n",
            "Epoch[7940/10000], loss: 0.23099, acc: 0.90667 val_loss: 0.21409\n",
            "Epoch[7950/10000], loss: 0.23091, acc: 0.90667 val_loss: 0.21400\n",
            "Epoch[7960/10000], loss: 0.23082, acc: 0.90667 val_loss: 0.21390\n",
            "Epoch[7970/10000], loss: 0.23073, acc: 0.90667 val_loss: 0.21381\n",
            "Epoch[7980/10000], loss: 0.23064, acc: 0.90667 val_loss: 0.21371\n",
            "Epoch[7990/10000], loss: 0.23055, acc: 0.90667 val_loss: 0.21362\n",
            "Epoch[8000/10000], loss: 0.23046, acc: 0.90667 val_loss: 0.21353\n",
            "Epoch[8010/10000], loss: 0.23037, acc: 0.90667 val_loss: 0.21343\n",
            "Epoch[8020/10000], loss: 0.23029, acc: 0.90667 val_loss: 0.21334\n",
            "Epoch[8030/10000], loss: 0.23020, acc: 0.90667 val_loss: 0.21325\n",
            "Epoch[8040/10000], loss: 0.23011, acc: 0.90667 val_loss: 0.21315\n",
            "Epoch[8050/10000], loss: 0.23002, acc: 0.90667 val_loss: 0.21306\n",
            "Epoch[8060/10000], loss: 0.22994, acc: 0.90667 val_loss: 0.21297\n",
            "Epoch[8070/10000], loss: 0.22985, acc: 0.90667 val_loss: 0.21288\n",
            "Epoch[8080/10000], loss: 0.22976, acc: 0.90667 val_loss: 0.21278\n",
            "Epoch[8090/10000], loss: 0.22968, acc: 0.90667 val_loss: 0.21269\n",
            "Epoch[8100/10000], loss: 0.22959, acc: 0.90667 val_loss: 0.21260\n",
            "Epoch[8110/10000], loss: 0.22950, acc: 0.90667 val_loss: 0.21251\n",
            "Epoch[8120/10000], loss: 0.22942, acc: 0.90667 val_loss: 0.21242\n",
            "Epoch[8130/10000], loss: 0.22933, acc: 0.90667 val_loss: 0.21233\n",
            "Epoch[8140/10000], loss: 0.22925, acc: 0.90667 val_loss: 0.21223\n",
            "Epoch[8150/10000], loss: 0.22916, acc: 0.90667 val_loss: 0.21214\n",
            "Epoch[8160/10000], loss: 0.22907, acc: 0.90667 val_loss: 0.21205\n",
            "Epoch[8170/10000], loss: 0.22899, acc: 0.90667 val_loss: 0.21196\n",
            "Epoch[8180/10000], loss: 0.22890, acc: 0.90667 val_loss: 0.21187\n",
            "Epoch[8190/10000], loss: 0.22882, acc: 0.90667 val_loss: 0.21178\n",
            "Epoch[8200/10000], loss: 0.22873, acc: 0.90667 val_loss: 0.21169\n",
            "Epoch[8210/10000], loss: 0.22865, acc: 0.90667 val_loss: 0.21160\n",
            "Epoch[8220/10000], loss: 0.22857, acc: 0.90667 val_loss: 0.21151\n",
            "Epoch[8230/10000], loss: 0.22848, acc: 0.90667 val_loss: 0.21142\n",
            "Epoch[8240/10000], loss: 0.22840, acc: 0.90667 val_loss: 0.21133\n",
            "Epoch[8250/10000], loss: 0.22831, acc: 0.90667 val_loss: 0.21124\n",
            "Epoch[8260/10000], loss: 0.22823, acc: 0.90667 val_loss: 0.21115\n",
            "Epoch[8270/10000], loss: 0.22815, acc: 0.90667 val_loss: 0.21107\n",
            "Epoch[8280/10000], loss: 0.22806, acc: 0.90667 val_loss: 0.21098\n",
            "Epoch[8290/10000], loss: 0.22798, acc: 0.90667 val_loss: 0.21089\n",
            "Epoch[8300/10000], loss: 0.22790, acc: 0.90667 val_loss: 0.21080\n",
            "Epoch[8310/10000], loss: 0.22781, acc: 0.90667 val_loss: 0.21071\n",
            "Epoch[8320/10000], loss: 0.22773, acc: 0.90667 val_loss: 0.21062\n",
            "Epoch[8330/10000], loss: 0.22765, acc: 0.90667 val_loss: 0.21054\n",
            "Epoch[8340/10000], loss: 0.22757, acc: 0.90667 val_loss: 0.21045\n",
            "Epoch[8350/10000], loss: 0.22748, acc: 0.90667 val_loss: 0.21036\n",
            "Epoch[8360/10000], loss: 0.22740, acc: 0.90667 val_loss: 0.21027\n",
            "Epoch[8370/10000], loss: 0.22732, acc: 0.90667 val_loss: 0.21019\n",
            "Epoch[8380/10000], loss: 0.22724, acc: 0.90667 val_loss: 0.21010\n",
            "Epoch[8390/10000], loss: 0.22716, acc: 0.90667 val_loss: 0.21001\n",
            "Epoch[8400/10000], loss: 0.22708, acc: 0.90667 val_loss: 0.20993\n",
            "Epoch[8410/10000], loss: 0.22699, acc: 0.90667 val_loss: 0.20984\n",
            "Epoch[8420/10000], loss: 0.22691, acc: 0.90667 val_loss: 0.20975\n",
            "Epoch[8430/10000], loss: 0.22683, acc: 0.90667 val_loss: 0.20967\n",
            "Epoch[8440/10000], loss: 0.22675, acc: 0.90667 val_loss: 0.20958\n",
            "Epoch[8450/10000], loss: 0.22667, acc: 0.90667 val_loss: 0.20949\n",
            "Epoch[8460/10000], loss: 0.22659, acc: 0.90667 val_loss: 0.20941\n",
            "Epoch[8470/10000], loss: 0.22651, acc: 0.90667 val_loss: 0.20932\n",
            "Epoch[8480/10000], loss: 0.22643, acc: 0.90667 val_loss: 0.20924\n",
            "Epoch[8490/10000], loss: 0.22635, acc: 0.90667 val_loss: 0.20915\n",
            "Epoch[8500/10000], loss: 0.22627, acc: 0.90667 val_loss: 0.20907\n",
            "Epoch[8510/10000], loss: 0.22619, acc: 0.90667 val_loss: 0.20898\n",
            "Epoch[8520/10000], loss: 0.22611, acc: 0.90667 val_loss: 0.20890\n",
            "Epoch[8530/10000], loss: 0.22603, acc: 0.90667 val_loss: 0.20881\n",
            "Epoch[8540/10000], loss: 0.22595, acc: 0.90667 val_loss: 0.20873\n",
            "Epoch[8550/10000], loss: 0.22587, acc: 0.90667 val_loss: 0.20865\n",
            "Epoch[8560/10000], loss: 0.22579, acc: 0.90667 val_loss: 0.20856\n",
            "Epoch[8570/10000], loss: 0.22572, acc: 0.90667 val_loss: 0.20848\n",
            "Epoch[8580/10000], loss: 0.22564, acc: 0.90667 val_loss: 0.20839\n",
            "Epoch[8590/10000], loss: 0.22556, acc: 0.90667 val_loss: 0.20831\n",
            "Epoch[8600/10000], loss: 0.22548, acc: 0.90667 val_loss: 0.20823\n",
            "Epoch[8610/10000], loss: 0.22540, acc: 0.90667 val_loss: 0.20814\n",
            "Epoch[8620/10000], loss: 0.22532, acc: 0.90667 val_loss: 0.20806\n",
            "Epoch[8630/10000], loss: 0.22525, acc: 0.90667 val_loss: 0.20798\n",
            "Epoch[8640/10000], loss: 0.22517, acc: 0.90667 val_loss: 0.20789\n",
            "Epoch[8650/10000], loss: 0.22509, acc: 0.90667 val_loss: 0.20781\n",
            "Epoch[8660/10000], loss: 0.22501, acc: 0.90667 val_loss: 0.20773\n",
            "Epoch[8670/10000], loss: 0.22494, acc: 0.90667 val_loss: 0.20765\n",
            "Epoch[8680/10000], loss: 0.22486, acc: 0.90667 val_loss: 0.20756\n",
            "Epoch[8690/10000], loss: 0.22478, acc: 0.90667 val_loss: 0.20748\n",
            "Epoch[8700/10000], loss: 0.22471, acc: 0.90667 val_loss: 0.20740\n",
            "Epoch[8710/10000], loss: 0.22463, acc: 0.90667 val_loss: 0.20732\n",
            "Epoch[8720/10000], loss: 0.22455, acc: 0.90667 val_loss: 0.20724\n",
            "Epoch[8730/10000], loss: 0.22448, acc: 0.90667 val_loss: 0.20716\n",
            "Epoch[8740/10000], loss: 0.22440, acc: 0.90667 val_loss: 0.20707\n",
            "Epoch[8750/10000], loss: 0.22432, acc: 0.90667 val_loss: 0.20699\n",
            "Epoch[8760/10000], loss: 0.22425, acc: 0.90667 val_loss: 0.20691\n",
            "Epoch[8770/10000], loss: 0.22417, acc: 0.90667 val_loss: 0.20683\n",
            "Epoch[8780/10000], loss: 0.22410, acc: 0.90667 val_loss: 0.20675\n",
            "Epoch[8790/10000], loss: 0.22402, acc: 0.90667 val_loss: 0.20667\n",
            "Epoch[8800/10000], loss: 0.22395, acc: 0.90667 val_loss: 0.20659\n",
            "Epoch[8810/10000], loss: 0.22387, acc: 0.90667 val_loss: 0.20651\n",
            "Epoch[8820/10000], loss: 0.22380, acc: 0.90667 val_loss: 0.20643\n",
            "Epoch[8830/10000], loss: 0.22372, acc: 0.90667 val_loss: 0.20635\n",
            "Epoch[8840/10000], loss: 0.22365, acc: 0.90667 val_loss: 0.20627\n",
            "Epoch[8850/10000], loss: 0.22357, acc: 0.90667 val_loss: 0.20619\n",
            "Epoch[8860/10000], loss: 0.22350, acc: 0.90667 val_loss: 0.20611\n",
            "Epoch[8870/10000], loss: 0.22342, acc: 0.90667 val_loss: 0.20603\n",
            "Epoch[8880/10000], loss: 0.22335, acc: 0.90667 val_loss: 0.20595\n",
            "Epoch[8890/10000], loss: 0.22327, acc: 0.90667 val_loss: 0.20587\n",
            "Epoch[8900/10000], loss: 0.22320, acc: 0.90667 val_loss: 0.20579\n",
            "Epoch[8910/10000], loss: 0.22313, acc: 0.90667 val_loss: 0.20571\n",
            "Epoch[8920/10000], loss: 0.22305, acc: 0.90667 val_loss: 0.20563\n",
            "Epoch[8930/10000], loss: 0.22298, acc: 0.90667 val_loss: 0.20556\n",
            "Epoch[8940/10000], loss: 0.22291, acc: 0.90667 val_loss: 0.20548\n",
            "Epoch[8950/10000], loss: 0.22283, acc: 0.90667 val_loss: 0.20540\n",
            "Epoch[8960/10000], loss: 0.22276, acc: 0.90667 val_loss: 0.20532\n",
            "Epoch[8970/10000], loss: 0.22269, acc: 0.90667 val_loss: 0.20524\n",
            "Epoch[8980/10000], loss: 0.22261, acc: 0.90667 val_loss: 0.20517\n",
            "Epoch[8990/10000], loss: 0.22254, acc: 0.90667 val_loss: 0.20509\n",
            "Epoch[9000/10000], loss: 0.22247, acc: 0.90667 val_loss: 0.20501\n",
            "Epoch[9010/10000], loss: 0.22240, acc: 0.90667 val_loss: 0.20493\n",
            "Epoch[9020/10000], loss: 0.22232, acc: 0.90667 val_loss: 0.20485\n",
            "Epoch[9030/10000], loss: 0.22225, acc: 0.90667 val_loss: 0.20478\n",
            "Epoch[9040/10000], loss: 0.22218, acc: 0.90667 val_loss: 0.20470\n",
            "Epoch[9050/10000], loss: 0.22211, acc: 0.90667 val_loss: 0.20462\n",
            "Epoch[9060/10000], loss: 0.22204, acc: 0.90667 val_loss: 0.20455\n",
            "Epoch[9070/10000], loss: 0.22196, acc: 0.90667 val_loss: 0.20447\n",
            "Epoch[9080/10000], loss: 0.22189, acc: 0.90667 val_loss: 0.20439\n",
            "Epoch[9090/10000], loss: 0.22182, acc: 0.90667 val_loss: 0.20432\n",
            "Epoch[9100/10000], loss: 0.22175, acc: 0.90667 val_loss: 0.20424\n",
            "Epoch[9110/10000], loss: 0.22168, acc: 0.90667 val_loss: 0.20416\n",
            "Epoch[9120/10000], loss: 0.22161, acc: 0.90667 val_loss: 0.20409\n",
            "Epoch[9130/10000], loss: 0.22154, acc: 0.90667 val_loss: 0.20401\n",
            "Epoch[9140/10000], loss: 0.22147, acc: 0.90667 val_loss: 0.20394\n",
            "Epoch[9150/10000], loss: 0.22140, acc: 0.90667 val_loss: 0.20386\n",
            "Epoch[9160/10000], loss: 0.22133, acc: 0.90667 val_loss: 0.20379\n",
            "Epoch[9170/10000], loss: 0.22126, acc: 0.90667 val_loss: 0.20371\n",
            "Epoch[9180/10000], loss: 0.22118, acc: 0.90667 val_loss: 0.20364\n",
            "Epoch[9190/10000], loss: 0.22111, acc: 0.90667 val_loss: 0.20356\n",
            "Epoch[9200/10000], loss: 0.22105, acc: 0.90667 val_loss: 0.20349\n",
            "Epoch[9210/10000], loss: 0.22098, acc: 0.90667 val_loss: 0.20341\n",
            "Epoch[9220/10000], loss: 0.22091, acc: 0.90667 val_loss: 0.20334\n",
            "Epoch[9230/10000], loss: 0.22084, acc: 0.90667 val_loss: 0.20326\n",
            "Epoch[9240/10000], loss: 0.22077, acc: 0.90667 val_loss: 0.20319\n",
            "Epoch[9250/10000], loss: 0.22070, acc: 0.90667 val_loss: 0.20311\n",
            "Epoch[9260/10000], loss: 0.22063, acc: 0.90667 val_loss: 0.20304\n",
            "Epoch[9270/10000], loss: 0.22056, acc: 0.90667 val_loss: 0.20296\n",
            "Epoch[9280/10000], loss: 0.22049, acc: 0.90667 val_loss: 0.20289\n",
            "Epoch[9290/10000], loss: 0.22042, acc: 0.90667 val_loss: 0.20282\n",
            "Epoch[9300/10000], loss: 0.22035, acc: 0.90667 val_loss: 0.20274\n",
            "Epoch[9310/10000], loss: 0.22028, acc: 0.90667 val_loss: 0.20267\n",
            "Epoch[9320/10000], loss: 0.22022, acc: 0.90667 val_loss: 0.20260\n",
            "Epoch[9330/10000], loss: 0.22015, acc: 0.90667 val_loss: 0.20252\n",
            "Epoch[9340/10000], loss: 0.22008, acc: 0.90667 val_loss: 0.20245\n",
            "Epoch[9350/10000], loss: 0.22001, acc: 0.90667 val_loss: 0.20238\n",
            "Epoch[9360/10000], loss: 0.21994, acc: 0.90667 val_loss: 0.20230\n",
            "Epoch[9370/10000], loss: 0.21988, acc: 0.90667 val_loss: 0.20223\n",
            "Epoch[9380/10000], loss: 0.21981, acc: 0.90667 val_loss: 0.20216\n",
            "Epoch[9390/10000], loss: 0.21974, acc: 0.90667 val_loss: 0.20209\n",
            "Epoch[9400/10000], loss: 0.21967, acc: 0.90667 val_loss: 0.20201\n",
            "Epoch[9410/10000], loss: 0.21961, acc: 0.90667 val_loss: 0.20194\n",
            "Epoch[9420/10000], loss: 0.21954, acc: 0.90667 val_loss: 0.20187\n",
            "Epoch[9430/10000], loss: 0.21947, acc: 0.90667 val_loss: 0.20180\n",
            "Epoch[9440/10000], loss: 0.21940, acc: 0.90667 val_loss: 0.20173\n",
            "Epoch[9450/10000], loss: 0.21934, acc: 0.90667 val_loss: 0.20165\n",
            "Epoch[9460/10000], loss: 0.21927, acc: 0.90667 val_loss: 0.20158\n",
            "Epoch[9470/10000], loss: 0.21920, acc: 0.90667 val_loss: 0.20151\n",
            "Epoch[9480/10000], loss: 0.21914, acc: 0.90667 val_loss: 0.20144\n",
            "Epoch[9490/10000], loss: 0.21907, acc: 0.90667 val_loss: 0.20137\n",
            "Epoch[9500/10000], loss: 0.21901, acc: 0.90667 val_loss: 0.20130\n",
            "Epoch[9510/10000], loss: 0.21894, acc: 0.90667 val_loss: 0.20123\n",
            "Epoch[9520/10000], loss: 0.21887, acc: 0.90667 val_loss: 0.20115\n",
            "Epoch[9530/10000], loss: 0.21881, acc: 0.90667 val_loss: 0.20108\n",
            "Epoch[9540/10000], loss: 0.21874, acc: 0.90667 val_loss: 0.20101\n",
            "Epoch[9550/10000], loss: 0.21868, acc: 0.90667 val_loss: 0.20094\n",
            "Epoch[9560/10000], loss: 0.21861, acc: 0.90667 val_loss: 0.20087\n",
            "Epoch[9570/10000], loss: 0.21854, acc: 0.90667 val_loss: 0.20080\n",
            "Epoch[9580/10000], loss: 0.21848, acc: 0.90667 val_loss: 0.20073\n",
            "Epoch[9590/10000], loss: 0.21841, acc: 0.90667 val_loss: 0.20066\n",
            "Epoch[9600/10000], loss: 0.21835, acc: 0.90667 val_loss: 0.20059\n",
            "Epoch[9610/10000], loss: 0.21828, acc: 0.90667 val_loss: 0.20052\n",
            "Epoch[9620/10000], loss: 0.21822, acc: 0.90667 val_loss: 0.20045\n",
            "Epoch[9630/10000], loss: 0.21815, acc: 0.90667 val_loss: 0.20038\n",
            "Epoch[9640/10000], loss: 0.21809, acc: 0.90667 val_loss: 0.20031\n",
            "Epoch[9650/10000], loss: 0.21803, acc: 0.90667 val_loss: 0.20024\n",
            "Epoch[9660/10000], loss: 0.21796, acc: 0.90667 val_loss: 0.20017\n",
            "Epoch[9670/10000], loss: 0.21790, acc: 0.90667 val_loss: 0.20010\n",
            "Epoch[9680/10000], loss: 0.21783, acc: 0.90667 val_loss: 0.20004\n",
            "Epoch[9690/10000], loss: 0.21777, acc: 0.90667 val_loss: 0.19997\n",
            "Epoch[9700/10000], loss: 0.21770, acc: 0.90667 val_loss: 0.19990\n",
            "Epoch[9710/10000], loss: 0.21764, acc: 0.90667 val_loss: 0.19983\n",
            "Epoch[9720/10000], loss: 0.21758, acc: 0.90667 val_loss: 0.19976\n",
            "Epoch[9730/10000], loss: 0.21751, acc: 0.90667 val_loss: 0.19969\n",
            "Epoch[9740/10000], loss: 0.21745, acc: 0.90667 val_loss: 0.19962\n",
            "Epoch[9750/10000], loss: 0.21739, acc: 0.90667 val_loss: 0.19956\n",
            "Epoch[9760/10000], loss: 0.21732, acc: 0.90667 val_loss: 0.19949\n",
            "Epoch[9770/10000], loss: 0.21726, acc: 0.90667 val_loss: 0.19942\n",
            "Epoch[9780/10000], loss: 0.21720, acc: 0.90667 val_loss: 0.19935\n",
            "Epoch[9790/10000], loss: 0.21713, acc: 0.90667 val_loss: 0.19928\n",
            "Epoch[9800/10000], loss: 0.21707, acc: 0.90667 val_loss: 0.19922\n",
            "Epoch[9810/10000], loss: 0.21701, acc: 0.90667 val_loss: 0.19915\n",
            "Epoch[9820/10000], loss: 0.21695, acc: 0.90667 val_loss: 0.19908\n",
            "Epoch[9830/10000], loss: 0.21688, acc: 0.90667 val_loss: 0.19901\n",
            "Epoch[9840/10000], loss: 0.21682, acc: 0.90667 val_loss: 0.19895\n",
            "Epoch[9850/10000], loss: 0.21676, acc: 0.90667 val_loss: 0.19888\n",
            "Epoch[9860/10000], loss: 0.21670, acc: 0.90667 val_loss: 0.19881\n",
            "Epoch[9870/10000], loss: 0.21663, acc: 0.90667 val_loss: 0.19874\n",
            "Epoch[9880/10000], loss: 0.21657, acc: 0.90667 val_loss: 0.19868\n",
            "Epoch[9890/10000], loss: 0.21651, acc: 0.90667 val_loss: 0.19861\n",
            "Epoch[9900/10000], loss: 0.21645, acc: 0.90667 val_loss: 0.19854\n",
            "Epoch[9910/10000], loss: 0.21639, acc: 0.90667 val_loss: 0.19848\n",
            "Epoch[9920/10000], loss: 0.21633, acc: 0.90667 val_loss: 0.19841\n",
            "Epoch[9930/10000], loss: 0.21626, acc: 0.90667 val_loss: 0.19835\n",
            "Epoch[9940/10000], loss: 0.21620, acc: 0.90667 val_loss: 0.19828\n",
            "Epoch[9950/10000], loss: 0.21614, acc: 0.90667 val_loss: 0.19821\n",
            "Epoch[9960/10000], loss: 0.21608, acc: 0.90667 val_loss: 0.19815\n",
            "Epoch[9970/10000], loss: 0.21602, acc: 0.90667 val_loss: 0.19808\n",
            "Epoch[9980/10000], loss: 0.21596, acc: 0.90667 val_loss: 0.19802\n",
            "Epoch[9990/10000], loss: 0.21590, acc: 0.90667 val_loss: 0.19795\n"
          ]
        }
      ]
    },
    {
      "cell_type": "code",
      "source": [
        "#結果確認\n",
        "print(f'初期状態:損失:{history[0,3]:.5f} 精度: {history[0,4]:.5f}')\n",
        "print(f'最終状態:損失:{history[-1,3]:.5f} 精度: {history[-1,4]:.5f}')"
      ],
      "metadata": {
        "colab": {
          "base_uri": "https://localhost:8080/"
        },
        "id": "-B-FR1V3P_lK",
        "outputId": "54d4a74e-d01d-475e-ec19-19bfe4fb10c5"
      },
      "execution_count": 23,
      "outputs": [
        {
          "output_type": "stream",
          "name": "stdout",
          "text": [
            "初期状態:損失:1.09263 精度: 0.26667\n",
            "最終状態:損失:0.19795 精度: 0.96000\n"
          ]
        }
      ]
    },
    {
      "cell_type": "code",
      "source": [
        "# 学習曲線の表示 (損失)\n",
        "\n",
        "plt.plot(history[:,0], history[:,1], 'b', label='訓練')\n",
        "plt.plot(history[:,0], history[:,3], 'k', label='検証')\n",
        "plt.xlabel('繰り返し回数')\n",
        "plt.ylabel('損失')\n",
        "plt.title('学習曲線(損失)')\n",
        "plt.legend()\n",
        "plt.show()"
      ],
      "metadata": {
        "colab": {
          "base_uri": "https://localhost:8080/",
          "height": 415
        },
        "id": "PixdF7plQpkD",
        "outputId": "00bf2dbc-fd44-4784-a588-af29fa92df95"
      },
      "execution_count": 24,
      "outputs": [
        {
          "output_type": "display_data",
          "data": {
            "text/plain": [
              "<Figure size 432x432 with 1 Axes>"
            ],
            "image/png": "[encoded data removed]"
          },
          "metadata": {
            "needs_background": "light"
          }
        }
      ]
    },
    {
      "cell_type": "code",
      "source": [
        "# 学習曲線の表示 (精度)\n",
        "\n",
        "plt.plot(history[:,0], history[:,2], 'b', label='訓練')\n",
        "plt.plot(history[:,0], history[:,4], 'k', label='検証')\n",
        "plt.xlabel('繰り返し回数')\n",
        "plt.ylabel('精度')\n",
        "plt.title('学習曲線(精度)')\n",
        "plt.legend()\n",
        "plt.show()"
      ],
      "metadata": {
        "colab": {
          "base_uri": "https://localhost:8080/",
          "height": 415
        },
        "id": "XSahVRwyRNAD",
        "outputId": "83f2e93a-60d2-48a5-f2bf-3e49fad1ab95"
      },
      "execution_count": 25,
      "outputs": [
        {
          "output_type": "display_data",
          "data": {
            "text/plain": [
              "<Figure size 432x432 with 1 Axes>"
            ],
            "image/png": "[encoded data removed]"
          },
          "metadata": {
            "needs_background": "light"
          }
        }
      ]
    },
    {
      "cell_type": "code",
      "source": [
        "#モデルへの入力と出力の確認\n",
        "print(labels[0:4])"
      ],
      "metadata": {
        "colab": {
          "base_uri": "https://localhost:8080/"
        },
        "id": "cru8h7PPSkUd",
        "outputId": "2936e290-a024-44cc-89c8-800e4d650d6c"
      },
      "execution_count": 28,
      "outputs": [
        {
          "output_type": "stream",
          "name": "stdout",
          "text": [
            "tensor([1, 1, 0, 2])\n"
          ]
        }
      ]
    },
    {
      "cell_type": "code",
      "source": [
        "#街頭する入力値を抽出\n",
        "i3 = inputs[0:4,:]\n",
        "print(i3.data.numpy())"
      ],
      "metadata": {
        "id": "Chvw9RkPxGRc",
        "outputId": "534042fc-af5e-4f32-873c-dada6e40819a",
        "colab": {
          "base_uri": "https://localhost:8080/"
        }
      },
      "execution_count": 29,
      "outputs": [
        {
          "output_type": "stream",
          "name": "stdout",
          "text": [
            "[[6.3 4.7]\n",
            " [7.  4.7]\n",
            " [5.  1.6]\n",
            " [6.4 5.6]]\n"
          ]
        }
      ]
    },
    {
      "cell_type": "code",
      "source": [
        "#出力値にsoftmax関数をかけた結果を取得\n",
        "softmax = torch.nn.Softmax(dim=1)\n",
        "o3 = net(i3)\n",
        "k3 = softmax(o3)\n",
        "print(o3.data.numpy())\n",
        "print()\n",
        "print(k3.data.numpy())"
      ],
      "metadata": {
        "id": "wMano7ZHxYyA",
        "outputId": "31b09ee5-d82b-4b8c-8aa3-1ed197dfa128",
        "colab": {
          "base_uri": "https://localhost:8080/"
        }
      },
      "execution_count": 31,
      "outputs": [
        {
          "output_type": "stream",
          "name": "stdout",
          "text": [
            "[[ 8.8071 14.1937 12.9986]\n",
            " [10.9387 15.1439 12.0167]\n",
            " [12.8262  9.8     0.1734]\n",
            " [ 6.7954 15.0928 17.1111]]\n",
            "\n",
            "[[0.0035 0.765  0.2315]\n",
            " [0.0141 0.9445 0.0414]\n",
            " [0.9537 0.0463 0.    ]\n",
            " [0.     0.1173 0.8827]]\n"
          ]
        }
      ]
    },
    {
      "cell_type": "code",
      "source": [
        "#最終的な重み行列とバイアスの値\n",
        "print(net.l1.weight.data)\n",
        "\n",
        "print(net.l1.bias.data)"
      ],
      "metadata": {
        "id": "ib4qIhecxtBP",
        "outputId": "12687b42-3f6a-44d1-ec57-fa7465c791a1",
        "colab": {
          "base_uri": "https://localhost:8080/"
        }
      },
      "execution_count": 32,
      "outputs": [
        {
          "output_type": "stream",
          "name": "stdout",
          "text": [
            "tensor([[ 3.0452, -2.5735],\n",
            "        [ 1.3573,  0.8481],\n",
            "        [-1.4026,  4.7253]])\n",
            "tensor([ 1.7178,  1.6563, -0.3741])\n"
          ]
        }
      ]
    },
    {
      "cell_type": "code",
      "source": [
        ""
      ],
      "metadata": {
        "id": "ipNpTLaNyGvd"
      },
      "execution_count": null,
      "outputs": []
    }
  ]
}