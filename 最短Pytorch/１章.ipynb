{
  "nbformat": 4,
  "nbformat_minor": 0,
  "metadata": {
    "colab": {
      "name": "最短Pytorchの導入.ipynb",
      "provenance": [],
      "authorship_tag": "ABX9TyNxnkC3jYdchKaEYCSv/vmt",
      "include_colab_link": true
    },
    "kernelspec": {
      "name": "python3",
      "display_name": "Python 3"
    },
    "language_info": {
      "name": "python"
    }
  },
  "cells": [
    {
      "cell_type": "markdown",
      "metadata": {
        "id": "view-in-github",
        "colab_type": "text"
      },
      "source": [
        "<a href=\"https://colab.research.google.com/github/newstage75/ML_study/blob/master/%E6%9C%80%E7%9F%ADPytorch/%EF%BC%91%E7%AB%A0.ipynb\" target=\"_parent\"><img src=\"https://colab.research.google.com/assets/colab-badge.svg\" alt=\"Open In Colab\"/></a>"
      ]
    },
    {
      "cell_type": "markdown",
      "source": [
        "#お決まり部分\n",
        "最初の宣言"
      ],
      "metadata": {
        "id": "CEgOOTrGJU31"
      }
    },
    {
      "cell_type": "code",
      "execution_count": 2,
      "metadata": {
        "colab": {
          "base_uri": "https://localhost:8080/"
        },
        "id": "48AexnpDJAMO",
        "outputId": "8a2f65f8-6d78-4160-d5a0-954669abbae2"
      },
      "outputs": [
        {
          "output_type": "stream",
          "name": "stdout",
          "text": [
            "Successfully installed japanize-matplotlib-1.1.3\n"
          ]
        }
      ],
      "source": [
        "# 必要ライブラリの導入\n",
        "\n",
        "!pip install japanize_matplotlib | tail -n 1"
      ]
    },
    {
      "cell_type": "code",
      "source": [
        "# 必要ライブラリのインポート\n",
        "\n",
        "%matplotlib inline\n",
        "import numpy as np\n",
        "import matplotlib.pyplot as plt\n",
        "import japanize_matplotlib"
      ],
      "metadata": {
        "id": "ghCJoyn3JbCd"
      },
      "execution_count": 3,
      "outputs": []
    },
    {
      "cell_type": "code",
      "source": [
        "# warning表示off\n",
        "import warnings\n",
        "warnings.simplefilter('ignore')\n",
        "\n",
        "# デフォルトフォントサイズ変更\n",
        "plt.rcParams['font.size'] = 14\n",
        "\n",
        "# デフォルトグラフサイズ変更\n",
        "plt.rcParams['figure.figsize'] = (6,6)\n",
        "\n",
        "# デフォルトで方眼表示ON\n",
        "plt.rcParams['axes.grid'] = True\n",
        "\n",
        "# numpyの表示桁数設定\n",
        "np.set_printoptions(suppress=True, precision=5)"
      ],
      "metadata": {
        "id": "TTSBA8aYJeL0"
      },
      "execution_count": 4,
      "outputs": []
    },
    {
      "cell_type": "code",
      "source": [
        "x = np.array([5, 7, 9])\n",
        "\n",
        "y = x\n",
        "\n",
        "print(x)\n",
        "print(y)"
      ],
      "metadata": {
        "colab": {
          "base_uri": "https://localhost:8080/"
        },
        "id": "tIVVGgE4LOqQ",
        "outputId": "4b4f207d-4b25-4129-907c-9d8213b341c2"
      },
      "execution_count": 5,
      "outputs": [
        {
          "output_type": "stream",
          "name": "stdout",
          "text": [
            "[5 7 9]\n",
            "[5 7 9]\n"
          ]
        }
      ]
    },
    {
      "cell_type": "code",
      "source": [
        "x[1] = -1\n",
        "\n",
        "print(x)\n",
        "print(y)"
      ],
      "metadata": {
        "colab": {
          "base_uri": "https://localhost:8080/"
        },
        "id": "0zubHq7zLVsH",
        "outputId": "0ca9ce6c-ee94-465d-c76d-bdec9026dacf"
      },
      "execution_count": 6,
      "outputs": [
        {
          "output_type": "stream",
          "name": "stdout",
          "text": [
            "[ 5 -1  9]\n",
            "[ 5 -1  9]\n"
          ]
        }
      ]
    },
    {
      "cell_type": "code",
      "source": [
        "#yも同時に変化して困る場合は、大乳児にcopy関数を利用する\n",
        "x = np.array([5, 7, 9])\n",
        "y = x.copy()\n",
        "\n",
        "#すると、xの特定の要素値の変更がyに影響しなくなる\n",
        "x[1] = -1\n",
        "\n",
        "print(x)\n",
        "print(y)"
      ],
      "metadata": {
        "colab": {
          "base_uri": "https://localhost:8080/"
        },
        "id": "rGd0v3nkLnwR",
        "outputId": "3f94449a-d159-4c82-e93c-e325f2a505b5"
      },
      "execution_count": 7,
      "outputs": [
        {
          "output_type": "stream",
          "name": "stdout",
          "text": [
            "[ 5 -1  9]\n",
            "[5 7 9]\n"
          ]
        }
      ]
    },
    {
      "cell_type": "code",
      "source": [
        "import torch\n",
        "\n",
        "#x1:shape=[5]となるすべて値が１のテンソル\n",
        "x1 = torch.ones(5)\n",
        "\n",
        "print(x1)\n",
        "\n",
        "#x2:x1から生成したNumPy\n",
        "x2 = x1.data.numpy()\n",
        "\n",
        "#結果確認\n",
        "print(x2)"
      ],
      "metadata": {
        "colab": {
          "base_uri": "https://localhost:8080/"
        },
        "id": "SBa0X7mlMEIJ",
        "outputId": "7b491779-71d5-4723-e0b9-ab6f50be135f"
      },
      "execution_count": 8,
      "outputs": [
        {
          "output_type": "stream",
          "name": "stdout",
          "text": [
            "tensor([1., 1., 1., 1., 1.])\n",
            "[1. 1. 1. 1. 1.]\n"
          ]
        }
      ]
    },
    {
      "cell_type": "code",
      "source": [
        "x1[1] = -1\n",
        "\n",
        "print(x1)\n",
        "print(x2)"
      ],
      "metadata": {
        "colab": {
          "base_uri": "https://localhost:8080/"
        },
        "id": "3RZy4T-zMfY0",
        "outputId": "ad00f9b3-5847-44d1-c69d-8573e49c6eaf"
      },
      "execution_count": 9,
      "outputs": [
        {
          "output_type": "stream",
          "name": "stdout",
          "text": [
            "tensor([ 1., -1.,  1.,  1.,  1.])\n",
            "[ 1. -1.  1.  1.  1.]\n"
          ]
        }
      ]
    },
    {
      "cell_type": "code",
      "source": [
        "#安全な方法\n",
        "\n",
        "#x1:テンソル\n",
        "x1 = torch.ones(5)\n",
        "\n",
        "#2:x1をcopyしたNumPy\n",
        "x2 = x1.data.numpy().copy()\n",
        "\n",
        "x1[1] = -1\n",
        "\n",
        "print(x1)\n",
        "print(x2)"
      ],
      "metadata": {
        "colab": {
          "base_uri": "https://localhost:8080/"
        },
        "id": "jaAmAlB2MvKv",
        "outputId": "72dedab8-e6df-4439-e1d6-3a88884f4a17"
      },
      "execution_count": 10,
      "outputs": [
        {
          "output_type": "stream",
          "name": "stdout",
          "text": [
            "tensor([ 1., -1.,  1.,  1.,  1.])\n",
            "[1. 1. 1. 1. 1.]\n"
          ]
        }
      ]
    },
    {
      "cell_type": "markdown",
      "source": [
        "# 合成関数とPythonでの実装"
      ],
      "metadata": {
        "id": "aVzLD8BbT4bI"
      }
    },
    {
      "cell_type": "code",
      "source": [
        "def f(x):\n",
        "  return (2 * x**2 + 2)"
      ],
      "metadata": {
        "id": "U-TS7L9pNKen"
      },
      "execution_count": 11,
      "outputs": []
    },
    {
      "cell_type": "code",
      "source": [
        "x = np.arange(-2, 2.1, 0.25)\n",
        "print(x)"
      ],
      "metadata": {
        "id": "XcdiE69BUBGf",
        "outputId": "c9e85fed-6489-431b-b727-034cafa7999c",
        "colab": {
          "base_uri": "https://localhost:8080/"
        }
      },
      "execution_count": 13,
      "outputs": [
        {
          "output_type": "stream",
          "name": "stdout",
          "text": [
            "[-2.   -1.75 -1.5  -1.25 -1.   -0.75 -0.5  -0.25  0.    0.25  0.5   0.75\n",
            "  1.    1.25  1.5   1.75  2.  ]\n"
          ]
        }
      ]
    },
    {
      "cell_type": "code",
      "source": [
        "y = f(x)"
      ],
      "metadata": {
        "id": "U_wfWgf4UOUY"
      },
      "execution_count": 14,
      "outputs": []
    },
    {
      "cell_type": "code",
      "source": [
        "print(y)"
      ],
      "metadata": {
        "id": "lbafx4fYUTl0",
        "outputId": "fa027373-0b5e-480b-c8ea-bb337ebda9f5",
        "colab": {
          "base_uri": "https://localhost:8080/"
        }
      },
      "execution_count": 15,
      "outputs": [
        {
          "output_type": "stream",
          "name": "stdout",
          "text": [
            "[10.     8.125  6.5    5.125  4.     3.125  2.5    2.125  2.     2.125\n",
            "  2.5    3.125  4.     5.125  6.5    8.125 10.   ]\n"
          ]
        }
      ]
    },
    {
      "cell_type": "code",
      "source": [
        "#関数のグラフ表示\n",
        "plt.plot(x, y)\n",
        "plt.show()"
      ],
      "metadata": {
        "id": "urGt47JpUU6f",
        "outputId": "0493cd42-ea73-4ed5-cbde-6af6bbbbedab",
        "colab": {
          "base_uri": "https://localhost:8080/",
          "height": 377
        }
      },
      "execution_count": 17,
      "outputs": [
        {
          "output_type": "display_data",
          "data": {
            "text/plain": [
              "<Figure size 432x432 with 1 Axes>"
            ],
            "image/png": "[encoded data removed]"
          },
          "metadata": {
            "needs_background": "light"
          }
        }
      ]
    },
    {
      "cell_type": "code",
      "source": [
        "#３つの基本関数の定義\n",
        "def f1(x):\n",
        "  return(x**2)\n",
        "\n",
        "def f2(1):\n",
        "  return(2*x)\n",
        "\n",
        "def f3(x):\n",
        "  return(x+2)\n",
        "\n",
        "\n",
        "x1 = f1(x)\n",
        "x2 = f2(x1)\n",
        "y  = f3(x2)"
      ],
      "metadata": {
        "id": "Jb4p_HmzUauN"
      },
      "execution_count": 23,
      "outputs": []
    },
    {
      "cell_type": "code",
      "source": [
        "print(x)\n",
        "print(y)"
      ],
      "metadata": {
        "id": "iWyKjHDRVFyK",
        "outputId": "b9c5d8d5-64a3-4828-c23b-53a6f94bac34",
        "colab": {
          "base_uri": "https://localhost:8080/"
        }
      },
      "execution_count": 28,
      "outputs": [
        {
          "output_type": "stream",
          "name": "stdout",
          "text": [
            "[-2.   -1.75 -1.5  -1.25 -1.   -0.75 -0.5  -0.25  0.    0.25  0.5   0.75\n",
            "  1.    1.25  1.5   1.75  2.  ]\n",
            "[10.     8.125  6.5    5.125  4.     3.125  2.5    2.125  2.     2.125\n",
            "  2.5    3.125  4.     5.125  6.5    8.125 10.   ]\n"
          ]
        }
      ]
    },
    {
      "cell_type": "code",
      "source": [
        "#関数を微分する関数fdiffの定義\n",
        "def fdiff(f):\n",
        "  def diff(x):\n",
        "    h = 1e-6\n",
        "    return (f(x+h) - f(x-h)) / (2 * h)\n",
        "\n",
        "  return diff"
      ],
      "metadata": {
        "id": "SoM7o8aOVQzq"
      },
      "execution_count": 29,
      "outputs": []
    },
    {
      "cell_type": "code",
      "source": [
        "diff = fdiff(f)\n",
        "\n",
        "y_dash = diff(x)\n",
        "\n",
        "#結果確認\n",
        "print(y_dash)"
      ],
      "metadata": {
        "id": "A_sEyD_eWJmk",
        "outputId": "3944b845-6993-4795-b52a-bfee50117ccb",
        "colab": {
          "base_uri": "https://localhost:8080/"
        }
      },
      "execution_count": 30,
      "outputs": [
        {
          "output_type": "stream",
          "name": "stdout",
          "text": [
            "[-8. -7. -6. -5. -4. -3. -2. -1.  0.  1.  2.  3.  4.  5.  6.  7.  8.]\n"
          ]
        }
      ]
    },
    {
      "cell_type": "code",
      "source": [
        "plt.plot(x, y, label=r'y=f(x)', c='b')\n",
        "plt.plot(x, y_dash, label=r\"y=f'(x)\", c='k')\n",
        "plt.legend()\n",
        "plt.show()"
      ],
      "metadata": {
        "id": "Q-BTPeukWdtJ",
        "outputId": "6c53dafc-ba91-40f6-f7b6-1847a7ade444",
        "colab": {
          "base_uri": "https://localhost:8080/",
          "height": 377
        }
      },
      "execution_count": 31,
      "outputs": [
        {
          "output_type": "display_data",
          "data": {
            "text/plain": [
              "<Figure size 432x432 with 1 Axes>"
            ],
            "image/png": "[encoded data removed]"
          },
          "metadata": {
            "needs_background": "light"
          }
        }
      ]
    },
    {
      "cell_type": "code",
      "source": [
        "#シグモイド関数の定義\n",
        "def g(x):\n",
        "  return 1 / (1 + np.exp(-x))"
      ],
      "metadata": {
        "id": "rS5TrQjlXJnn"
      },
      "execution_count": 32,
      "outputs": []
    },
    {
      "cell_type": "code",
      "source": [
        "#シグモイド計算\n",
        "y = g(x)\n",
        "print(y)"
      ],
      "metadata": {
        "id": "wo6YvmT1XZyp",
        "outputId": "575ddf77-0872-4bcc-c5a3-240b31904015",
        "colab": {
          "base_uri": "https://localhost:8080/"
        }
      },
      "execution_count": 33,
      "outputs": [
        {
          "output_type": "stream",
          "name": "stdout",
          "text": [
            "[0.1192  0.14805 0.18243 0.2227  0.26894 0.32082 0.37754 0.43782 0.5\n",
            " 0.56218 0.62246 0.67918 0.73106 0.7773  0.81757 0.85195 0.8808 ]\n"
          ]
        }
      ]
    },
    {
      "cell_type": "code",
      "source": [
        "plt.plot(x, y)\n",
        "plt.show()"
      ],
      "metadata": {
        "id": "xOEs75iqXglN",
        "outputId": "f7e07665-5629-4ce2-a7c7-f17f6459021b",
        "colab": {
          "base_uri": "https://localhost:8080/",
          "height": 377
        }
      },
      "execution_count": 34,
      "outputs": [
        {
          "output_type": "display_data",
          "data": {
            "text/plain": [
              "<Figure size 432x432 with 1 Axes>"
            ],
            "image/png": "[encoded data removed]"
          },
          "metadata": {
            "needs_background": "light"
          }
        }
      ]
    },
    {
      "cell_type": "code",
      "source": [
        "diff = fdiff(g)\n",
        "y_dash = diff(x)\n",
        "print(y_dash)"
      ],
      "metadata": {
        "id": "bHLpdXYYXnvL",
        "outputId": "8423819b-00a9-4585-87fc-0a919c8d9479",
        "colab": {
          "base_uri": "https://localhost:8080/"
        }
      },
      "execution_count": 35,
      "outputs": [
        {
          "output_type": "stream",
          "name": "stdout",
          "text": [
            "[0.10499 0.12613 0.14915 0.1731  0.19661 0.21789 0.235   0.24613 0.25\n",
            " 0.24613 0.235   0.21789 0.19661 0.1731  0.14915 0.12613 0.10499]\n"
          ]
        }
      ]
    },
    {
      "cell_type": "code",
      "source": [
        "#結果のグラフ表示\n",
        "plt.plot(x, y, label=r'y=f(x)', c='b')\n",
        "plt.plot(x, y_dash, label=r\"y=f'(x)\", c='k')\n",
        "plt.legend()\n",
        "plt.show()"
      ],
      "metadata": {
        "id": "kkImOGhBX1yz",
        "outputId": "0b053cd8-0530-4ab8-fd0a-1ac450634a9a",
        "colab": {
          "base_uri": "https://localhost:8080/",
          "height": 377
        }
      },
      "execution_count": 36,
      "outputs": [
        {
          "output_type": "display_data",
          "data": {
            "text/plain": [
              "<Figure size 432x432 with 1 Axes>"
            ],
            "image/png": "[encoded data removed]"
          },
          "metadata": {
            "needs_background": "light"
          }
        }
      ]
    },
    {
      "cell_type": "code",
      "source": [
        ""
      ],
      "metadata": {
        "id": "Gruniwo5YNaY"
      },
      "execution_count": null,
      "outputs": []
    }
  ]
}