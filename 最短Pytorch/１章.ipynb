{
  "nbformat": 4,
  "nbformat_minor": 0,
  "metadata": {
    "colab": {
      "name": "最短Pytorchの導入.ipynb",
      "provenance": [],
      "authorship_tag": "ABX9TyOtYYSQxUDoyt70Q4jpqiwT",
      "include_colab_link": true
    },
    "kernelspec": {
      "name": "python3",
      "display_name": "Python 3"
    },
    "language_info": {
      "name": "python"
    }
  },
  "cells": [
    {
      "cell_type": "markdown",
      "metadata": {
        "id": "view-in-github",
        "colab_type": "text"
      },
      "source": [
        "<a href=\"https://colab.research.google.com/github/newstage75/ML_study/blob/master/%E6%9C%80%E7%9F%ADPytorch/%EF%BC%91%E7%AB%A0.ipynb\" target=\"_parent\"><img src=\"https://colab.research.google.com/assets/colab-badge.svg\" alt=\"Open In Colab\"/></a>"
      ]
    },
    {
      "cell_type": "markdown",
      "source": [
        "#お決まり部分\n",
        "最初の宣言"
      ],
      "metadata": {
        "id": "CEgOOTrGJU31"
      }
    },
    {
      "cell_type": "code",
      "execution_count": 3,
      "metadata": {
        "colab": {
          "base_uri": "https://localhost:8080/"
        },
        "id": "48AexnpDJAMO",
        "outputId": "a9099f59-555a-46dd-d3ae-f1199404ca08"
      },
      "outputs": [
        {
          "output_type": "stream",
          "name": "stdout",
          "text": [
            "Successfully installed japanize-matplotlib-1.1.3\n"
          ]
        }
      ],
      "source": [
        "# 必要ライブラリの導入\n",
        "\n",
        "!pip install japanize_matplotlib | tail -n 1"
      ]
    },
    {
      "cell_type": "code",
      "source": [
        "# 必要ライブラリのインポート\n",
        "\n",
        "%matplotlib inline\n",
        "import numpy as np\n",
        "import matplotlib.pyplot as plt\n",
        "import japanize_matplotlib"
      ],
      "metadata": {
        "id": "ghCJoyn3JbCd"
      },
      "execution_count": 4,
      "outputs": []
    },
    {
      "cell_type": "code",
      "source": [
        "# warning表示off\n",
        "import warnings\n",
        "warnings.simplefilter('ignore')\n",
        "\n",
        "# デフォルトフォントサイズ変更\n",
        "plt.rcParams['font.size'] = 14\n",
        "\n",
        "# デフォルトグラフサイズ変更\n",
        "plt.rcParams['figure.figsize'] = (6,6)\n",
        "\n",
        "# デフォルトで方眼表示ON\n",
        "plt.rcParams['axes.grid'] = True\n",
        "\n",
        "# numpyの表示桁数設定\n",
        "np.set_printoptions(suppress=True, precision=5)"
      ],
      "metadata": {
        "id": "TTSBA8aYJeL0"
      },
      "execution_count": 5,
      "outputs": []
    },
    {
      "cell_type": "code",
      "source": [
        "x = np.array([5, 7, 9])\n",
        "\n",
        "y = x\n",
        "\n",
        "print(x)\n",
        "print(y)"
      ],
      "metadata": {
        "id": "tIVVGgE4LOqQ",
        "outputId": "d7073ba2-8b6a-4f28-d9cf-5bd72e0da509",
        "colab": {
          "base_uri": "https://localhost:8080/"
        }
      },
      "execution_count": 6,
      "outputs": [
        {
          "output_type": "stream",
          "name": "stdout",
          "text": [
            "[5 7 9]\n",
            "[5 7 9]\n"
          ]
        }
      ]
    },
    {
      "cell_type": "code",
      "source": [
        "x[1] = -1\n",
        "\n",
        "print(x)\n",
        "print(y)"
      ],
      "metadata": {
        "id": "0zubHq7zLVsH",
        "outputId": "71f60125-af13-4c63-95d8-09365f04c9e8",
        "colab": {
          "base_uri": "https://localhost:8080/"
        }
      },
      "execution_count": 7,
      "outputs": [
        {
          "output_type": "stream",
          "name": "stdout",
          "text": [
            "[ 5 -1  9]\n",
            "[ 5 -1  9]\n"
          ]
        }
      ]
    },
    {
      "cell_type": "code",
      "source": [
        "#yも同時に変化して困る場合は、大乳児にcopy関数を利用する\n",
        "x = np.array([5, 7, 9])\n",
        "y = x.copy()\n",
        "\n",
        "#すると、xの特定の要素値の変更がyに影響しなくなる\n",
        "x[1] = -1\n",
        "\n",
        "print(x)\n",
        "print(y)"
      ],
      "metadata": {
        "id": "rGd0v3nkLnwR",
        "outputId": "ac11ae08-7848-4d86-e935-0c2070a15072",
        "colab": {
          "base_uri": "https://localhost:8080/"
        }
      },
      "execution_count": 8,
      "outputs": [
        {
          "output_type": "stream",
          "name": "stdout",
          "text": [
            "[ 5 -1  9]\n",
            "[5 7 9]\n"
          ]
        }
      ]
    },
    {
      "cell_type": "code",
      "source": [
        "import torch\n",
        "\n",
        "#x1:shape=[5]となるすべて値が１のテンソル\n",
        "x1 = torch.ones(5)\n",
        "\n",
        "print(x1)\n",
        "\n",
        "#x2:x1から生成したNumPy\n",
        "x2 = x1.data.numpy()\n",
        "\n",
        "#結果確認\n",
        "print(x2)"
      ],
      "metadata": {
        "id": "SBa0X7mlMEIJ",
        "outputId": "8d1ce1e7-df62-478d-d621-015b0ca6c540",
        "colab": {
          "base_uri": "https://localhost:8080/"
        }
      },
      "execution_count": 10,
      "outputs": [
        {
          "output_type": "stream",
          "name": "stdout",
          "text": [
            "tensor([1., 1., 1., 1., 1.])\n",
            "[1. 1. 1. 1. 1.]\n"
          ]
        }
      ]
    },
    {
      "cell_type": "code",
      "source": [
        "x1[1] = -1\n",
        "\n",
        "print(x1)\n",
        "print(x2)"
      ],
      "metadata": {
        "id": "3RZy4T-zMfY0",
        "outputId": "f1734175-be7f-4145-d19e-171fd735a3c8",
        "colab": {
          "base_uri": "https://localhost:8080/"
        }
      },
      "execution_count": 11,
      "outputs": [
        {
          "output_type": "stream",
          "name": "stdout",
          "text": [
            "tensor([ 1., -1.,  1.,  1.,  1.])\n",
            "[ 1. -1.  1.  1.  1.]\n"
          ]
        }
      ]
    },
    {
      "cell_type": "code",
      "source": [
        "#安全な方法\n",
        "\n",
        "#x1:テンソル\n",
        "x1 = torch.ones(5)\n",
        "\n",
        "#2:x1をcopyしたNumPy\n",
        "x2 = x1.data.numpy().copy()\n",
        "\n",
        "x1[1] = -1\n",
        "\n",
        "print(x1)\n",
        "print(x2)"
      ],
      "metadata": {
        "id": "jaAmAlB2MvKv",
        "outputId": "2aa43604-a1ea-4749-b374-764e7cbd14b4",
        "colab": {
          "base_uri": "https://localhost:8080/"
        }
      },
      "execution_count": 12,
      "outputs": [
        {
          "output_type": "stream",
          "name": "stdout",
          "text": [
            "tensor([ 1., -1.,  1.,  1.,  1.])\n",
            "[1. 1. 1. 1. 1.]\n"
          ]
        }
      ]
    },
    {
      "cell_type": "code",
      "source": [
        ""
      ],
      "metadata": {
        "id": "U-TS7L9pNKen"
      },
      "execution_count": null,
      "outputs": []
    }
  ]
}