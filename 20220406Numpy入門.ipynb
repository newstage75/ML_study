{
  "nbformat": 4,
  "nbformat_minor": 0,
  "metadata": {
    "colab": {
      "name": "20220406Numpy入門.ipynb",
      "provenance": [],
      "authorship_tag": "ABX9TyMrIXxJ74wTk1iHgULjq3Kb",
      "include_colab_link": true
    },
    "kernelspec": {
      "name": "python3",
      "display_name": "Python 3"
    },
    "language_info": {
      "name": "python"
    }
  },
  "cells": [
    {
      "cell_type": "markdown",
      "metadata": {
        "id": "view-in-github",
        "colab_type": "text"
      },
      "source": [
        "<a href=\"https://colab.research.google.com/github/newstage75/ML_study/blob/master/20220406Numpy%E5%85%A5%E9%96%80.ipynb\" target=\"_parent\"><img src=\"https://colab.research.google.com/assets/colab-badge.svg\" alt=\"Open In Colab\"/></a>"
      ]
    },
    {
      "cell_type": "markdown",
      "source": [
        "# 最短コースでわかるPytorchから"
      ],
      "metadata": {
        "id": "Bh1bPRjfC5b9"
      }
    },
    {
      "cell_type": "code",
      "execution_count": 1,
      "metadata": {
        "id": "lO7aEBlvCylz"
      },
      "outputs": [],
      "source": [
        "#ライブラリのインポート\n",
        "import numpy as np\n",
        "\n",
        "#NumPyの浮動小数点の表示精度\n",
        "np.set_printoptions(suppress=True, precision=5)"
      ]
    },
    {
      "cell_type": "code",
      "source": [
        "#array関数によるベクトル（１階配列）変数の定義\n",
        "n1 = np.array([1, 2, 3, 4, 5, 6, 7])\n",
        "\n",
        "#結果確認\n",
        "print(n1)\n",
        "\n",
        "#要素数確認\n",
        "print(n1.shape)\n",
        "\n",
        "#もう１つの方法\n",
        "print(len(n1))"
      ],
      "metadata": {
        "colab": {
          "base_uri": "https://localhost:8080/"
        },
        "id": "zJuiW8gkD0dX",
        "outputId": "7fad806d-f31c-49b3-ec80-09fd266365db"
      },
      "execution_count": 2,
      "outputs": [
        {
          "output_type": "stream",
          "name": "stdout",
          "text": [
            "[1 2 3 4 5 6 7]\n",
            "(7,)\n",
            "7\n"
          ]
        }
      ]
    },
    {
      "cell_type": "code",
      "source": [
        "#array関数による行列（２階配列）変数の定義\n",
        "n2 = np.array([\n",
        "    [1, 2, 3],\n",
        "    [4, 5, 6],\n",
        "    [7, 8, 9],\n",
        "    [10,11,12]\n",
        "])\n",
        "\n",
        "#結果確認\n",
        "print(n2)\n",
        "\n",
        "#要素数確認\n",
        "print(n2.shape)\n",
        "\n",
        "#もう一つの方法\n",
        "print(len(n2))"
      ],
      "metadata": {
        "colab": {
          "base_uri": "https://localhost:8080/"
        },
        "id": "L5YOT47KEMIQ",
        "outputId": "2155d4b4-3bbe-44d6-ca58-0b746403e410"
      },
      "execution_count": 3,
      "outputs": [
        {
          "output_type": "stream",
          "name": "stdout",
          "text": [
            "[[ 1  2  3]\n",
            " [ 4  5  6]\n",
            " [ 7  8  9]\n",
            " [10 11 12]]\n",
            "(4, 3)\n",
            "4\n"
          ]
        }
      ]
    },
    {
      "cell_type": "code",
      "source": [
        "#zeros関数\n",
        "n3 = np.zeros(5)\n",
        "print(n3)\n",
        "print(n3.shape)"
      ],
      "metadata": {
        "colab": {
          "base_uri": "https://localhost:8080/"
        },
        "id": "6EwYeY86E7sQ",
        "outputId": "726613fe-fecf-4ac4-a792-f056770a39ba"
      },
      "execution_count": 4,
      "outputs": [
        {
          "output_type": "stream",
          "name": "stdout",
          "text": [
            "[0. 0. 0. 0. 0.]\n",
            "(5,)\n"
          ]
        }
      ]
    },
    {
      "cell_type": "code",
      "source": [
        "#ones関数\n",
        "n4 = np.ones((2,3))\n",
        "\n",
        "#結果確認\n",
        "print(n4)\n",
        "\n",
        "#要素数確認\n",
        "print(n4.shape)"
      ],
      "metadata": {
        "colab": {
          "base_uri": "https://localhost:8080/"
        },
        "id": "-Ui0VxJ0FO0i",
        "outputId": "d008e9e2-6d7c-4fe9-bd2a-b3044c92f8cc"
      },
      "execution_count": 5,
      "outputs": [
        {
          "output_type": "stream",
          "name": "stdout",
          "text": [
            "[[1. 1. 1.]\n",
            " [1. 1. 1.]]\n",
            "(2, 3)\n"
          ]
        }
      ]
    },
    {
      "cell_type": "code",
      "source": [
        "#定数ではなく、乱数値により、NumPy変数を初期化設定\n",
        "n5 = np.random.randn(2,3,4)\n",
        "print(n5)\n",
        "print(n5.shape)"
      ],
      "metadata": {
        "colab": {
          "base_uri": "https://localhost:8080/"
        },
        "id": "Z2v1P7JzFZ4a",
        "outputId": "1f5161ef-0812-44ac-cde7-53360aac0da5"
      },
      "execution_count": 6,
      "outputs": [
        {
          "output_type": "stream",
          "name": "stdout",
          "text": [
            "[[[ 0.25594  1.80551 -1.54604  0.6791 ]\n",
            "  [ 0.1725   0.71188  1.27324  1.07008]\n",
            "  [-0.00736  2.43682 -2.43954  0.38768]]\n",
            "\n",
            " [[ 0.00765 -1.05289 -1.99222  2.33786]\n",
            "  [-0.2095   1.48951  1.21711  1.76053]\n",
            "  [ 1.46883  0.83095  0.62247 -0.64822]]]\n",
            "(2, 3, 4)\n"
          ]
        }
      ]
    },
    {
      "cell_type": "code",
      "source": [
        "#グラフ描画用の数値配列の生成\n",
        "n6 = np.linspace(-1, 1, 11)\n",
        "\n",
        "#結果確認\n",
        "print(n6)"
      ],
      "metadata": {
        "colab": {
          "base_uri": "https://localhost:8080/"
        },
        "id": "Y0_I0JbGFuLI",
        "outputId": "7c33ef2c-ea4b-4eef-f7b4-ae0efc35b0a4"
      },
      "execution_count": 7,
      "outputs": [
        {
          "output_type": "stream",
          "name": "stdout",
          "text": [
            "[-1.  -0.8 -0.6 -0.4 -0.2  0.   0.2  0.4  0.6  0.8  1. ]\n"
          ]
        }
      ]
    },
    {
      "cell_type": "code",
      "source": [
        "#arange関数によるグラフ描画用数値配列\n",
        "# 第二引数は「未満」であることに注意\n",
        "n7 = np.arange(-1, 1.2, 0.2)\n",
        "\n",
        "#結果確認\n",
        "print(n7)"
      ],
      "metadata": {
        "colab": {
          "base_uri": "https://localhost:8080/"
        },
        "id": "8WKNNpJXF-wB",
        "outputId": "002e8f0f-d3e8-4ea1-c17a-fd75287fb03f"
      },
      "execution_count": 8,
      "outputs": [
        {
          "output_type": "stream",
          "name": "stdout",
          "text": [
            "[-1.  -0.8 -0.6 -0.4 -0.2 -0.   0.2  0.4  0.6  0.8  1. ]\n"
          ]
        }
      ]
    },
    {
      "cell_type": "markdown",
      "source": [
        "##操作"
      ],
      "metadata": {
        "id": "6fjfvul0Gply"
      }
    },
    {
      "cell_type": "code",
      "source": [
        "#特定行、列の抽出(カンマより前は行の範囲を、カンマより後ろは０つの範囲を示す)\n",
        "\n",
        "#元の変数\n",
        "print(n2)\n",
        "\n",
        "print()\n",
        "\n",
        "#全ての行の０列を抽出\n",
        "n8 = n2[:,0]\n",
        "print(n8)"
      ],
      "metadata": {
        "colab": {
          "base_uri": "https://localhost:8080/"
        },
        "id": "BEk7BGxCGXhU",
        "outputId": "791aaf79-0d55-45a3-cd6c-c2e81936af6d"
      },
      "execution_count": 10,
      "outputs": [
        {
          "output_type": "stream",
          "name": "stdout",
          "text": [
            "[[ 1  2  3]\n",
            " [ 4  5  6]\n",
            " [ 7  8  9]\n",
            " [10 11 12]]\n",
            "\n",
            "[ 1  4  7 10]\n"
          ]
        }
      ]
    },
    {
      "cell_type": "markdown",
      "source": [
        "行要素：「：」<br>\n",
        "列要素:「0」"
      ],
      "metadata": {
        "id": "mjVEhvlmHSJ-"
      }
    },
    {
      "cell_type": "code",
      "source": [
        "#1行目と３行目を抽出\n",
        "#True/Falseの要素の配列で指定する\n",
        "n2_index = np.array([False, True, False, True])\n",
        "n9 = n2[n2_index]\n",
        "print(n9)"
      ],
      "metadata": {
        "colab": {
          "base_uri": "https://localhost:8080/"
        },
        "id": "CnnxTNxNHAc9",
        "outputId": "29e4f1ae-90c6-4603-8989-19aa4c585101"
      },
      "execution_count": 11,
      "outputs": [
        {
          "output_type": "stream",
          "name": "stdout",
          "text": [
            "[[ 4  5  6]\n",
            " [10 11 12]]\n"
          ]
        }
      ]
    },
    {
      "cell_type": "markdown",
      "source": [
        "Trueの列のみが抽出される。"
      ],
      "metadata": {
        "id": "r6w1na38Hxpp"
      }
    },
    {
      "cell_type": "code",
      "source": [
        "#reshape関数\n",
        "n10 = np.array(range(24))\n",
        "\n",
        "#結果確認\n",
        "print(n10)"
      ],
      "metadata": {
        "colab": {
          "base_uri": "https://localhost:8080/"
        },
        "id": "aybjR7K3HrHn",
        "outputId": "e7c96d4c-e87c-4047-f7f0-a1b222eff3db"
      },
      "execution_count": 13,
      "outputs": [
        {
          "output_type": "stream",
          "name": "stdout",
          "text": [
            "[ 0  1  2  3  4  5  6  7  8  9 10 11 12 13 14 15 16 17 18 19 20 21 22 23]\n"
          ]
        }
      ]
    },
    {
      "cell_type": "code",
      "source": [
        "#3×8の２階配列の変形\n",
        "n11 = n10.reshape(3, 8)\n",
        "#結果確認\n",
        "print(n11)"
      ],
      "metadata": {
        "colab": {
          "base_uri": "https://localhost:8080/"
        },
        "id": "KWB2oNY1H9_7",
        "outputId": "a0b452c0-8a4c-45b0-d3ba-72eb90a181d4"
      },
      "execution_count": 14,
      "outputs": [
        {
          "output_type": "stream",
          "name": "stdout",
          "text": [
            "[[ 0  1  2  3  4  5  6  7]\n",
            " [ 8  9 10 11 12 13 14 15]\n",
            " [16 17 18 19 20 21 22 23]]\n"
          ]
        }
      ]
    },
    {
      "cell_type": "code",
      "source": [
        "#reshapeは１箇所だけ「-1」値の設定が可能\n",
        "n12 = n10.reshape(2, -1, 4)\n",
        "\n",
        "#結果確認\n",
        "print(n12)"
      ],
      "metadata": {
        "id": "yjjBjz5RIc2l",
        "outputId": "d0e4bf32-0cf0-4666-8f03-10f7d0374926",
        "colab": {
          "base_uri": "https://localhost:8080/"
        }
      },
      "execution_count": 15,
      "outputs": [
        {
          "output_type": "stream",
          "name": "stdout",
          "text": [
            "[[[ 0  1  2  3]\n",
            "  [ 4  5  6  7]\n",
            "  [ 8  9 10 11]]\n",
            "\n",
            " [[12 13 14 15]\n",
            "  [16 17 18 19]\n",
            "  [20 21 22 23]]]\n"
          ]
        }
      ]
    },
    {
      "cell_type": "code",
      "source": [
        "print(n12.shape)"
      ],
      "metadata": {
        "id": "Z05laPpNIv0j",
        "outputId": "0bd7fd0d-21b0-49fc-b590-1ef196e69cd4",
        "colab": {
          "base_uri": "https://localhost:8080/"
        }
      },
      "execution_count": 16,
      "outputs": [
        {
          "output_type": "stream",
          "name": "stdout",
          "text": [
            "(2, 3, 4)\n"
          ]
        }
      ]
    },
    {
      "cell_type": "code",
      "source": [
        "#元々N要素のベクトルだった変数を「１行N列」の行列に変形する例\n",
        "print(n10.shape)\n",
        "\n",
        "n13 = n10.reshape(1, -1)\n",
        "\n",
        "#結果確認\n",
        "print(n13.shape)"
      ],
      "metadata": {
        "id": "C6ypizZ8I2Eg",
        "outputId": "13b0aaee-4f2b-4608-b8de-4f5a4edd5c80",
        "colab": {
          "base_uri": "https://localhost:8080/"
        }
      },
      "execution_count": 17,
      "outputs": [
        {
          "output_type": "stream",
          "name": "stdout",
          "text": [
            "(24,)\n",
            "(1, 24)\n"
          ]
        }
      ]
    },
    {
      "cell_type": "code",
      "source": [
        "# 転置行列\n",
        "print(n2)\n",
        "\n",
        "n14 = n2.T\n",
        "print(n14)"
      ],
      "metadata": {
        "id": "QaK9-5zVJN38",
        "outputId": "e26ae198-36db-459c-ea4b-8a5cc95452ef",
        "colab": {
          "base_uri": "https://localhost:8080/"
        }
      },
      "execution_count": 18,
      "outputs": [
        {
          "output_type": "stream",
          "name": "stdout",
          "text": [
            "[[ 1  2  3]\n",
            " [ 4  5  6]\n",
            " [ 7  8  9]\n",
            " [10 11 12]]\n",
            "[[ 1  4  7 10]\n",
            " [ 2  5  8 11]\n",
            " [ 3  6  9 12]]\n"
          ]
        }
      ]
    },
    {
      "cell_type": "code",
      "source": [
        "#軸の順番を入れ替える\n",
        "\n",
        "#元の変数\n",
        "print(n12.shape)\n",
        "print(n12)\n",
        "\n",
        "#軸を(1, 2, 0)の順に入れ替える\n",
        "n14 = np.transpose(n12, (1, 2, 0))\n",
        "\n",
        "#結果確認\n",
        "print(n14.shape)\n",
        "print(n14)"
      ],
      "metadata": {
        "id": "PbjSZkMRKJJg",
        "outputId": "98917f85-a841-4344-de25-ac86057e8966",
        "colab": {
          "base_uri": "https://localhost:8080/"
        }
      },
      "execution_count": 19,
      "outputs": [
        {
          "output_type": "stream",
          "name": "stdout",
          "text": [
            "(2, 3, 4)\n",
            "[[[ 0  1  2  3]\n",
            "  [ 4  5  6  7]\n",
            "  [ 8  9 10 11]]\n",
            "\n",
            " [[12 13 14 15]\n",
            "  [16 17 18 19]\n",
            "  [20 21 22 23]]]\n",
            "(3, 4, 2)\n",
            "[[[ 0 12]\n",
            "  [ 1 13]\n",
            "  [ 2 14]\n",
            "  [ 3 15]]\n",
            "\n",
            " [[ 4 16]\n",
            "  [ 5 17]\n",
            "  [ 6 18]\n",
            "  [ 7 19]]\n",
            "\n",
            " [[ 8 20]\n",
            "  [ 9 21]\n",
            "  [10 22]\n",
            "  [11 23]]]\n"
          ]
        }
      ]
    },
    {
      "cell_type": "code",
      "source": [
        "#行列の縦連結→vstack\n",
        "\n",
        "#行列の横連結→hstack"
      ],
      "metadata": {
        "id": "lTerpWesKokb"
      },
      "execution_count": null,
      "outputs": []
    }
  ]
}