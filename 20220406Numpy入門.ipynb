{
  "nbformat": 4,
  "nbformat_minor": 0,
  "metadata": {
    "colab": {
      "name": "20220406Numpy入門.ipynb",
      "provenance": [],
      "authorship_tag": "ABX9TyMbLrfJHyg2dEes2UMnvvz3",
      "include_colab_link": true
    },
    "kernelspec": {
      "name": "python3",
      "display_name": "Python 3"
    },
    "language_info": {
      "name": "python"
    }
  },
  "cells": [
    {
      "cell_type": "markdown",
      "metadata": {
        "id": "view-in-github",
        "colab_type": "text"
      },
      "source": [
        "<a href=\"https://colab.research.google.com/github/newstage75/ML_study/blob/master/20220406Numpy%E5%85%A5%E9%96%80.ipynb\" target=\"_parent\"><img src=\"https://colab.research.google.com/assets/colab-badge.svg\" alt=\"Open In Colab\"/></a>"
      ]
    },
    {
      "cell_type": "markdown",
      "source": [
        "# 最短コースでわかるPytorchから"
      ],
      "metadata": {
        "id": "Bh1bPRjfC5b9"
      }
    },
    {
      "cell_type": "code",
      "execution_count": 2,
      "metadata": {
        "id": "lO7aEBlvCylz"
      },
      "outputs": [],
      "source": [
        "#ライブラリのインポート\n",
        "import numpy as np\n",
        "\n",
        "#NumPyの浮動小数点の表示精度\n",
        "np.set_printoptions(suppress=True, precision=5)"
      ]
    },
    {
      "cell_type": "code",
      "source": [
        "#array関数によるベクトル（１階配列）変数の定義\n",
        "n1 = np.array([1, 2, 3, 4, 5, 6, 7])\n",
        "\n",
        "#結果確認\n",
        "print(n1)\n",
        "\n",
        "#要素数確認\n",
        "print(n1.shape)\n",
        "\n",
        "#もう１つの方法\n",
        "print(len(n1))"
      ],
      "metadata": {
        "colab": {
          "base_uri": "https://localhost:8080/"
        },
        "id": "zJuiW8gkD0dX",
        "outputId": "5aa77dd9-9837-4abb-d56b-d3341bc8f26d"
      },
      "execution_count": 3,
      "outputs": [
        {
          "output_type": "stream",
          "name": "stdout",
          "text": [
            "[1 2 3 4 5 6 7]\n",
            "(7,)\n",
            "7\n"
          ]
        }
      ]
    },
    {
      "cell_type": "code",
      "source": [
        "#array関数による行列（２階配列）変数の定義\n",
        "n2 = np.array([\n",
        "    [1, 2, 3],\n",
        "    [4, 5, 6],\n",
        "    [7, 8, 9],\n",
        "    [10,11,12]\n",
        "])\n",
        "\n",
        "#結果確認\n",
        "print(n2)\n",
        "\n",
        "#要素数確認\n",
        "print(n2.shape)\n",
        "\n",
        "#もう一つの方法\n",
        "print(len(n2))"
      ],
      "metadata": {
        "colab": {
          "base_uri": "https://localhost:8080/"
        },
        "id": "L5YOT47KEMIQ",
        "outputId": "aeca4f3a-2260-4a85-b7ec-41e9d61a7daf"
      },
      "execution_count": 4,
      "outputs": [
        {
          "output_type": "stream",
          "name": "stdout",
          "text": [
            "[[ 1  2  3]\n",
            " [ 4  5  6]\n",
            " [ 7  8  9]\n",
            " [10 11 12]]\n",
            "(4, 3)\n",
            "4\n"
          ]
        }
      ]
    },
    {
      "cell_type": "code",
      "source": [
        "#zeros関数\n",
        "n3 = np.zeros(5)\n",
        "print(n3)\n",
        "print(n3.shape)"
      ],
      "metadata": {
        "colab": {
          "base_uri": "https://localhost:8080/"
        },
        "id": "6EwYeY86E7sQ",
        "outputId": "a46272a5-09e4-42f9-9b1e-4370b2c1402f"
      },
      "execution_count": 5,
      "outputs": [
        {
          "output_type": "stream",
          "name": "stdout",
          "text": [
            "[0. 0. 0. 0. 0.]\n",
            "(5,)\n"
          ]
        }
      ]
    },
    {
      "cell_type": "code",
      "source": [
        "#ones関数\n",
        "n4 = np.ones((2,3))\n",
        "\n",
        "#結果確認\n",
        "print(n4)\n",
        "\n",
        "#要素数確認\n",
        "print(n4.shape)"
      ],
      "metadata": {
        "colab": {
          "base_uri": "https://localhost:8080/"
        },
        "id": "-Ui0VxJ0FO0i",
        "outputId": "c392f24b-0ba8-4bd4-c3c4-2664842f35d7"
      },
      "execution_count": 6,
      "outputs": [
        {
          "output_type": "stream",
          "name": "stdout",
          "text": [
            "[[1. 1. 1.]\n",
            " [1. 1. 1.]]\n",
            "(2, 3)\n"
          ]
        }
      ]
    },
    {
      "cell_type": "code",
      "source": [
        "#定数ではなく、乱数値により、NumPy変数を初期化設定\n",
        "n5 = np.random.randn(2,3,4)\n",
        "print(n5)\n",
        "print(n5.shape)"
      ],
      "metadata": {
        "colab": {
          "base_uri": "https://localhost:8080/"
        },
        "id": "Z2v1P7JzFZ4a",
        "outputId": "a359406e-45b1-424b-9a4e-36a8a0ffeecb"
      },
      "execution_count": 7,
      "outputs": [
        {
          "output_type": "stream",
          "name": "stdout",
          "text": [
            "[[[-0.78344  0.61074  1.61364 -0.58334]\n",
            "  [ 0.36596 -0.82103 -0.70397 -0.54202]\n",
            "  [-1.46257 -1.34361 -1.80218 -0.20113]]\n",
            "\n",
            " [[-0.31272  1.06599 -0.07725  0.71809]\n",
            "  [ 0.33436  0.73115  0.2549  -1.3984 ]\n",
            "  [ 0.02997  0.04765  0.57767 -1.67144]]]\n",
            "(2, 3, 4)\n"
          ]
        }
      ]
    },
    {
      "cell_type": "code",
      "source": [
        "#グラフ描画用の数値配列の生成\n",
        "n6 = np.linspace(-1, 1, 11)\n",
        "\n",
        "#結果確認\n",
        "print(n6)"
      ],
      "metadata": {
        "colab": {
          "base_uri": "https://localhost:8080/"
        },
        "id": "Y0_I0JbGFuLI",
        "outputId": "8d1c3ad6-d846-40c2-87af-e5ff972e98d3"
      },
      "execution_count": 8,
      "outputs": [
        {
          "output_type": "stream",
          "name": "stdout",
          "text": [
            "[-1.  -0.8 -0.6 -0.4 -0.2  0.   0.2  0.4  0.6  0.8  1. ]\n"
          ]
        }
      ]
    },
    {
      "cell_type": "code",
      "source": [
        "#arange関数によるグラフ描画用数値配列\n",
        "# 第二引数は「未満」であることに注意\n",
        "n7 = np.arange(-1, 1.2, 0.2)\n",
        "\n",
        "#結果確認\n",
        "print(n7)"
      ],
      "metadata": {
        "colab": {
          "base_uri": "https://localhost:8080/"
        },
        "id": "8WKNNpJXF-wB",
        "outputId": "19cbcb21-5400-419a-c889-18bda7791e10"
      },
      "execution_count": 9,
      "outputs": [
        {
          "output_type": "stream",
          "name": "stdout",
          "text": [
            "[-1.  -0.8 -0.6 -0.4 -0.2 -0.   0.2  0.4  0.6  0.8  1. ]\n"
          ]
        }
      ]
    },
    {
      "cell_type": "markdown",
      "source": [
        "##操作"
      ],
      "metadata": {
        "id": "6fjfvul0Gply"
      }
    },
    {
      "cell_type": "code",
      "source": [
        "#特定行、列の抽出(カンマより前は行の範囲を、カンマより後ろは０つの範囲を示す)\n",
        "\n",
        "#元の変数\n",
        "print(n2)\n",
        "\n",
        "print()\n",
        "\n",
        "#全ての行の０列を抽出\n",
        "n8 = n2[:,0]\n",
        "print(n8)"
      ],
      "metadata": {
        "colab": {
          "base_uri": "https://localhost:8080/"
        },
        "id": "BEk7BGxCGXhU",
        "outputId": "62890f7b-cc79-465e-be25-d697e232025b"
      },
      "execution_count": 10,
      "outputs": [
        {
          "output_type": "stream",
          "name": "stdout",
          "text": [
            "[[ 1  2  3]\n",
            " [ 4  5  6]\n",
            " [ 7  8  9]\n",
            " [10 11 12]]\n",
            "\n",
            "[ 1  4  7 10]\n"
          ]
        }
      ]
    },
    {
      "cell_type": "markdown",
      "source": [
        "行要素：「：」<br>\n",
        "列要素:「0」"
      ],
      "metadata": {
        "id": "mjVEhvlmHSJ-"
      }
    },
    {
      "cell_type": "code",
      "source": [
        "#1行目と３行目を抽出\n",
        "#True/Falseの要素の配列で指定する\n",
        "n2_index = np.array([False, True, False, True])\n",
        "n9 = n2[n2_index]\n",
        "print(n9)"
      ],
      "metadata": {
        "colab": {
          "base_uri": "https://localhost:8080/"
        },
        "id": "CnnxTNxNHAc9",
        "outputId": "8ca73ce6-a2d2-4809-c7e2-c5ae83d4df5b"
      },
      "execution_count": 11,
      "outputs": [
        {
          "output_type": "stream",
          "name": "stdout",
          "text": [
            "[[ 4  5  6]\n",
            " [10 11 12]]\n"
          ]
        }
      ]
    },
    {
      "cell_type": "markdown",
      "source": [
        "Trueの列のみが抽出される。"
      ],
      "metadata": {
        "id": "r6w1na38Hxpp"
      }
    },
    {
      "cell_type": "code",
      "source": [
        "#reshape関数\n",
        "n10 = np.array(range(24))\n",
        "\n",
        "#結果確認\n",
        "print(n10)"
      ],
      "metadata": {
        "colab": {
          "base_uri": "https://localhost:8080/"
        },
        "id": "aybjR7K3HrHn",
        "outputId": "c284ae31-6cb3-4a9c-eb01-0e0e063fa100"
      },
      "execution_count": 12,
      "outputs": [
        {
          "output_type": "stream",
          "name": "stdout",
          "text": [
            "[ 0  1  2  3  4  5  6  7  8  9 10 11 12 13 14 15 16 17 18 19 20 21 22 23]\n"
          ]
        }
      ]
    },
    {
      "cell_type": "code",
      "source": [
        "#3×8の２階配列の変形\n",
        "n11 = n10.reshape(3, 8)\n",
        "#結果確認\n",
        "print(n11)"
      ],
      "metadata": {
        "colab": {
          "base_uri": "https://localhost:8080/"
        },
        "id": "KWB2oNY1H9_7",
        "outputId": "fb7c23dd-9787-4a03-c80a-a7cacefd00f8"
      },
      "execution_count": 13,
      "outputs": [
        {
          "output_type": "stream",
          "name": "stdout",
          "text": [
            "[[ 0  1  2  3  4  5  6  7]\n",
            " [ 8  9 10 11 12 13 14 15]\n",
            " [16 17 18 19 20 21 22 23]]\n"
          ]
        }
      ]
    },
    {
      "cell_type": "code",
      "source": [
        "#reshapeは１箇所だけ「-1」値の設定が可能\n",
        "n12 = n10.reshape(2, -1, 4)\n",
        "\n",
        "#結果確認\n",
        "print(n12)"
      ],
      "metadata": {
        "id": "yjjBjz5RIc2l",
        "outputId": "2ab2e022-3b17-4b62-c68d-d78c8934976d",
        "colab": {
          "base_uri": "https://localhost:8080/"
        }
      },
      "execution_count": 14,
      "outputs": [
        {
          "output_type": "stream",
          "name": "stdout",
          "text": [
            "[[[ 0  1  2  3]\n",
            "  [ 4  5  6  7]\n",
            "  [ 8  9 10 11]]\n",
            "\n",
            " [[12 13 14 15]\n",
            "  [16 17 18 19]\n",
            "  [20 21 22 23]]]\n"
          ]
        }
      ]
    },
    {
      "cell_type": "code",
      "source": [
        "print(n12.shape)"
      ],
      "metadata": {
        "id": "Z05laPpNIv0j",
        "outputId": "39502b01-760b-43a6-a133-c58fa25357a5",
        "colab": {
          "base_uri": "https://localhost:8080/"
        }
      },
      "execution_count": 15,
      "outputs": [
        {
          "output_type": "stream",
          "name": "stdout",
          "text": [
            "(2, 3, 4)\n"
          ]
        }
      ]
    },
    {
      "cell_type": "code",
      "source": [
        "#元々N要素のベクトルだった変数を「１行N列」の行列に変形する例\n",
        "print(n10.shape)\n",
        "\n",
        "n13 = n10.reshape(1, -1)\n",
        "\n",
        "#結果確認\n",
        "print(n13.shape)"
      ],
      "metadata": {
        "id": "C6ypizZ8I2Eg",
        "outputId": "bf21bf49-ea2d-4391-ebe9-d96122ab68a5",
        "colab": {
          "base_uri": "https://localhost:8080/"
        }
      },
      "execution_count": 16,
      "outputs": [
        {
          "output_type": "stream",
          "name": "stdout",
          "text": [
            "(24,)\n",
            "(1, 24)\n"
          ]
        }
      ]
    },
    {
      "cell_type": "code",
      "source": [
        "# 転置行列\n",
        "print(n2)\n",
        "\n",
        "n14 = n2.T\n",
        "print(n14)"
      ],
      "metadata": {
        "id": "QaK9-5zVJN38",
        "outputId": "0f44c846-c087-43f7-fa01-dd5dacadf16f",
        "colab": {
          "base_uri": "https://localhost:8080/"
        }
      },
      "execution_count": 17,
      "outputs": [
        {
          "output_type": "stream",
          "name": "stdout",
          "text": [
            "[[ 1  2  3]\n",
            " [ 4  5  6]\n",
            " [ 7  8  9]\n",
            " [10 11 12]]\n",
            "[[ 1  4  7 10]\n",
            " [ 2  5  8 11]\n",
            " [ 3  6  9 12]]\n"
          ]
        }
      ]
    },
    {
      "cell_type": "code",
      "source": [
        "#軸の順番を入れ替える\n",
        "\n",
        "#元の変数\n",
        "print(n12.shape)\n",
        "print(n12)\n",
        "\n",
        "#軸を(1, 2, 0)の順に入れ替える\n",
        "n14 = np.transpose(n12, (1, 2, 0))\n",
        "\n",
        "#結果確認\n",
        "print(n14.shape)\n",
        "print(n14)"
      ],
      "metadata": {
        "id": "PbjSZkMRKJJg",
        "outputId": "c4c2238d-769c-4703-a38c-3978af3ac355",
        "colab": {
          "base_uri": "https://localhost:8080/"
        }
      },
      "execution_count": 18,
      "outputs": [
        {
          "output_type": "stream",
          "name": "stdout",
          "text": [
            "(2, 3, 4)\n",
            "[[[ 0  1  2  3]\n",
            "  [ 4  5  6  7]\n",
            "  [ 8  9 10 11]]\n",
            "\n",
            " [[12 13 14 15]\n",
            "  [16 17 18 19]\n",
            "  [20 21 22 23]]]\n",
            "(3, 4, 2)\n",
            "[[[ 0 12]\n",
            "  [ 1 13]\n",
            "  [ 2 14]\n",
            "  [ 3 15]]\n",
            "\n",
            " [[ 4 16]\n",
            "  [ 5 17]\n",
            "  [ 6 18]\n",
            "  [ 7 19]]\n",
            "\n",
            " [[ 8 20]\n",
            "  [ 9 21]\n",
            "  [10 22]\n",
            "  [11 23]]]\n"
          ]
        }
      ]
    },
    {
      "cell_type": "code",
      "source": [
        "#行列の縦連結→vstack\n",
        "\n",
        "#行列の横連結→hstack\n",
        "\n",
        "\n",
        "#２行３列\n",
        "n16 = np.array(range(1, 7)).reshape(2,3)\n",
        "n17 = np.array(range(7, 13)).reshape(2,3)\n",
        "\n",
        "#3要素のベクトル\n",
        "n18 = np.array(range(14,17))\n",
        "\n",
        "#2要素のベクトル\n",
        "n19 = np.array(range(17,19))\n",
        "\n",
        "print(n16)\n",
        "print(n17)\n",
        "print(n18)\n",
        "print(n19)"
      ],
      "metadata": {
        "id": "lTerpWesKokb",
        "colab": {
          "base_uri": "https://localhost:8080/"
        },
        "outputId": "416ee973-b2ba-4eb5-9595-c3cbc08accb0"
      },
      "execution_count": 19,
      "outputs": [
        {
          "output_type": "stream",
          "name": "stdout",
          "text": [
            "[[1 2 3]\n",
            " [4 5 6]]\n",
            "[[ 7  8  9]\n",
            " [10 11 12]]\n",
            "[14 15 16]\n",
            "[17 18]\n"
          ]
        }
      ]
    },
    {
      "cell_type": "code",
      "source": [
        "#行同士の縦結合\n",
        "n20 = np.vstack([n16, n17])\n",
        "print(n20)"
      ],
      "metadata": {
        "colab": {
          "base_uri": "https://localhost:8080/"
        },
        "id": "RoI1Nz2nLeTy",
        "outputId": "c91696b3-3aa0-436a-d107-2ae6eb406f3a"
      },
      "execution_count": 20,
      "outputs": [
        {
          "output_type": "stream",
          "name": "stdout",
          "text": [
            "[[ 1  2  3]\n",
            " [ 4  5  6]\n",
            " [ 7  8  9]\n",
            " [10 11 12]]\n"
          ]
        }
      ]
    },
    {
      "cell_type": "code",
      "source": [
        "#行列とベクトル間の縦結合\n",
        "n21 = np.vstack([n16, n18])\n",
        "print(n21)"
      ],
      "metadata": {
        "colab": {
          "base_uri": "https://localhost:8080/"
        },
        "id": "C2u99pVsL1X3",
        "outputId": "f6bd8812-0a98-4209-a635-729129b46ae3"
      },
      "execution_count": 21,
      "outputs": [
        {
          "output_type": "stream",
          "name": "stdout",
          "text": [
            "[[ 1  2  3]\n",
            " [ 4  5  6]\n",
            " [14 15 16]]\n"
          ]
        }
      ]
    },
    {
      "cell_type": "code",
      "source": [
        "#行列同士の横連結\n",
        "n22 = np.hstack([n16, n17])\n",
        "print(n22)\n",
        "\n",
        "#行列とベクトル間の横連結\n",
        "#ベクトルのshapeを(N, 1)形式にする\n",
        "n23 = n19.reshape(-1, 1)\n",
        "n24 = np.hstack([n16, n23])\n",
        "print(n24)"
      ],
      "metadata": {
        "colab": {
          "base_uri": "https://localhost:8080/"
        },
        "id": "GdP59-TbL_YV",
        "outputId": "1eadf848-1502-4e82-dd72-56148a920f28"
      },
      "execution_count": 22,
      "outputs": [
        {
          "output_type": "stream",
          "name": "stdout",
          "text": [
            "[[ 1  2  3  7  8  9]\n",
            " [ 4  5  6 10 11 12]]\n",
            "[[ 1  2  3 17]\n",
            " [ 4  5  6 18]]\n"
          ]
        }
      ]
    },
    {
      "cell_type": "markdown",
      "source": [
        "##演算"
      ],
      "metadata": {
        "id": "25FHcsROM7Sc"
      }
    },
    {
      "cell_type": "markdown",
      "source": [
        "NumPyの便利な点の１つは、ループ処理をせずに、ベクトルや配列間の計算ができること。"
      ],
      "metadata": {
        "id": "AAgAD5v2NDTe"
      }
    },
    {
      "cell_type": "code",
      "source": [
        "#演算元変数\n",
        "print(n16)\n",
        "print(n17)\n",
        "\n",
        "#行列間の演算\n",
        "n25 = n16 + n17\n",
        "\n",
        "#結果の確認\n",
        "print(n25)"
      ],
      "metadata": {
        "colab": {
          "base_uri": "https://localhost:8080/"
        },
        "id": "-Hj7P95jMgX-",
        "outputId": "514fc6b6-85c7-4d41-d92e-37f0ce51bd24"
      },
      "execution_count": 23,
      "outputs": [
        {
          "output_type": "stream",
          "name": "stdout",
          "text": [
            "[[1 2 3]\n",
            " [4 5 6]]\n",
            "[[ 7  8  9]\n",
            " [10 11 12]]\n",
            "[[ 8 10 12]\n",
            " [14 16 18]]\n"
          ]
        }
      ]
    },
    {
      "cell_type": "markdown",
      "source": [
        "###ブロードキャスト機能"
      ],
      "metadata": {
        "id": "ZXGDw_S6Na24"
      }
    },
    {
      "cell_type": "code",
      "source": [
        "print(n1)\n",
        "\n",
        "n22 = n1 -4\n",
        "\n",
        "print(n22)"
      ],
      "metadata": {
        "id": "wryiRVf2NdoS",
        "outputId": "a783e3af-716f-4d2f-e225-28cb8982e964",
        "colab": {
          "base_uri": "https://localhost:8080/"
        }
      },
      "execution_count": 24,
      "outputs": [
        {
          "output_type": "stream",
          "name": "stdout",
          "text": [
            "[1 2 3 4 5 6 7]\n",
            "[-3 -2 -1  0  1  2  3]\n"
          ]
        }
      ]
    },
    {
      "cell_type": "markdown",
      "source": [
        "###ユニバーサル関数"
      ],
      "metadata": {
        "id": "qznpnSgANrfg"
      }
    },
    {
      "cell_type": "code",
      "source": [
        "#xの配列の準備(np.piは円周率Πを表すうNumPyの定数)\n",
        "x = np.linspace(0, 2*np.pi, 25)\n",
        "print(x)"
      ],
      "metadata": {
        "id": "UhTmn_-xNmrZ",
        "outputId": "6f851f67-a1a9-45d5-e0ae-b3f28d836ea2",
        "colab": {
          "base_uri": "https://localhost:8080/"
        }
      },
      "execution_count": 25,
      "outputs": [
        {
          "output_type": "stream",
          "name": "stdout",
          "text": [
            "[0.      0.2618  0.5236  0.7854  1.0472  1.309   1.5708  1.8326  2.0944\n",
            " 2.35619 2.61799 2.87979 3.14159 3.40339 3.66519 3.92699 4.18879 4.45059\n",
            " 4.71239 4.97419 5.23599 5.49779 5.75959 6.02139 6.28319]\n"
          ]
        }
      ]
    },
    {
      "cell_type": "code",
      "source": [
        "y = np.sin(x)\n",
        "print(y)"
      ],
      "metadata": {
        "id": "br6TNHS2N87E",
        "outputId": "d8a73367-5c79-4751-b465-8d1457ec27ab",
        "colab": {
          "base_uri": "https://localhost:8080/"
        }
      },
      "execution_count": 26,
      "outputs": [
        {
          "output_type": "stream",
          "name": "stdout",
          "text": [
            "[ 0.       0.25882  0.5      0.70711  0.86603  0.96593  1.       0.96593\n",
            "  0.86603  0.70711  0.5      0.25882  0.      -0.25882 -0.5     -0.70711\n",
            " -0.86603 -0.96593 -1.      -0.96593 -0.86603 -0.70711 -0.5     -0.25882\n",
            " -0.     ]\n"
          ]
        }
      ]
    },
    {
      "cell_type": "markdown",
      "source": [
        "###集約関数"
      ],
      "metadata": {
        "id": "cyrJpkneOTdw"
      }
    },
    {
      "cell_type": "markdown",
      "source": [
        "配列をグループとして見て、グループ全体に対して１つの結果を返す関数。"
      ],
      "metadata": {
        "id": "He99qXXpOZOw"
      }
    },
    {
      "cell_type": "code",
      "source": [
        "#集約関数\n",
        "print(f'元の変数: {n1} ')\n",
        "\n",
        "#和の計算sum関数\n",
        "n23 = np.sum(n1)\n",
        "print(f'和:{n23}')\n",
        "\n",
        "#平均の計算mean関数\n",
        "n24 = np.mean(n1)\n",
        "print(f'平均:{n24}')\n",
        "\n",
        "#最大の計算max関数\n",
        "n25 = np.max(n1)\n",
        "print(f'最大値: {n25}')\n",
        "\n",
        "#最小の計算min関数\n",
        "#こういう書き方もできる\n",
        "n26 = n1.min()\n",
        "print(f'最小値: {n26}')"
      ],
      "metadata": {
        "id": "tw_Y34IwOH8b",
        "outputId": "7b240919-d4ef-4882-d84e-16dcce1362ce",
        "colab": {
          "base_uri": "https://localhost:8080/"
        }
      },
      "execution_count": 27,
      "outputs": [
        {
          "output_type": "stream",
          "name": "stdout",
          "text": [
            "元の変数: [1 2 3 4 5 6 7] \n",
            "和:28\n",
            "平均:4.0\n",
            "最大値: 7\n",
            "最小値: 1\n"
          ]
        }
      ]
    },
    {
      "cell_type": "code",
      "source": [
        ""
      ],
      "metadata": {
        "id": "_eJ_t4pYPRi8"
      },
      "execution_count": null,
      "outputs": []
    }
  ]
}