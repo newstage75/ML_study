{
  "nbformat": 4,
  "nbformat_minor": 0,
  "metadata": {
    "colab": {
      "name": "20220406Numpy入門.ipynb",
      "provenance": [],
      "authorship_tag": "ABX9TyPxE08x5nyQelgfrv6UKCg1",
      "include_colab_link": true
    },
    "kernelspec": {
      "name": "python3",
      "display_name": "Python 3"
    },
    "language_info": {
      "name": "python"
    }
  },
  "cells": [
    {
      "cell_type": "markdown",
      "metadata": {
        "id": "view-in-github",
        "colab_type": "text"
      },
      "source": [
        "<a href=\"https://colab.research.google.com/github/newstage75/ML_study/blob/master/20220406Numpy%E5%85%A5%E9%96%80.ipynb\" target=\"_parent\"><img src=\"https://colab.research.google.com/assets/colab-badge.svg\" alt=\"Open In Colab\"/></a>"
      ]
    },
    {
      "cell_type": "markdown",
      "source": [
        "# 最短コースでわかるPytorchから"
      ],
      "metadata": {
        "id": "Bh1bPRjfC5b9"
      }
    },
    {
      "cell_type": "code",
      "execution_count": 1,
      "metadata": {
        "id": "lO7aEBlvCylz"
      },
      "outputs": [],
      "source": [
        "#ライブラリのインポート\n",
        "import numpy as np\n",
        "\n",
        "#NumPyの浮動小数点の表示精度\n",
        "np.set_printoptions(suppress=True, precision=5)"
      ]
    },
    {
      "cell_type": "code",
      "source": [
        "#array関数によるベクトル（１階配列）変数の定義\n",
        "n1 = np.array([1, 2, 3, 4, 5, 6, 7])\n",
        "\n",
        "#結果確認\n",
        "print(n1)\n",
        "\n",
        "#要素数確認\n",
        "print(n1.shape)\n",
        "\n",
        "#もう１つの方法\n",
        "print(len(n1))"
      ],
      "metadata": {
        "id": "zJuiW8gkD0dX",
        "outputId": "7fad806d-f31c-49b3-ec80-09fd266365db",
        "colab": {
          "base_uri": "https://localhost:8080/"
        }
      },
      "execution_count": 2,
      "outputs": [
        {
          "output_type": "stream",
          "name": "stdout",
          "text": [
            "[1 2 3 4 5 6 7]\n",
            "(7,)\n",
            "7\n"
          ]
        }
      ]
    },
    {
      "cell_type": "code",
      "source": [
        "#array関数による行列（２階配列）変数の定義\n",
        "n2 = np.array([\n",
        "    [1, 2, 3],\n",
        "    [4, 5, 6],\n",
        "    [7, 8, 9],\n",
        "    [10,11,12]\n",
        "])\n",
        "\n",
        "#結果確認\n",
        "print(n2)\n",
        "\n",
        "#要素数確認\n",
        "print(n2.shape)\n",
        "\n",
        "#もう一つの方法\n",
        "print(len(n2))"
      ],
      "metadata": {
        "id": "L5YOT47KEMIQ",
        "outputId": "2155d4b4-3bbe-44d6-ca58-0b746403e410",
        "colab": {
          "base_uri": "https://localhost:8080/"
        }
      },
      "execution_count": 3,
      "outputs": [
        {
          "output_type": "stream",
          "name": "stdout",
          "text": [
            "[[ 1  2  3]\n",
            " [ 4  5  6]\n",
            " [ 7  8  9]\n",
            " [10 11 12]]\n",
            "(4, 3)\n",
            "4\n"
          ]
        }
      ]
    },
    {
      "cell_type": "code",
      "source": [
        "#zeros関数\n",
        "n3 = np.zeros(5)\n",
        "print(n3)\n",
        "print(n3.shape)"
      ],
      "metadata": {
        "id": "6EwYeY86E7sQ",
        "outputId": "726613fe-fecf-4ac4-a792-f056770a39ba",
        "colab": {
          "base_uri": "https://localhost:8080/"
        }
      },
      "execution_count": 4,
      "outputs": [
        {
          "output_type": "stream",
          "name": "stdout",
          "text": [
            "[0. 0. 0. 0. 0.]\n",
            "(5,)\n"
          ]
        }
      ]
    },
    {
      "cell_type": "code",
      "source": [
        "#ones関数\n",
        "n4 = np.ones((2,3))\n",
        "\n",
        "#結果確認\n",
        "print(n4)\n",
        "\n",
        "#要素数確認\n",
        "print(n4.shape)"
      ],
      "metadata": {
        "id": "-Ui0VxJ0FO0i",
        "outputId": "d008e9e2-6d7c-4fe9-bd2a-b3044c92f8cc",
        "colab": {
          "base_uri": "https://localhost:8080/"
        }
      },
      "execution_count": 5,
      "outputs": [
        {
          "output_type": "stream",
          "name": "stdout",
          "text": [
            "[[1. 1. 1.]\n",
            " [1. 1. 1.]]\n",
            "(2, 3)\n"
          ]
        }
      ]
    },
    {
      "cell_type": "code",
      "source": [
        "#定数ではなく、乱数値により、NumPy変数を初期化設定\n",
        "n5 = np.random.randn(2,3,4)\n",
        "print(n5)\n",
        "print(n5.shape)"
      ],
      "metadata": {
        "id": "Z2v1P7JzFZ4a",
        "outputId": "1f5161ef-0812-44ac-cde7-53360aac0da5",
        "colab": {
          "base_uri": "https://localhost:8080/"
        }
      },
      "execution_count": 6,
      "outputs": [
        {
          "output_type": "stream",
          "name": "stdout",
          "text": [
            "[[[ 0.25594  1.80551 -1.54604  0.6791 ]\n",
            "  [ 0.1725   0.71188  1.27324  1.07008]\n",
            "  [-0.00736  2.43682 -2.43954  0.38768]]\n",
            "\n",
            " [[ 0.00765 -1.05289 -1.99222  2.33786]\n",
            "  [-0.2095   1.48951  1.21711  1.76053]\n",
            "  [ 1.46883  0.83095  0.62247 -0.64822]]]\n",
            "(2, 3, 4)\n"
          ]
        }
      ]
    },
    {
      "cell_type": "code",
      "source": [
        "#グラフ描画用の数値配列の生成\n",
        "n6 = np.linspace(-1, 1, 11)\n",
        "\n",
        "#結果確認\n",
        "print(n6)"
      ],
      "metadata": {
        "id": "Y0_I0JbGFuLI",
        "outputId": "7c33ef2c-ea4b-4eef-f7b4-ae0efc35b0a4",
        "colab": {
          "base_uri": "https://localhost:8080/"
        }
      },
      "execution_count": 7,
      "outputs": [
        {
          "output_type": "stream",
          "name": "stdout",
          "text": [
            "[-1.  -0.8 -0.6 -0.4 -0.2  0.   0.2  0.4  0.6  0.8  1. ]\n"
          ]
        }
      ]
    },
    {
      "cell_type": "code",
      "source": [
        "#arange関数によるグラフ描画用数値配列\n",
        "# 第二引数は「未満」であることに注意\n",
        "n7 = np.arange(-1, 1.2, 0.2)\n",
        "\n",
        "#結果確認\n",
        "print(n7)"
      ],
      "metadata": {
        "id": "8WKNNpJXF-wB",
        "outputId": "002e8f0f-d3e8-4ea1-c17a-fd75287fb03f",
        "colab": {
          "base_uri": "https://localhost:8080/"
        }
      },
      "execution_count": 8,
      "outputs": [
        {
          "output_type": "stream",
          "name": "stdout",
          "text": [
            "[-1.  -0.8 -0.6 -0.4 -0.2 -0.   0.2  0.4  0.6  0.8  1. ]\n"
          ]
        }
      ]
    },
    {
      "cell_type": "code",
      "source": [
        ""
      ],
      "metadata": {
        "id": "BEk7BGxCGXhU"
      },
      "execution_count": null,
      "outputs": []
    }
  ]
}