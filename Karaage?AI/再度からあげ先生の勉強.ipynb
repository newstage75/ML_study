{
  "nbformat": 4,
  "nbformat_minor": 0,
  "metadata": {
    "colab": {
      "name": "再度からあげ先生の勉強.ipynb",
      "provenance": [],
      "authorship_tag": "ABX9TyPsEjMurHoZ46S46cIrmax9",
      "include_colab_link": true
    },
    "kernelspec": {
      "name": "python3",
      "display_name": "Python 3"
    },
    "language_info": {
      "name": "python"
    }
  },
  "cells": [
    {
      "cell_type": "markdown",
      "metadata": {
        "id": "view-in-github",
        "colab_type": "text"
      },
      "source": [
        "<a href=\"https://colab.research.google.com/github/newstage75/ML_study/blob/master/Karaage%3FAI/%E5%86%8D%E5%BA%A6%E3%81%8B%E3%82%89%E3%81%82%E3%81%92%E5%85%88%E7%94%9F%E3%81%AE%E5%8B%89%E5%BC%B7.ipynb\" target=\"_parent\"><img src=\"https://colab.research.google.com/assets/colab-badge.svg\" alt=\"Open In Colab\"/></a>"
      ]
    },
    {
      "cell_type": "code",
      "execution_count": null,
      "metadata": {
        "id": "l4ohl9DYlPaX"
      },
      "outputs": [],
      "source": [
        ""
      ]
    }
  ]
}