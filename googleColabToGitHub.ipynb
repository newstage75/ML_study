{
  "nbformat": 4,
  "nbformat_minor": 0,
  "metadata": {
    "colab": {
      "name": "googleColabToGitHub.ipynb",
      "provenance": [],
      "authorship_tag": "ABX9TyPy5gx3lZfs044DJBZYS/V0",
      "include_colab_link": true
    },
    "kernelspec": {
      "name": "python3",
      "display_name": "Python 3"
    },
    "language_info": {
      "name": "python"
    }
  },
  "cells": [
    {
      "cell_type": "markdown",
      "metadata": {
        "id": "view-in-github",
        "colab_type": "text"
      },
      "source": [
        "<a href=\"https://colab.research.google.com/github/newstage75/ML_study/blob/master/googleColabToGitHub.ipynb\" target=\"_parent\"><img src=\"https://colab.research.google.com/assets/colab-badge.svg\" alt=\"Open In Colab\"/></a>"
      ]
    },
    {
      "cell_type": "markdown",
      "source": [
        "##google colaboratoryからgithubに保存するまでのテストです。"
      ],
      "metadata": {
        "id": "sHRRs70972qQ"
      }
    },
    {
      "cell_type": "code",
      "source": [
        "print(\"Hello my github!\")"
      ],
      "metadata": {
        "colab": {
          "base_uri": "https://localhost:8080/"
        },
        "id": "4mWSsJWC8Gj_",
        "outputId": "a1198e38-3204-4290-fa0c-5b6807f91b78"
      },
      "execution_count": 1,
      "outputs": [
        {
          "output_type": "stream",
          "name": "stdout",
          "text": [
            "Hello my github!\n"
          ]
        }
      ]
    }
  ]
}