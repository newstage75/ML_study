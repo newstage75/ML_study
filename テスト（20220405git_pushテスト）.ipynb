{
  "nbformat": 4,
  "nbformat_minor": 0,
  "metadata": {
    "colab": {
      "name": "テスト（20220405git pushテスト）.ipynb",
      "provenance": [],
      "authorship_tag": "ABX9TyOIdQWxaf4GmybCixkeKGr9",
      "include_colab_link": true
    },
    "kernelspec": {
      "name": "python3",
      "display_name": "Python 3"
    },
    "language_info": {
      "name": "python"
    }
  },
  "cells": [
    {
      "cell_type": "markdown",
      "metadata": {
        "id": "view-in-github",
        "colab_type": "text"
      },
      "source": [
        "<a href=\"https://colab.research.google.com/github/newstage75/ML_study/blob/master/%E3%83%86%E3%82%B9%E3%83%88%EF%BC%8820220405git_push%E3%83%86%E3%82%B9%E3%83%88%EF%BC%89.ipynb\" target=\"_parent\"><img src=\"https://colab.research.google.com/assets/colab-badge.svg\" alt=\"Open In Colab\"/></a>"
      ]
    },
    {
      "cell_type": "markdown",
      "source": [
        "## GoggleColaboのシートをgit pushするテスト\n",
        "\n",
        "久々に行うため、確認もふくめて"
      ],
      "metadata": {
        "id": "wUH4zfZ_Ex1-"
      }
    },
    {
      "cell_type": "code",
      "source": [
        "# 変更\n",
        "print(20*20*20)"
      ],
      "metadata": {
        "id": "kdvyg2IZGB6u",
        "outputId": "1674cbd9-2586-4905-a8cf-f6d43331803f",
        "colab": {
          "base_uri": "https://localhost:8080/"
        }
      },
      "execution_count": 2,
      "outputs": [
        {
          "output_type": "stream",
          "name": "stdout",
          "text": [
            "8000\n"
          ]
        }
      ]
    }
  ]
}