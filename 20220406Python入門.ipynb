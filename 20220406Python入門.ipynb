{
  "nbformat": 4,
  "nbformat_minor": 0,
  "metadata": {
    "colab": {
      "name": "20220406Python入門.ipynb",
      "provenance": [],
      "authorship_tag": "ABX9TyOq3jL9YP2JR591VSlZWE82",
      "include_colab_link": true
    },
    "kernelspec": {
      "name": "python3",
      "display_name": "Python 3"
    },
    "language_info": {
      "name": "python"
    }
  },
  "cells": [
    {
      "cell_type": "markdown",
      "metadata": {
        "id": "view-in-github",
        "colab_type": "text"
      },
      "source": [
        "<a href=\"https://colab.research.google.com/github/newstage75/ML_study/blob/master/20220406Python%E5%85%A5%E9%96%80.ipynb\" target=\"_parent\"><img src=\"https://colab.research.google.com/assets/colab-badge.svg\" alt=\"Open In Colab\"/></a>"
      ]
    },
    {
      "cell_type": "markdown",
      "source": [
        "# 最短コースでわかるPyTorch＆深層学習プログラミング再学習\n",
        "\n",
        "#### Python入門"
      ],
      "metadata": {
        "id": "TDj_9p0yS9tG"
      }
    },
    {
      "cell_type": "code",
      "execution_count": 1,
      "metadata": {
        "id": "1qfYwRrMS4Y2"
      },
      "outputs": [],
      "source": [
        "a=1"
      ]
    },
    {
      "cell_type": "code",
      "source": [
        "print(a)\n",
        "print(type(a))"
      ],
      "metadata": {
        "colab": {
          "base_uri": "https://localhost:8080/"
        },
        "id": "Hq2HWMWxTVFd",
        "outputId": "49c26dac-52b7-4491-b9ad-4c8333b21dd0"
      },
      "execution_count": 2,
      "outputs": [
        {
          "output_type": "stream",
          "name": "stdout",
          "text": [
            "1\n",
            "<class 'int'>\n"
          ]
        }
      ]
    },
    {
      "cell_type": "code",
      "source": [
        "t1 = True\n",
        "t2 = True\n",
        "f1 = False\n",
        "f2 = False"
      ],
      "metadata": {
        "id": "MElIV59MTZZM"
      },
      "execution_count": 6,
      "outputs": []
    },
    {
      "cell_type": "code",
      "source": [
        "# AND\n",
        "b1 = t1 and t2\n",
        "print(b1)"
      ],
      "metadata": {
        "colab": {
          "base_uri": "https://localhost:8080/"
        },
        "id": "qwuYpV4eTxw3",
        "outputId": "a54cfb2c-502d-4162-ae92-f72a173abaa6"
      },
      "execution_count": 4,
      "outputs": [
        {
          "output_type": "stream",
          "name": "stdout",
          "text": [
            "True\n"
          ]
        }
      ]
    },
    {
      "cell_type": "code",
      "source": [
        "# OR\n",
        "b2 = t1 or f1\n",
        "print(b2)"
      ],
      "metadata": {
        "colab": {
          "base_uri": "https://localhost:8080/"
        },
        "id": "7RjliNh8T4In",
        "outputId": "968c7ed5-1b94-4db1-85d8-ae108b2ac891"
      },
      "execution_count": 7,
      "outputs": [
        {
          "output_type": "stream",
          "name": "stdout",
          "text": [
            "True\n"
          ]
        }
      ]
    },
    {
      "cell_type": "code",
      "source": [
        "# NOT\n",
        "b3 = not f1\n",
        "print(b3)"
      ],
      "metadata": {
        "colab": {
          "base_uri": "https://localhost:8080/"
        },
        "id": "lvK5qF_QT5lo",
        "outputId": "9aa18aef-a731-45a1-ad6f-6fed6128557d"
      },
      "execution_count": 8,
      "outputs": [
        {
          "output_type": "stream",
          "name": "stdout",
          "text": [
            "True\n"
          ]
        }
      ]
    },
    {
      "cell_type": "code",
      "source": [
        "# リスト　[]でくくる。配列に近い。\n",
        "l = [1, 2, 3, 5, 8, 13]\n",
        "\n",
        "# リストの値とtype\n",
        "print(l)\n",
        "print(type(l))"
      ],
      "metadata": {
        "colab": {
          "base_uri": "https://localhost:8080/"
        },
        "id": "iJJeQL6ZUJo7",
        "outputId": "6ea0a8be-8415-4745-9bea-bac7afadc628"
      },
      "execution_count": 9,
      "outputs": [
        {
          "output_type": "stream",
          "name": "stdout",
          "text": [
            "[1, 2, 3, 5, 8, 13]\n",
            "<class 'list'>\n"
          ]
        }
      ]
    },
    {
      "cell_type": "code",
      "source": [
        "print(len(l))"
      ],
      "metadata": {
        "colab": {
          "base_uri": "https://localhost:8080/"
        },
        "id": "8-dw3jb4UiAZ",
        "outputId": "b66bc4aa-22dc-4589-ff1c-1480a56f5fb4"
      },
      "execution_count": 10,
      "outputs": [
        {
          "output_type": "stream",
          "name": "stdout",
          "text": [
            "6\n"
          ]
        }
      ]
    },
    {
      "cell_type": "markdown",
      "source": [
        "## リスト"
      ],
      "metadata": {
        "id": "FPhrQo1MV9HY"
      }
    },
    {
      "cell_type": "code",
      "source": [
        "#リストの要素の参照\n",
        "\n",
        "print(l[0])\n",
        "\n",
        "print(l[3])\n",
        "\n",
        "print(l[-1])"
      ],
      "metadata": {
        "colab": {
          "base_uri": "https://localhost:8080/"
        },
        "id": "PUBl6QvKUmjs",
        "outputId": "384a535d-3f9b-4d59-cc2b-fbe3d619c47d"
      },
      "execution_count": 11,
      "outputs": [
        {
          "output_type": "stream",
          "name": "stdout",
          "text": [
            "1\n",
            "5\n",
            "13\n"
          ]
        }
      ]
    },
    {
      "cell_type": "code",
      "source": [
        "#インデックス２以上５未満\n",
        "print(l[2:5])\n",
        "\n",
        "#部分リスト　インデックス：０以上インデックス３未満\n",
        "print(l[0:3])\n",
        "\n",
        "#開始インデックスが0の場合は省略可能\n",
        "print(l[:3])"
      ],
      "metadata": {
        "colab": {
          "base_uri": "https://localhost:8080/"
        },
        "id": "Sh1h440gUwGm",
        "outputId": "a7afc96c-8eb1-460e-c486-f7ff9c41708e"
      },
      "execution_count": 14,
      "outputs": [
        {
          "output_type": "stream",
          "name": "stdout",
          "text": [
            "[3, 5, 8]\n",
            "[1, 2, 3]\n",
            "[1, 2, 3]\n"
          ]
        }
      ]
    },
    {
      "cell_type": "code",
      "source": [
        "#応用　部分リスト　インデックス：４以上、最後まで\n",
        "n = len(l)\n",
        "print(l[4:n])\n",
        "\n",
        "#最終インデックスまでは省略可能\n",
        "print(l[4:])"
      ],
      "metadata": {
        "colab": {
          "base_uri": "https://localhost:8080/"
        },
        "id": "D5GjmHQ9U75R",
        "outputId": "7f2e95da-a385-4970-c2ec-9134410b710c"
      },
      "execution_count": 16,
      "outputs": [
        {
          "output_type": "stream",
          "name": "stdout",
          "text": [
            "[8, 13]\n",
            "[8, 13]\n"
          ]
        }
      ]
    },
    {
      "cell_type": "code",
      "source": [
        "#　後ろから２つ\n",
        "print(l[-2:])\n",
        "\n",
        "#最初も最後も省略するとリスト全体になる\n",
        "print(l[ : ])"
      ],
      "metadata": {
        "colab": {
          "base_uri": "https://localhost:8080/"
        },
        "id": "XIADnQV6VYot",
        "outputId": "0e64b025-b048-442e-e77a-ecdfed642799"
      },
      "execution_count": 19,
      "outputs": [
        {
          "output_type": "stream",
          "name": "stdout",
          "text": [
            "[8, 13]\n",
            "[1, 2, 3, 5, 8, 13]\n"
          ]
        }
      ]
    },
    {
      "cell_type": "markdown",
      "source": [
        "## タプル→（）で囲う。\n",
        "### **一度定義すると、書き換えられない！！！！！**"
      ],
      "metadata": {
        "id": "5kvtp8_2V_wI"
      }
    },
    {
      "cell_type": "code",
      "source": [
        "# タプル定義\n",
        "t = (1, 2, 3, 5, 13)"
      ],
      "metadata": {
        "id": "w6kcunRHVuUA"
      },
      "execution_count": 21,
      "outputs": []
    },
    {
      "cell_type": "code",
      "source": [
        "# タプルの値表示\n",
        "print(t)\n",
        "\n",
        "#タプルの型表示\n",
        "print(type(t))\n",
        "\n",
        "#タプルの要素数\n",
        "print(len(t))\n",
        "\n",
        "#タプルの要素参照\n",
        "print(t[1])"
      ],
      "metadata": {
        "id": "RYpdZegJX70F",
        "outputId": "5565a789-c702-4efc-e724-6fc41cbfc211",
        "colab": {
          "base_uri": "https://localhost:8080/"
        }
      },
      "execution_count": 23,
      "outputs": [
        {
          "output_type": "stream",
          "name": "stdout",
          "text": [
            "(1, 2, 3, 5, 13)\n",
            "<class 'tuple'>\n",
            "5\n",
            "2\n"
          ]
        }
      ]
    },
    {
      "cell_type": "code",
      "source": [
        "t[1] = 1"
      ],
      "metadata": {
        "id": "_bRI1D3pYFFo",
        "outputId": "ae2b735b-1345-4ec8-af7c-fd1422acdd2f",
        "colab": {
          "base_uri": "https://localhost:8080/",
          "height": 172
        }
      },
      "execution_count": 24,
      "outputs": [
        {
          "output_type": "error",
          "ename": "TypeError",
          "evalue": "ignored",
          "traceback": [
            "\u001b[0;31m---------------------------------------------------------------------------\u001b[0m",
            "\u001b[0;31mTypeError\u001b[0m                                 Traceback (most recent call last)",
            "\u001b[0;32m<ipython-input-24-d6b0ce29b2aa>\u001b[0m in \u001b[0;36m<module>\u001b[0;34m()\u001b[0m\n\u001b[0;32m----> 1\u001b[0;31m \u001b[0mt\u001b[0m\u001b[0;34m[\u001b[0m\u001b[0;36m1\u001b[0m\u001b[0;34m]\u001b[0m \u001b[0;34m=\u001b[0m \u001b[0;36m1\u001b[0m\u001b[0;34m\u001b[0m\u001b[0;34m\u001b[0m\u001b[0m\n\u001b[0m",
            "\u001b[0;31mTypeError\u001b[0m: 'tuple' object does not support item assignment"
          ]
        }
      ]
    },
    {
      "cell_type": "code",
      "source": [
        "x = 1\n",
        "y = 2\n",
        "z = (x, y)\n",
        "print(type(z))"
      ],
      "metadata": {
        "id": "JM448z4YYVJg",
        "outputId": "c83c5846-747b-47be-b2d4-f5eae98f8f58",
        "colab": {
          "base_uri": "https://localhost:8080/"
        }
      },
      "execution_count": 25,
      "outputs": [
        {
          "output_type": "stream",
          "name": "stdout",
          "text": [
            "<class 'tuple'>\n"
          ]
        }
      ]
    },
    {
      "cell_type": "code",
      "source": [
        "a, b = z\n",
        "print(a)\n",
        "print(b)"
      ],
      "metadata": {
        "id": "S5mTY5gqYfQN",
        "outputId": "86c6c889-f03c-4720-cb20-99a5caacf8b0",
        "colab": {
          "base_uri": "https://localhost:8080/"
        }
      },
      "execution_count": 26,
      "outputs": [
        {
          "output_type": "stream",
          "name": "stdout",
          "text": [
            "1\n",
            "2\n"
          ]
        }
      ]
    },
    {
      "cell_type": "code",
      "source": [
        "l_tes = [3, 4]"
      ],
      "metadata": {
        "id": "FMgNvA37Yljb"
      },
      "execution_count": 27,
      "outputs": []
    },
    {
      "cell_type": "code",
      "source": [
        "a_l, b_l = l_tes"
      ],
      "metadata": {
        "id": "uP8OL6kaYslo"
      },
      "execution_count": 28,
      "outputs": []
    },
    {
      "cell_type": "code",
      "source": [
        "print(a_l)\n",
        "print(b_l)"
      ],
      "metadata": {
        "id": "-d4E_IzNYw5H",
        "outputId": "7124faa0-fb0c-459f-f01e-79aa3da01058",
        "colab": {
          "base_uri": "https://localhost:8080/"
        }
      },
      "execution_count": 31,
      "outputs": [
        {
          "output_type": "stream",
          "name": "stdout",
          "text": [
            "3\n",
            "4\n"
          ]
        }
      ]
    },
    {
      "cell_type": "code",
      "source": [
        ""
      ],
      "metadata": {
        "id": "hs82MP4XYyHz"
      },
      "execution_count": null,
      "outputs": []
    }
  ]
}