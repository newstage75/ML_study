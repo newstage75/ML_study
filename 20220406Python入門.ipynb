{
  "nbformat": 4,
  "nbformat_minor": 0,
  "metadata": {
    "colab": {
      "name": "20220406Python入門.ipynb",
      "provenance": [],
      "authorship_tag": "ABX9TyOw7I7g22shHzasVVAhzsyZ",
      "include_colab_link": true
    },
    "kernelspec": {
      "name": "python3",
      "display_name": "Python 3"
    },
    "language_info": {
      "name": "python"
    }
  },
  "cells": [
    {
      "cell_type": "markdown",
      "metadata": {
        "id": "view-in-github",
        "colab_type": "text"
      },
      "source": [
        "<a href=\"https://colab.research.google.com/github/newstage75/ML_study/blob/master/20220406Python%E5%85%A5%E9%96%80.ipynb\" target=\"_parent\"><img src=\"https://colab.research.google.com/assets/colab-badge.svg\" alt=\"Open In Colab\"/></a>"
      ]
    },
    {
      "cell_type": "markdown",
      "source": [
        "# 最短コースでわかるPyTorch＆深層学習プログラミング再学習\n",
        "\n",
        "#### Python入門"
      ],
      "metadata": {
        "id": "TDj_9p0yS9tG"
      }
    },
    {
      "cell_type": "code",
      "execution_count": 1,
      "metadata": {
        "id": "1qfYwRrMS4Y2"
      },
      "outputs": [],
      "source": [
        "a=1"
      ]
    },
    {
      "cell_type": "code",
      "source": [
        "print(a)\n",
        "print(type(a))"
      ],
      "metadata": {
        "colab": {
          "base_uri": "https://localhost:8080/"
        },
        "id": "Hq2HWMWxTVFd",
        "outputId": "49c26dac-52b7-4491-b9ad-4c8333b21dd0"
      },
      "execution_count": 2,
      "outputs": [
        {
          "output_type": "stream",
          "name": "stdout",
          "text": [
            "1\n",
            "<class 'int'>\n"
          ]
        }
      ]
    },
    {
      "cell_type": "code",
      "source": [
        "t1 = True\n",
        "t2 = True\n",
        "f1 = False\n",
        "f2 = False"
      ],
      "metadata": {
        "id": "MElIV59MTZZM"
      },
      "execution_count": 6,
      "outputs": []
    },
    {
      "cell_type": "code",
      "source": [
        "# AND\n",
        "b1 = t1 and t2\n",
        "print(b1)"
      ],
      "metadata": {
        "colab": {
          "base_uri": "https://localhost:8080/"
        },
        "id": "qwuYpV4eTxw3",
        "outputId": "a54cfb2c-502d-4162-ae92-f72a173abaa6"
      },
      "execution_count": 4,
      "outputs": [
        {
          "output_type": "stream",
          "name": "stdout",
          "text": [
            "True\n"
          ]
        }
      ]
    },
    {
      "cell_type": "code",
      "source": [
        "# OR\n",
        "b2 = t1 or f1\n",
        "print(b2)"
      ],
      "metadata": {
        "colab": {
          "base_uri": "https://localhost:8080/"
        },
        "id": "7RjliNh8T4In",
        "outputId": "968c7ed5-1b94-4db1-85d8-ae108b2ac891"
      },
      "execution_count": 7,
      "outputs": [
        {
          "output_type": "stream",
          "name": "stdout",
          "text": [
            "True\n"
          ]
        }
      ]
    },
    {
      "cell_type": "code",
      "source": [
        "# NOT\n",
        "b3 = not f1\n",
        "print(b3)"
      ],
      "metadata": {
        "colab": {
          "base_uri": "https://localhost:8080/"
        },
        "id": "lvK5qF_QT5lo",
        "outputId": "9aa18aef-a731-45a1-ad6f-6fed6128557d"
      },
      "execution_count": 8,
      "outputs": [
        {
          "output_type": "stream",
          "name": "stdout",
          "text": [
            "True\n"
          ]
        }
      ]
    },
    {
      "cell_type": "code",
      "source": [
        "# リスト　[]でくくる。配列に近い。\n",
        "l = [1, 2, 3, 5, 8, 13]\n",
        "\n",
        "# リストの値とtype\n",
        "print(l)\n",
        "print(type(l))"
      ],
      "metadata": {
        "colab": {
          "base_uri": "https://localhost:8080/"
        },
        "id": "iJJeQL6ZUJo7",
        "outputId": "6ea0a8be-8415-4745-9bea-bac7afadc628"
      },
      "execution_count": 9,
      "outputs": [
        {
          "output_type": "stream",
          "name": "stdout",
          "text": [
            "[1, 2, 3, 5, 8, 13]\n",
            "<class 'list'>\n"
          ]
        }
      ]
    },
    {
      "cell_type": "code",
      "source": [
        "print(len(l))"
      ],
      "metadata": {
        "colab": {
          "base_uri": "https://localhost:8080/"
        },
        "id": "8-dw3jb4UiAZ",
        "outputId": "b66bc4aa-22dc-4589-ff1c-1480a56f5fb4"
      },
      "execution_count": 10,
      "outputs": [
        {
          "output_type": "stream",
          "name": "stdout",
          "text": [
            "6\n"
          ]
        }
      ]
    },
    {
      "cell_type": "markdown",
      "source": [
        "## リスト"
      ],
      "metadata": {
        "id": "FPhrQo1MV9HY"
      }
    },
    {
      "cell_type": "code",
      "source": [
        "#リストの要素の参照\n",
        "\n",
        "print(l[0])\n",
        "\n",
        "print(l[3])\n",
        "\n",
        "print(l[-1])"
      ],
      "metadata": {
        "colab": {
          "base_uri": "https://localhost:8080/"
        },
        "id": "PUBl6QvKUmjs",
        "outputId": "384a535d-3f9b-4d59-cc2b-fbe3d619c47d"
      },
      "execution_count": 11,
      "outputs": [
        {
          "output_type": "stream",
          "name": "stdout",
          "text": [
            "1\n",
            "5\n",
            "13\n"
          ]
        }
      ]
    },
    {
      "cell_type": "code",
      "source": [
        "#インデックス２以上５未満\n",
        "print(l[2:5])\n",
        "\n",
        "#部分リスト　インデックス：０以上インデックス３未満\n",
        "print(l[0:3])\n",
        "\n",
        "#開始インデックスが0の場合は省略可能\n",
        "print(l[:3])"
      ],
      "metadata": {
        "colab": {
          "base_uri": "https://localhost:8080/"
        },
        "id": "Sh1h440gUwGm",
        "outputId": "a7afc96c-8eb1-460e-c486-f7ff9c41708e"
      },
      "execution_count": 14,
      "outputs": [
        {
          "output_type": "stream",
          "name": "stdout",
          "text": [
            "[3, 5, 8]\n",
            "[1, 2, 3]\n",
            "[1, 2, 3]\n"
          ]
        }
      ]
    },
    {
      "cell_type": "code",
      "source": [
        "#応用　部分リスト　インデックス：４以上、最後まで\n",
        "n = len(l)\n",
        "print(l[4:n])\n",
        "\n",
        "#最終インデックスまでは省略可能\n",
        "print(l[4:])"
      ],
      "metadata": {
        "colab": {
          "base_uri": "https://localhost:8080/"
        },
        "id": "D5GjmHQ9U75R",
        "outputId": "7f2e95da-a385-4970-c2ec-9134410b710c"
      },
      "execution_count": 16,
      "outputs": [
        {
          "output_type": "stream",
          "name": "stdout",
          "text": [
            "[8, 13]\n",
            "[8, 13]\n"
          ]
        }
      ]
    },
    {
      "cell_type": "code",
      "source": [
        "#　後ろから２つ\n",
        "print(l[-2:])\n",
        "\n",
        "#最初も最後も省略するとリスト全体になる\n",
        "print(l[ : ])"
      ],
      "metadata": {
        "colab": {
          "base_uri": "https://localhost:8080/"
        },
        "id": "XIADnQV6VYot",
        "outputId": "0e64b025-b048-442e-e77a-ecdfed642799"
      },
      "execution_count": 19,
      "outputs": [
        {
          "output_type": "stream",
          "name": "stdout",
          "text": [
            "[8, 13]\n",
            "[1, 2, 3, 5, 8, 13]\n"
          ]
        }
      ]
    },
    {
      "cell_type": "markdown",
      "source": [
        "## タプル→（）で囲う。\n",
        "### **一度定義すると、書き換えられない！！！！！**"
      ],
      "metadata": {
        "id": "5kvtp8_2V_wI"
      }
    },
    {
      "cell_type": "code",
      "source": [
        "# タプル定義\n",
        "t = (1, 2, 3, 5, 13)"
      ],
      "metadata": {
        "id": "w6kcunRHVuUA"
      },
      "execution_count": 21,
      "outputs": []
    },
    {
      "cell_type": "code",
      "source": [
        "# タプルの値表示\n",
        "print(t)\n",
        "\n",
        "#タプルの型表示\n",
        "print(type(t))\n",
        "\n",
        "#タプルの要素数\n",
        "print(len(t))\n",
        "\n",
        "#タプルの要素参照\n",
        "print(t[1])"
      ],
      "metadata": {
        "colab": {
          "base_uri": "https://localhost:8080/"
        },
        "id": "RYpdZegJX70F",
        "outputId": "5565a789-c702-4efc-e724-6fc41cbfc211"
      },
      "execution_count": 23,
      "outputs": [
        {
          "output_type": "stream",
          "name": "stdout",
          "text": [
            "(1, 2, 3, 5, 13)\n",
            "<class 'tuple'>\n",
            "5\n",
            "2\n"
          ]
        }
      ]
    },
    {
      "cell_type": "code",
      "source": [
        "t[1] = 1"
      ],
      "metadata": {
        "colab": {
          "base_uri": "https://localhost:8080/",
          "height": 172
        },
        "id": "_bRI1D3pYFFo",
        "outputId": "ae2b735b-1345-4ec8-af7c-fd1422acdd2f"
      },
      "execution_count": 24,
      "outputs": [
        {
          "output_type": "error",
          "ename": "TypeError",
          "evalue": "ignored",
          "traceback": [
            "\u001b[0;31m---------------------------------------------------------------------------\u001b[0m",
            "\u001b[0;31mTypeError\u001b[0m                                 Traceback (most recent call last)",
            "\u001b[0;32m<ipython-input-24-d6b0ce29b2aa>\u001b[0m in \u001b[0;36m<module>\u001b[0;34m()\u001b[0m\n\u001b[0;32m----> 1\u001b[0;31m \u001b[0mt\u001b[0m\u001b[0;34m[\u001b[0m\u001b[0;36m1\u001b[0m\u001b[0;34m]\u001b[0m \u001b[0;34m=\u001b[0m \u001b[0;36m1\u001b[0m\u001b[0;34m\u001b[0m\u001b[0;34m\u001b[0m\u001b[0m\n\u001b[0m",
            "\u001b[0;31mTypeError\u001b[0m: 'tuple' object does not support item assignment"
          ]
        }
      ]
    },
    {
      "cell_type": "code",
      "source": [
        "x = 1\n",
        "y = 2\n",
        "z = (x, y)\n",
        "print(type(z))"
      ],
      "metadata": {
        "colab": {
          "base_uri": "https://localhost:8080/"
        },
        "id": "JM448z4YYVJg",
        "outputId": "c83c5846-747b-47be-b2d4-f5eae98f8f58"
      },
      "execution_count": 25,
      "outputs": [
        {
          "output_type": "stream",
          "name": "stdout",
          "text": [
            "<class 'tuple'>\n"
          ]
        }
      ]
    },
    {
      "cell_type": "code",
      "source": [
        "a, b = z\n",
        "print(a)\n",
        "print(b)"
      ],
      "metadata": {
        "colab": {
          "base_uri": "https://localhost:8080/"
        },
        "id": "S5mTY5gqYfQN",
        "outputId": "86c6c889-f03c-4720-cb20-99a5caacf8b0"
      },
      "execution_count": 26,
      "outputs": [
        {
          "output_type": "stream",
          "name": "stdout",
          "text": [
            "1\n",
            "2\n"
          ]
        }
      ]
    },
    {
      "cell_type": "code",
      "source": [
        "l_tes = [3, 4]"
      ],
      "metadata": {
        "id": "FMgNvA37Yljb"
      },
      "execution_count": 27,
      "outputs": []
    },
    {
      "cell_type": "code",
      "source": [
        "a_l, b_l = l_tes"
      ],
      "metadata": {
        "id": "uP8OL6kaYslo"
      },
      "execution_count": 28,
      "outputs": []
    },
    {
      "cell_type": "code",
      "source": [
        "print(a_l)\n",
        "print(b_l)"
      ],
      "metadata": {
        "colab": {
          "base_uri": "https://localhost:8080/"
        },
        "id": "-d4E_IzNYw5H",
        "outputId": "7124faa0-fb0c-459f-f01e-79aa3da01058"
      },
      "execution_count": 31,
      "outputs": [
        {
          "output_type": "stream",
          "name": "stdout",
          "text": [
            "3\n",
            "4\n"
          ]
        }
      ]
    },
    {
      "cell_type": "markdown",
      "source": [
        "## 辞書　→{}で囲う\n",
        "### keyとvalueの関係"
      ],
      "metadata": {
        "id": "nm-pZxuuY8Vq"
      }
    },
    {
      "cell_type": "code",
      "source": [
        "# 辞書の定義\n",
        "my_dict = {'yes':1, 'no':0}\n",
        "print(my_dict)"
      ],
      "metadata": {
        "colab": {
          "base_uri": "https://localhost:8080/"
        },
        "id": "hs82MP4XYyHz",
        "outputId": "277a23ae-1f5d-4083-aa40-ce41153827c0"
      },
      "execution_count": 33,
      "outputs": [
        {
          "output_type": "stream",
          "name": "stdout",
          "text": [
            "{'yes': 1, 'no': 0}\n"
          ]
        }
      ]
    },
    {
      "cell_type": "code",
      "source": [
        "print(type(my_dict))"
      ],
      "metadata": {
        "colab": {
          "base_uri": "https://localhost:8080/"
        },
        "id": "0NASZOIiZO7D",
        "outputId": "2f97c1d3-8419-4da5-fbfc-5967af1f5635"
      },
      "execution_count": 34,
      "outputs": [
        {
          "output_type": "stream",
          "name": "stdout",
          "text": [
            "<class 'dict'>\n"
          ]
        }
      ]
    },
    {
      "cell_type": "code",
      "source": [
        "value1 = my_dict['yes']\n",
        "value2 = my_dict['no']"
      ],
      "metadata": {
        "id": "WD9Pb1mNZaqO"
      },
      "execution_count": 37,
      "outputs": []
    },
    {
      "cell_type": "code",
      "source": [
        "print(value1)\n",
        "print(value2)"
      ],
      "metadata": {
        "colab": {
          "base_uri": "https://localhost:8080/"
        },
        "id": "GdBvCU59Zi77",
        "outputId": "d180684a-de55-4805-a403-ff60a611d544"
      },
      "execution_count": 38,
      "outputs": [
        {
          "output_type": "stream",
          "name": "stdout",
          "text": [
            "1\n",
            "0\n"
          ]
        }
      ]
    },
    {
      "cell_type": "code",
      "source": [
        "# 辞書への項目追加\n",
        "my_dict['nutral'] = 2\n",
        "print(my_dict)"
      ],
      "metadata": {
        "colab": {
          "base_uri": "https://localhost:8080/"
        },
        "id": "7GvSEZF4Zs-4",
        "outputId": "ac22d7cc-8521-4ad2-abcd-4c91b71fda01"
      },
      "execution_count": 39,
      "outputs": [
        {
          "output_type": "stream",
          "name": "stdout",
          "text": [
            "{'yes': 1, 'no': 0, 'nutral': 2}\n"
          ]
        }
      ]
    },
    {
      "cell_type": "markdown",
      "source": [
        "## 制御構造\n",
        "###ループ処理"
      ],
      "metadata": {
        "id": "40dRdPE5aDTz"
      }
    },
    {
      "cell_type": "code",
      "source": [
        "# ループ処理\n",
        "\n",
        "#リストの定義\n",
        "list4 = ['One', 'Two', 'Three', 'Four']\n",
        "\n",
        "# ループ処理\n",
        "for item in list4:\n",
        "  print(item)"
      ],
      "metadata": {
        "colab": {
          "base_uri": "https://localhost:8080/"
        },
        "id": "t3Z4zTgLZ7fF",
        "outputId": "fa092f44-0fc6-4445-b29d-8a7ce1f2fee2"
      },
      "execution_count": 40,
      "outputs": [
        {
          "output_type": "stream",
          "name": "stdout",
          "text": [
            "One\n",
            "Two\n",
            "Three\n",
            "Four\n"
          ]
        }
      ]
    },
    {
      "cell_type": "code",
      "source": [
        "# range関数を使ったループ処理\n",
        "for item in range(4):\n",
        "  print(item)"
      ],
      "metadata": {
        "colab": {
          "base_uri": "https://localhost:8080/"
        },
        "id": "b2mEvpoWaYaV",
        "outputId": "eb4649c7-67d9-467a-b61d-4b9509a7b1c1"
      },
      "execution_count": 41,
      "outputs": [
        {
          "output_type": "stream",
          "name": "stdout",
          "text": [
            "0\n",
            "1\n",
            "2\n",
            "3\n"
          ]
        }
      ]
    },
    {
      "cell_type": "code",
      "source": [
        "# 引数が２つのrangeループ処理\n",
        "for item in range(1,5):\n",
        "  print(item)"
      ],
      "metadata": {
        "colab": {
          "base_uri": "https://localhost:8080/"
        },
        "id": "EGd1FseBakxG",
        "outputId": "b7d1cc4e-3b45-472c-9873-6d6e513c6edf"
      },
      "execution_count": 42,
      "outputs": [
        {
          "output_type": "stream",
          "name": "stdout",
          "text": [
            "1\n",
            "2\n",
            "3\n",
            "4\n"
          ]
        }
      ]
    },
    {
      "cell_type": "code",
      "source": [
        "#　辞書とループ処理\n",
        "\n",
        "#items関数\n",
        "print(my_dict.items())"
      ],
      "metadata": {
        "colab": {
          "base_uri": "https://localhost:8080/"
        },
        "id": "njQlpPhuaw9D",
        "outputId": "1ca8d4b3-a56f-4dde-f067-9ea5c0df8e96"
      },
      "execution_count": 43,
      "outputs": [
        {
          "output_type": "stream",
          "name": "stdout",
          "text": [
            "dict_items([('yes', 1), ('no', 0), ('nutral', 2)])\n"
          ]
        }
      ]
    },
    {
      "cell_type": "code",
      "source": [
        "# items関数を使ったループ処理\n",
        "for key, value in my_dict.items():\n",
        "  print(key, ':', value)"
      ],
      "metadata": {
        "colab": {
          "base_uri": "https://localhost:8080/"
        },
        "id": "eMI4j8nga81o",
        "outputId": "00316b59-f6cf-41a2-c930-1c2245abd07d"
      },
      "execution_count": 44,
      "outputs": [
        {
          "output_type": "stream",
          "name": "stdout",
          "text": [
            "yes : 1\n",
            "no : 0\n",
            "nutral : 2\n"
          ]
        }
      ]
    },
    {
      "cell_type": "markdown",
      "source": [
        "## 条件分岐（if文）"
      ],
      "metadata": {
        "id": "KYL-4u6IbRMb"
      }
    },
    {
      "cell_type": "code",
      "source": [
        "#　条件分岐(if文)\n",
        "\n",
        "#if文のサンプル\n",
        "for i in range(1, 5):\n",
        "  if i % 2 == 0:\n",
        "    print(i, 'は偶数です。')\n",
        "  else:\n",
        "    print(i, 'は奇数です。')"
      ],
      "metadata": {
        "colab": {
          "base_uri": "https://localhost:8080/"
        },
        "id": "N0hGVzgebHKp",
        "outputId": "b486b849-438e-46a6-e90e-69fa5871eef4"
      },
      "execution_count": 45,
      "outputs": [
        {
          "output_type": "stream",
          "name": "stdout",
          "text": [
            "1 は奇数です。\n",
            "2 は偶数です。\n",
            "3 は奇数です。\n",
            "4 は偶数です。\n"
          ]
        }
      ]
    },
    {
      "cell_type": "code",
      "source": [
        ""
      ],
      "metadata": {
        "id": "z2vrNYrob4cm"
      },
      "execution_count": null,
      "outputs": []
    }
  ]
}